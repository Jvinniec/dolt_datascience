{
 "cells": [
  {
   "cell_type": "code",
   "execution_count": 20,
   "id": "ea98d7be-80c5-4843-9081-d96701a721ab",
   "metadata": {},
   "outputs": [],
   "source": [
    "import altair as alt\n",
    "import polars as pl\n",
    "import pandas as pd"
   ]
  },
  {
   "cell_type": "code",
   "execution_count": 54,
   "id": "26580821-0ce8-416b-947a-06e9441d6309",
   "metadata": {},
   "outputs": [],
   "source": [
    "data = {\n",
    "    \"source\": [\n",
    "        \"Kaiser Permanente MRFs\",\n",
    "        \"Project Gutenberg\",\n",
    "        \"UnitedHealthcare MRFs\",\n",
    "        \"Humana MRFs\",\n",
    "        \"Anthem MRFs\",\n",
    "        \"Cigna MRFs\",\n",
    "        \"Aetna MRFs\",\n",
    "        \"Libgen (text only)\",\n",
    "        \"Libgen\",\n",
    "        \"Library of Congress\",\n",
    "    ],\n",
    "    \"size\": [\n",
    "        300,\n",
    "        700,\n",
    "        8_950*20,\n",
    "        47_252*12,\n",
    "        0,\n",
    "        0,\n",
    "        380,\n",
    "        1_000,\n",
    "        120_000,  \n",
    "        20_000,\n",
    "    ]\n",
    "}"
   ]
  },
  {
   "cell_type": "code",
   "execution_count": 55,
   "id": "cd74d11d-1da6-487a-a350-52ed20fa6231",
   "metadata": {},
   "outputs": [
    {
     "data": {
      "text/html": [
       "\n",
       "<div id=\"altair-viz-fb9c8130125a4e63bf6f210a3b23ce33\"></div>\n",
       "<script type=\"text/javascript\">\n",
       "  var VEGA_DEBUG = (typeof VEGA_DEBUG == \"undefined\") ? {} : VEGA_DEBUG;\n",
       "  (function(spec, embedOpt){\n",
       "    let outputDiv = document.currentScript.previousElementSibling;\n",
       "    if (outputDiv.id !== \"altair-viz-fb9c8130125a4e63bf6f210a3b23ce33\") {\n",
       "      outputDiv = document.getElementById(\"altair-viz-fb9c8130125a4e63bf6f210a3b23ce33\");\n",
       "    }\n",
       "    const paths = {\n",
       "      \"vega\": \"https://cdn.jsdelivr.net/npm//vega@5?noext\",\n",
       "      \"vega-lib\": \"https://cdn.jsdelivr.net/npm//vega-lib?noext\",\n",
       "      \"vega-lite\": \"https://cdn.jsdelivr.net/npm//vega-lite@4.17.0?noext\",\n",
       "      \"vega-embed\": \"https://cdn.jsdelivr.net/npm//vega-embed@6?noext\",\n",
       "    };\n",
       "\n",
       "    function maybeLoadScript(lib, version) {\n",
       "      var key = `${lib.replace(\"-\", \"\")}_version`;\n",
       "      return (VEGA_DEBUG[key] == version) ?\n",
       "        Promise.resolve(paths[lib]) :\n",
       "        new Promise(function(resolve, reject) {\n",
       "          var s = document.createElement('script');\n",
       "          document.getElementsByTagName(\"head\")[0].appendChild(s);\n",
       "          s.async = true;\n",
       "          s.onload = () => {\n",
       "            VEGA_DEBUG[key] = version;\n",
       "            return resolve(paths[lib]);\n",
       "          };\n",
       "          s.onerror = () => reject(`Error loading script: ${paths[lib]}`);\n",
       "          s.src = paths[lib];\n",
       "        });\n",
       "    }\n",
       "\n",
       "    function showError(err) {\n",
       "      outputDiv.innerHTML = `<div class=\"error\" style=\"color:red;\">${err}</div>`;\n",
       "      throw err;\n",
       "    }\n",
       "\n",
       "    function displayChart(vegaEmbed) {\n",
       "      vegaEmbed(outputDiv, spec, embedOpt)\n",
       "        .catch(err => showError(`Javascript Error: ${err.message}<br>This usually means there's a typo in your chart specification. See the javascript console for the full traceback.`));\n",
       "    }\n",
       "\n",
       "    if(typeof define === \"function\" && define.amd) {\n",
       "      requirejs.config({paths});\n",
       "      require([\"vega-embed\"], displayChart, err => showError(`Error loading script: ${err.message}`));\n",
       "    } else {\n",
       "      maybeLoadScript(\"vega\", \"5\")\n",
       "        .then(() => maybeLoadScript(\"vega-lite\", \"4.17.0\"))\n",
       "        .then(() => maybeLoadScript(\"vega-embed\", \"6\"))\n",
       "        .catch(showError)\n",
       "        .then(() => displayChart(vegaEmbed));\n",
       "    }\n",
       "  })({\"config\": {\"view\": {\"continuousWidth\": 400, \"continuousHeight\": 300}}, \"data\": {\"name\": \"data-c4c6b0cd94f6c60e21bc02f700e739a5\"}, \"mark\": \"bar\", \"encoding\": {\"x\": {\"field\": \"size\", \"title\": \"Est. total uncompressed size (GB)\", \"type\": \"quantitative\"}, \"y\": {\"field\": \"source\", \"sort\": \"x\", \"title\": \"Source\", \"type\": \"nominal\"}}, \"$schema\": \"https://vega.github.io/schema/vega-lite/v4.17.0.json\", \"datasets\": {\"data-c4c6b0cd94f6c60e21bc02f700e739a5\": [{\"source\": \"Kaiser Permanente MRFs\", \"size\": 300}, {\"source\": \"Project Gutenberg\", \"size\": 700}, {\"source\": \"UnitedHealthcare MRFs\", \"size\": 179000}, {\"source\": \"Humana MRFs\", \"size\": 567024}, {\"source\": \"Anthem MRFs\", \"size\": 0}, {\"source\": \"Cigna MRFs\", \"size\": 0}, {\"source\": \"Aetna MRFs\", \"size\": 380}, {\"source\": \"Libgen (text only)\", \"size\": 1000}, {\"source\": \"Libgen\", \"size\": 120000}, {\"source\": \"Library of Congress\", \"size\": 20000}]}}, {\"mode\": \"vega-lite\"});\n",
       "</script>"
      ],
      "text/plain": [
       "alt.Chart(...)"
      ]
     },
     "execution_count": 55,
     "metadata": {},
     "output_type": "execute_result"
    }
   ],
   "source": [
    "alt.Chart(pd.DataFrame(data)).mark_bar().encode(\n",
    "    y=alt.Y(\"source\", sort = 'x', title = \"Source\"),\n",
    "    x=alt.X(\"size\", title = \"Est. total uncompressed size (GB)\"),\n",
    ")\n"
   ]
  },
  {
   "cell_type": "code",
   "execution_count": null,
   "id": "5673bd70-a4df-4cb4-b396-a5df84bb9f9f",
   "metadata": {},
   "outputs": [],
   "source": []
  }
 ],
 "metadata": {
  "kernelspec": {
   "display_name": "Python 3 (ipykernel)",
   "language": "python",
   "name": "python3"
  },
  "language_info": {
   "codemirror_mode": {
    "name": "ipython",
    "version": 3
   },
   "file_extension": ".py",
   "mimetype": "text/x-python",
   "name": "python",
   "nbconvert_exporter": "python",
   "pygments_lexer": "ipython3",
   "version": "3.9.10"
  }
 },
 "nbformat": 4,
 "nbformat_minor": 5
}
