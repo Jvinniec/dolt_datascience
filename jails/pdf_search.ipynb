{
 "cells": [
  {
   "cell_type": "markdown",
   "metadata": {
    "id": "Ui5pz-xNNoAR"
   },
   "source": [
    "# Searching PDFs with Python, Transformers and Machine Learning\n",
    "\n",
    "Have you ever been searching through a stack of files and just can't find the right keywords to get what you're looking for? Staring at a screen and wracking your brain at 3am for the right word ain't fun, take it from me.\n",
    "\n",
    "How about trying to search through a stack of PDFs? That gets even harder since all that nice plain text is wrapped up in [a gnarly format](https://forum.quartertothree.com/t/is-pdf-an-evil-format/58598). Good luck grepping those!\n",
    "\n",
    "In this notebook we're going to kill those two birds with one stone.\n",
    "\n",
    "We'll harness the power of AI to find things *similar* to the search query you input, and we'll show you how to deploy that search engine in real life for anyone to use.\n",
    "\n",
    "We're going to do this with open-source tools from the Jina ecosystem.\n",
    "\n",
    "## Taking our time to learn\n",
    "\n",
    "We're going to take our time in this notebook, so we can understand how each part of the indexing/search pipeline (aka Flow) does its thing and check on our Documents every step of the way to see what the Flow did to them. This will give us a proper understanding of what's happening, instead of doing lots of hand-waving and making it look like dark magic.\n",
    "\n",
    "We'll then see how this process would be performed more quickly by building the Flow \"all-in-one\", as you would often do when building in production.\n",
    "\n",
    "## Why Jina and [neural search](https://docs.jina.ai/get-started/neural-search?utm_source=pdf-notebook)? What's wrong with good old symbolic search?\n",
    "\n",
    "### Semantics semantics semantics!\n",
    "\n",
    "Instead of just pattern-matching, our search engine will *meaning*-match. So if we were to search `matrix`, our top results would be related to matrices, but we'd also get results for vectors, tensors, and other similar concepts. This is because we're using deep neural nets (DNNs) to arrange words in a vector space and compare their embeddings, and similar words have similar [embeddings](https://docarray.jina.ai/fundamentals/document/embedding?utm_source=pdf-notebook).\n",
    "\n",
    "### Less code to write\n",
    "\n",
    "We can also reduce the amount of code we need to write using Jina Hub. Instead of manually integrating [Transformers](https://hub.jina.ai/executor/u9pqs8eb) with our search engine, we can simply use a couple of lines of code to download it from [Jina Hub](https://hub.jina.ai), run it in Docker, or run it in a [sandbox](https://docs.jina.ai/how-to/sandbox?utm_source=pdf-notebook) on the cloud. And if we wanted to swap it out for something like [spaCy](https://hub.jina.ai/executor/u7h7cuh2)? Again, just a matter of changing a couple of lines of code.\n",
    "\n",
    "### Deployment made easy\n",
    "\n",
    "Also, tools like Jina take a lot of hassle out of the orchestration and scaling. We can easily add [sharding, replicas](https://docs.jina.ai/how-to/scale-out/?highlight=sharding), [Kubernetes integration](https://docs.jina.ai/how-to/kubernetes?utm_source=pdf-notebook), and so on. \n",
    "\n",
    "## Meet our ingredients\n",
    "\n",
    "### **[DocArray](https://docarray.jina.ai?utm_source=pdf-notebook)**\n",
    "\n",
    "DocArray is a library for nested, unstructured data in transit, including text, image, audio, video, 3D mesh, etc. It allows deep-learning engineers to efficiently process, embed, search, recommend, store, and transfer the multi-modal data with a Pythonic API. ([star the repo]())\n",
    "\n",
    "###**[Jina](https://docs.jina.ai)**\n",
    " \n",
    " Jina is a framework that empowers anyone to build cross-modal and multi-modal[*] applications on the cloud. It uplifts a PoC into a production-ready service. Jina handles the infrastructure complexity, making advanced solution engineering and cloud-native technologies accessible to every developer. ([star the repo]())\n",
    "\n",
    "### **[Jina Hub](https://hub.jina.ai)**\n",
    "\n",
    "Download pre-built building blocks for neural search.\n",
    "\n",
    "## Without further ado...\n",
    "\n",
    "Let's start by downloading our data:"
   ]
  },
  {
   "cell_type": "markdown",
   "metadata": {
    "id": "fGgYFyepOchY"
   },
   "source": [
    "## Downloading our data\n",
    "\n",
    "We're going to use simple text PDFs, with text taken from two Wikipedia pages ([Rabbit](https://en.wikipedia.org/wiki/Rabbit) and [Tiger](https://de.wikipedia.org/wiki/Tiger)). \n",
    "\n",
    "Of course, this is just a toy dataset. PDFs can differ in many ways, and depending on your use case you may need to process them very differently (e.g. OCR, image processing). Since ours are simple plain text, these steps will apply to most PDF search engines you may wish to build."
   ]
  },
  {
   "cell_type": "code",
   "execution_count": 1,
   "metadata": {
    "id": "WcpdRCMsJadV"
   },
   "outputs": [],
   "source": [
    "import requests\n",
    "r = requests.get('https://nicic.gov/state-jail-standards')"
   ]
  },
  {
   "cell_type": "code",
   "execution_count": 2,
   "metadata": {
    "id": "sQnf36kWJePR"
   },
   "outputs": [],
   "source": [
    "from bs4 import BeautifulSoup"
   ]
  },
  {
   "cell_type": "code",
   "execution_count": 5,
   "metadata": {
    "id": "qb09wUqEJnms"
   },
   "outputs": [],
   "source": [
    "soup = BeautifulSoup(r.content)\n"
   ]
  },
  {
   "cell_type": "code",
   "execution_count": 8,
   "metadata": {},
   "outputs": [
    {
     "name": "stdout",
     "output_type": "stream",
     "text": [
      "<a href=\"https://www.dfa.arkansas.gov/images/uploads/criminalDetentionOffice/proposedjailStandards.pdf\">Criminal Detention Facility Standards </a>\n",
      "<a href=\"https://www.maine.gov/sos/cec/rules/03/201/201c001.pdf\"> Detention and Correctional Standards for Maine Counties and Municipalities</a>\n",
      "<a href=\"https://mosheriffs.com/wp-content/uploads/2020/06/MCJS-All-Sections-Combined-2019.pdf\">Missouri Jail Standards</a>\n",
      "<a href=\"https://www.sccounties.org/sites/default/files/uploads/services/research/othertopics/sc-jail-standards-final.pdf\">Minimum Standards for Local Detention Facilities in South Carolina</a>\n"
     ]
    }
   ],
   "source": [
    "for link in soup.select(\"a[href$='.pdf']\"):\n",
    "    print(link)"
   ]
  },
  {
   "cell_type": "code",
   "execution_count": 1,
   "metadata": {
    "id": "1y9HT-Rddsfy"
   },
   "outputs": [],
   "source": [
    "# Get data\n",
    "!mkdir data\n",
    "!wget -q --directory-prefix ./data https://github.com/jina-ai/workshops/raw/main/pdf_search/data/rabbit.pdf\n",
    "!wget -q --directory-prefix ./data https://github.com/jina-ai/workshops/raw/main/pdf_search/data/tiger.pdf"
   ]
  },
  {
   "cell_type": "code",
   "execution_count": null,
   "metadata": {
    "id": "t30M_9_UJd2j"
   },
   "outputs": [],
   "source": []
  },
  {
   "cell_type": "markdown",
   "metadata": {
    "id": "y2vbvTJQOyCr"
   },
   "source": [
    "## Installing DocArray\n",
    "\n",
    "DocArray is a library for nested, unstructured data in transit, including text, image, audio, video, 3D mesh, etc. It allows deep-learning engineers to efficiently process, embed, search, recommend, store, and transfer the multi-modal data with a Pythonic API.\n",
    "\n",
    "We'll use Jina to build our search pipeline (a.k.a [Flow](https://docs.jina.ai/fundamentals/flow?utm_source=pdf-notebook)) in a while. Everything that goes in or out of Jina has to be in the form of a [Document](https://docarray.jina.ai/fundamentals/document/) or [DocumentArray](https://docarray.jina.ai/fundamentals/documentarray/), provided by the DocArray package."
   ]
  },
  {
   "cell_type": "code",
   "execution_count": 2,
   "metadata": {
    "colab": {
     "base_uri": "https://localhost:8080/"
    },
    "id": "NgEs7M7ZdYt4",
    "outputId": "8a35d2ac-b262-4bf3-954e-c40f078a68ec"
   },
   "outputs": [
    {
     "name": "stdout",
     "output_type": "stream",
     "text": [
      "\u001b[K     |████████████████████████████████| 634 kB 14.4 MB/s \n",
      "\u001b[K     |████████████████████████████████| 235 kB 44.1 MB/s \n",
      "\u001b[K     |████████████████████████████████| 51 kB 3.8 MB/s \n",
      "\u001b[?25h  Building wheel for docarray (setup.py) ... \u001b[?25l\u001b[?25hdone\n"
     ]
    }
   ],
   "source": [
    "!pip install -q docarray"
   ]
  },
  {
   "cell_type": "code",
   "execution_count": 3,
   "metadata": {
    "id": "osL261L3dhd2"
   },
   "outputs": [],
   "source": [
    "from docarray import DocumentArray"
   ]
  },
  {
   "cell_type": "markdown",
   "metadata": {
    "id": "JZGCBbx2PF9S"
   },
   "source": [
    "## Loading our PDF files\n",
    "\n",
    "DocArray includes a handy shortcut to [load every file matching a glob](https://docarray.jina.ai/fundamentals/documentarray/construct/#construct-from-local-files). We can then use the `.summary()` method to see an overview of the output.\n",
    "\n",
    "As we go through the process in this notebook we'll regularly check our summary to see what's happening with our Documents as they move through the Flow."
   ]
  },
  {
   "cell_type": "code",
   "execution_count": 5,
   "metadata": {
    "colab": {
     "base_uri": "https://localhost:8080/",
     "height": 307
    },
    "id": "_AMszuh7iE0t",
    "outputId": "d5c57c27-fe0d-43d6-8b17-6a09feb69d5e"
   },
   "outputs": [
    {
     "data": {
      "text/html": [
       "<pre style=\"white-space:pre;overflow-x:auto;line-height:normal;font-family:Menlo,'DejaVu Sans Mono',consolas,'Courier New',monospace\">╭────────────────── Documents Summary ──────────────────╮\n",
       "│                                                       │\n",
       "│   Length                 <span style=\"color: #008080; text-decoration-color: #008080; font-weight: bold\">2</span>                            │\n",
       "│   Homogenous Documents   <span style=\"color: #00ff00; text-decoration-color: #00ff00; font-style: italic\">True</span>                         │\n",
       "│   Common Attributes      <span style=\"font-weight: bold\">(</span><span style=\"color: #008000; text-decoration-color: #008000\">'id'</span>, <span style=\"color: #008000; text-decoration-color: #008000\">'mime_type'</span>, <span style=\"color: #008000; text-decoration-color: #008000\">'uri'</span><span style=\"font-weight: bold\">)</span>   │\n",
       "│   Multimodal dataclass   <span style=\"color: #ff0000; text-decoration-color: #ff0000; font-style: italic\">False</span>                        │\n",
       "│                                                       │\n",
       "╰───────────────────────────────────────────────────────╯\n",
       "╭───────────────────── Attributes Summary ─────────────────────╮\n",
       "│                                                              │\n",
       "│  <span style=\"font-weight: bold\"> Attribute </span> <span style=\"font-weight: bold\"> Data type </span> <span style=\"font-weight: bold\"> #Unique values </span> <span style=\"font-weight: bold\"> Has empty value </span>  │\n",
       "│  ──────────────────────────────────────────────────────────  │\n",
       "│   id          <span style=\"font-weight: bold\">(</span><span style=\"color: #008000; text-decoration-color: #008000\">'str'</span>,<span style=\"font-weight: bold\">)</span>    <span style=\"color: #008080; text-decoration-color: #008080; font-weight: bold\">2</span>                <span style=\"color: #ff0000; text-decoration-color: #ff0000; font-style: italic\">False</span>             │\n",
       "│   mime_type   <span style=\"font-weight: bold\">(</span><span style=\"color: #008000; text-decoration-color: #008000\">'str'</span>,<span style=\"font-weight: bold\">)</span>    <span style=\"color: #008080; text-decoration-color: #008080; font-weight: bold\">1</span>                <span style=\"color: #ff0000; text-decoration-color: #ff0000; font-style: italic\">False</span>             │\n",
       "│   uri         <span style=\"font-weight: bold\">(</span><span style=\"color: #008000; text-decoration-color: #008000\">'str'</span>,<span style=\"font-weight: bold\">)</span>    <span style=\"color: #008080; text-decoration-color: #008080; font-weight: bold\">2</span>                <span style=\"color: #ff0000; text-decoration-color: #ff0000; font-style: italic\">False</span>             │\n",
       "│                                                              │\n",
       "╰──────────────────────────────────────────────────────────────╯\n",
       "</pre>\n"
      ],
      "text/plain": [
       "╭────────────────── Documents Summary ──────────────────╮\n",
       "│                                                       │\n",
       "│   Length                 \u001b[1;36m2\u001b[0m                            │\n",
       "│   Homogenous Documents   \u001b[3;92mTrue\u001b[0m                         │\n",
       "│   Common Attributes      \u001b[1m(\u001b[0m\u001b[32m'id'\u001b[0m, \u001b[32m'mime_type'\u001b[0m, \u001b[32m'uri'\u001b[0m\u001b[1m)\u001b[0m   │\n",
       "│   Multimodal dataclass   \u001b[3;91mFalse\u001b[0m                        │\n",
       "│                                                       │\n",
       "╰───────────────────────────────────────────────────────╯\n",
       "╭───────────────────── Attributes Summary ─────────────────────╮\n",
       "│                                                              │\n",
       "│  \u001b[1m \u001b[0m\u001b[1mAttribute\u001b[0m\u001b[1m \u001b[0m \u001b[1m \u001b[0m\u001b[1mData type\u001b[0m\u001b[1m \u001b[0m \u001b[1m \u001b[0m\u001b[1m#Unique values\u001b[0m\u001b[1m \u001b[0m \u001b[1m \u001b[0m\u001b[1mHas empty value\u001b[0m\u001b[1m \u001b[0m  │\n",
       "│  ──────────────────────────────────────────────────────────  │\n",
       "│   id          \u001b[1m(\u001b[0m\u001b[32m'str'\u001b[0m,\u001b[1m)\u001b[0m    \u001b[1;36m2\u001b[0m                \u001b[3;91mFalse\u001b[0m             │\n",
       "│   mime_type   \u001b[1m(\u001b[0m\u001b[32m'str'\u001b[0m,\u001b[1m)\u001b[0m    \u001b[1;36m1\u001b[0m                \u001b[3;91mFalse\u001b[0m             │\n",
       "│   uri         \u001b[1m(\u001b[0m\u001b[32m'str'\u001b[0m,\u001b[1m)\u001b[0m    \u001b[1;36m2\u001b[0m                \u001b[3;91mFalse\u001b[0m             │\n",
       "│                                                              │\n",
       "╰──────────────────────────────────────────────────────────────╯\n"
      ]
     },
     "metadata": {},
     "output_type": "display_data"
    }
   ],
   "source": [
    "docs = DocumentArray.from_files(\"data/*.pdf\", recursive=True)\n",
    "docs.summary()"
   ]
  },
  {
   "cell_type": "markdown",
   "metadata": {
    "id": "kBgCsbkePQk_"
   },
   "source": [
    "### Loading to blobs\n",
    "\n",
    "Right now the Documents contain only the URIs to the PDF files (as well as some other very basic data), but not the PDF content itself. We'll [load those URIs into blobs](https://docarray.jina.ai/fundamentals/document/fluent-interface/#blobdata):"
   ]
  },
  {
   "cell_type": "code",
   "execution_count": 6,
   "metadata": {
    "id": "mt4kS0DdkxGf"
   },
   "outputs": [],
   "source": [
    "for doc in docs:\n",
    "  doc.load_uri_to_blob()"
   ]
  },
  {
   "cell_type": "code",
   "execution_count": 7,
   "metadata": {
    "colab": {
     "base_uri": "https://localhost:8080/",
     "height": 324
    },
    "id": "jBTcCIBoEiWD",
    "outputId": "83edab78-1b1a-4f82-b5d7-2029f4da206c"
   },
   "outputs": [
    {
     "data": {
      "text/html": [
       "<pre style=\"white-space:pre;overflow-x:auto;line-height:normal;font-family:Menlo,'DejaVu Sans Mono',consolas,'Courier New',monospace\">╭────────────────────── Documents Summary ──────────────────────╮\n",
       "│                                                               │\n",
       "│   Length                 <span style=\"color: #008080; text-decoration-color: #008080; font-weight: bold\">2</span>                                    │\n",
       "│   Homogenous Documents   <span style=\"color: #00ff00; text-decoration-color: #00ff00; font-style: italic\">True</span>                                 │\n",
       "│   Common Attributes      <span style=\"font-weight: bold\">(</span><span style=\"color: #008000; text-decoration-color: #008000\">'id'</span>, <span style=\"color: #008000; text-decoration-color: #008000\">'blob'</span>, <span style=\"color: #008000; text-decoration-color: #008000\">'mime_type'</span>, <span style=\"color: #008000; text-decoration-color: #008000\">'uri'</span><span style=\"font-weight: bold\">)</span>   │\n",
       "│   Multimodal dataclass   <span style=\"color: #ff0000; text-decoration-color: #ff0000; font-style: italic\">False</span>                                │\n",
       "│                                                               │\n",
       "╰───────────────────────────────────────────────────────────────╯\n",
       "╭───────────────────── Attributes Summary ──────────────────────╮\n",
       "│                                                               │\n",
       "│  <span style=\"font-weight: bold\"> Attribute </span> <span style=\"font-weight: bold\"> Data type  </span> <span style=\"font-weight: bold\"> #Unique values </span> <span style=\"font-weight: bold\"> Has empty value </span>  │\n",
       "│  ───────────────────────────────────────────────────────────  │\n",
       "│   blob        <span style=\"font-weight: bold\">(</span><span style=\"color: #008000; text-decoration-color: #008000\">'bytes'</span>,<span style=\"font-weight: bold\">)</span>   <span style=\"color: #008080; text-decoration-color: #008080; font-weight: bold\">2</span>                <span style=\"color: #ff0000; text-decoration-color: #ff0000; font-style: italic\">False</span>             │\n",
       "│   id          <span style=\"font-weight: bold\">(</span><span style=\"color: #008000; text-decoration-color: #008000\">'str'</span>,<span style=\"font-weight: bold\">)</span>     <span style=\"color: #008080; text-decoration-color: #008080; font-weight: bold\">2</span>                <span style=\"color: #ff0000; text-decoration-color: #ff0000; font-style: italic\">False</span>             │\n",
       "│   mime_type   <span style=\"font-weight: bold\">(</span><span style=\"color: #008000; text-decoration-color: #008000\">'str'</span>,<span style=\"font-weight: bold\">)</span>     <span style=\"color: #008080; text-decoration-color: #008080; font-weight: bold\">1</span>                <span style=\"color: #ff0000; text-decoration-color: #ff0000; font-style: italic\">False</span>             │\n",
       "│   uri         <span style=\"font-weight: bold\">(</span><span style=\"color: #008000; text-decoration-color: #008000\">'str'</span>,<span style=\"font-weight: bold\">)</span>     <span style=\"color: #008080; text-decoration-color: #008080; font-weight: bold\">2</span>                <span style=\"color: #ff0000; text-decoration-color: #ff0000; font-style: italic\">False</span>             │\n",
       "│                                                               │\n",
       "╰───────────────────────────────────────────────────────────────╯\n",
       "</pre>\n"
      ],
      "text/plain": [
       "╭────────────────────── Documents Summary ──────────────────────╮\n",
       "│                                                               │\n",
       "│   Length                 \u001b[1;36m2\u001b[0m                                    │\n",
       "│   Homogenous Documents   \u001b[3;92mTrue\u001b[0m                                 │\n",
       "│   Common Attributes      \u001b[1m(\u001b[0m\u001b[32m'id'\u001b[0m, \u001b[32m'blob'\u001b[0m, \u001b[32m'mime_type'\u001b[0m, \u001b[32m'uri'\u001b[0m\u001b[1m)\u001b[0m   │\n",
       "│   Multimodal dataclass   \u001b[3;91mFalse\u001b[0m                                │\n",
       "│                                                               │\n",
       "╰───────────────────────────────────────────────────────────────╯\n",
       "╭───────────────────── Attributes Summary ──────────────────────╮\n",
       "│                                                               │\n",
       "│  \u001b[1m \u001b[0m\u001b[1mAttribute\u001b[0m\u001b[1m \u001b[0m \u001b[1m \u001b[0m\u001b[1mData type \u001b[0m\u001b[1m \u001b[0m \u001b[1m \u001b[0m\u001b[1m#Unique values\u001b[0m\u001b[1m \u001b[0m \u001b[1m \u001b[0m\u001b[1mHas empty value\u001b[0m\u001b[1m \u001b[0m  │\n",
       "│  ───────────────────────────────────────────────────────────  │\n",
       "│   blob        \u001b[1m(\u001b[0m\u001b[32m'bytes'\u001b[0m,\u001b[1m)\u001b[0m   \u001b[1;36m2\u001b[0m                \u001b[3;91mFalse\u001b[0m             │\n",
       "│   id          \u001b[1m(\u001b[0m\u001b[32m'str'\u001b[0m,\u001b[1m)\u001b[0m     \u001b[1;36m2\u001b[0m                \u001b[3;91mFalse\u001b[0m             │\n",
       "│   mime_type   \u001b[1m(\u001b[0m\u001b[32m'str'\u001b[0m,\u001b[1m)\u001b[0m     \u001b[1;36m1\u001b[0m                \u001b[3;91mFalse\u001b[0m             │\n",
       "│   uri         \u001b[1m(\u001b[0m\u001b[32m'str'\u001b[0m,\u001b[1m)\u001b[0m     \u001b[1;36m2\u001b[0m                \u001b[3;91mFalse\u001b[0m             │\n",
       "│                                                               │\n",
       "╰───────────────────────────────────────────────────────────────╯\n"
      ]
     },
     "metadata": {},
     "output_type": "display_data"
    }
   ],
   "source": [
    "docs.summary()"
   ]
  },
  {
   "cell_type": "markdown",
   "metadata": {
    "id": "1UOQTWdyPkE1"
   },
   "source": [
    "## Installing Jina\n",
    "\n",
    "[Jina]() is a framework that empowers anyone to build cross-modal and multi-modalapplications on the cloud. It uplifts a PoC into a production-ready service. Jina handles the infrastructure complexity, making advanced solution engineering and cloud-native technologies accessible to every developer."
   ]
  },
  {
   "cell_type": "code",
   "execution_count": 8,
   "metadata": {
    "colab": {
     "base_uri": "https://localhost:8080/"
    },
    "id": "2JIlFO1g5owT",
    "outputId": "c391e140-cbf6-4637-83ac-7d2d53898d3c"
   },
   "outputs": [
    {
     "name": "stdout",
     "output_type": "stream",
     "text": [
      "\u001b[K     |████████████████████████████████| 221 kB 33.6 MB/s \n",
      "\u001b[K     |████████████████████████████████| 4.1 MB 49.4 MB/s \n",
      "\u001b[K     |████████████████████████████████| 1.0 MB 57.1 MB/s \n",
      "\u001b[K     |████████████████████████████████| 112 kB 60.4 MB/s \n",
      "\u001b[K     |████████████████████████████████| 3.8 MB 46.0 MB/s \n",
      "\u001b[K     |████████████████████████████████| 54 kB 3.3 MB/s \n",
      "\u001b[K     |████████████████████████████████| 57 kB 5.1 MB/s \n",
      "\u001b[K     |████████████████████████████████| 596 kB 35.8 MB/s \n",
      "\u001b[K     |████████████████████████████████| 1.1 MB 45.9 MB/s \n",
      "\u001b[K     |████████████████████████████████| 146 kB 62.7 MB/s \n",
      "\u001b[K     |████████████████████████████████| 1.2 MB 43.5 MB/s \n",
      "\u001b[K     |████████████████████████████████| 63 kB 2.0 MB/s \n",
      "\u001b[K     |████████████████████████████████| 80 kB 9.9 MB/s \n",
      "\u001b[K     |████████████████████████████████| 94 kB 3.9 MB/s \n",
      "\u001b[K     |████████████████████████████████| 144 kB 53.7 MB/s \n",
      "\u001b[K     |████████████████████████████████| 271 kB 61.7 MB/s \n",
      "\u001b[K     |████████████████████████████████| 54 kB 2.6 MB/s \n",
      "\u001b[K     |████████████████████████████████| 58 kB 6.1 MB/s \n",
      "\u001b[K     |████████████████████████████████| 1.2 MB 43.8 MB/s \n",
      "\u001b[K     |████████████████████████████████| 406 kB 52.2 MB/s \n",
      "\u001b[?25h  Building wheel for jina (setup.py) ... \u001b[?25l\u001b[?25hdone\n",
      "  Building wheel for aiostream (setup.py) ... \u001b[?25l\u001b[?25hdone\n",
      "  Building wheel for python-multipart (setup.py) ... \u001b[?25l\u001b[?25hdone\n",
      "\u001b[31mERROR: pip's dependency resolver does not currently take into account all the packages that are installed. This behaviour is the source of the following dependency conflicts.\n",
      "tensorflow 2.8.2+zzzcolab20220719082949 requires protobuf<3.20,>=3.9.2, but you have protobuf 3.20.1 which is incompatible.\u001b[0m\n"
     ]
    }
   ],
   "source": [
    "!pip install -q jina # Let's silence some of the output with -q so we don't fill our notebook with junk"
   ]
  },
  {
   "cell_type": "markdown",
   "metadata": {
    "id": "7GfxgpWCQKMJ"
   },
   "source": [
    "## Creating an indexing Flow\n",
    "\n",
    "We'll use Jina to generate our indexing and searching [Flows](https://docs.jina.ai/fundamentals/flow?utm_source=pdf-notebook). Our Documents will pass through these when we're indexing or searching. \n",
    "\n",
    "\n",
    "A Flow is built out of [Executors](https://docs.jina.ai/fundamentals/executor?utm_source=pdf-notebook), each of which perform a single processing task on each Document. We'll use [Jina Hub]() to provide pre-made Executors, meaning we don't have to write so much code.\n",
    "\n",
    "We'll build our Flow step by step through this notebook to get a clear idea of what's happening.\n",
    "\n",
    "Let's start with an empty Flow:"
   ]
  },
  {
   "cell_type": "code",
   "execution_count": 9,
   "metadata": {
    "id": "-Q3vy-6xEoMP"
   },
   "outputs": [],
   "source": [
    "from jina import Flow\n",
    "\n",
    "flow = Flow()"
   ]
  },
  {
   "cell_type": "markdown",
   "metadata": {
    "id": "Wu0r2Mjnp8at"
   },
   "source": [
    "And let's plot our Flow so we can see what we've got:"
   ]
  },
  {
   "cell_type": "code",
   "execution_count": 10,
   "metadata": {
    "colab": {
     "base_uri": "https://localhost:8080/",
     "height": 89
    },
    "id": "nFWWQBhKp7n_",
    "outputId": "abb138a3-c0f9-4ce5-bd4c-a2705ea91b13"
   },
   "outputs": [
    {
     "data": {
      "text/html": [
       "<pre style=\"white-space:pre;overflow-x:auto;line-height:normal;font-family:Menlo,'DejaVu Sans Mono',consolas,'Courier New',monospace\"><a href=\"https://mermaid.ink/svg/ICAgICAgICAgICAgJSV7aW5pdDp7ICAidGhlbWUiOiAiYmFzZSIsICAidGhlbWVWYXJpYWJsZXMiOiB7ICAgICAgInByaW1hcnlDb2xvciI6ICIjZmZmIiwgICAgICAicHJpbWFyeUJvcmRlckNvbG9yIjogIiNmZmYiLCAgICAgICJtYWluQmtnIjogIiMzMkM4Q0QiLCAgICAgICJjbHVzdGVyQmtnIjogIiNFRUVERTc4QyIsICAgICAgInNlY29uZGFyeUJvcmRlckNvbG9yIjogIm5vbmUiLCAgICAgICJ0ZXJ0aWFyeUJvcmRlckNvbG9yIjogIm5vbmUiLCAgICAgICJsaW5lQ29sb3IiOiAiI2E2ZDhkYSIgICAgICB9fX0lJSAgICAgICAgICAgIApmbG93Y2hhcnQgTFI7CmdhdGV3YXlzdGFydFtnYXRld2F5XTo6OkdBVEVXQVkgLS0+IGdhdGV3YXllbmRbZ2F0ZXdheV06OjpHQVRFV0FZOwpjbGFzc0RlZiBJTlNQRUNUIHN0cm9rZTojRjI5QzlGCmNsYXNzRGVmIEpPSU5fSU5TUEVDVCBzdHJva2U6I0YyOUM5RgpjbGFzc0RlZiBHQVRFV0FZIGZpbGw6bm9uZSxjb2xvcjojMDAwLHN0cm9rZTpub25lCmNsYXNzRGVmIElOU1BFQ1RfQVVYX1BBU1Mgc3Ryb2tlLWRhc2hhcnJheTogMiAyCmNsYXNzRGVmIEhFQURUQUlMIGZpbGw6IzMyQzhDRDFECgpjbGFzc0RlZiBFWFRFUk5BTCBmaWxsOiNmZmYsc3Ryb2tlOiMzMkM4Q0Q=\" target=\"_blank\">Click here to see the visualization in browser</a>\n",
       "</pre>\n"
      ],
      "text/plain": [
       "\u001b]8;id=769374;https://mermaid.ink/svg/ICAgICAgICAgICAgJSV7aW5pdDp7ICAidGhlbWUiOiAiYmFzZSIsICAidGhlbWVWYXJpYWJsZXMiOiB7ICAgICAgInByaW1hcnlDb2xvciI6ICIjZmZmIiwgICAgICAicHJpbWFyeUJvcmRlckNvbG9yIjogIiNmZmYiLCAgICAgICJtYWluQmtnIjogIiMzMkM4Q0QiLCAgICAgICJjbHVzdGVyQmtnIjogIiNFRUVERTc4QyIsICAgICAgInNlY29uZGFyeUJvcmRlckNvbG9yIjogIm5vbmUiLCAgICAgICJ0ZXJ0aWFyeUJvcmRlckNvbG9yIjogIm5vbmUiLCAgICAgICJsaW5lQ29sb3IiOiAiI2E2ZDhkYSIgICAgICB9fX0lJSAgICAgICAgICAgIApmbG93Y2hhcnQgTFI7CmdhdGV3YXlzdGFydFtnYXRld2F5XTo6OkdBVEVXQVkgLS0+IGdhdGV3YXllbmRbZ2F0ZXdheV06OjpHQVRFV0FZOwpjbGFzc0RlZiBJTlNQRUNUIHN0cm9rZTojRjI5QzlGCmNsYXNzRGVmIEpPSU5fSU5TUEVDVCBzdHJva2U6I0YyOUM5RgpjbGFzc0RlZiBHQVRFV0FZIGZpbGw6bm9uZSxjb2xvcjojMDAwLHN0cm9rZTpub25lCmNsYXNzRGVmIElOU1BFQ1RfQVVYX1BBU1Mgc3Ryb2tlLWRhc2hhcnJheTogMiAyCmNsYXNzRGVmIEhFQURUQUlMIGZpbGw6IzMyQzhDRDFECgpjbGFzc0RlZiBFWFRFUk5BTCBmaWxsOiNmZmYsc3Ryb2tlOiMzMkM4Q0Q=\u001b\\Click here to see the visualization in browser\u001b]8;;\u001b\\\n"
      ]
     },
     "metadata": {},
     "output_type": "display_data"
    },
    {
     "data": {
      "text/html": [
       "<img src=\"https://mermaid.ink/svg/ICAgICAgICAgICAgJSV7aW5pdDp7ICAidGhlbWUiOiAiYmFzZSIsICAidGhlbWVWYXJpYWJsZXMiOiB7ICAgICAgInByaW1hcnlDb2xvciI6ICIjZmZmIiwgICAgICAicHJpbWFyeUJvcmRlckNvbG9yIjogIiNmZmYiLCAgICAgICJtYWluQmtnIjogIiMzMkM4Q0QiLCAgICAgICJjbHVzdGVyQmtnIjogIiNFRUVERTc4QyIsICAgICAgInNlY29uZGFyeUJvcmRlckNvbG9yIjogIm5vbmUiLCAgICAgICJ0ZXJ0aWFyeUJvcmRlckNvbG9yIjogIm5vbmUiLCAgICAgICJsaW5lQ29sb3IiOiAiI2E2ZDhkYSIgICAgICB9fX0lJSAgICAgICAgICAgIApmbG93Y2hhcnQgTFI7CmdhdGV3YXlzdGFydFtnYXRld2F5XTo6OkdBVEVXQVkgLS0+IGdhdGV3YXllbmRbZ2F0ZXdheV06OjpHQVRFV0FZOwpjbGFzc0RlZiBJTlNQRUNUIHN0cm9rZTojRjI5QzlGCmNsYXNzRGVmIEpPSU5fSU5TUEVDVCBzdHJva2U6I0YyOUM5RgpjbGFzc0RlZiBHQVRFV0FZIGZpbGw6bm9uZSxjb2xvcjojMDAwLHN0cm9rZTpub25lCmNsYXNzRGVmIElOU1BFQ1RfQVVYX1BBU1Mgc3Ryb2tlLWRhc2hhcnJheTogMiAyCmNsYXNzRGVmIEhFQURUQUlMIGZpbGw6IzMyQzhDRDFECgpjbGFzc0RlZiBFWFRFUk5BTCBmaWxsOiNmZmYsc3Ryb2tlOiMzMkM4Q0Q=\"/>"
      ],
      "text/plain": [
       "<IPython.core.display.Image object>"
      ]
     },
     "metadata": {},
     "output_type": "display_data"
    }
   ],
   "source": [
    "flow.plot()"
   ]
  },
  {
   "cell_type": "markdown",
   "metadata": {
    "id": "iZ32hfdOqGSO"
   },
   "source": [
    "As you can see, right now it's just a gateway in and a gateway out. In the next few steps we'll build up the rest of our Flow."
   ]
  },
  {
   "cell_type": "markdown",
   "metadata": {
    "id": "n3k5Sp4kD7jT"
   },
   "source": [
    "### Extract PDF data\n",
    "\n",
    "If we're going to search through files, we need to get them into a format that our encoder can understand. In our case, that's plain text.\n",
    "\n",
    "We'll use [PDFSegmenter](https://hub.jina.ai/executor/x9w7lcwg) to extract that from our PDF Documents and store the sections of text as [chunks](https://docarray.jina.ai/fundamentals/document/nested?utm_source=pdf-notebook).\n",
    "\n",
    "Let's pull it from Jina Hub, so we can save ourselves the hassle of manually integrating it into our Flow. This will be a common pattern throughout this tutorial.\n",
    "\n",
    "**Note:** PDFSegmenter also extracts images from PDFs. Since our PDFs are text-only that's not important for this tutorial."
   ]
  },
  {
   "cell_type": "code",
   "execution_count": 11,
   "metadata": {
    "id": "n8C_PPwt5J11"
   },
   "outputs": [],
   "source": [
    "flow = flow.add(\n",
    "    uses=\"jinahub://PDFSegmenter\",\n",
    "    install_requirements=True,\n",
    "    name=\"segmenter\"\n",
    "    )"
   ]
  },
  {
   "cell_type": "code",
   "execution_count": 12,
   "metadata": {
    "colab": {
     "base_uri": "https://localhost:8080/",
     "height": 159
    },
    "id": "5b2dda3vexz7",
    "outputId": "a0aa9847-34cc-48ca-a550-307d58ea342b"
   },
   "outputs": [
    {
     "data": {
      "text/html": [
       "<pre style=\"white-space:pre;overflow-x:auto;line-height:normal;font-family:Menlo,'DejaVu Sans Mono',consolas,'Courier New',monospace\"><a href=\"https://mermaid.ink/svg/ICAgICAgICAgICAgJSV7aW5pdDp7ICAidGhlbWUiOiAiYmFzZSIsICAidGhlbWVWYXJpYWJsZXMiOiB7ICAgICAgInByaW1hcnlDb2xvciI6ICIjZmZmIiwgICAgICAicHJpbWFyeUJvcmRlckNvbG9yIjogIiNmZmYiLCAgICAgICJtYWluQmtnIjogIiMzMkM4Q0QiLCAgICAgICJjbHVzdGVyQmtnIjogIiNFRUVERTc4QyIsICAgICAgInNlY29uZGFyeUJvcmRlckNvbG9yIjogIm5vbmUiLCAgICAgICJ0ZXJ0aWFyeUJvcmRlckNvbG9yIjogIm5vbmUiLCAgICAgICJsaW5lQ29sb3IiOiAiI2E2ZDhkYSIgICAgICB9fX0lJSAgICAgICAgICAgIApmbG93Y2hhcnQgTFI7CnN1YmdyYXBoIHNlZ21lbnRlcjsKCmRpcmVjdGlvbiBMUjsKCnNlZ21lbnRlci9yZXAtMFsiImppbmFodWI6Ly9QREZTZWdtZW50ZXIiIl06Ojpwb2Q7CmVuZDsKZ2F0ZXdheXN0YXJ0W2dhdGV3YXldOjo6R0FURVdBWSAtLT4gc2VnbWVudGVyOjo6REVQTE9ZTUVOVDsKc2VnbWVudGVyOjo6REVQTE9ZTUVOVCAtLT4gZ2F0ZXdheWVuZFtnYXRld2F5XTo6OkdBVEVXQVk7CmNsYXNzRGVmIElOU1BFQ1Qgc3Ryb2tlOiNGMjlDOUYKY2xhc3NEZWYgSk9JTl9JTlNQRUNUIHN0cm9rZTojRjI5QzlGCmNsYXNzRGVmIEdBVEVXQVkgZmlsbDpub25lLGNvbG9yOiMwMDAsc3Ryb2tlOm5vbmUKY2xhc3NEZWYgSU5TUEVDVF9BVVhfUEFTUyBzdHJva2UtZGFzaGFycmF5OiAyIDIKY2xhc3NEZWYgSEVBRFRBSUwgZmlsbDojMzJDOENEMUQKCmNsYXNzRGVmIEVYVEVSTkFMIGZpbGw6I2ZmZixzdHJva2U6IzMyQzhDRA==\" target=\"_blank\">Click here to see the visualization in browser</a>\n",
       "</pre>\n"
      ],
      "text/plain": [
       "\u001b]8;id=857102;https://mermaid.ink/svg/ICAgICAgICAgICAgJSV7aW5pdDp7ICAidGhlbWUiOiAiYmFzZSIsICAidGhlbWVWYXJpYWJsZXMiOiB7ICAgICAgInByaW1hcnlDb2xvciI6ICIjZmZmIiwgICAgICAicHJpbWFyeUJvcmRlckNvbG9yIjogIiNmZmYiLCAgICAgICJtYWluQmtnIjogIiMzMkM4Q0QiLCAgICAgICJjbHVzdGVyQmtnIjogIiNFRUVERTc4QyIsICAgICAgInNlY29uZGFyeUJvcmRlckNvbG9yIjogIm5vbmUiLCAgICAgICJ0ZXJ0aWFyeUJvcmRlckNvbG9yIjogIm5vbmUiLCAgICAgICJsaW5lQ29sb3IiOiAiI2E2ZDhkYSIgICAgICB9fX0lJSAgICAgICAgICAgIApmbG93Y2hhcnQgTFI7CnN1YmdyYXBoIHNlZ21lbnRlcjsKCmRpcmVjdGlvbiBMUjsKCnNlZ21lbnRlci9yZXAtMFsiImppbmFodWI6Ly9QREZTZWdtZW50ZXIiIl06Ojpwb2Q7CmVuZDsKZ2F0ZXdheXN0YXJ0W2dhdGV3YXldOjo6R0FURVdBWSAtLT4gc2VnbWVudGVyOjo6REVQTE9ZTUVOVDsKc2VnbWVudGVyOjo6REVQTE9ZTUVOVCAtLT4gZ2F0ZXdheWVuZFtnYXRld2F5XTo6OkdBVEVXQVk7CmNsYXNzRGVmIElOU1BFQ1Qgc3Ryb2tlOiNGMjlDOUYKY2xhc3NEZWYgSk9JTl9JTlNQRUNUIHN0cm9rZTojRjI5QzlGCmNsYXNzRGVmIEdBVEVXQVkgZmlsbDpub25lLGNvbG9yOiMwMDAsc3Ryb2tlOm5vbmUKY2xhc3NEZWYgSU5TUEVDVF9BVVhfUEFTUyBzdHJva2UtZGFzaGFycmF5OiAyIDIKY2xhc3NEZWYgSEVBRFRBSUwgZmlsbDojMzJDOENEMUQKCmNsYXNzRGVmIEVYVEVSTkFMIGZpbGw6I2ZmZixzdHJva2U6IzMyQzhDRA==\u001b\\Click here to see the visualization in browser\u001b]8;;\u001b\\\n"
      ]
     },
     "metadata": {},
     "output_type": "display_data"
    },
    {
     "data": {
      "text/html": [
       "<img src=\"https://mermaid.ink/svg/ICAgICAgICAgICAgJSV7aW5pdDp7ICAidGhlbWUiOiAiYmFzZSIsICAidGhlbWVWYXJpYWJsZXMiOiB7ICAgICAgInByaW1hcnlDb2xvciI6ICIjZmZmIiwgICAgICAicHJpbWFyeUJvcmRlckNvbG9yIjogIiNmZmYiLCAgICAgICJtYWluQmtnIjogIiMzMkM4Q0QiLCAgICAgICJjbHVzdGVyQmtnIjogIiNFRUVERTc4QyIsICAgICAgInNlY29uZGFyeUJvcmRlckNvbG9yIjogIm5vbmUiLCAgICAgICJ0ZXJ0aWFyeUJvcmRlckNvbG9yIjogIm5vbmUiLCAgICAgICJsaW5lQ29sb3IiOiAiI2E2ZDhkYSIgICAgICB9fX0lJSAgICAgICAgICAgIApmbG93Y2hhcnQgTFI7CnN1YmdyYXBoIHNlZ21lbnRlcjsKCmRpcmVjdGlvbiBMUjsKCnNlZ21lbnRlci9yZXAtMFsiImppbmFodWI6Ly9QREZTZWdtZW50ZXIiIl06Ojpwb2Q7CmVuZDsKZ2F0ZXdheXN0YXJ0W2dhdGV3YXldOjo6R0FURVdBWSAtLT4gc2VnbWVudGVyOjo6REVQTE9ZTUVOVDsKc2VnbWVudGVyOjo6REVQTE9ZTUVOVCAtLT4gZ2F0ZXdheWVuZFtnYXRld2F5XTo6OkdBVEVXQVk7CmNsYXNzRGVmIElOU1BFQ1Qgc3Ryb2tlOiNGMjlDOUYKY2xhc3NEZWYgSk9JTl9JTlNQRUNUIHN0cm9rZTojRjI5QzlGCmNsYXNzRGVmIEdBVEVXQVkgZmlsbDpub25lLGNvbG9yOiMwMDAsc3Ryb2tlOm5vbmUKY2xhc3NEZWYgSU5TUEVDVF9BVVhfUEFTUyBzdHJva2UtZGFzaGFycmF5OiAyIDIKY2xhc3NEZWYgSEVBRFRBSUwgZmlsbDojMzJDOENEMUQKCmNsYXNzRGVmIEVYVEVSTkFMIGZpbGw6I2ZmZixzdHJva2U6IzMyQzhDRA==\"/>"
      ],
      "text/plain": [
       "<IPython.core.display.Image object>"
      ]
     },
     "metadata": {},
     "output_type": "display_data"
    }
   ],
   "source": [
    "flow.plot()"
   ]
  },
  {
   "cell_type": "markdown",
   "metadata": {
    "id": "12tPvKjtqKyK"
   },
   "source": [
    "Now we need to run our Flow. Since we're building the indexing pipeline right now, let's run it with `flow.index()`:"
   ]
  },
  {
   "cell_type": "code",
   "execution_count": 13,
   "metadata": {
    "colab": {
     "base_uri": "https://localhost:8080/",
     "height": 163,
     "referenced_widgets": [
      "59b00472f03842658aaab673f628789f",
      "f3e7b00d98e74485866dd385102c6be4",
      "bfd492dbbf5c4e5cb91df05a14747d22",
      "4da884446de24e29a54b6e73d31d14d0",
      "6c244fa253a74901932e34522cc24469",
      "98e39865f3684835ab97d23157a0649f",
      "19e59c92d9f04781b2cec4e8519b86c3",
      "224a9e8f74e842b180964eecd4d88f97"
     ]
    },
    "id": "ubkTagMF5mYZ",
    "outputId": "779651c1-dff5-4239-d8b1-b784bf8f9abf"
   },
   "outputs": [
    {
     "data": {
      "application/vnd.jupyter.widget-view+json": {
       "model_id": "59b00472f03842658aaab673f628789f",
       "version_major": 2,
       "version_minor": 0
      },
      "text/plain": [
       "Output()"
      ]
     },
     "metadata": {},
     "output_type": "display_data"
    },
    {
     "data": {
      "text/html": [
       "<pre style=\"white-space:pre;overflow-x:auto;line-height:normal;font-family:Menlo,'DejaVu Sans Mono',consolas,'Courier New',monospace\"></pre>\n"
      ],
      "text/plain": []
     },
     "metadata": {},
     "output_type": "display_data"
    },
    {
     "data": {
      "application/vnd.jupyter.widget-view+json": {
       "model_id": "bfd492dbbf5c4e5cb91df05a14747d22",
       "version_major": 2,
       "version_minor": 0
      },
      "text/plain": [
       "Output()"
      ]
     },
     "metadata": {},
     "output_type": "display_data"
    },
    {
     "data": {
      "text/html": [
       "<pre style=\"white-space:pre;overflow-x:auto;line-height:normal;font-family:Menlo,'DejaVu Sans Mono',consolas,'Courier New',monospace\"></pre>\n"
      ],
      "text/plain": []
     },
     "metadata": {},
     "output_type": "display_data"
    },
    {
     "data": {
      "application/vnd.jupyter.widget-view+json": {
       "model_id": "6c244fa253a74901932e34522cc24469",
       "version_major": 2,
       "version_minor": 0
      },
      "text/plain": [
       "Output()"
      ]
     },
     "metadata": {},
     "output_type": "display_data"
    },
    {
     "data": {
      "text/html": [
       "<pre style=\"white-space:pre;overflow-x:auto;line-height:normal;font-family:Menlo,'DejaVu Sans Mono',consolas,'Courier New',monospace\"><span style=\"color: #00ff00; text-decoration-color: #00ff00\">─────────────────────────────────────────── </span>🎉 Flow is ready to serve!<span style=\"color: #00ff00; text-decoration-color: #00ff00\"> ────────────────────────────────────────────</span>\n",
       "╭────────────── 🔗 <span style=\"font-weight: bold\">Endpoint</span> ───────────────╮\n",
       "│  ⛓      Protocol                   GRPC  │\n",
       "│  🏠        Local          <a href=\"grpc://0.0.0.0:56568\" target=\"_blank\"><span style=\"color: #00ff00; text-decoration-color: #00ff00; font-weight: bold\">0.0.0.0</span></a><a href=\"grpc://0.0.0.0:56568\" target=\"_blank\">:</a><a href=\"grpc://0.0.0.0:56568\" target=\"_blank\"><span style=\"color: #008080; text-decoration-color: #008080; font-weight: bold\">56568</span></a>  │\n",
       "│  🔒      Private       <a href=\"grpc://172.28.0.2:56568\" target=\"_blank\"><span style=\"color: #00ff00; text-decoration-color: #00ff00; font-weight: bold\">172.28.0.2</span></a><a href=\"grpc://172.28.0.2:56568\" target=\"_blank\">:</a><a href=\"grpc://172.28.0.2:56568\" target=\"_blank\"><span style=\"color: #008080; text-decoration-color: #008080; font-weight: bold\">56568</span></a>  │\n",
       "│  🌍       Public    <a href=\"grpc://34.86.144.143:56568\" target=\"_blank\"><span style=\"color: #00ff00; text-decoration-color: #00ff00; font-weight: bold\">34.86.144.143</span></a><a href=\"grpc://34.86.144.143:56568\" target=\"_blank\">:</a><a href=\"grpc://34.86.144.143:56568\" target=\"_blank\"><span style=\"color: #008080; text-decoration-color: #008080; font-weight: bold\">56568</span></a>  │\n",
       "╰──────────────────────────────────────────╯\n",
       "</pre>\n"
      ],
      "text/plain": [
       "\u001b[92m─────────────────────────────────────────── \u001b[0m🎉 Flow is ready to serve!\u001b[92m ────────────────────────────────────────────\u001b[0m\n",
       "╭────────────── 🔗 \u001b[1mEndpoint\u001b[0m ───────────────╮\n",
       "│  ⛓      Protocol                   GRPC  │\n",
       "│  🏠        Local          \u001b]8;id=830054;grpc://0.0.0.0:56568\u001b\\\u001b[1;92m0.0.0.0\u001b[0m\u001b]8;;\u001b\\\u001b]8;id=68640;grpc://0.0.0.0:56568\u001b\\:\u001b]8;;\u001b\\\u001b]8;id=150182;grpc://0.0.0.0:56568\u001b\\\u001b[1;36m56568\u001b[0m\u001b]8;;\u001b\\  │\n",
       "│  🔒      Private       \u001b]8;id=586679;grpc://172.28.0.2:56568\u001b\\\u001b[1;92m172.28.0.2\u001b[0m\u001b]8;;\u001b\\\u001b]8;id=359878;grpc://172.28.0.2:56568\u001b\\:\u001b]8;;\u001b\\\u001b]8;id=218195;grpc://172.28.0.2:56568\u001b\\\u001b[1;36m56568\u001b[0m\u001b]8;;\u001b\\  │\n",
       "│  🌍       Public    \u001b]8;id=808109;grpc://34.86.144.143:56568\u001b\\\u001b[1;92m34.86.144.143\u001b[0m\u001b]8;;\u001b\\\u001b]8;id=896388;grpc://34.86.144.143:56568\u001b\\:\u001b]8;;\u001b\\\u001b]8;id=458722;grpc://34.86.144.143:56568\u001b\\\u001b[1;36m56568\u001b[0m\u001b]8;;\u001b\\  │\n",
       "╰──────────────────────────────────────────╯\n"
      ]
     },
     "metadata": {},
     "output_type": "display_data"
    },
    {
     "data": {
      "text/html": [
       "<pre style=\"white-space:pre;overflow-x:auto;line-height:normal;font-family:Menlo,'DejaVu Sans Mono',consolas,'Courier New',monospace\"></pre>\n"
      ],
      "text/plain": []
     },
     "metadata": {},
     "output_type": "display_data"
    },
    {
     "data": {
      "text/html": [
       "<pre style=\"white-space:pre;overflow-x:auto;line-height:normal;font-family:Menlo,'DejaVu Sans Mono',consolas,'Courier New',monospace\">\n",
       "</pre>\n"
      ],
      "text/plain": [
       "\n"
      ]
     },
     "metadata": {},
     "output_type": "display_data"
    },
    {
     "data": {
      "application/vnd.jupyter.widget-view+json": {
       "model_id": "19e59c92d9f04781b2cec4e8519b86c3",
       "version_major": 2,
       "version_minor": 0
      },
      "text/plain": [
       "Output()"
      ]
     },
     "metadata": {},
     "output_type": "display_data"
    },
    {
     "data": {
      "text/html": [
       "<pre style=\"white-space:pre;overflow-x:auto;line-height:normal;font-family:Menlo,'DejaVu Sans Mono',consolas,'Courier New',monospace\"></pre>\n"
      ],
      "text/plain": []
     },
     "metadata": {},
     "output_type": "display_data"
    },
    {
     "data": {
      "text/html": [
       "<pre style=\"white-space:pre;overflow-x:auto;line-height:normal;font-family:Menlo,'DejaVu Sans Mono',consolas,'Courier New',monospace\">\n",
       "</pre>\n"
      ],
      "text/plain": [
       "\n"
      ]
     },
     "metadata": {},
     "output_type": "display_data"
    }
   ],
   "source": [
    "with flow:\n",
    "  docs = flow.index(docs, show_progress=True)"
   ]
  },
  {
   "cell_type": "markdown",
   "metadata": {
    "id": "UIessnTzqS9F"
   },
   "source": [
    "Now that our Documents have been processed by the Flow, let's see what's changed:"
   ]
  },
  {
   "cell_type": "code",
   "execution_count": 14,
   "metadata": {
    "colab": {
     "base_uri": "https://localhost:8080/",
     "height": 358
    },
    "id": "fh16M9H158j_",
    "outputId": "28db6fc3-f9d4-4c54-a196-5017cb19702e"
   },
   "outputs": [
    {
     "data": {
      "text/html": [
       "<pre style=\"white-space:pre;overflow-x:auto;line-height:normal;font-family:Menlo,'DejaVu Sans Mono',consolas,'Courier New',monospace\">╭──────────────────────────── Documents Summary ─────────────────────────────╮\n",
       "│                                                                            │\n",
       "│   Length                    <span style=\"color: #008080; text-decoration-color: #008080; font-weight: bold\">2</span>                                              │\n",
       "│   Homogenous Documents      <span style=\"color: #00ff00; text-decoration-color: #00ff00; font-style: italic\">True</span>                                           │\n",
       "│   Has nested Documents in   <span style=\"font-weight: bold\">(</span><span style=\"color: #008000; text-decoration-color: #008000\">'chunks'</span>,<span style=\"font-weight: bold\">)</span>                                    │\n",
       "│   Common Attributes         <span style=\"font-weight: bold\">(</span><span style=\"color: #008000; text-decoration-color: #008000\">'id'</span>, <span style=\"color: #008000; text-decoration-color: #008000\">'blob'</span>, <span style=\"color: #008000; text-decoration-color: #008000\">'mime_type'</span>, <span style=\"color: #008000; text-decoration-color: #008000\">'uri'</span>, <span style=\"color: #008000; text-decoration-color: #008000\">'chunks'</span><span style=\"font-weight: bold\">)</span>   │\n",
       "│   Multimodal dataclass      <span style=\"color: #ff0000; text-decoration-color: #ff0000; font-style: italic\">False</span>                                          │\n",
       "│                                                                            │\n",
       "╰────────────────────────────────────────────────────────────────────────────╯\n",
       "╭──────────────────────── Attributes Summary ────────────────────────╮\n",
       "│                                                                    │\n",
       "│  <span style=\"font-weight: bold\"> Attribute </span> <span style=\"font-weight: bold\"> Data type       </span> <span style=\"font-weight: bold\"> #Unique values </span> <span style=\"font-weight: bold\"> Has empty value </span>  │\n",
       "│  ────────────────────────────────────────────────────────────────  │\n",
       "│   blob        <span style=\"font-weight: bold\">(</span><span style=\"color: #008000; text-decoration-color: #008000\">'bytes'</span>,<span style=\"font-weight: bold\">)</span>        <span style=\"color: #008080; text-decoration-color: #008080; font-weight: bold\">2</span>                <span style=\"color: #ff0000; text-decoration-color: #ff0000; font-style: italic\">False</span>             │\n",
       "│   chunks      <span style=\"font-weight: bold\">(</span><span style=\"color: #008000; text-decoration-color: #008000\">'ChunkArray'</span>,<span style=\"font-weight: bold\">)</span>   <span style=\"color: #008080; text-decoration-color: #008080; font-weight: bold\">2</span>                <span style=\"color: #ff0000; text-decoration-color: #ff0000; font-style: italic\">False</span>             │\n",
       "│   id          <span style=\"font-weight: bold\">(</span><span style=\"color: #008000; text-decoration-color: #008000\">'str'</span>,<span style=\"font-weight: bold\">)</span>          <span style=\"color: #008080; text-decoration-color: #008080; font-weight: bold\">2</span>                <span style=\"color: #ff0000; text-decoration-color: #ff0000; font-style: italic\">False</span>             │\n",
       "│   mime_type   <span style=\"font-weight: bold\">(</span><span style=\"color: #008000; text-decoration-color: #008000\">'str'</span>,<span style=\"font-weight: bold\">)</span>          <span style=\"color: #008080; text-decoration-color: #008080; font-weight: bold\">1</span>                <span style=\"color: #ff0000; text-decoration-color: #ff0000; font-style: italic\">False</span>             │\n",
       "│   uri         <span style=\"font-weight: bold\">(</span><span style=\"color: #008000; text-decoration-color: #008000\">'str'</span>,<span style=\"font-weight: bold\">)</span>          <span style=\"color: #008080; text-decoration-color: #008080; font-weight: bold\">2</span>                <span style=\"color: #ff0000; text-decoration-color: #ff0000; font-style: italic\">False</span>             │\n",
       "│                                                                    │\n",
       "╰────────────────────────────────────────────────────────────────────╯\n",
       "</pre>\n"
      ],
      "text/plain": [
       "╭──────────────────────────── Documents Summary ─────────────────────────────╮\n",
       "│                                                                            │\n",
       "│   Length                    \u001b[1;36m2\u001b[0m                                              │\n",
       "│   Homogenous Documents      \u001b[3;92mTrue\u001b[0m                                           │\n",
       "│   Has nested Documents in   \u001b[1m(\u001b[0m\u001b[32m'chunks'\u001b[0m,\u001b[1m)\u001b[0m                                    │\n",
       "│   Common Attributes         \u001b[1m(\u001b[0m\u001b[32m'id'\u001b[0m, \u001b[32m'blob'\u001b[0m, \u001b[32m'mime_type'\u001b[0m, \u001b[32m'uri'\u001b[0m, \u001b[32m'chunks'\u001b[0m\u001b[1m)\u001b[0m   │\n",
       "│   Multimodal dataclass      \u001b[3;91mFalse\u001b[0m                                          │\n",
       "│                                                                            │\n",
       "╰────────────────────────────────────────────────────────────────────────────╯\n",
       "╭──────────────────────── Attributes Summary ────────────────────────╮\n",
       "│                                                                    │\n",
       "│  \u001b[1m \u001b[0m\u001b[1mAttribute\u001b[0m\u001b[1m \u001b[0m \u001b[1m \u001b[0m\u001b[1mData type      \u001b[0m\u001b[1m \u001b[0m \u001b[1m \u001b[0m\u001b[1m#Unique values\u001b[0m\u001b[1m \u001b[0m \u001b[1m \u001b[0m\u001b[1mHas empty value\u001b[0m\u001b[1m \u001b[0m  │\n",
       "│  ────────────────────────────────────────────────────────────────  │\n",
       "│   blob        \u001b[1m(\u001b[0m\u001b[32m'bytes'\u001b[0m,\u001b[1m)\u001b[0m        \u001b[1;36m2\u001b[0m                \u001b[3;91mFalse\u001b[0m             │\n",
       "│   chunks      \u001b[1m(\u001b[0m\u001b[32m'ChunkArray'\u001b[0m,\u001b[1m)\u001b[0m   \u001b[1;36m2\u001b[0m                \u001b[3;91mFalse\u001b[0m             │\n",
       "│   id          \u001b[1m(\u001b[0m\u001b[32m'str'\u001b[0m,\u001b[1m)\u001b[0m          \u001b[1;36m2\u001b[0m                \u001b[3;91mFalse\u001b[0m             │\n",
       "│   mime_type   \u001b[1m(\u001b[0m\u001b[32m'str'\u001b[0m,\u001b[1m)\u001b[0m          \u001b[1;36m1\u001b[0m                \u001b[3;91mFalse\u001b[0m             │\n",
       "│   uri         \u001b[1m(\u001b[0m\u001b[32m'str'\u001b[0m,\u001b[1m)\u001b[0m          \u001b[1;36m2\u001b[0m                \u001b[3;91mFalse\u001b[0m             │\n",
       "│                                                                    │\n",
       "╰────────────────────────────────────────────────────────────────────╯\n"
      ]
     },
     "metadata": {},
     "output_type": "display_data"
    }
   ],
   "source": [
    "docs.summary()"
   ]
  },
  {
   "cell_type": "markdown",
   "metadata": {
    "id": "kWIYUZRhqZ6S"
   },
   "source": [
    "As you can see, each Document now has \"chunks\", consisting of the text extracted from each PDF. We can look at the chunks in more detail:"
   ]
  },
  {
   "cell_type": "code",
   "execution_count": 15,
   "metadata": {
    "colab": {
     "base_uri": "https://localhost:8080/",
     "height": 341
    },
    "id": "zjqZhDO3E0jg",
    "outputId": "617773c6-585b-4f79-ba62-5e374e0425ab"
   },
   "outputs": [
    {
     "data": {
      "text/html": [
       "<pre style=\"white-space:pre;overflow-x:auto;line-height:normal;font-family:Menlo,'DejaVu Sans Mono',consolas,'Courier New',monospace\">╭──────────────────────────────── Documents Summary ─────────────────────────────────╮\n",
       "│                                                                                    │\n",
       "│   Length                 <span style=\"color: #008080; text-decoration-color: #008080; font-weight: bold\">5</span>                                                         │\n",
       "│   Homogenous Documents   <span style=\"color: #00ff00; text-decoration-color: #00ff00; font-style: italic\">True</span>                                                      │\n",
       "│   Common Attributes      <span style=\"font-weight: bold\">(</span><span style=\"color: #008000; text-decoration-color: #008000\">'id'</span>, <span style=\"color: #008000; text-decoration-color: #008000\">'parent_id'</span>, <span style=\"color: #008000; text-decoration-color: #008000\">'granularity'</span>, <span style=\"color: #008000; text-decoration-color: #008000\">'mime_type'</span>, <span style=\"color: #008000; text-decoration-color: #008000\">'text'</span><span style=\"font-weight: bold\">)</span>   │\n",
       "│   Multimodal dataclass   <span style=\"color: #ff0000; text-decoration-color: #ff0000; font-style: italic\">False</span>                                                     │\n",
       "│                                                                                    │\n",
       "╰────────────────────────────────────────────────────────────────────────────────────╯\n",
       "╭────────────────────── Attributes Summary ──────────────────────╮\n",
       "│                                                                │\n",
       "│  <span style=\"font-weight: bold\"> Attribute   </span> <span style=\"font-weight: bold\"> Data type </span> <span style=\"font-weight: bold\"> #Unique values </span> <span style=\"font-weight: bold\"> Has empty value </span>  │\n",
       "│  ────────────────────────────────────────────────────────────  │\n",
       "│   granularity   <span style=\"font-weight: bold\">(</span><span style=\"color: #008000; text-decoration-color: #008000\">'int'</span>,<span style=\"font-weight: bold\">)</span>    <span style=\"color: #008080; text-decoration-color: #008080; font-weight: bold\">1</span>                <span style=\"color: #ff0000; text-decoration-color: #ff0000; font-style: italic\">False</span>             │\n",
       "│   id            <span style=\"font-weight: bold\">(</span><span style=\"color: #008000; text-decoration-color: #008000\">'str'</span>,<span style=\"font-weight: bold\">)</span>    <span style=\"color: #008080; text-decoration-color: #008080; font-weight: bold\">5</span>                <span style=\"color: #ff0000; text-decoration-color: #ff0000; font-style: italic\">False</span>             │\n",
       "│   mime_type     <span style=\"font-weight: bold\">(</span><span style=\"color: #008000; text-decoration-color: #008000\">'str'</span>,<span style=\"font-weight: bold\">)</span>    <span style=\"color: #008080; text-decoration-color: #008080; font-weight: bold\">1</span>                <span style=\"color: #ff0000; text-decoration-color: #ff0000; font-style: italic\">False</span>             │\n",
       "│   parent_id     <span style=\"font-weight: bold\">(</span><span style=\"color: #008000; text-decoration-color: #008000\">'str'</span>,<span style=\"font-weight: bold\">)</span>    <span style=\"color: #008080; text-decoration-color: #008080; font-weight: bold\">2</span>                <span style=\"color: #ff0000; text-decoration-color: #ff0000; font-style: italic\">False</span>             │\n",
       "│   text          <span style=\"font-weight: bold\">(</span><span style=\"color: #008000; text-decoration-color: #008000\">'str'</span>,<span style=\"font-weight: bold\">)</span>    <span style=\"color: #008080; text-decoration-color: #008080; font-weight: bold\">5</span>                <span style=\"color: #ff0000; text-decoration-color: #ff0000; font-style: italic\">False</span>             │\n",
       "│                                                                │\n",
       "╰────────────────────────────────────────────────────────────────╯\n",
       "</pre>\n"
      ],
      "text/plain": [
       "╭──────────────────────────────── Documents Summary ─────────────────────────────────╮\n",
       "│                                                                                    │\n",
       "│   Length                 \u001b[1;36m5\u001b[0m                                                         │\n",
       "│   Homogenous Documents   \u001b[3;92mTrue\u001b[0m                                                      │\n",
       "│   Common Attributes      \u001b[1m(\u001b[0m\u001b[32m'id'\u001b[0m, \u001b[32m'parent_id'\u001b[0m, \u001b[32m'granularity'\u001b[0m, \u001b[32m'mime_type'\u001b[0m, \u001b[32m'text'\u001b[0m\u001b[1m)\u001b[0m   │\n",
       "│   Multimodal dataclass   \u001b[3;91mFalse\u001b[0m                                                     │\n",
       "│                                                                                    │\n",
       "╰────────────────────────────────────────────────────────────────────────────────────╯\n",
       "╭────────────────────── Attributes Summary ──────────────────────╮\n",
       "│                                                                │\n",
       "│  \u001b[1m \u001b[0m\u001b[1mAttribute  \u001b[0m\u001b[1m \u001b[0m \u001b[1m \u001b[0m\u001b[1mData type\u001b[0m\u001b[1m \u001b[0m \u001b[1m \u001b[0m\u001b[1m#Unique values\u001b[0m\u001b[1m \u001b[0m \u001b[1m \u001b[0m\u001b[1mHas empty value\u001b[0m\u001b[1m \u001b[0m  │\n",
       "│  ────────────────────────────────────────────────────────────  │\n",
       "│   granularity   \u001b[1m(\u001b[0m\u001b[32m'int'\u001b[0m,\u001b[1m)\u001b[0m    \u001b[1;36m1\u001b[0m                \u001b[3;91mFalse\u001b[0m             │\n",
       "│   id            \u001b[1m(\u001b[0m\u001b[32m'str'\u001b[0m,\u001b[1m)\u001b[0m    \u001b[1;36m5\u001b[0m                \u001b[3;91mFalse\u001b[0m             │\n",
       "│   mime_type     \u001b[1m(\u001b[0m\u001b[32m'str'\u001b[0m,\u001b[1m)\u001b[0m    \u001b[1;36m1\u001b[0m                \u001b[3;91mFalse\u001b[0m             │\n",
       "│   parent_id     \u001b[1m(\u001b[0m\u001b[32m'str'\u001b[0m,\u001b[1m)\u001b[0m    \u001b[1;36m2\u001b[0m                \u001b[3;91mFalse\u001b[0m             │\n",
       "│   text          \u001b[1m(\u001b[0m\u001b[32m'str'\u001b[0m,\u001b[1m)\u001b[0m    \u001b[1;36m5\u001b[0m                \u001b[3;91mFalse\u001b[0m             │\n",
       "│                                                                │\n",
       "╰────────────────────────────────────────────────────────────────╯\n"
      ]
     },
     "metadata": {},
     "output_type": "display_data"
    }
   ],
   "source": [
    "docs[\"@c\"]"
   ]
  },
  {
   "cell_type": "markdown",
   "metadata": {
    "id": "DpWo245EwxGs"
   },
   "source": [
    "The text in each chunk is pretty long:"
   ]
  },
  {
   "cell_type": "code",
   "execution_count": 16,
   "metadata": {
    "colab": {
     "base_uri": "https://localhost:8080/"
    },
    "id": "rO0QnzJqJlkZ",
    "outputId": "03cad9f6-1749-4bdc-88b9-421b9ff7b6c5"
   },
   "outputs": [
    {
     "data": {
      "text/plain": [
       "[\"The tiger (Panthera tigris) is the largest living cat species and a member of the genus Panthera. It is \\nmost recognisable for its dark vertical stripes on orange fur with a white underside. An apex predator, it\\nprimarily preys on ungulates such as deer and wild boar. It is territorial and generally a solitary but \\nsocial predator, requiring large contiguous areas of habitat, which support its requirements for prey and \\nrearing of its offspring. Tiger cubs stay with their mother for about two years, then become independent\\nand leave their mother's home range to establish their own. \\nThe tiger was first scientifically described in 1758 and once ranged widely from the Eastern Anatolia \\nRegion in the west to the Amur River basin in the east, and in the south from the foothills of the \\nHimalayas to Bali in the Sunda Islands. Since the early 20th century, tiger populations have lost at least\\n93% of their historic range and have been extirpated from Western and Central Asia, the islands of Java\\nand Bali, and in large areas of Southeast and South Asia and China. Today, the tiger's range is \\nfragmented, stretching from Siberian temperate forests to subtropical and tropical forests on the Indian \\nsubcontinent, Indochina and Sumatra. \\nThe tiger is listed as Endangered on the IUCN Red List. As of 2015, the global wild tiger population \\nwas estimated to number between 3,062 and 3,948 mature individuals, with most of the populations \\nliving in small isolated pockets. India currently hosts the largest tiger population. Major reasons for \\npopulation decline are habitat destruction, habitat fragmentation and poaching. Tigers are also victims \\nof human–wildlife conflict, particularly in range countries with a high human population density. \\nThe tiger is among the most recognisable and popular of the world's charismatic megafauna. It featured\\nprominently in the ancient mythology and folklore of cultures throughout its historic range, and \\ncontinues to be depicted in modern films and literature, appearing on many flags, coats of arms and as \\nmascots for sporting teams. The tiger is the national animal of India, Bangladesh, Malaysia and South \\nKorea. \\nEtymology\\nThe Middle English tigre and Old English tigras derive from Old French tigre, from Latin tigris. This \\nwas a borrowing of Classical Greek τίγρις 'tigris', a foreign borrowing of unknown origin meaning \\n'tiger' and the river Tigris.[5] The origin may have been the Persian word tigra meaning 'pointed or \\nsharp', and the Avestan word tigrhi 'arrow', perhaps referring to the speed of the tiger's leap, although \\nthese words are not known to have any meanings associated with tigers.[6] \\nThe generic name Panthera is derived from the Latin word panthera, and the Ancient Greek word \\nπάνθηρ 'panther'.[7] \\nTaxonomy\\nIn 1758, Carl Linnaeus described the tiger in his work Systema Naturae and gave it the scientific name \\nFelis tigris.[2] In 1929, the British taxonomist Reginald Innes Pocock subordinated the species under \\nthe genus Panthera using the scientific name Panthera tigris. [8]  [9]  \",\n",
       " \"Subspecies\\n \\nPhylogenetic relationship of tiger populations based on Driscoll et al. (2009).[10]\\nFollowing Linnaeus's first descriptions of the species, several tiger specimens were described and \\nproposed as subspecies.[11] The validity of several tiger subspecies was questioned in 1999. Most \\nputative subspecies described in the 19th and 20th centuries were distinguished on basis of fur length \\nand colouration, striping patterns and body size, hence characteristics that vary widely within \\npopulations. Morphologically, tigers from different regions vary little, and gene flow between \\npopulations in those regions is considered to have been possible during the Pleistocene. Therefore, it \\nwas proposed to recognize only two tiger subspecies as valid, namely P. t. tigris in mainland Asia, and \\nP. t. sondaica in the Greater Sunda Islands.[12] \\nResults of craniological analysis of 111 tiger skulls from Southeast Asian range countries indicate that \\nSumatran tiger skulls differ from Indochinese and Javan tiger skulls, whereas Bali tiger skulls are \\nsimilar in size to Javan tiger skulls. The authors proposed to classify the Sumatran and Javan tigers as \\ndistinct species, P. sumatrae and P. sondaica, with the Bali tiger as subspecies P. sondaica balica.[13] \\nIn 2015, morphological, ecological, and molecular traits of all putative tiger subspecies were analysed \\nin a combined approach. Results support distinction of the two evolutionary groups continental and \\nSunda tigers. The authors proposed recognition of only two subspecies, namely P. t. tigris comprising \\nthe Bengal, Malayan, Indochinese, South Chinese, Siberian and Caspian tiger populations, and P. t. \\nsondaica comprising the Javan, Bali and Sumatran tiger populations. The authors also noted that this \\nreclassification will affect tiger conservation management. The nominate subspecies P. t. tigris \\nconstitutes two clades:[14] \\n• a northern clade composed of the Siberian and Caspian tiger populations \\n• a southern clade composed of all other mainland populations.\\nOne conservation specialist welcomed this proposal as it would make captive breeding programmes \\nand future rewilding of zoo-born tigers easier. One geneticist was sceptical of this study and maintained\\nthat the currently recognised nine subspecies can be distinguished genetically.[15] \\nIn 2017, the Cat Classification Task Force of the IUCN Cat Specialist Group revised felid taxonomy \\nand recognized the tiger populations in continental Asia as P. t. tigris, and those in the Sunda Islands as \\nP. t. sondaica.[16] This two-subspecies view has been largely rejected by researchers. Results of a 2018\\nwhole-genome sequencing of 32 specimens support six monophyletic tiger clades corresponding with \\nthe living subspecies and indicate that the most recent common ancestor lived about 110,000 years ago.\\n[17] The following tables are based on the classification of the species Panthera tigris provided in \\nMammal Species of the World.[11] It also reflects the classification used by the Cat Classification Task \\nForce in 2017: \\nEvolution\\n \",\n",
       " 'Restoration of a Panthera zdanskyi skull, an extinct tiger relative whose fossil remains were found in \\nnorthwest China\\nThe tiger\\'s closest living relatives were previously thought to be the Panthera species lion, leopard and \\njaguar. Results of genetic analysis indicate that about 2.88\\xa0million years ago, the tiger and the snow \\nleopard lineages diverged from the other Panthera species, and that both may be more closely related \\nto each other than to the lion, leopard and jaguar. [32]  [33]  The geographic origin of the Panthera is \\nmost likely northern Central Asia. The tiger–snow leopard lineage dispersed in Southeast Asia during \\nthe Miocene.[34] \\nPanthera zdanskyi is considered to be a sister taxon of the modern tiger. It lived at the beginning of the \\nPleistocene about two million years ago, its fossil remains were excavated in Gansu of northwestern \\nChina. It was smaller and more \"primitive\", but functionally and ecologically similar to the modern \\ntiger. It is disputed as to whether it had the striping pattern. Northwestern China is thought to be the \\norigin of the tiger lineage. Tigers grew in size, possibly in response to adaptive radiations of prey \\nspecies like deer and bovids, which may have occurred in Southeast Asia during the Early Pleistocene.\\n[35] \\nPanthera tigris trinilensis lived about 1.2\\xa0million years ago and is known from fossils excavated near \\nTrinil in Java.[36] The Wanhsien, Ngandong, Trinil, and Japanese tigers became extinct in prehistoric \\ntimes.[37] Tigers reached India and northern Asia in the late Pleistocene, reaching eastern Beringia, \\nJapan, and Sakhalin. Some fossil skulls are morphologically distinct from lion skulls, which could \\nindicate tiger presence in Alaska during the last glacial period, about 100,000 years ago.[38] \\nIn the Ille Cave on the island of Palawan, two articulated phalanx bones were found amidst an \\nassemblage of other animal bones and stone tools. They were smaller than mainland tiger fossils, \\npossibly due to insular dwarfism.[39] It has been speculated that the tiger parts were either imported \\nfrom elsewhere, or that the tiger colonised Palawan from Borneo before the Holocene. [40]  [41]  Fossil \\nremains of tigers were also excavated in Sri Lanka, China, Japan and Sarawak dating to the Late \\nPliocene, Pleistocene and Early Holocene. [38]  [42]  The Bornean tiger was apparently present in Borneo\\nbetween the Late Pleistocene and the Holocene, but whether it went extinct in prehistoric or recent \\ntimes has not been resolved. [42]  [43]  \\nResults of a phylogeographic study indicate that all living tigers had a common ancestor 108,000 to \\n72,000 years ago.[25] The potential tiger range during the late Pleistocene and Holocene was predicted \\napplying ecological niche modelling based on more than 500 tiger locality records combined with \\nbioclimatic data. The resulting model shows a contiguous tiger range at the Last Glacial Maximum, \\nindicating gene flow between tiger populations in mainland Asia. The Caspian tiger population was \\nlikely connected to the Bengal tiger population through corridors below elevations of 4,000\\xa0m \\n(13,000\\xa0ft) in the Hindu Kush. The tiger populations on the Sunda Islands and mainland Asia were \\npossibly separated during interglacial periods.[44] \\nThe tiger\\'s full genome sequence was published in 2013. It was found to have similar repeat \\ncomposition to other cat genomes and an appreciably conserved synteny.[45] ',\n",
       " 'Rabbits, also known as bunnies or bunny rabbits, are small mammals in the family Leporidae (which\\nalso contains the hares) of the order Lagomorpha (which also contains the pikas). Oryctolagus \\ncuniculus includes the European rabbit species and its descendants, the world\\'s  305 breeds  [1]  of \\ndomestic rabbit. Sylvilagus includes 13 wild rabbit species, among them the seven types of cottontail. \\nThe European rabbit, which has been introduced on every continent except Antarctica, is familiar \\nthroughout the world as a wild prey animal and as a domesticated form of livestock and pet. With its \\nwidespread effect on ecologies and cultures, the rabbit is, in many areas of the world, a part of daily life\\n—as food, clothing, a companion, and a source of artistic inspiration. \\nAlthough once considered rodents, lagomorphs like rabbits have been discovered to have diverged \\nseparately and earlier than their rodent cousins and have a number of traits rodents lack, like two extra \\nincisors. \\nDifferences from hares\\nThe term \"rabbit\" is typically used for all Leporidae species excluding the genus Lepus. Members of \\nthat genus are instead known as hares or jackrabbits. \\nLepus species are typically precocial, born relatively mature and mobile with hair and good vision, \\nwhile other rabbit species are altricial, born hairless and blind, and requiring closer care. Hares live a \\nrelatively solitary life in a simple nest above the ground, while most other rabbits live in social groups \\nin burrows or warrens. Hares are generally larger than other rabbits, with ears that are more elongated, \\nand with hind legs that are larger and longer. Descendants of the European rabbit are commonly bred as\\nlivestock and kept as pets, whereas no hares have been domesticated - the breed called the Belgian hare\\nis a domestic rabbit which has been selectively bred to resemble a hare. \\nDomestication\\nRabbits have long been domesticated. Beginning in the Middle Ages, the European rabbit has been \\nwidely kept as livestock, starting in ancient Rome. Selective breeding has generated a wide variety of \\nrabbit breeds, of which many (since the early 19th century) are also kept as pets. Some strains of rabbit \\nhave been bred specifically as research subjects. \\nAs livestock, rabbits are bred for their meat and fur. The earliest breeds were important sources of \\nmeat, and so became larger than wild rabbits, but domestic rabbits in modern times range in size from \\ndwarf to giant. Rabbit fur, prized for its softness, can be found in a broad range of coat colors and \\npatterns, as well as lengths. The Angora rabbit breed, for example, was developed for its long, silky fur,\\nwhich is often hand-spun into yarn. Other domestic rabbit breeds have been developed primarily for the\\ncommercial fur trade, including the Rex, which has a short plush coat. ',\n",
       " \"Evolution\\nBecause the rabbit's epiglottis is engaged over the soft palate except when swallowing, the rabbit is an \\nobligate nasal breather. Rabbits have two sets of incisor teeth, one behind the other. This way they can \\nbe distinguished from rodents, with which they are often confused.[7] Carl Linnaeus originally grouped\\nrabbits and rodents under the class Glires; later, they were separated as the scientific consensus is that \\nmany of their similarities were a result of convergent evolution. Recent DNA analysis and the \\ndiscovery of a common ancestor has supported the view that they share a common lineage, so rabbits \\nand rodents are now often grouped together in the superorder Glires.[8] \\nMorphology\\nSince speed and agility are a rabbit's main defenses against predators (including the swift fox), rabbits \\nhave large hind leg bones and well developed musculature. Though plantigrade at rest, rabbits are on \\ntheir toes while running, assuming a more digitigrade posture. Rabbits use their strong claws for \\ndigging and (along with their teeth) for defense.[9] Each front foot has four toes plus a dewclaw. Each \\nhind foot has four toes (but no dewclaw).[10]\\nMost wild rabbits (especially compared to hares) have relatively full, egg-shaped bodies. The soft coat \\nof the wild rabbit is agouti in coloration (or, rarely, melanistic), which aids in camouflage. The tail of \\nthe rabbit (with the exception of the cottontail species) is dark on top and white below. Cottontails have\\nwhite on the top of their tails.[11] \\nAs a result of the position of the eyes in its skull, the rabbit has a field of vision that encompasses \\nnearly 360 degrees, with just a small blind spot at the bridge of the nose.[12] \\nHind limb elements\\nThe anatomy of rabbits' hind limbs are structurally similar to that of other land mammals and \\ncontribute to their specialized form of locomotion. The bones of the hind limbs consist of long bones \\n(the femur, tibia, fibula, and phalanges) as well as short bones (the tarsals). These bones are created \\nthrough endochondral ossification during development. Like most land mammals, the round head of \\nthe femur articulates with the acetabulum of the os coxae. The femur articulates with the tibia, but not \\nthe fibula, which is fused to the tibia. The tibia and fibula articulate with the tarsals of the pes, \\ncommonly called the foot. The hind limbs of the rabbit are longer than the front limbs. This allows \\nthem to produce their hopping form of locomotion. Longer hind limbs are more capable of producing \\nfaster speeds. Hares, which have longer legs than cottontail rabbits, are able to move considerably \\nfaster.[13] Rabbits stay just on their toes when moving; this is called Digitigrade locomotion. The hind \\nfeet have four long toes that allow for this and are webbed to prevent them from spreading when \\nhopping.[14] Rabbits do not have paw pads on their feet like most other animals that use digitigrade \\nlocomotion. Instead, they have coarse compressed hair that offers protection.[15]\"]"
      ]
     },
     "execution_count": 16,
     "metadata": {},
     "output_type": "execute_result"
    }
   ],
   "source": [
    "docs[\"@c\"].texts"
   ]
  },
  {
   "cell_type": "markdown",
   "metadata": {
    "id": "M3wrZPDWEHif"
   },
   "source": [
    "### Sentencize the chunks\n",
    "\n",
    "Those chunks of text are still pretty unwieldy. To get decent results we'll need to chop them up some more by cutting them into sentences, and store each sentence as a subchunk of the original chunk.\n",
    "\n",
    "We'll use [SpacySentencizer](https://hub.jina.ai/executor/197kj4fv) to do that. You'll see that we're traversing through chunks of Documents rather than the top-level Documents themselves. That's because PDFSegmenter stored the text it extracted as chunks. We do this with `{\"traversal_paths\": \"@c\"}`."
   ]
  },
  {
   "cell_type": "code",
   "execution_count": 17,
   "metadata": {
    "id": "t6FEq3bJEO11"
   },
   "outputs": [],
   "source": [
    "flow = flow.add(\n",
    "    uses=\"jinahub://SpacySentencizer\",\n",
    "    uses_with={\"traversal_paths\": \"@c\"},\n",
    "    install_requirements=True,\n",
    "    name=\"sentencizer\"\n",
    "    )"
   ]
  },
  {
   "cell_type": "code",
   "execution_count": 18,
   "metadata": {
    "colab": {
     "base_uri": "https://localhost:8080/",
     "height": 159
    },
    "id": "0zIuDlHlE-Ad",
    "outputId": "1e457f6a-5b8f-4732-952f-e100def40b4b"
   },
   "outputs": [
    {
     "data": {
      "text/html": [
       "<pre style=\"white-space:pre;overflow-x:auto;line-height:normal;font-family:Menlo,'DejaVu Sans Mono',consolas,'Courier New',monospace\"><a href=\"https://mermaid.ink/svg/ICAgICAgICAgICAgJSV7aW5pdDp7ICAidGhlbWUiOiAiYmFzZSIsICAidGhlbWVWYXJpYWJsZXMiOiB7ICAgICAgInByaW1hcnlDb2xvciI6ICIjZmZmIiwgICAgICAicHJpbWFyeUJvcmRlckNvbG9yIjogIiNmZmYiLCAgICAgICJtYWluQmtnIjogIiMzMkM4Q0QiLCAgICAgICJjbHVzdGVyQmtnIjogIiNFRUVERTc4QyIsICAgICAgInNlY29uZGFyeUJvcmRlckNvbG9yIjogIm5vbmUiLCAgICAgICJ0ZXJ0aWFyeUJvcmRlckNvbG9yIjogIm5vbmUiLCAgICAgICJsaW5lQ29sb3IiOiAiI2E2ZDhkYSIgICAgICB9fX0lJSAgICAgICAgICAgIApmbG93Y2hhcnQgTFI7CnN1YmdyYXBoIHNlZ21lbnRlcjsKCmRpcmVjdGlvbiBMUjsKCnNlZ21lbnRlci9yZXAtMFsiIi9yb290Ly5qaW5hL2h1Yi1wYWNrYWdlL3g5dzdsY3dnL2NvbmZpZy55bWwiIl06Ojpwb2Q7CmVuZDsKc3ViZ3JhcGggc2VudGVuY2l6ZXI7CgpkaXJlY3Rpb24gTFI7CgpzZW50ZW5jaXplci9yZXAtMFsiImppbmFodWI6Ly9TcGFjeVNlbnRlbmNpemVyIiJdOjo6cG9kOwplbmQ7CmdhdGV3YXlzdGFydFtnYXRld2F5XTo6OkdBVEVXQVkgLS0+IHNlZ21lbnRlcjo6OkRFUExPWU1FTlQ7CnNlZ21lbnRlcjo6OkRFUExPWU1FTlQgLS0+IHNlbnRlbmNpemVyOjo6REVQTE9ZTUVOVDsKc2VudGVuY2l6ZXI6OjpERVBMT1lNRU5UIC0tPiBnYXRld2F5ZW5kW2dhdGV3YXldOjo6R0FURVdBWTsKY2xhc3NEZWYgSU5TUEVDVCBzdHJva2U6I0YyOUM5RgpjbGFzc0RlZiBKT0lOX0lOU1BFQ1Qgc3Ryb2tlOiNGMjlDOUYKY2xhc3NEZWYgR0FURVdBWSBmaWxsOm5vbmUsY29sb3I6IzAwMCxzdHJva2U6bm9uZQpjbGFzc0RlZiBJTlNQRUNUX0FVWF9QQVNTIHN0cm9rZS1kYXNoYXJyYXk6IDIgMgpjbGFzc0RlZiBIRUFEVEFJTCBmaWxsOiMzMkM4Q0QxRAoKY2xhc3NEZWYgRVhURVJOQUwgZmlsbDojZmZmLHN0cm9rZTojMzJDOENE\" target=\"_blank\">Click here to see the visualization in browser</a>\n",
       "</pre>\n"
      ],
      "text/plain": [
       "\u001b]8;id=396837;https://mermaid.ink/svg/ICAgICAgICAgICAgJSV7aW5pdDp7ICAidGhlbWUiOiAiYmFzZSIsICAidGhlbWVWYXJpYWJsZXMiOiB7ICAgICAgInByaW1hcnlDb2xvciI6ICIjZmZmIiwgICAgICAicHJpbWFyeUJvcmRlckNvbG9yIjogIiNmZmYiLCAgICAgICJtYWluQmtnIjogIiMzMkM4Q0QiLCAgICAgICJjbHVzdGVyQmtnIjogIiNFRUVERTc4QyIsICAgICAgInNlY29uZGFyeUJvcmRlckNvbG9yIjogIm5vbmUiLCAgICAgICJ0ZXJ0aWFyeUJvcmRlckNvbG9yIjogIm5vbmUiLCAgICAgICJsaW5lQ29sb3IiOiAiI2E2ZDhkYSIgICAgICB9fX0lJSAgICAgICAgICAgIApmbG93Y2hhcnQgTFI7CnN1YmdyYXBoIHNlZ21lbnRlcjsKCmRpcmVjdGlvbiBMUjsKCnNlZ21lbnRlci9yZXAtMFsiIi9yb290Ly5qaW5hL2h1Yi1wYWNrYWdlL3g5dzdsY3dnL2NvbmZpZy55bWwiIl06Ojpwb2Q7CmVuZDsKc3ViZ3JhcGggc2VudGVuY2l6ZXI7CgpkaXJlY3Rpb24gTFI7CgpzZW50ZW5jaXplci9yZXAtMFsiImppbmFodWI6Ly9TcGFjeVNlbnRlbmNpemVyIiJdOjo6cG9kOwplbmQ7CmdhdGV3YXlzdGFydFtnYXRld2F5XTo6OkdBVEVXQVkgLS0+IHNlZ21lbnRlcjo6OkRFUExPWU1FTlQ7CnNlZ21lbnRlcjo6OkRFUExPWU1FTlQgLS0+IHNlbnRlbmNpemVyOjo6REVQTE9ZTUVOVDsKc2VudGVuY2l6ZXI6OjpERVBMT1lNRU5UIC0tPiBnYXRld2F5ZW5kW2dhdGV3YXldOjo6R0FURVdBWTsKY2xhc3NEZWYgSU5TUEVDVCBzdHJva2U6I0YyOUM5RgpjbGFzc0RlZiBKT0lOX0lOU1BFQ1Qgc3Ryb2tlOiNGMjlDOUYKY2xhc3NEZWYgR0FURVdBWSBmaWxsOm5vbmUsY29sb3I6IzAwMCxzdHJva2U6bm9uZQpjbGFzc0RlZiBJTlNQRUNUX0FVWF9QQVNTIHN0cm9rZS1kYXNoYXJyYXk6IDIgMgpjbGFzc0RlZiBIRUFEVEFJTCBmaWxsOiMzMkM4Q0QxRAoKY2xhc3NEZWYgRVhURVJOQUwgZmlsbDojZmZmLHN0cm9rZTojMzJDOENE\u001b\\Click here to see the visualization in browser\u001b]8;;\u001b\\\n"
      ]
     },
     "metadata": {},
     "output_type": "display_data"
    },
    {
     "data": {
      "text/html": [
       "<img src=\"https://mermaid.ink/svg/ICAgICAgICAgICAgJSV7aW5pdDp7ICAidGhlbWUiOiAiYmFzZSIsICAidGhlbWVWYXJpYWJsZXMiOiB7ICAgICAgInByaW1hcnlDb2xvciI6ICIjZmZmIiwgICAgICAicHJpbWFyeUJvcmRlckNvbG9yIjogIiNmZmYiLCAgICAgICJtYWluQmtnIjogIiMzMkM4Q0QiLCAgICAgICJjbHVzdGVyQmtnIjogIiNFRUVERTc4QyIsICAgICAgInNlY29uZGFyeUJvcmRlckNvbG9yIjogIm5vbmUiLCAgICAgICJ0ZXJ0aWFyeUJvcmRlckNvbG9yIjogIm5vbmUiLCAgICAgICJsaW5lQ29sb3IiOiAiI2E2ZDhkYSIgICAgICB9fX0lJSAgICAgICAgICAgIApmbG93Y2hhcnQgTFI7CnN1YmdyYXBoIHNlZ21lbnRlcjsKCmRpcmVjdGlvbiBMUjsKCnNlZ21lbnRlci9yZXAtMFsiIi9yb290Ly5qaW5hL2h1Yi1wYWNrYWdlL3g5dzdsY3dnL2NvbmZpZy55bWwiIl06Ojpwb2Q7CmVuZDsKc3ViZ3JhcGggc2VudGVuY2l6ZXI7CgpkaXJlY3Rpb24gTFI7CgpzZW50ZW5jaXplci9yZXAtMFsiImppbmFodWI6Ly9TcGFjeVNlbnRlbmNpemVyIiJdOjo6cG9kOwplbmQ7CmdhdGV3YXlzdGFydFtnYXRld2F5XTo6OkdBVEVXQVkgLS0+IHNlZ21lbnRlcjo6OkRFUExPWU1FTlQ7CnNlZ21lbnRlcjo6OkRFUExPWU1FTlQgLS0+IHNlbnRlbmNpemVyOjo6REVQTE9ZTUVOVDsKc2VudGVuY2l6ZXI6OjpERVBMT1lNRU5UIC0tPiBnYXRld2F5ZW5kW2dhdGV3YXldOjo6R0FURVdBWTsKY2xhc3NEZWYgSU5TUEVDVCBzdHJva2U6I0YyOUM5RgpjbGFzc0RlZiBKT0lOX0lOU1BFQ1Qgc3Ryb2tlOiNGMjlDOUYKY2xhc3NEZWYgR0FURVdBWSBmaWxsOm5vbmUsY29sb3I6IzAwMCxzdHJva2U6bm9uZQpjbGFzc0RlZiBJTlNQRUNUX0FVWF9QQVNTIHN0cm9rZS1kYXNoYXJyYXk6IDIgMgpjbGFzc0RlZiBIRUFEVEFJTCBmaWxsOiMzMkM4Q0QxRAoKY2xhc3NEZWYgRVhURVJOQUwgZmlsbDojZmZmLHN0cm9rZTojMzJDOENE\"/>"
      ],
      "text/plain": [
       "<IPython.core.display.Image object>"
      ]
     },
     "metadata": {},
     "output_type": "display_data"
    }
   ],
   "source": [
    "flow.plot()"
   ]
  },
  {
   "cell_type": "markdown",
   "metadata": {
    "id": "sZU-zuO1gnBL"
   },
   "source": [
    "---\n",
    "\n",
    "**⚙️ Tinker time**\n",
    "\n",
    "Why not use the vanilla [Sentencizer](https://hub.jina.ai/executor/c6focg47)? Because it cuts sentences based on punctuation (like `.`) rather than natural language processing.\n",
    "\n",
    "That means a sentence like \"J.R.R. Tolkien turned to p. 3 of the book\" would be considered as five sentences by vanilla Sentencizer but only one by SpacySentencizer!\n",
    "\n",
    "---"
   ]
  },
  {
   "cell_type": "markdown",
   "metadata": {
    "id": "wSu4SMPsquHB"
   },
   "source": [
    "Once again, let's index and examine what we've got:"
   ]
  },
  {
   "cell_type": "code",
   "execution_count": 19,
   "metadata": {
    "colab": {
     "base_uri": "https://localhost:8080/",
     "height": 146,
     "referenced_widgets": [
      "7bdf4530decc4b3aa843a58399bfce16",
      "683f0c404fbf4f35b0471af67d4e696a",
      "8d2897c0d114460fa951992b0c9920a4",
      "139eaf87901b4abc96f1dd20532852e1"
     ]
    },
    "id": "ix8DPem_FDBm",
    "outputId": "7c8b3a7f-1043-4f4e-9bf9-20063be72ca1"
   },
   "outputs": [
    {
     "data": {
      "application/vnd.jupyter.widget-view+json": {
       "model_id": "7bdf4530decc4b3aa843a58399bfce16",
       "version_major": 2,
       "version_minor": 0
      },
      "text/plain": [
       "Output()"
      ]
     },
     "metadata": {},
     "output_type": "display_data"
    },
    {
     "data": {
      "text/html": [
       "<pre style=\"white-space:pre;overflow-x:auto;line-height:normal;font-family:Menlo,'DejaVu Sans Mono',consolas,'Courier New',monospace\"></pre>\n"
      ],
      "text/plain": []
     },
     "metadata": {},
     "output_type": "display_data"
    },
    {
     "data": {
      "text/html": [
       "<pre style=\"white-space:pre;overflow-x:auto;line-height:normal;font-family:Menlo,'DejaVu Sans Mono',consolas,'Courier New',monospace\"></pre>\n"
      ],
      "text/plain": []
     },
     "metadata": {},
     "output_type": "display_data"
    },
    {
     "data": {
      "application/vnd.jupyter.widget-view+json": {
       "model_id": "8d2897c0d114460fa951992b0c9920a4",
       "version_major": 2,
       "version_minor": 0
      },
      "text/plain": [
       "Output()"
      ]
     },
     "metadata": {},
     "output_type": "display_data"
    },
    {
     "data": {
      "text/html": [
       "<pre style=\"white-space:pre;overflow-x:auto;line-height:normal;font-family:Menlo,'DejaVu Sans Mono',consolas,'Courier New',monospace\"><span style=\"color: #00ff00; text-decoration-color: #00ff00\">─────────────────────────────────────────── </span>🎉 Flow is ready to serve!<span style=\"color: #00ff00; text-decoration-color: #00ff00\"> ────────────────────────────────────────────</span>\n",
       "╭────────────── 🔗 <span style=\"font-weight: bold\">Endpoint</span> ───────────────╮\n",
       "│  ⛓      Protocol                   GRPC  │\n",
       "│  🏠        Local          <a href=\"grpc://0.0.0.0:59024\" target=\"_blank\"><span style=\"color: #00ff00; text-decoration-color: #00ff00; font-weight: bold\">0.0.0.0</span></a><a href=\"grpc://0.0.0.0:59024\" target=\"_blank\">:</a><a href=\"grpc://0.0.0.0:59024\" target=\"_blank\"><span style=\"color: #008080; text-decoration-color: #008080; font-weight: bold\">59024</span></a>  │\n",
       "│  🔒      Private       <a href=\"grpc://172.28.0.2:59024\" target=\"_blank\"><span style=\"color: #00ff00; text-decoration-color: #00ff00; font-weight: bold\">172.28.0.2</span></a><a href=\"grpc://172.28.0.2:59024\" target=\"_blank\">:</a><a href=\"grpc://172.28.0.2:59024\" target=\"_blank\"><span style=\"color: #008080; text-decoration-color: #008080; font-weight: bold\">59024</span></a>  │\n",
       "│  🌍       Public    <a href=\"grpc://34.86.144.143:59024\" target=\"_blank\"><span style=\"color: #00ff00; text-decoration-color: #00ff00; font-weight: bold\">34.86.144.143</span></a><a href=\"grpc://34.86.144.143:59024\" target=\"_blank\">:</a><a href=\"grpc://34.86.144.143:59024\" target=\"_blank\"><span style=\"color: #008080; text-decoration-color: #008080; font-weight: bold\">59024</span></a>  │\n",
       "╰──────────────────────────────────────────╯\n",
       "</pre>\n"
      ],
      "text/plain": [
       "\u001b[92m─────────────────────────────────────────── \u001b[0m🎉 Flow is ready to serve!\u001b[92m ────────────────────────────────────────────\u001b[0m\n",
       "╭────────────── 🔗 \u001b[1mEndpoint\u001b[0m ───────────────╮\n",
       "│  ⛓      Protocol                   GRPC  │\n",
       "│  🏠        Local          \u001b]8;id=488180;grpc://0.0.0.0:59024\u001b\\\u001b[1;92m0.0.0.0\u001b[0m\u001b]8;;\u001b\\\u001b]8;id=924671;grpc://0.0.0.0:59024\u001b\\:\u001b]8;;\u001b\\\u001b]8;id=108251;grpc://0.0.0.0:59024\u001b\\\u001b[1;36m59024\u001b[0m\u001b]8;;\u001b\\  │\n",
       "│  🔒      Private       \u001b]8;id=849160;grpc://172.28.0.2:59024\u001b\\\u001b[1;92m172.28.0.2\u001b[0m\u001b]8;;\u001b\\\u001b]8;id=57051;grpc://172.28.0.2:59024\u001b\\:\u001b]8;;\u001b\\\u001b]8;id=958351;grpc://172.28.0.2:59024\u001b\\\u001b[1;36m59024\u001b[0m\u001b]8;;\u001b\\  │\n",
       "│  🌍       Public    \u001b]8;id=424389;grpc://34.86.144.143:59024\u001b\\\u001b[1;92m34.86.144.143\u001b[0m\u001b]8;;\u001b\\\u001b]8;id=868069;grpc://34.86.144.143:59024\u001b\\:\u001b]8;;\u001b\\\u001b]8;id=653570;grpc://34.86.144.143:59024\u001b\\\u001b[1;36m59024\u001b[0m\u001b]8;;\u001b\\  │\n",
       "╰──────────────────────────────────────────╯\n"
      ]
     },
     "metadata": {},
     "output_type": "display_data"
    },
    {
     "data": {
      "text/html": [
       "<pre style=\"white-space:pre;overflow-x:auto;line-height:normal;font-family:Menlo,'DejaVu Sans Mono',consolas,'Courier New',monospace\"></pre>\n"
      ],
      "text/plain": []
     },
     "metadata": {},
     "output_type": "display_data"
    },
    {
     "data": {
      "text/html": [
       "<pre style=\"white-space:pre;overflow-x:auto;line-height:normal;font-family:Menlo,'DejaVu Sans Mono',consolas,'Courier New',monospace\">\n",
       "</pre>\n"
      ],
      "text/plain": [
       "\n"
      ]
     },
     "metadata": {},
     "output_type": "display_data"
    },
    {
     "data": {
      "text/html": [
       "<pre style=\"white-space:pre;overflow-x:auto;line-height:normal;font-family:Menlo,'DejaVu Sans Mono',consolas,'Courier New',monospace\">\n",
       "</pre>\n"
      ],
      "text/plain": [
       "\n"
      ]
     },
     "metadata": {},
     "output_type": "display_data"
    }
   ],
   "source": [
    "with flow:\n",
    "  docs = flow.index(docs)"
   ]
  },
  {
   "cell_type": "code",
   "execution_count": 20,
   "metadata": {
    "colab": {
     "base_uri": "https://localhost:8080/",
     "height": 358
    },
    "id": "7hIPi7cRFKS7",
    "outputId": "f998369c-ff76-4305-8f1b-3769977ce4e9"
   },
   "outputs": [
    {
     "data": {
      "text/html": [
       "<pre style=\"white-space:pre;overflow-x:auto;line-height:normal;font-family:Menlo,'DejaVu Sans Mono',consolas,'Courier New',monospace\">╭──────────────────────────── Documents Summary ─────────────────────────────╮\n",
       "│                                                                            │\n",
       "│   Length                    <span style=\"color: #008080; text-decoration-color: #008080; font-weight: bold\">2</span>                                              │\n",
       "│   Homogenous Documents      <span style=\"color: #00ff00; text-decoration-color: #00ff00; font-style: italic\">True</span>                                           │\n",
       "│   Has nested Documents in   <span style=\"font-weight: bold\">(</span><span style=\"color: #008000; text-decoration-color: #008000\">'chunks'</span>,<span style=\"font-weight: bold\">)</span>                                    │\n",
       "│   Common Attributes         <span style=\"font-weight: bold\">(</span><span style=\"color: #008000; text-decoration-color: #008000\">'id'</span>, <span style=\"color: #008000; text-decoration-color: #008000\">'blob'</span>, <span style=\"color: #008000; text-decoration-color: #008000\">'mime_type'</span>, <span style=\"color: #008000; text-decoration-color: #008000\">'uri'</span>, <span style=\"color: #008000; text-decoration-color: #008000\">'chunks'</span><span style=\"font-weight: bold\">)</span>   │\n",
       "│   Multimodal dataclass      <span style=\"color: #ff0000; text-decoration-color: #ff0000; font-style: italic\">False</span>                                          │\n",
       "│                                                                            │\n",
       "╰────────────────────────────────────────────────────────────────────────────╯\n",
       "╭──────────────────────── Attributes Summary ────────────────────────╮\n",
       "│                                                                    │\n",
       "│  <span style=\"font-weight: bold\"> Attribute </span> <span style=\"font-weight: bold\"> Data type       </span> <span style=\"font-weight: bold\"> #Unique values </span> <span style=\"font-weight: bold\"> Has empty value </span>  │\n",
       "│  ────────────────────────────────────────────────────────────────  │\n",
       "│   blob        <span style=\"font-weight: bold\">(</span><span style=\"color: #008000; text-decoration-color: #008000\">'bytes'</span>,<span style=\"font-weight: bold\">)</span>        <span style=\"color: #008080; text-decoration-color: #008080; font-weight: bold\">2</span>                <span style=\"color: #ff0000; text-decoration-color: #ff0000; font-style: italic\">False</span>             │\n",
       "│   chunks      <span style=\"font-weight: bold\">(</span><span style=\"color: #008000; text-decoration-color: #008000\">'ChunkArray'</span>,<span style=\"font-weight: bold\">)</span>   <span style=\"color: #008080; text-decoration-color: #008080; font-weight: bold\">2</span>                <span style=\"color: #ff0000; text-decoration-color: #ff0000; font-style: italic\">False</span>             │\n",
       "│   id          <span style=\"font-weight: bold\">(</span><span style=\"color: #008000; text-decoration-color: #008000\">'str'</span>,<span style=\"font-weight: bold\">)</span>          <span style=\"color: #008080; text-decoration-color: #008080; font-weight: bold\">2</span>                <span style=\"color: #ff0000; text-decoration-color: #ff0000; font-style: italic\">False</span>             │\n",
       "│   mime_type   <span style=\"font-weight: bold\">(</span><span style=\"color: #008000; text-decoration-color: #008000\">'str'</span>,<span style=\"font-weight: bold\">)</span>          <span style=\"color: #008080; text-decoration-color: #008080; font-weight: bold\">1</span>                <span style=\"color: #ff0000; text-decoration-color: #ff0000; font-style: italic\">False</span>             │\n",
       "│   uri         <span style=\"font-weight: bold\">(</span><span style=\"color: #008000; text-decoration-color: #008000\">'str'</span>,<span style=\"font-weight: bold\">)</span>          <span style=\"color: #008080; text-decoration-color: #008080; font-weight: bold\">2</span>                <span style=\"color: #ff0000; text-decoration-color: #ff0000; font-style: italic\">False</span>             │\n",
       "│                                                                    │\n",
       "╰────────────────────────────────────────────────────────────────────╯\n",
       "</pre>\n"
      ],
      "text/plain": [
       "╭──────────────────────────── Documents Summary ─────────────────────────────╮\n",
       "│                                                                            │\n",
       "│   Length                    \u001b[1;36m2\u001b[0m                                              │\n",
       "│   Homogenous Documents      \u001b[3;92mTrue\u001b[0m                                           │\n",
       "│   Has nested Documents in   \u001b[1m(\u001b[0m\u001b[32m'chunks'\u001b[0m,\u001b[1m)\u001b[0m                                    │\n",
       "│   Common Attributes         \u001b[1m(\u001b[0m\u001b[32m'id'\u001b[0m, \u001b[32m'blob'\u001b[0m, \u001b[32m'mime_type'\u001b[0m, \u001b[32m'uri'\u001b[0m, \u001b[32m'chunks'\u001b[0m\u001b[1m)\u001b[0m   │\n",
       "│   Multimodal dataclass      \u001b[3;91mFalse\u001b[0m                                          │\n",
       "│                                                                            │\n",
       "╰────────────────────────────────────────────────────────────────────────────╯\n",
       "╭──────────────────────── Attributes Summary ────────────────────────╮\n",
       "│                                                                    │\n",
       "│  \u001b[1m \u001b[0m\u001b[1mAttribute\u001b[0m\u001b[1m \u001b[0m \u001b[1m \u001b[0m\u001b[1mData type      \u001b[0m\u001b[1m \u001b[0m \u001b[1m \u001b[0m\u001b[1m#Unique values\u001b[0m\u001b[1m \u001b[0m \u001b[1m \u001b[0m\u001b[1mHas empty value\u001b[0m\u001b[1m \u001b[0m  │\n",
       "│  ────────────────────────────────────────────────────────────────  │\n",
       "│   blob        \u001b[1m(\u001b[0m\u001b[32m'bytes'\u001b[0m,\u001b[1m)\u001b[0m        \u001b[1;36m2\u001b[0m                \u001b[3;91mFalse\u001b[0m             │\n",
       "│   chunks      \u001b[1m(\u001b[0m\u001b[32m'ChunkArray'\u001b[0m,\u001b[1m)\u001b[0m   \u001b[1;36m2\u001b[0m                \u001b[3;91mFalse\u001b[0m             │\n",
       "│   id          \u001b[1m(\u001b[0m\u001b[32m'str'\u001b[0m,\u001b[1m)\u001b[0m          \u001b[1;36m2\u001b[0m                \u001b[3;91mFalse\u001b[0m             │\n",
       "│   mime_type   \u001b[1m(\u001b[0m\u001b[32m'str'\u001b[0m,\u001b[1m)\u001b[0m          \u001b[1;36m1\u001b[0m                \u001b[3;91mFalse\u001b[0m             │\n",
       "│   uri         \u001b[1m(\u001b[0m\u001b[32m'str'\u001b[0m,\u001b[1m)\u001b[0m          \u001b[1;36m2\u001b[0m                \u001b[3;91mFalse\u001b[0m             │\n",
       "│                                                                    │\n",
       "╰────────────────────────────────────────────────────────────────────╯\n"
      ]
     },
     "metadata": {},
     "output_type": "display_data"
    }
   ],
   "source": [
    "docs.summary()"
   ]
  },
  {
   "cell_type": "markdown",
   "metadata": {
    "id": "rPgbzFQNw9FV"
   },
   "source": [
    "We can see the structure of our first Document here, showing \n",
    "\n",
    "* The top-level Document\n",
    "* Chunks (extracted by PDFSegmenter)\n",
    "* Chunks-of-chunks (the sentences extracted by SpacySentencizer):"
   ]
  },
  {
   "cell_type": "code",
   "execution_count": 21,
   "metadata": {
    "colab": {
     "base_uri": "https://localhost:8080/",
     "height": 1000
    },
    "id": "HWxbBZavIDZK",
    "outputId": "033fa897-b8c5-457d-ab3a-fb4a7a6a0fc4"
   },
   "outputs": [
    {
     "data": {
      "text/html": [
       "<pre style=\"white-space:pre;overflow-x:auto;line-height:normal;font-family:Menlo,'DejaVu Sans Mono',consolas,'Courier New',monospace\">📄 <span style=\"font-weight: bold\">Document</span>: <span style=\"color: #008080; text-decoration-color: #008080\">9ccaa47ad7299631ed31a8c4638c9d11</span>\n",
       "╭───────────┬──────────────────────────────────────────────────────────────────╮\n",
       "│<span style=\"font-weight: bold\"> Attribute </span>│<span style=\"font-weight: bold\"> Value                                                            </span>│\n",
       "├───────────┼──────────────────────────────────────────────────────────────────┤\n",
       "│ blob      │ b'%PDF-<span style=\"color: #008080; text-decoration-color: #008080; font-weight: bold\">1.6</span>\\n%\\xc3\\xa4\\xc3\\xbc\\xc3\\xb6\\xc3\\x9f\\n2 <span style=\"color: #008080; text-decoration-color: #008080; font-weight: bold\">0</span>               │\n",
       "│           │ obj\\n<span style=\"font-weight: bold\">&lt;</span><span style=\"color: #000000; text-decoration-color: #000000\">&lt;</span><span style=\"color: #800080; text-decoration-color: #800080\">/</span><span style=\"color: #ff00ff; text-decoration-color: #ff00ff\">Length</span><span style=\"color: #000000; text-decoration-color: #000000\"> </span><span style=\"color: #008080; text-decoration-color: #008080; font-weight: bold\">3</span><span style=\"color: #000000; text-decoration-color: #000000\"> </span><span style=\"color: #008080; text-decoration-color: #008080; font-weight: bold\">0</span><span style=\"color: #000000; text-decoration-color: #000000\"> R/Filter/FlateDecode</span><span style=\"font-weight: bold\">&gt;</span>&gt;\\nstream<span style=\"color: #808000; text-decoration-color: #808000\">...</span> <span style=\"color: #7f7f7f; text-decoration-color: #7f7f7f; font-weight: bold\">(</span><span style=\"color: #7f7f7f; text-decoration-color: #7f7f7f\">length: </span>   │\n",
       "│           │ <span style=\"color: #7fbfbf; text-decoration-color: #7fbfbf; font-weight: bold\">87394</span><span style=\"color: #7f7f7f; text-decoration-color: #7f7f7f; font-weight: bold\">)</span>                                                           │\n",
       "│ mime_type │ application/pdf                                                  │\n",
       "│ uri       │ data/tiger.pdf                                                   │\n",
       "╰───────────┴──────────────────────────────────────────────────────────────────╯\n",
       "└── 💠 <span style=\"font-weight: bold\">Chunks</span>\n",
       "    ├── 📄 <span style=\"font-weight: bold\">Document</span>: <span style=\"color: #008080; text-decoration-color: #008080\">cad260f892f54d8168ce10a82f54469e</span>\n",
       "    │   ╭─────────────┬────────────────────────────────────────────────────────────────╮\n",
       "    │   │<span style=\"font-weight: bold\"> Attribute   </span>│<span style=\"font-weight: bold\"> Value                                                          </span>│\n",
       "    │   ├─────────────┼────────────────────────────────────────────────────────────────┤\n",
       "    │   │ parent_id   │ 9ccaa47ad7299631ed31a8c4638c9d11                               │\n",
       "    │   │ granularity │ <span style=\"color: #008080; text-decoration-color: #008080; font-weight: bold\">1</span>                                                              │\n",
       "    │   │ mime_type   │ text/plain                                                     │\n",
       "    │   │ text        │ The tiger <span style=\"font-weight: bold\">(</span>Panthera tigris<span style=\"font-weight: bold\">)</span> is the largest living cat species  │\n",
       "    │   │             │ and a member of the genus Panthera. It<span style=\"color: #808000; text-decoration-color: #808000\">...</span> <span style=\"color: #7f7f7f; text-decoration-color: #7f7f7f; font-weight: bold\">(</span><span style=\"color: #7f7f7f; text-decoration-color: #7f7f7f\">length: </span><span style=\"color: #7fbfbf; text-decoration-color: #7fbfbf; font-weight: bold\">3042</span><span style=\"color: #7f7f7f; text-decoration-color: #7f7f7f; font-weight: bold\">)</span>       │\n",
       "    │   ╰─────────────┴────────────────────────────────────────────────────────────────╯\n",
       "    │   └── 💠 <span style=\"font-weight: bold\">Chunks</span>\n",
       "    │       ├── 📄 <span style=\"font-weight: bold\">Document</span>: <span style=\"color: #008080; text-decoration-color: #008080\">d3a1da0ba7a07b10886d07559c867361</span>\n",
       "    │       │   ╭─────────────┬────────────────────────────────────────────────────────────────╮\n",
       "    │       │   │<span style=\"font-weight: bold\"> Attribute   </span>│<span style=\"font-weight: bold\"> Value                                                          </span>│\n",
       "    │       │   ├─────────────┼────────────────────────────────────────────────────────────────┤\n",
       "    │       │   │ parent_id   │ cad260f892f54d8168ce10a82f54469e                               │\n",
       "    │       │   │ granularity │ <span style=\"color: #008080; text-decoration-color: #008080; font-weight: bold\">2</span>                                                              │\n",
       "    │       │   │ text        │ The tiger <span style=\"font-weight: bold\">(</span>Panthera tigris<span style=\"font-weight: bold\">)</span> is the largest living cat species  │\n",
       "    │       │   │             │ and a member of the genus Panthera.                            │\n",
       "    │       │   ╰─────────────┴────────────────────────────────────────────────────────────────╯\n",
       "    │       ├── 📄 <span style=\"font-weight: bold\">Document</span>: <span style=\"color: #008080; text-decoration-color: #008080\">0d038770c036d91013bd560f63e4dcea</span>\n",
       "    │       │   ╭─────────────┬────────────────────────────────────────────────────────────────╮\n",
       "    │       │   │<span style=\"font-weight: bold\"> Attribute   </span>│<span style=\"font-weight: bold\"> Value                                                          </span>│\n",
       "    │       │   ├─────────────┼────────────────────────────────────────────────────────────────┤\n",
       "    │       │   │ parent_id   │ cad260f892f54d8168ce10a82f54469e                               │\n",
       "    │       │   │ granularity │ <span style=\"color: #008080; text-decoration-color: #008080; font-weight: bold\">2</span>                                                              │\n",
       "    │       │   │ text        │ It is most recognisable for its dark vertical stripes on       │\n",
       "    │       │   │             │ orange fur with a white underside.                             │\n",
       "    │       │   ╰─────────────┴────────────────────────────────────────────────────────────────╯\n",
       "    │       ├── 📄 <span style=\"font-weight: bold\">Document</span>: <span style=\"color: #008080; text-decoration-color: #008080\">8317614fc0668c81bd943a7378fc5b7a</span>\n",
       "    │       │   ╭─────────────┬────────────────────────────────────────────────────────────────╮\n",
       "    │       │   │<span style=\"font-weight: bold\"> Attribute   </span>│<span style=\"font-weight: bold\"> Value                                                          </span>│\n",
       "    │       │   ├─────────────┼────────────────────────────────────────────────────────────────┤\n",
       "    │       │   │ parent_id   │ cad260f892f54d8168ce10a82f54469e                               │\n",
       "    │       │   │ granularity │ <span style=\"color: #008080; text-decoration-color: #008080; font-weight: bold\">2</span>                                                              │\n",
       "    │       │   │ text        │ An apex predator, it primarily preys on ungulates such as deer │\n",
       "    │       │   │             │ and wild boar.                                                 │\n",
       "    │       │   ╰─────────────┴────────────────────────────────────────────────────────────────╯\n",
       "    │       ├── 📄 <span style=\"font-weight: bold\">Document</span>: <span style=\"color: #008080; text-decoration-color: #008080\">47a1e971dad999d61ef446584d7b4fb4</span>\n",
       "    │       │   ╭─────────────┬────────────────────────────────────────────────────────────────╮\n",
       "    │       │   │<span style=\"font-weight: bold\"> Attribute   </span>│<span style=\"font-weight: bold\"> Value                                                          </span>│\n",
       "    │       │   ├─────────────┼────────────────────────────────────────────────────────────────┤\n",
       "    │       │   │ parent_id   │ cad260f892f54d8168ce10a82f54469e                               │\n",
       "    │       │   │ granularity │ <span style=\"color: #008080; text-decoration-color: #008080; font-weight: bold\">2</span>                                                              │\n",
       "    │       │   │ text        │ It is territorial and generally a solitary but social          │\n",
       "    │       │   │             │ predator, requiring large contiguous areas of <span style=\"color: #808000; text-decoration-color: #808000\">...</span> <span style=\"color: #7f7f7f; text-decoration-color: #7f7f7f; font-weight: bold\">(</span><span style=\"color: #7f7f7f; text-decoration-color: #7f7f7f\">length: </span>    │\n",
       "    │       │   │             │ <span style=\"color: #7fbfbf; text-decoration-color: #7fbfbf; font-weight: bold\">178</span><span style=\"color: #7f7f7f; text-decoration-color: #7f7f7f; font-weight: bold\">)</span>                                                           │\n",
       "    │       │   ╰─────────────┴────────────────────────────────────────────────────────────────╯\n",
       "    │       ├── 📄 <span style=\"font-weight: bold\">Document</span>: <span style=\"color: #008080; text-decoration-color: #008080\">04eb3b08c54f543d51033918750cb2a9</span>\n",
       "    │       │   ╭─────────────┬────────────────────────────────────────────────────────────────╮\n",
       "    │       │   │<span style=\"font-weight: bold\"> Attribute   </span>│<span style=\"font-weight: bold\"> Value                                                          </span>│\n",
       "    │       │   ├─────────────┼────────────────────────────────────────────────────────────────┤\n",
       "    │       │   │ parent_id   │ cad260f892f54d8168ce10a82f54469e                               │\n",
       "    │       │   │ granularity │ <span style=\"color: #008080; text-decoration-color: #008080; font-weight: bold\">2</span>                                                              │\n",
       "    │       │   │ text        │ Tiger cubs stay with their mother for about two years, then    │\n",
       "    │       │   │             │ become independent and leave their mothe<span style=\"color: #808000; text-decoration-color: #808000\">...</span> <span style=\"color: #7f7f7f; text-decoration-color: #7f7f7f; font-weight: bold\">(</span><span style=\"color: #7f7f7f; text-decoration-color: #7f7f7f\">length: </span><span style=\"color: #7fbfbf; text-decoration-color: #7fbfbf; font-weight: bold\">138</span><span style=\"color: #7f7f7f; text-decoration-color: #7f7f7f; font-weight: bold\">)</span>      │\n",
       "    │       │   ╰─────────────┴────────────────────────────────────────────────────────────────╯\n",
       "    │       ├── 📄 <span style=\"font-weight: bold\">Document</span>: <span style=\"color: #008080; text-decoration-color: #008080\">ee5ca26cde4d9872c503410662838111</span>\n",
       "    │       │   ╭─────────────┬────────────────────────────────────────────────────────────────╮\n",
       "    │       │   │<span style=\"font-weight: bold\"> Attribute   </span>│<span style=\"font-weight: bold\"> Value                                                          </span>│\n",
       "    │       │   ├─────────────┼────────────────────────────────────────────────────────────────┤\n",
       "    │       │   │ parent_id   │ cad260f892f54d8168ce10a82f54469e                               │\n",
       "    │       │   │ granularity │ <span style=\"color: #008080; text-decoration-color: #008080; font-weight: bold\">2</span>                                                              │\n",
       "    │       │   │ text        │ The tiger was first scientifically described in <span style=\"color: #008080; text-decoration-color: #008080; font-weight: bold\">1758</span> and once  │\n",
       "    │       │   │             │ ranged widely from the Eastern Anatoli<span style=\"color: #808000; text-decoration-color: #808000\">...</span> <span style=\"color: #7f7f7f; text-decoration-color: #7f7f7f; font-weight: bold\">(</span><span style=\"color: #7f7f7f; text-decoration-color: #7f7f7f\">length: </span><span style=\"color: #7fbfbf; text-decoration-color: #7fbfbf; font-weight: bold\">240</span><span style=\"color: #7f7f7f; text-decoration-color: #7f7f7f; font-weight: bold\">)</span>        │\n",
       "    │       │   ╰─────────────┴────────────────────────────────────────────────────────────────╯\n",
       "    │       ├── 📄 <span style=\"font-weight: bold\">Document</span>: <span style=\"color: #008080; text-decoration-color: #008080\">2699ac600a65e7ede313c6de5dfbeedb</span>\n",
       "    │       │   ╭─────────────┬────────────────────────────────────────────────────────────────╮\n",
       "    │       │   │<span style=\"font-weight: bold\"> Attribute   </span>│<span style=\"font-weight: bold\"> Value                                                          </span>│\n",
       "    │       │   ├─────────────┼────────────────────────────────────────────────────────────────┤\n",
       "    │       │   │ parent_id   │ cad260f892f54d8168ce10a82f54469e                               │\n",
       "    │       │   │ granularity │ <span style=\"color: #008080; text-decoration-color: #008080; font-weight: bold\">2</span>                                                              │\n",
       "    │       │   │ text        │ Since the early 20th century, tiger populations have lost at   │\n",
       "    │       │   │             │ least <span style=\"color: #008080; text-decoration-color: #008080; font-weight: bold\">93</span>% of their historic range and h<span style=\"color: #808000; text-decoration-color: #808000\">...</span> <span style=\"color: #7f7f7f; text-decoration-color: #7f7f7f; font-weight: bold\">(</span><span style=\"color: #7f7f7f; text-decoration-color: #7f7f7f\">length: </span><span style=\"color: #7fbfbf; text-decoration-color: #7fbfbf; font-weight: bold\">238</span><span style=\"color: #7f7f7f; text-decoration-color: #7f7f7f; font-weight: bold\">)</span>       │\n",
       "    │       │   ╰─────────────┴────────────────────────────────────────────────────────────────╯\n",
       "    │       ├── 📄 <span style=\"font-weight: bold\">Document</span>: <span style=\"color: #008080; text-decoration-color: #008080\">64f7b86cb433aa6b2edaae382a6d8233</span>\n",
       "    │       │   ╭─────────────┬────────────────────────────────────────────────────────────────╮\n",
       "    │       │   │<span style=\"font-weight: bold\"> Attribute   </span>│<span style=\"font-weight: bold\"> Value                                                          </span>│\n",
       "    │       │   ├─────────────┼────────────────────────────────────────────────────────────────┤\n",
       "    │       │   │ parent_id   │ cad260f892f54d8168ce10a82f54469e                               │\n",
       "    │       │   │ granularity │ <span style=\"color: #008080; text-decoration-color: #008080; font-weight: bold\">2</span>                                                              │\n",
       "    │       │   │ text        │ Today, the tiger's range is fragmented, stretching from        │\n",
       "    │       │   │             │ Siberian temperate forests to subtropical an<span style=\"color: #808000; text-decoration-color: #808000\">...</span> <span style=\"color: #7f7f7f; text-decoration-color: #7f7f7f; font-weight: bold\">(</span><span style=\"color: #7f7f7f; text-decoration-color: #7f7f7f\">length: </span><span style=\"color: #7fbfbf; text-decoration-color: #7fbfbf; font-weight: bold\">169</span><span style=\"color: #7f7f7f; text-decoration-color: #7f7f7f; font-weight: bold\">)</span>  │\n",
       "    │       │   ╰─────────────┴────────────────────────────────────────────────────────────────╯\n",
       "    │       ├── 📄 <span style=\"font-weight: bold\">Document</span>: <span style=\"color: #008080; text-decoration-color: #008080\">c0f5d8fedbba506fe33aa02f2defdb85</span>\n",
       "    │       │   ╭───────────────┬──────────────────────────────────────────────────────────────╮\n",
       "    │       │   │<span style=\"font-weight: bold\"> Attribute     </span>│<span style=\"font-weight: bold\"> Value                                                        </span>│\n",
       "    │       │   ├───────────────┼──────────────────────────────────────────────────────────────┤\n",
       "    │       │   │ parent_id     │ cad260f892f54d8168ce10a82f54469e                             │\n",
       "    │       │   │ granularity   │ <span style=\"color: #008080; text-decoration-color: #008080; font-weight: bold\">2</span>                                                            │\n",
       "    │       │   │ text          │ The tiger is listed as Endangered on the IUCN Red List.      │\n",
       "    │       │   ╰───────────────┴──────────────────────────────────────────────────────────────╯\n",
       "    │       ├── 📄 <span style=\"font-weight: bold\">Document</span>: <span style=\"color: #008080; text-decoration-color: #008080\">6ddec379c95e2f73a089a4f4359c2899</span>\n",
       "    │       │   ╭─────────────┬────────────────────────────────────────────────────────────────╮\n",
       "    │       │   │<span style=\"font-weight: bold\"> Attribute   </span>│<span style=\"font-weight: bold\"> Value                                                          </span>│\n",
       "    │       │   ├─────────────┼────────────────────────────────────────────────────────────────┤\n",
       "    │       │   │ parent_id   │ cad260f892f54d8168ce10a82f54469e                               │\n",
       "    │       │   │ granularity │ <span style=\"color: #008080; text-decoration-color: #008080; font-weight: bold\">2</span>                                                              │\n",
       "    │       │   │ text        │ As of <span style=\"color: #008080; text-decoration-color: #008080; font-weight: bold\">2015</span>, the global wild tiger population was estimated to  │\n",
       "    │       │   │             │ number between <span style=\"color: #008080; text-decoration-color: #008080; font-weight: bold\">3</span>,<span style=\"color: #008080; text-decoration-color: #008080; font-weight: bold\">062</span> and <span style=\"color: #008080; text-decoration-color: #008080; font-weight: bold\">3</span>,<span style=\"color: #008080; text-decoration-color: #008080; font-weight: bold\">948</span> mature <span style=\"color: #808000; text-decoration-color: #808000\">...</span> <span style=\"color: #7f7f7f; text-decoration-color: #7f7f7f; font-weight: bold\">(</span><span style=\"color: #7f7f7f; text-decoration-color: #7f7f7f\">length: </span><span style=\"color: #7fbfbf; text-decoration-color: #7fbfbf; font-weight: bold\">175</span><span style=\"color: #7f7f7f; text-decoration-color: #7f7f7f; font-weight: bold\">)</span>        │\n",
       "    │       │   ╰─────────────┴────────────────────────────────────────────────────────────────╯\n",
       "    │       ├── 📄 <span style=\"font-weight: bold\">Document</span>: <span style=\"color: #008080; text-decoration-color: #008080\">76cd636cf6f109f6e133fdc35802fd1d</span>\n",
       "    │       │   ╭────────────────┬─────────────────────────────────────────────────────────────╮\n",
       "    │       │   │<span style=\"font-weight: bold\"> Attribute      </span>│<span style=\"font-weight: bold\"> Value                                                       </span>│\n",
       "    │       │   ├────────────────┼─────────────────────────────────────────────────────────────┤\n",
       "    │       │   │ parent_id      │ cad260f892f54d8168ce10a82f54469e                            │\n",
       "    │       │   │ granularity    │ <span style=\"color: #008080; text-decoration-color: #008080; font-weight: bold\">2</span>                                                           │\n",
       "    │       │   │ text           │ India currently hosts the largest tiger population.         │\n",
       "    │       │   ╰────────────────┴─────────────────────────────────────────────────────────────╯\n",
       "    │       ├── 📄 <span style=\"font-weight: bold\">Document</span>: <span style=\"color: #008080; text-decoration-color: #008080\">b6d2809b9ce8857eb69f24cfe1f88cc5</span>\n",
       "    │       │   ╭─────────────┬────────────────────────────────────────────────────────────────╮\n",
       "    │       │   │<span style=\"font-weight: bold\"> Attribute   </span>│<span style=\"font-weight: bold\"> Value                                                          </span>│\n",
       "    │       │   ├─────────────┼────────────────────────────────────────────────────────────────┤\n",
       "    │       │   │ parent_id   │ cad260f892f54d8168ce10a82f54469e                               │\n",
       "    │       │   │ granularity │ <span style=\"color: #008080; text-decoration-color: #008080; font-weight: bold\">2</span>                                                              │\n",
       "    │       │   │ text        │ Major reasons for population decline are habitat destruction,  │\n",
       "    │       │   │             │ habitat fragmentation and poaching.                            │\n",
       "    │       │   ╰─────────────┴────────────────────────────────────────────────────────────────╯\n",
       "    │       ├── 📄 <span style=\"font-weight: bold\">Document</span>: <span style=\"color: #008080; text-decoration-color: #008080\">a6f5ca5f2f3b70e36289047bd738cfaf</span>\n",
       "    │       │   ╭─────────────┬────────────────────────────────────────────────────────────────╮\n",
       "    │       │   │<span style=\"font-weight: bold\"> Attribute   </span>│<span style=\"font-weight: bold\"> Value                                                          </span>│\n",
       "    │       │   ├─────────────┼────────────────────────────────────────────────────────────────┤\n",
       "    │       │   │ parent_id   │ cad260f892f54d8168ce10a82f54469e                               │\n",
       "    │       │   │ granularity │ <span style=\"color: #008080; text-decoration-color: #008080; font-weight: bold\">2</span>                                                              │\n",
       "    │       │   │ text        │ Tigers are also victims of human–wildlife conflict,            │\n",
       "    │       │   │             │ particularly in range countries with a high huma<span style=\"color: #808000; text-decoration-color: #808000\">...</span> <span style=\"color: #7f7f7f; text-decoration-color: #7f7f7f; font-weight: bold\">(</span><span style=\"color: #7f7f7f; text-decoration-color: #7f7f7f\">length: </span>  │\n",
       "    │       │   │             │ <span style=\"color: #7fbfbf; text-decoration-color: #7fbfbf; font-weight: bold\">121</span><span style=\"color: #7f7f7f; text-decoration-color: #7f7f7f; font-weight: bold\">)</span>                                                           │\n",
       "    │       │   ╰─────────────┴────────────────────────────────────────────────────────────────╯\n",
       "    │       ├── 📄 <span style=\"font-weight: bold\">Document</span>: <span style=\"color: #008080; text-decoration-color: #008080\">3aea5c4e49e6d7ebe415c57101c5a027</span>\n",
       "    │       │   ╭─────────────┬────────────────────────────────────────────────────────────────╮\n",
       "    │       │   │<span style=\"font-weight: bold\"> Attribute   </span>│<span style=\"font-weight: bold\"> Value                                                          </span>│\n",
       "    │       │   ├─────────────┼────────────────────────────────────────────────────────────────┤\n",
       "    │       │   │ parent_id   │ cad260f892f54d8168ce10a82f54469e                               │\n",
       "    │       │   │ granularity │ <span style=\"color: #008080; text-decoration-color: #008080; font-weight: bold\">2</span>                                                              │\n",
       "    │       │   │ text        │ The tiger is among the most recognisable and popular of the    │\n",
       "    │       │   │             │ world's charismatic megafauna.                                 │\n",
       "    │       │   ╰─────────────┴────────────────────────────────────────────────────────────────╯\n",
       "    │       ├── 📄 <span style=\"font-weight: bold\">Document</span>: <span style=\"color: #008080; text-decoration-color: #008080\">70915f86f128c7d9ef85b18780a53356</span>\n",
       "    │       │   ╭─────────────┬────────────────────────────────────────────────────────────────╮\n",
       "    │       │   │<span style=\"font-weight: bold\"> Attribute   </span>│<span style=\"font-weight: bold\"> Value                                                          </span>│\n",
       "    │       │   ├─────────────┼────────────────────────────────────────────────────────────────┤\n",
       "    │       │   │ parent_id   │ cad260f892f54d8168ce10a82f54469e                               │\n",
       "    │       │   │ granularity │ <span style=\"color: #008080; text-decoration-color: #008080; font-weight: bold\">2</span>                                                              │\n",
       "    │       │   │ text        │ It featured prominently in the ancient mythology and folklore  │\n",
       "    │       │   │             │ of cultures throughout its historic ra<span style=\"color: #808000; text-decoration-color: #808000\">...</span> <span style=\"color: #7f7f7f; text-decoration-color: #7f7f7f; font-weight: bold\">(</span><span style=\"color: #7f7f7f; text-decoration-color: #7f7f7f\">length: </span><span style=\"color: #7fbfbf; text-decoration-color: #7fbfbf; font-weight: bold\">239</span><span style=\"color: #7f7f7f; text-decoration-color: #7f7f7f; font-weight: bold\">)</span>        │\n",
       "    │       │   ╰─────────────┴────────────────────────────────────────────────────────────────╯\n",
       "    │       ├── 📄 <span style=\"font-weight: bold\">Document</span>: <span style=\"color: #008080; text-decoration-color: #008080\">12496063e624c394b41ecc220c85d9b2</span>\n",
       "    │       │   ╭─────────────┬────────────────────────────────────────────────────────────────╮\n",
       "    │       │   │<span style=\"font-weight: bold\"> Attribute   </span>│<span style=\"font-weight: bold\"> Value                                                          </span>│\n",
       "    │       │   ├─────────────┼────────────────────────────────────────────────────────────────┤\n",
       "    │       │   │ parent_id   │ cad260f892f54d8168ce10a82f54469e                               │\n",
       "    │       │   │ granularity │ <span style=\"color: #008080; text-decoration-color: #008080; font-weight: bold\">2</span>                                                              │\n",
       "    │       │   │ text        │ The tiger is the national animal of India, Bangladesh,         │\n",
       "    │       │   │             │ Malaysia and South Korea.                                      │\n",
       "    │       │   ╰─────────────┴────────────────────────────────────────────────────────────────╯\n",
       "    │       ├── 📄 <span style=\"font-weight: bold\">Document</span>: <span style=\"color: #008080; text-decoration-color: #008080\">e3fa17e3d9c35e0b918d34f0f29658b0</span>\n",
       "    │       │   ╭─────────────┬────────────────────────────────────────────────────────────────╮\n",
       "    │       │   │<span style=\"font-weight: bold\"> Attribute   </span>│<span style=\"font-weight: bold\"> Value                                                          </span>│\n",
       "    │       │   ├─────────────┼────────────────────────────────────────────────────────────────┤\n",
       "    │       │   │ parent_id   │ cad260f892f54d8168ce10a82f54469e                               │\n",
       "    │       │   │ granularity │ <span style=\"color: #008080; text-decoration-color: #008080; font-weight: bold\">2</span>                                                              │\n",
       "    │       │   │ text        │ Etymology The Middle English tigre and Old English tigras      │\n",
       "    │       │   │             │ derive from Old French tigre, from Latin t<span style=\"color: #808000; text-decoration-color: #808000\">...</span> <span style=\"color: #7f7f7f; text-decoration-color: #7f7f7f; font-weight: bold\">(</span><span style=\"color: #7f7f7f; text-decoration-color: #7f7f7f\">length: </span><span style=\"color: #7fbfbf; text-decoration-color: #7fbfbf; font-weight: bold\">106</span><span style=\"color: #7f7f7f; text-decoration-color: #7f7f7f; font-weight: bold\">)</span>    │\n",
       "    │       │   ╰─────────────┴────────────────────────────────────────────────────────────────╯\n",
       "    │       └── 📄 <span style=\"font-weight: bold\">Document</span>: <span style=\"color: #008080; text-decoration-color: #008080\">29596b82f530f21bdb442829aefaaa4f</span>\n",
       "    │           ╭─────────────┬────────────────────────────────────────────────────────────────╮\n",
       "    │           │<span style=\"font-weight: bold\"> Attribute   </span>│<span style=\"font-weight: bold\"> Value                                                          </span>│\n",
       "    │           ├─────────────┼────────────────────────────────────────────────────────────────┤\n",
       "    │           │ parent_id   │ cad260f892f54d8168ce10a82f54469e                               │\n",
       "    │           │ granularity │ <span style=\"color: #008080; text-decoration-color: #008080; font-weight: bold\">2</span>                                                              │\n",
       "    │           │ text        │ This was a borrowing of Classical Greek τίγρις <span style=\"color: #008000; text-decoration-color: #008000\">'tigris'</span>, a     │\n",
       "    │           │             │ foreign borrowing of unknown origin meani<span style=\"color: #808000; text-decoration-color: #808000\">...</span> <span style=\"color: #7f7f7f; text-decoration-color: #7f7f7f; font-weight: bold\">(</span><span style=\"color: #7f7f7f; text-decoration-color: #7f7f7f\">length: </span><span style=\"color: #7fbfbf; text-decoration-color: #7fbfbf; font-weight: bold\">776</span><span style=\"color: #7f7f7f; text-decoration-color: #7f7f7f; font-weight: bold\">)</span>     │\n",
       "    │           ╰─────────────┴────────────────────────────────────────────────────────────────╯\n",
       "    ├── 📄 <span style=\"font-weight: bold\">Document</span>: <span style=\"color: #008080; text-decoration-color: #008080\">016088094ac056c3998c75e1fc2ed961</span>\n",
       "    │   ╭─────────────┬────────────────────────────────────────────────────────────────╮\n",
       "    │   │<span style=\"font-weight: bold\"> Attribute   </span>│<span style=\"font-weight: bold\"> Value                                                          </span>│\n",
       "    │   ├─────────────┼────────────────────────────────────────────────────────────────┤\n",
       "    │   │ parent_id   │ 9ccaa47ad7299631ed31a8c4638c9d11                               │\n",
       "    │   │ granularity │ <span style=\"color: #008080; text-decoration-color: #008080; font-weight: bold\">1</span>                                                              │\n",
       "    │   │ mime_type   │ text/plain                                                     │\n",
       "    │   │ text        │ Subspecies Phylogenetic relationship of tiger populations      │\n",
       "    │   │             │ based on Driscoll et al. <span style=\"font-weight: bold\">(</span><span style=\"color: #008080; text-decoration-color: #008080; font-weight: bold\">2009</span><span style=\"font-weight: bold\">)</span>.<span style=\"font-weight: bold\">[</span><span style=\"color: #008080; text-decoration-color: #008080; font-weight: bold\">10</span><span style=\"font-weight: bold\">]</span> Follo<span style=\"color: #808000; text-decoration-color: #808000\">...</span> <span style=\"color: #7f7f7f; text-decoration-color: #7f7f7f; font-weight: bold\">(</span><span style=\"color: #7f7f7f; text-decoration-color: #7f7f7f\">length: </span><span style=\"color: #7fbfbf; text-decoration-color: #7fbfbf; font-weight: bold\">3053</span><span style=\"color: #7f7f7f; text-decoration-color: #7f7f7f; font-weight: bold\">)</span>   │\n",
       "    │   ╰─────────────┴────────────────────────────────────────────────────────────────╯\n",
       "    │   └── 💠 <span style=\"font-weight: bold\">Chunks</span>\n",
       "    │       ├── 📄 <span style=\"font-weight: bold\">Document</span>: <span style=\"color: #008080; text-decoration-color: #008080\">7259ea2e3c627cb96ac918e8075cb906</span>\n",
       "    │       │   ╭─────────────┬────────────────────────────────────────────────────────────────╮\n",
       "    │       │   │<span style=\"font-weight: bold\"> Attribute   </span>│<span style=\"font-weight: bold\"> Value                                                          </span>│\n",
       "    │       │   ├─────────────┼────────────────────────────────────────────────────────────────┤\n",
       "    │       │   │ parent_id   │ 016088094ac056c3998c75e1fc2ed961                               │\n",
       "    │       │   │ granularity │ <span style=\"color: #008080; text-decoration-color: #008080; font-weight: bold\">2</span>                                                              │\n",
       "    │       │   │ text        │ Subspecies Phylogenetic relationship of tiger populations      │\n",
       "    │       │   │             │ based on Driscoll et al. <span style=\"font-weight: bold\">(</span>                                     │\n",
       "    │       │   ╰─────────────┴────────────────────────────────────────────────────────────────╯\n",
       "    │       ├── 📄 <span style=\"font-weight: bold\">Document</span>: <span style=\"color: #008080; text-decoration-color: #008080\">306ffb76367e1476c6dcdb340786bdf6</span>\n",
       "    │       │   ╭─────────────┬────────────────────────────────────────────────────────────────╮\n",
       "    │       │   │<span style=\"font-weight: bold\"> Attribute   </span>│<span style=\"font-weight: bold\"> Value                                                          </span>│\n",
       "    │       │   ├─────────────┼────────────────────────────────────────────────────────────────┤\n",
       "    │       │   │ parent_id   │ 016088094ac056c3998c75e1fc2ed961                               │\n",
       "    │       │   │ granularity │ <span style=\"color: #008080; text-decoration-color: #008080; font-weight: bold\">2</span>                                                              │\n",
       "    │       │   │ text        │ <span style=\"color: #008080; text-decoration-color: #008080; font-weight: bold\">2009</span><span style=\"font-weight: bold\">)</span>.<span style=\"font-weight: bold\">[</span><span style=\"color: #008080; text-decoration-color: #008080; font-weight: bold\">10</span><span style=\"font-weight: bold\">]</span> Following Linnaeus's first descriptions of the      │\n",
       "    │       │   │             │ species, several tiger specimens were desc<span style=\"color: #808000; text-decoration-color: #808000\">...</span> <span style=\"color: #7f7f7f; text-decoration-color: #7f7f7f; font-weight: bold\">(</span><span style=\"color: #7f7f7f; text-decoration-color: #7f7f7f\">length: </span><span style=\"color: #7fbfbf; text-decoration-color: #7fbfbf; font-weight: bold\">202</span><span style=\"color: #7f7f7f; text-decoration-color: #7f7f7f; font-weight: bold\">)</span>    │\n",
       "    │       │   ╰─────────────┴────────────────────────────────────────────────────────────────╯\n",
       "    │       ├── 📄 <span style=\"font-weight: bold\">Document</span>: <span style=\"color: #008080; text-decoration-color: #008080\">3a61f4a473f30f1f7476bad8b97e8de3</span>\n",
       "    │       │   ╭─────────────┬────────────────────────────────────────────────────────────────╮\n",
       "    │       │   │<span style=\"font-weight: bold\"> Attribute   </span>│<span style=\"font-weight: bold\"> Value                                                          </span>│\n",
       "    │       │   ├─────────────┼────────────────────────────────────────────────────────────────┤\n",
       "    │       │   │ parent_id   │ 016088094ac056c3998c75e1fc2ed961                               │\n",
       "    │       │   │ granularity │ <span style=\"color: #008080; text-decoration-color: #008080; font-weight: bold\">2</span>                                                              │\n",
       "    │       │   │ text        │ Most putative subspecies described in the 19th and 20th        │\n",
       "    │       │   │             │ centuries were distinguished on basis of fur<span style=\"color: #808000; text-decoration-color: #808000\">...</span> <span style=\"color: #7f7f7f; text-decoration-color: #7f7f7f; font-weight: bold\">(</span><span style=\"color: #7f7f7f; text-decoration-color: #7f7f7f\">length: </span><span style=\"color: #7fbfbf; text-decoration-color: #7fbfbf; font-weight: bold\">216</span><span style=\"color: #7f7f7f; text-decoration-color: #7f7f7f; font-weight: bold\">)</span>  │\n",
       "    │       │   ╰─────────────┴────────────────────────────────────────────────────────────────╯\n",
       "    │       ├── 📄 <span style=\"font-weight: bold\">Document</span>: <span style=\"color: #008080; text-decoration-color: #008080\">6682d3c87709c0295fcd741fcc22adde</span>\n",
       "    │       │   ╭─────────────┬────────────────────────────────────────────────────────────────╮\n",
       "    │       │   │<span style=\"font-weight: bold\"> Attribute   </span>│<span style=\"font-weight: bold\"> Value                                                          </span>│\n",
       "    │       │   ├─────────────┼────────────────────────────────────────────────────────────────┤\n",
       "    │       │   │ parent_id   │ 016088094ac056c3998c75e1fc2ed961                               │\n",
       "    │       │   │ granularity │ <span style=\"color: #008080; text-decoration-color: #008080; font-weight: bold\">2</span>                                                              │\n",
       "    │       │   │ text        │ Morphologically, tigers from different regions vary little,    │\n",
       "    │       │   │             │ and gene flow between populations in tho<span style=\"color: #808000; text-decoration-color: #808000\">...</span> <span style=\"color: #7f7f7f; text-decoration-color: #7f7f7f; font-weight: bold\">(</span><span style=\"color: #7f7f7f; text-decoration-color: #7f7f7f\">length: </span><span style=\"color: #7fbfbf; text-decoration-color: #7fbfbf; font-weight: bold\">170</span><span style=\"color: #7f7f7f; text-decoration-color: #7f7f7f; font-weight: bold\">)</span>      │\n",
       "    │       │   ╰─────────────┴────────────────────────────────────────────────────────────────╯\n",
       "    │       ├── 📄 <span style=\"font-weight: bold\">Document</span>: <span style=\"color: #008080; text-decoration-color: #008080\">bac0285099ea51e084d297e1df22d33e</span>\n",
       "    │       │   ╭─────────────┬────────────────────────────────────────────────────────────────╮\n",
       "    │       │   │<span style=\"font-weight: bold\"> Attribute   </span>│<span style=\"font-weight: bold\"> Value                                                          </span>│\n",
       "    │       │   ├─────────────┼────────────────────────────────────────────────────────────────┤\n",
       "    │       │   │ parent_id   │ 016088094ac056c3998c75e1fc2ed961                               │\n",
       "    │       │   │ granularity │ <span style=\"color: #008080; text-decoration-color: #008080; font-weight: bold\">2</span>                                                              │\n",
       "    │       │   │ text        │ Therefore, it was proposed to recognize only two tiger         │\n",
       "    │       │   │             │ subspecies as valid, namely P. t. tigris in m<span style=\"color: #808000; text-decoration-color: #808000\">...</span> <span style=\"color: #7f7f7f; text-decoration-color: #7f7f7f; font-weight: bold\">(</span><span style=\"color: #7f7f7f; text-decoration-color: #7f7f7f\">length: </span><span style=\"color: #7fbfbf; text-decoration-color: #7fbfbf; font-weight: bold\">410</span><span style=\"color: #7f7f7f; text-decoration-color: #7f7f7f; font-weight: bold\">)</span> │\n",
       "    │       │   ╰─────────────┴────────────────────────────────────────────────────────────────╯\n",
       "    │       ├── 📄 <span style=\"font-weight: bold\">Document</span>: <span style=\"color: #008080; text-decoration-color: #008080\">970dfdb1b7afc9ec5869a76179874a53</span>\n",
       "    │       │   ╭─────────────┬────────────────────────────────────────────────────────────────╮\n",
       "    │       │   │<span style=\"font-weight: bold\"> Attribute   </span>│<span style=\"font-weight: bold\"> Value                                                          </span>│\n",
       "    │       │   ├─────────────┼────────────────────────────────────────────────────────────────┤\n",
       "    │       │   │ parent_id   │ 016088094ac056c3998c75e1fc2ed961                               │\n",
       "    │       │   │ granularity │ <span style=\"color: #008080; text-decoration-color: #008080; font-weight: bold\">2</span>                                                              │\n",
       "    │       │   │ text        │ The authors proposed to classify the Sumatran and Javan tigers │\n",
       "    │       │   │             │ as distinct species, P. sumatrae and <span style=\"color: #808000; text-decoration-color: #808000\">...</span> <span style=\"color: #7f7f7f; text-decoration-color: #7f7f7f; font-weight: bold\">(</span><span style=\"color: #7f7f7f; text-decoration-color: #7f7f7f\">length: </span><span style=\"color: #7fbfbf; text-decoration-color: #7fbfbf; font-weight: bold\">298</span><span style=\"color: #7f7f7f; text-decoration-color: #7f7f7f; font-weight: bold\">)</span>         │\n",
       "    │       │   ╰─────────────┴────────────────────────────────────────────────────────────────╯\n",
       "    │       ├── 📄 <span style=\"font-weight: bold\">Document</span>: <span style=\"color: #008080; text-decoration-color: #008080\">3e533a44e3090e4a3a535ada38fbda13</span>\n",
       "    │       │   ╭─────────────┬────────────────────────────────────────────────────────────────╮\n",
       "    │       │   │<span style=\"font-weight: bold\"> Attribute   </span>│<span style=\"font-weight: bold\"> Value                                                          </span>│\n",
       "    │       │   ├─────────────┼────────────────────────────────────────────────────────────────┤\n",
       "    │       │   │ parent_id   │ 016088094ac056c3998c75e1fc2ed961                               │\n",
       "    │       │   │ granularity │ <span style=\"color: #008080; text-decoration-color: #008080; font-weight: bold\">2</span>                                                              │\n",
       "    │       │   │ text        │ Results support distinction of the two evolutionary groups     │\n",
       "    │       │   │             │ continental and Sunda tigers.                                  │\n",
       "    │       │   ╰─────────────┴────────────────────────────────────────────────────────────────╯\n",
       "    │       ├── 📄 <span style=\"font-weight: bold\">Document</span>: <span style=\"color: #008080; text-decoration-color: #008080\">1e19289ee9e750105ccf8c0b878001d6</span>\n",
       "    │       │   ╭─────────────┬────────────────────────────────────────────────────────────────╮\n",
       "    │       │   │<span style=\"font-weight: bold\"> Attribute   </span>│<span style=\"font-weight: bold\"> Value                                                          </span>│\n",
       "    │       │   ├─────────────┼────────────────────────────────────────────────────────────────┤\n",
       "    │       │   │ parent_id   │ 016088094ac056c3998c75e1fc2ed961                               │\n",
       "    │       │   │ granularity │ <span style=\"color: #008080; text-decoration-color: #008080; font-weight: bold\">2</span>                                                              │\n",
       "    │       │   │ text        │ The authors proposed recognition of only two subspecies,       │\n",
       "    │       │   │             │ namely P. t. tigris comprising the Bengal, <span style=\"color: #808000; text-decoration-color: #808000\">...</span> <span style=\"color: #7f7f7f; text-decoration-color: #7f7f7f; font-weight: bold\">(</span><span style=\"color: #7f7f7f; text-decoration-color: #7f7f7f\">length: </span><span style=\"color: #7fbfbf; text-decoration-color: #7fbfbf; font-weight: bold\">254</span><span style=\"color: #7f7f7f; text-decoration-color: #7f7f7f; font-weight: bold\">)</span>   │\n",
       "    │       │   ╰─────────────┴────────────────────────────────────────────────────────────────╯\n",
       "    │       ├── 📄 <span style=\"font-weight: bold\">Document</span>: <span style=\"color: #008080; text-decoration-color: #008080\">a14fea08b4680e41a6d21a1ca5ff0cc9</span>\n",
       "    │       │   ╭─────────────┬────────────────────────────────────────────────────────────────╮\n",
       "    │       │   │<span style=\"font-weight: bold\"> Attribute   </span>│<span style=\"font-weight: bold\"> Value                                                          </span>│\n",
       "    │       │   ├─────────────┼────────────────────────────────────────────────────────────────┤\n",
       "    │       │   │ parent_id   │ 016088094ac056c3998c75e1fc2ed961                               │\n",
       "    │       │   │ granularity │ <span style=\"color: #008080; text-decoration-color: #008080; font-weight: bold\">2</span>                                                              │\n",
       "    │       │   │ text        │ The authors also noted that this reclassification will affect  │\n",
       "    │       │   │             │ tiger conservation management.                                 │\n",
       "    │       │   ╰─────────────┴────────────────────────────────────────────────────────────────╯\n",
       "    │       ├── 📄 <span style=\"font-weight: bold\">Document</span>: <span style=\"color: #008080; text-decoration-color: #008080\">ded7b5e43bfb9321e81e508d22e12715</span>\n",
       "    │       │   ╭─────────────┬────────────────────────────────────────────────────────────────╮\n",
       "    │       │   │<span style=\"font-weight: bold\"> Attribute   </span>│<span style=\"font-weight: bold\"> Value                                                          </span>│\n",
       "    │       │   ├─────────────┼────────────────────────────────────────────────────────────────┤\n",
       "    │       │   │ parent_id   │ 016088094ac056c3998c75e1fc2ed961                               │\n",
       "    │       │   │ granularity │ <span style=\"color: #008080; text-decoration-color: #008080; font-weight: bold\">2</span>                                                              │\n",
       "    │       │   │ text        │ The nominate subspecies P. t. tigris constitutes two           │\n",
       "    │       │   │             │ clades:<span style=\"font-weight: bold\">[</span><span style=\"color: #008080; text-decoration-color: #008080; font-weight: bold\">14</span><span style=\"font-weight: bold\">]</span> • a northern clade composed of the <span style=\"color: #808000; text-decoration-color: #808000\">...</span> <span style=\"color: #7f7f7f; text-decoration-color: #7f7f7f; font-weight: bold\">(</span><span style=\"color: #7f7f7f; text-decoration-color: #7f7f7f\">length: </span>   │\n",
       "    │       │   │             │ <span style=\"color: #7fbfbf; text-decoration-color: #7fbfbf; font-weight: bold\">201</span><span style=\"color: #7f7f7f; text-decoration-color: #7f7f7f; font-weight: bold\">)</span>                                                           │\n",
       "    │       │   ╰─────────────┴────────────────────────────────────────────────────────────────╯\n",
       "    │       ├── 📄 <span style=\"font-weight: bold\">Document</span>: <span style=\"color: #008080; text-decoration-color: #008080\">b71d2675ff59268f39a2e4bf0e66581c</span>\n",
       "    │       │   ╭─────────────┬────────────────────────────────────────────────────────────────╮\n",
       "    │       │   │<span style=\"font-weight: bold\"> Attribute   </span>│<span style=\"font-weight: bold\"> Value                                                          </span>│\n",
       "    │       │   ├─────────────┼────────────────────────────────────────────────────────────────┤\n",
       "    │       │   │ parent_id   │ 016088094ac056c3998c75e1fc2ed961                               │\n",
       "    │       │   │ granularity │ <span style=\"color: #008080; text-decoration-color: #008080; font-weight: bold\">2</span>                                                              │\n",
       "    │       │   │ text        │ One conservation specialist welcomed this proposal as it would │\n",
       "    │       │   │             │ make captive breeding programmes and <span style=\"color: #808000; text-decoration-color: #808000\">...</span> <span style=\"color: #7f7f7f; text-decoration-color: #7f7f7f; font-weight: bold\">(</span><span style=\"color: #7f7f7f; text-decoration-color: #7f7f7f\">length: </span><span style=\"color: #7fbfbf; text-decoration-color: #7fbfbf; font-weight: bold\">143</span><span style=\"color: #7f7f7f; text-decoration-color: #7f7f7f; font-weight: bold\">)</span>         │\n",
       "    │       │   ╰─────────────┴────────────────────────────────────────────────────────────────╯\n",
       "    │       ├── 📄 <span style=\"font-weight: bold\">Document</span>: <span style=\"color: #008080; text-decoration-color: #008080\">96485df0c765b5e276a8b4cf07d52090</span>\n",
       "    │       │   ╭─────────────┬────────────────────────────────────────────────────────────────╮\n",
       "    │       │   │<span style=\"font-weight: bold\"> Attribute   </span>│<span style=\"font-weight: bold\"> Value                                                          </span>│\n",
       "    │       │   ├─────────────┼────────────────────────────────────────────────────────────────┤\n",
       "    │       │   │ parent_id   │ 016088094ac056c3998c75e1fc2ed961                               │\n",
       "    │       │   │ granularity │ <span style=\"color: #008080; text-decoration-color: #008080; font-weight: bold\">2</span>                                                              │\n",
       "    │       │   │ text        │ One geneticist was sceptical of this study and maintained that │\n",
       "    │       │   │             │ the currently recognised nine subspec<span style=\"color: #808000; text-decoration-color: #808000\">...</span> <span style=\"color: #7f7f7f; text-decoration-color: #7f7f7f; font-weight: bold\">(</span><span style=\"color: #7f7f7f; text-decoration-color: #7f7f7f\">length: </span><span style=\"color: #7fbfbf; text-decoration-color: #7fbfbf; font-weight: bold\">435</span><span style=\"color: #7f7f7f; text-decoration-color: #7f7f7f; font-weight: bold\">)</span>         │\n",
       "    │       │   ╰─────────────┴────────────────────────────────────────────────────────────────╯\n",
       "    │       ├── 📄 <span style=\"font-weight: bold\">Document</span>: <span style=\"color: #008080; text-decoration-color: #008080\">0b05fad85c21136db62e33a76f5aa78a</span>\n",
       "    │       │   ╭─────────────┬────────────────────────────────────────────────────────────────╮\n",
       "    │       │   │<span style=\"font-weight: bold\"> Attribute   </span>│<span style=\"font-weight: bold\"> Value                                                          </span>│\n",
       "    │       │   ├─────────────┼────────────────────────────────────────────────────────────────┤\n",
       "    │       │   │ parent_id   │ 016088094ac056c3998c75e1fc2ed961                               │\n",
       "    │       │   │ granularity │ <span style=\"color: #008080; text-decoration-color: #008080; font-weight: bold\">2</span>                                                              │\n",
       "    │       │   │ text        │ Results of a <span style=\"color: #008080; text-decoration-color: #008080; font-weight: bold\">2018</span> whole-genome sequencing of <span style=\"color: #008080; text-decoration-color: #008080; font-weight: bold\">32</span> specimens      │\n",
       "    │       │   │             │ support six monophyletic tiger clades corr<span style=\"color: #808000; text-decoration-color: #808000\">...</span> <span style=\"color: #7f7f7f; text-decoration-color: #7f7f7f; font-weight: bold\">(</span><span style=\"color: #7f7f7f; text-decoration-color: #7f7f7f\">length: </span><span style=\"color: #7fbfbf; text-decoration-color: #7fbfbf; font-weight: bold\">219</span><span style=\"color: #7f7f7f; text-decoration-color: #7f7f7f; font-weight: bold\">)</span>    │\n",
       "    │       │   ╰─────────────┴────────────────────────────────────────────────────────────────╯\n",
       "    │       └── 📄 <span style=\"font-weight: bold\">Document</span>: <span style=\"color: #008080; text-decoration-color: #008080\">1c9bc20df36066eb6ec7b6b1eebd0e3c</span>\n",
       "    │           ╭─────────────┬────────────────────────────────────────────────────────────────╮\n",
       "    │           │<span style=\"font-weight: bold\"> Attribute   </span>│<span style=\"font-weight: bold\"> Value                                                          </span>│\n",
       "    │           ├─────────────┼────────────────────────────────────────────────────────────────┤\n",
       "    │           │ parent_id   │ 016088094ac056c3998c75e1fc2ed961                               │\n",
       "    │           │ granularity │ <span style=\"color: #008080; text-decoration-color: #008080; font-weight: bold\">2</span>                                                              │\n",
       "    │           │ text        │ <span style=\"color: #008080; text-decoration-color: #008080; font-weight: bold\">17</span><span style=\"font-weight: bold\">]</span> The following tables are based on the classification of    │\n",
       "    │           │             │ the species Panthera tigris provided in <span style=\"color: #808000; text-decoration-color: #808000\">...</span> <span style=\"color: #7f7f7f; text-decoration-color: #7f7f7f; font-weight: bold\">(</span><span style=\"color: #7f7f7f; text-decoration-color: #7f7f7f\">length: </span><span style=\"color: #7fbfbf; text-decoration-color: #7fbfbf; font-weight: bold\">229</span><span style=\"color: #7f7f7f; text-decoration-color: #7f7f7f; font-weight: bold\">)</span>      │\n",
       "    │           ╰─────────────┴────────────────────────────────────────────────────────────────╯\n",
       "    ├── 📄 <span style=\"font-weight: bold\">Document</span>: <span style=\"color: #008080; text-decoration-color: #008080\">7c83db8de7288343edf50e4fa5c92de8</span>\n",
       "    │   ╭─────────────┬────────────────────────────────────────────────────────────────╮\n",
       "    │   │<span style=\"font-weight: bold\"> Attribute   </span>│<span style=\"font-weight: bold\"> Value                                                          </span>│\n",
       "    │   ├─────────────┼────────────────────────────────────────────────────────────────┤\n",
       "    │   │ parent_id   │ 9ccaa47ad7299631ed31a8c4638c9d11                               │\n",
       "    │   │ granularity │ <span style=\"color: #008080; text-decoration-color: #008080; font-weight: bold\">1</span>                                                              │\n",
       "    │   │ mime_type   │ text/plain                                                     │\n",
       "    │   │ text        │ Restoration of a Panthera zdanskyi skull, an extinct tiger     │\n",
       "    │   │             │ relative whose fossil remains were found <span style=\"color: #808000; text-decoration-color: #808000\">...</span> <span style=\"color: #7f7f7f; text-decoration-color: #7f7f7f; font-weight: bold\">(</span><span style=\"color: #7f7f7f; text-decoration-color: #7f7f7f\">length: </span><span style=\"color: #7fbfbf; text-decoration-color: #7fbfbf; font-weight: bold\">3411</span><span style=\"color: #7f7f7f; text-decoration-color: #7f7f7f; font-weight: bold\">)</span>    │\n",
       "    │   ╰─────────────┴────────────────────────────────────────────────────────────────╯\n",
       "    │   └── 💠 <span style=\"font-weight: bold\">Chunks</span>\n",
       "    │       ├── 📄 <span style=\"font-weight: bold\">Document</span>: <span style=\"color: #008080; text-decoration-color: #008080\">5b8f6dd1762b079b93bfbcd3a90ccd62</span>\n",
       "    │       │   ╭─────────────┬────────────────────────────────────────────────────────────────╮\n",
       "    │       │   │<span style=\"font-weight: bold\"> Attribute   </span>│<span style=\"font-weight: bold\"> Value                                                          </span>│\n",
       "    │       │   ├─────────────┼────────────────────────────────────────────────────────────────┤\n",
       "    │       │   │ parent_id   │ 7c83db8de7288343edf50e4fa5c92de8                               │\n",
       "    │       │   │ granularity │ <span style=\"color: #008080; text-decoration-color: #008080; font-weight: bold\">2</span>                                                              │\n",
       "    │       │   │ text        │ Restoration of a Panthera zdanskyi skull, an extinct tiger     │\n",
       "    │       │   │             │ relative whose fossil remains were found <span style=\"color: #808000; text-decoration-color: #808000\">...</span> <span style=\"color: #7f7f7f; text-decoration-color: #7f7f7f; font-weight: bold\">(</span><span style=\"color: #7f7f7f; text-decoration-color: #7f7f7f\">length: </span><span style=\"color: #7fbfbf; text-decoration-color: #7fbfbf; font-weight: bold\">232</span><span style=\"color: #7f7f7f; text-decoration-color: #7f7f7f; font-weight: bold\">)</span>     │\n",
       "    │       │   ╰─────────────┴────────────────────────────────────────────────────────────────╯\n",
       "    │       ├── 📄 <span style=\"font-weight: bold\">Document</span>: <span style=\"color: #008080; text-decoration-color: #008080\">d6c53bbde22b6421938be87ac664e04e</span>\n",
       "    │       │   ╭─────────────┬────────────────────────────────────────────────────────────────╮\n",
       "    │       │   │<span style=\"font-weight: bold\"> Attribute   </span>│<span style=\"font-weight: bold\"> Value                                                          </span>│\n",
       "    │       │   ├─────────────┼────────────────────────────────────────────────────────────────┤\n",
       "    │       │   │ parent_id   │ 7c83db8de7288343edf50e4fa5c92de8                               │\n",
       "    │       │   │ granularity │ <span style=\"color: #008080; text-decoration-color: #008080; font-weight: bold\">2</span>                                                              │\n",
       "    │       │   │ text        │ Results of genetic analysis indicate that about <span style=\"color: #008080; text-decoration-color: #008080; font-weight: bold\">2.88</span> million   │\n",
       "    │       │   │             │ years ago, the tiger and the snow leopa<span style=\"color: #808000; text-decoration-color: #808000\">...</span> <span style=\"color: #7f7f7f; text-decoration-color: #7f7f7f; font-weight: bold\">(</span><span style=\"color: #7f7f7f; text-decoration-color: #7f7f7f\">length: </span><span style=\"color: #7fbfbf; text-decoration-color: #7fbfbf; font-weight: bold\">249</span><span style=\"color: #7f7f7f; text-decoration-color: #7f7f7f; font-weight: bold\">)</span>       │\n",
       "    │       │   ╰─────────────┴────────────────────────────────────────────────────────────────╯\n",
       "    │       ├── 📄 <span style=\"font-weight: bold\">Document</span>: <span style=\"color: #008080; text-decoration-color: #008080\">82c787e11ab503c01d2f653138cbedf5</span>\n",
       "    │       │   ╭─────────────┬────────────────────────────────────────────────────────────────╮\n",
       "    │       │   │<span style=\"font-weight: bold\"> Attribute   </span>│<span style=\"font-weight: bold\"> Value                                                          </span>│\n",
       "    │       │   ├─────────────┼────────────────────────────────────────────────────────────────┤\n",
       "    │       │   │ parent_id   │ 7c83db8de7288343edf50e4fa5c92de8                               │\n",
       "    │       │   │ granularity │ <span style=\"color: #008080; text-decoration-color: #008080; font-weight: bold\">2</span>                                                              │\n",
       "    │       │   │ text        │ <span style=\"color: #008080; text-decoration-color: #008080; font-weight: bold\">32</span><span style=\"font-weight: bold\">]</span> <span style=\"font-weight: bold\">[</span><span style=\"color: #008080; text-decoration-color: #008080; font-weight: bold\">33</span><span style=\"font-weight: bold\">]</span> The geographic origin of the Panthera is most likely  │\n",
       "    │       │   │             │ northern Central Asia.                                         │\n",
       "    │       │   ╰─────────────┴────────────────────────────────────────────────────────────────╯\n",
       "    │       ├── 📄 <span style=\"font-weight: bold\">Document</span>: <span style=\"color: #008080; text-decoration-color: #008080\">e562d66c8846392fc0e783442a3c0934</span>\n",
       "    │       │   ╭─────────────┬────────────────────────────────────────────────────────────────╮\n",
       "    │       │   │<span style=\"font-weight: bold\"> Attribute   </span>│<span style=\"font-weight: bold\"> Value                                                          </span>│\n",
       "    │       │   ├─────────────┼────────────────────────────────────────────────────────────────┤\n",
       "    │       │   │ parent_id   │ 7c83db8de7288343edf50e4fa5c92de8                               │\n",
       "    │       │   │ granularity │ <span style=\"color: #008080; text-decoration-color: #008080; font-weight: bold\">2</span>                                                              │\n",
       "    │       │   │ text        │ The tiger–snow leopard lineage dispersed in Southeast Asia     │\n",
       "    │       │   │             │ during the Miocene.<span style=\"font-weight: bold\">[</span><span style=\"color: #008080; text-decoration-color: #008080; font-weight: bold\">34</span><span style=\"font-weight: bold\">]</span> Panthera zdanskyi<span style=\"color: #808000; text-decoration-color: #808000\">...</span> <span style=\"color: #7f7f7f; text-decoration-color: #7f7f7f; font-weight: bold\">(</span><span style=\"color: #7f7f7f; text-decoration-color: #7f7f7f\">length: </span><span style=\"color: #7fbfbf; text-decoration-color: #7fbfbf; font-weight: bold\">156</span><span style=\"color: #7f7f7f; text-decoration-color: #7f7f7f; font-weight: bold\">)</span>     │\n",
       "    │       │   ╰─────────────┴────────────────────────────────────────────────────────────────╯\n",
       "    │       ├── 📄 <span style=\"font-weight: bold\">Document</span>: <span style=\"color: #008080; text-decoration-color: #008080\">21eb8d3413dd8b84df1f336072862cdb</span>\n",
       "    │       │   ╭─────────────┬────────────────────────────────────────────────────────────────╮\n",
       "    │       │   │<span style=\"font-weight: bold\"> Attribute   </span>│<span style=\"font-weight: bold\"> Value                                                          </span>│\n",
       "    │       │   ├─────────────┼────────────────────────────────────────────────────────────────┤\n",
       "    │       │   │ parent_id   │ 7c83db8de7288343edf50e4fa5c92de8                               │\n",
       "    │       │   │ granularity │ <span style=\"color: #008080; text-decoration-color: #008080; font-weight: bold\">2</span>                                                              │\n",
       "    │       │   │ text        │ It lived at the beginning of the Pleistocene about two million │\n",
       "    │       │   │             │ years ago, its fossil remains were ex<span style=\"color: #808000; text-decoration-color: #808000\">...</span> <span style=\"color: #7f7f7f; text-decoration-color: #7f7f7f; font-weight: bold\">(</span><span style=\"color: #7f7f7f; text-decoration-color: #7f7f7f\">length: </span><span style=\"color: #7fbfbf; text-decoration-color: #7fbfbf; font-weight: bold\">139</span><span style=\"color: #7f7f7f; text-decoration-color: #7f7f7f; font-weight: bold\">)</span>         │\n",
       "    │       │   ╰─────────────┴────────────────────────────────────────────────────────────────╯\n",
       "    │       ├── 📄 <span style=\"font-weight: bold\">Document</span>: <span style=\"color: #008080; text-decoration-color: #008080\">4c0a67f3f683ca4587ef7f4b73a881c7</span>\n",
       "    │       │   ╭─────────────┬────────────────────────────────────────────────────────────────╮\n",
       "    │       │   │<span style=\"font-weight: bold\"> Attribute   </span>│<span style=\"font-weight: bold\"> Value                                                          </span>│\n",
       "    │       │   ├─────────────┼────────────────────────────────────────────────────────────────┤\n",
       "    │       │   │ parent_id   │ 7c83db8de7288343edf50e4fa5c92de8                               │\n",
       "    │       │   │ granularity │ <span style=\"color: #008080; text-decoration-color: #008080; font-weight: bold\">2</span>                                                              │\n",
       "    │       │   │ text        │ It was smaller and more <span style=\"color: #008000; text-decoration-color: #008000\">\"primitive\"</span>, but functionally and      │\n",
       "    │       │   │             │ ecologically similar to the modern tiger.                      │\n",
       "    │       │   ╰─────────────┴────────────────────────────────────────────────────────────────╯\n",
       "    │       ├── 📄 <span style=\"font-weight: bold\">Document</span>: <span style=\"color: #008080; text-decoration-color: #008080\">72e6fd9d225ab55d1d241879d909dd30</span>\n",
       "    │       │   ╭──────────────┬───────────────────────────────────────────────────────────────╮\n",
       "    │       │   │<span style=\"font-weight: bold\"> Attribute    </span>│<span style=\"font-weight: bold\"> Value                                                         </span>│\n",
       "    │       │   ├──────────────┼───────────────────────────────────────────────────────────────┤\n",
       "    │       │   │ parent_id    │ 7c83db8de7288343edf50e4fa5c92de8                              │\n",
       "    │       │   │ granularity  │ <span style=\"color: #008080; text-decoration-color: #008080; font-weight: bold\">2</span>                                                             │\n",
       "    │       │   │ text         │ It is disputed as to whether it had the striping pattern.     │\n",
       "    │       │   ╰──────────────┴───────────────────────────────────────────────────────────────╯\n",
       "    │       ├── 📄 <span style=\"font-weight: bold\">Document</span>: <span style=\"color: #008080; text-decoration-color: #008080\">a09afc05bd7bd490042ae5ce397679e1</span>\n",
       "    │       │   ╭─────────────┬────────────────────────────────────────────────────────────────╮\n",
       "    │       │   │<span style=\"font-weight: bold\"> Attribute   </span>│<span style=\"font-weight: bold\"> Value                                                          </span>│\n",
       "    │       │   ├─────────────┼────────────────────────────────────────────────────────────────┤\n",
       "    │       │   │ parent_id   │ 7c83db8de7288343edf50e4fa5c92de8                               │\n",
       "    │       │   │ granularity │ <span style=\"color: #008080; text-decoration-color: #008080; font-weight: bold\">2</span>                                                              │\n",
       "    │       │   │ text        │ Northwestern China is thought to be the origin of the tiger    │\n",
       "    │       │   │             │ lineage.                                                       │\n",
       "    │       │   ╰─────────────┴────────────────────────────────────────────────────────────────╯\n",
       "    │       ├── 📄 <span style=\"font-weight: bold\">Document</span>: <span style=\"color: #008080; text-decoration-color: #008080\">877e08386bb14aae0c2c288c783be0dd</span>\n",
       "    │       │   ╭─────────────┬────────────────────────────────────────────────────────────────╮\n",
       "    │       │   │<span style=\"font-weight: bold\"> Attribute   </span>│<span style=\"font-weight: bold\"> Value                                                          </span>│\n",
       "    │       │   ├─────────────┼────────────────────────────────────────────────────────────────┤\n",
       "    │       │   │ parent_id   │ 7c83db8de7288343edf50e4fa5c92de8                               │\n",
       "    │       │   │ granularity │ <span style=\"color: #008080; text-decoration-color: #008080; font-weight: bold\">2</span>                                                              │\n",
       "    │       │   │ text        │ Tigers grew in size, possibly in response to adaptive          │\n",
       "    │       │   │             │ radiations of prey species like deer and bovid<span style=\"color: #808000; text-decoration-color: #808000\">...</span> <span style=\"color: #7f7f7f; text-decoration-color: #7f7f7f; font-weight: bold\">(</span><span style=\"color: #7f7f7f; text-decoration-color: #7f7f7f\">length: </span>    │\n",
       "    │       │   │             │ <span style=\"color: #7fbfbf; text-decoration-color: #7fbfbf; font-weight: bold\">176</span><span style=\"color: #7f7f7f; text-decoration-color: #7f7f7f; font-weight: bold\">)</span>                                                           │\n",
       "    │       │   ╰─────────────┴────────────────────────────────────────────────────────────────╯\n",
       "    │       ├── 📄 <span style=\"font-weight: bold\">Document</span>: <span style=\"color: #008080; text-decoration-color: #008080\">2510cb3914d936fe53db64c544fe8319</span>\n",
       "    │       │   ╭─────────────┬────────────────────────────────────────────────────────────────╮\n",
       "    │       │   │<span style=\"font-weight: bold\"> Attribute   </span>│<span style=\"font-weight: bold\"> Value                                                          </span>│\n",
       "    │       │   ├─────────────┼────────────────────────────────────────────────────────────────┤\n",
       "    │       │   │ parent_id   │ 7c83db8de7288343edf50e4fa5c92de8                               │\n",
       "    │       │   │ granularity │ <span style=\"color: #008080; text-decoration-color: #008080; font-weight: bold\">2</span>                                                              │\n",
       "    │       │   │ text        │ <span style=\"color: #008080; text-decoration-color: #008080; font-weight: bold\">35</span><span style=\"font-weight: bold\">]</span> Panthera tigris trinilensis lived about <span style=\"color: #008080; text-decoration-color: #008080; font-weight: bold\">1.2</span> million years  │\n",
       "    │       │   │             │ ago and is known from fossils excavate<span style=\"color: #808000; text-decoration-color: #808000\">...</span> <span style=\"color: #7f7f7f; text-decoration-color: #7f7f7f; font-weight: bold\">(</span><span style=\"color: #7f7f7f; text-decoration-color: #7f7f7f\">length: </span><span style=\"color: #7fbfbf; text-decoration-color: #7fbfbf; font-weight: bold\">331</span><span style=\"color: #7f7f7f; text-decoration-color: #7f7f7f; font-weight: bold\">)</span>        │\n",
       "    │       │   ╰─────────────┴────────────────────────────────────────────────────────────────╯\n",
       "    │       ├── 📄 <span style=\"font-weight: bold\">Document</span>: <span style=\"color: #008080; text-decoration-color: #008080\">9465e1d64af91b7e85f239a5ad979df4</span>\n",
       "    │       │   ╭─────────────┬────────────────────────────────────────────────────────────────╮\n",
       "    │       │   │<span style=\"font-weight: bold\"> Attribute   </span>│<span style=\"font-weight: bold\"> Value                                                          </span>│\n",
       "    │       │   ├─────────────┼────────────────────────────────────────────────────────────────┤\n",
       "    │       │   │ parent_id   │ 7c83db8de7288343edf50e4fa5c92de8                               │\n",
       "    │       │   │ granularity │ <span style=\"color: #008080; text-decoration-color: #008080; font-weight: bold\">2</span>                                                              │\n",
       "    │       │   │ text        │ Some fossil skulls are morphologically distinct from lion      │\n",
       "    │       │   │             │ skulls, which could indicate tiger presenc<span style=\"color: #808000; text-decoration-color: #808000\">...</span> <span style=\"color: #7f7f7f; text-decoration-color: #7f7f7f; font-weight: bold\">(</span><span style=\"color: #7f7f7f; text-decoration-color: #7f7f7f\">length: </span><span style=\"color: #7fbfbf; text-decoration-color: #7fbfbf; font-weight: bold\">316</span><span style=\"color: #7f7f7f; text-decoration-color: #7f7f7f; font-weight: bold\">)</span>    │\n",
       "    │       │   ╰─────────────┴────────────────────────────────────────────────────────────────╯\n",
       "    │       ├── 📄 <span style=\"font-weight: bold\">Document</span>: <span style=\"color: #008080; text-decoration-color: #008080\">04e82f4bed1e4507dbeecb097926708f</span>\n",
       "    │       │   ╭─────────────┬────────────────────────────────────────────────────────────────╮\n",
       "    │       │   │<span style=\"font-weight: bold\"> Attribute   </span>│<span style=\"font-weight: bold\"> Value                                                          </span>│\n",
       "    │       │   ├─────────────┼────────────────────────────────────────────────────────────────┤\n",
       "    │       │   │ parent_id   │ 7c83db8de7288343edf50e4fa5c92de8                               │\n",
       "    │       │   │ granularity │ <span style=\"color: #008080; text-decoration-color: #008080; font-weight: bold\">2</span>                                                              │\n",
       "    │       │   │ text        │ They were smaller than mainland tiger fossils, possibly due to │\n",
       "    │       │   │             │ insular dwarfism.<span style=\"font-weight: bold\">[</span><span style=\"color: #008080; text-decoration-color: #008080; font-weight: bold\">39</span><span style=\"font-weight: bold\">]</span> It has been spe<span style=\"color: #808000; text-decoration-color: #808000\">...</span> <span style=\"color: #7f7f7f; text-decoration-color: #7f7f7f; font-weight: bold\">(</span><span style=\"color: #7f7f7f; text-decoration-color: #7f7f7f\">length: </span><span style=\"color: #7fbfbf; text-decoration-color: #7fbfbf; font-weight: bold\">236</span><span style=\"color: #7f7f7f; text-decoration-color: #7f7f7f; font-weight: bold\">)</span>         │\n",
       "    │       │   ╰─────────────┴────────────────────────────────────────────────────────────────╯\n",
       "    │       ├── 📄 <span style=\"font-weight: bold\">Document</span>: <span style=\"color: #008080; text-decoration-color: #008080\">b49ac42d53276845da68ca692be1e4c2</span>\n",
       "    │       │   ╭─────────────┬────────────────────────────────────────────────────────────────╮\n",
       "    │       │   │<span style=\"font-weight: bold\"> Attribute   </span>│<span style=\"font-weight: bold\"> Value                                                          </span>│\n",
       "    │       │   ├─────────────┼────────────────────────────────────────────────────────────────┤\n",
       "    │       │   │ parent_id   │ 7c83db8de7288343edf50e4fa5c92de8                               │\n",
       "    │       │   │ granularity │ <span style=\"color: #008080; text-decoration-color: #008080; font-weight: bold\">2</span>                                                              │\n",
       "    │       │   │ text        │ <span style=\"color: #008080; text-decoration-color: #008080; font-weight: bold\">40</span><span style=\"font-weight: bold\">]</span> <span style=\"font-weight: bold\">[</span><span style=\"color: #008080; text-decoration-color: #008080; font-weight: bold\">41</span><span style=\"font-weight: bold\">]</span> Fossil remains of tigers were also excavated in Sri   │\n",
       "    │       │   │             │ Lanka, China, Japan and Sarawak dating <span style=\"color: #808000; text-decoration-color: #808000\">...</span> <span style=\"color: #7f7f7f; text-decoration-color: #7f7f7f; font-weight: bold\">(</span><span style=\"color: #7f7f7f; text-decoration-color: #7f7f7f\">length: </span><span style=\"color: #7fbfbf; text-decoration-color: #7fbfbf; font-weight: bold\">155</span><span style=\"color: #7f7f7f; text-decoration-color: #7f7f7f; font-weight: bold\">)</span>       │\n",
       "    │       │   ╰─────────────┴────────────────────────────────────────────────────────────────╯\n",
       "    │       ├── 📄 <span style=\"font-weight: bold\">Document</span>: <span style=\"color: #008080; text-decoration-color: #008080\">b0ddb8afb0d417c298616aa5b68ca06e</span>\n",
       "    │       │   ╭─────────────┬────────────────────────────────────────────────────────────────╮\n",
       "    │       │   │<span style=\"font-weight: bold\"> Attribute   </span>│<span style=\"font-weight: bold\"> Value                                                          </span>│\n",
       "    │       │   ├─────────────┼────────────────────────────────────────────────────────────────┤\n",
       "    │       │   │ parent_id   │ 7c83db8de7288343edf50e4fa5c92de8                               │\n",
       "    │       │   │ granularity │ <span style=\"color: #008080; text-decoration-color: #008080; font-weight: bold\">2</span>                                                              │\n",
       "    │       │   │ text        │ <span style=\"color: #008080; text-decoration-color: #008080; font-weight: bold\">38</span><span style=\"font-weight: bold\">]</span> <span style=\"font-weight: bold\">[</span><span style=\"color: #008080; text-decoration-color: #008080; font-weight: bold\">42</span><span style=\"font-weight: bold\">]</span> The Bornean tiger was apparently present in Borneo    │\n",
       "    │       │   │             │ between the Late Pleistocene and the Hol<span style=\"color: #808000; text-decoration-color: #808000\">...</span> <span style=\"color: #7f7f7f; text-decoration-color: #7f7f7f; font-weight: bold\">(</span><span style=\"color: #7f7f7f; text-decoration-color: #7f7f7f\">length: </span><span style=\"color: #7fbfbf; text-decoration-color: #7fbfbf; font-weight: bold\">190</span><span style=\"color: #7f7f7f; text-decoration-color: #7f7f7f; font-weight: bold\">)</span>      │\n",
       "    │       │   ╰─────────────┴────────────────────────────────────────────────────────────────╯\n",
       "    │       ├── 📄 <span style=\"font-weight: bold\">Document</span>: <span style=\"color: #008080; text-decoration-color: #008080\">4d4e32e232f67566b4a7998c24cf22e1</span>\n",
       "    │       │   ╭─────────────┬────────────────────────────────────────────────────────────────╮\n",
       "    │       │   │<span style=\"font-weight: bold\"> Attribute   </span>│<span style=\"font-weight: bold\"> Value                                                          </span>│\n",
       "    │       │   ├─────────────┼────────────────────────────────────────────────────────────────┤\n",
       "    │       │   │ parent_id   │ 7c83db8de7288343edf50e4fa5c92de8                               │\n",
       "    │       │   │ granularity │ <span style=\"color: #008080; text-decoration-color: #008080; font-weight: bold\">2</span>                                                              │\n",
       "    │       │   │ text        │ <span style=\"color: #008080; text-decoration-color: #008080; font-weight: bold\">42</span><span style=\"font-weight: bold\">]</span> <span style=\"font-weight: bold\">[</span><span style=\"color: #008080; text-decoration-color: #008080; font-weight: bold\">43</span><span style=\"font-weight: bold\">]</span> Results of a phylogeographic study indicate that all  │\n",
       "    │       │   │             │ living tigers had a common ancestor <span style=\"color: #008080; text-decoration-color: #008080; font-weight: bold\">10</span><span style=\"color: #808000; text-decoration-color: #808000\">...</span> <span style=\"color: #7f7f7f; text-decoration-color: #7f7f7f; font-weight: bold\">(</span><span style=\"color: #7f7f7f; text-decoration-color: #7f7f7f\">length: </span><span style=\"color: #7fbfbf; text-decoration-color: #7fbfbf; font-weight: bold\">325</span><span style=\"color: #7f7f7f; text-decoration-color: #7f7f7f; font-weight: bold\">)</span>        │\n",
       "    │       │   ╰─────────────┴────────────────────────────────────────────────────────────────╯\n",
       "    │       ├── 📄 <span style=\"font-weight: bold\">Document</span>: <span style=\"color: #008080; text-decoration-color: #008080\">a4d4f9c0f4ef0c55a7c85b545f44dda7</span>\n",
       "    │       │   ╭─────────────┬────────────────────────────────────────────────────────────────╮\n",
       "    │       │   │<span style=\"font-weight: bold\"> Attribute   </span>│<span style=\"font-weight: bold\"> Value                                                          </span>│\n",
       "    │       │   ├─────────────┼────────────────────────────────────────────────────────────────┤\n",
       "    │       │   │ parent_id   │ 7c83db8de7288343edf50e4fa5c92de8                               │\n",
       "    │       │   │ granularity │ <span style=\"color: #008080; text-decoration-color: #008080; font-weight: bold\">2</span>                                                              │\n",
       "    │       │   │ text        │ The resulting model shows a contiguous tiger range at the Last │\n",
       "    │       │   │             │ Glacial Maximum, indicating gene flow<span style=\"color: #808000; text-decoration-color: #808000\">...</span> <span style=\"color: #7f7f7f; text-decoration-color: #7f7f7f; font-weight: bold\">(</span><span style=\"color: #7f7f7f; text-decoration-color: #7f7f7f\">length: </span><span style=\"color: #7fbfbf; text-decoration-color: #7fbfbf; font-weight: bold\">144</span><span style=\"color: #7f7f7f; text-decoration-color: #7f7f7f; font-weight: bold\">)</span>         │\n",
       "    │       │   ╰─────────────┴────────────────────────────────────────────────────────────────╯\n",
       "    │       ├── 📄 <span style=\"font-weight: bold\">Document</span>: <span style=\"color: #008080; text-decoration-color: #008080\">2d7b9e403588c3a970a700279919a74e</span>\n",
       "    │       │   ╭─────────────┬────────────────────────────────────────────────────────────────╮\n",
       "    │       │   │<span style=\"font-weight: bold\"> Attribute   </span>│<span style=\"font-weight: bold\"> Value                                                          </span>│\n",
       "    │       │   ├─────────────┼────────────────────────────────────────────────────────────────┤\n",
       "    │       │   │ parent_id   │ 7c83db8de7288343edf50e4fa5c92de8                               │\n",
       "    │       │   │ granularity │ <span style=\"color: #008080; text-decoration-color: #008080; font-weight: bold\">2</span>                                                              │\n",
       "    │       │   │ text        │ The Caspian tiger population was likely connected to the       │\n",
       "    │       │   │             │ Bengal tiger population through corridors b<span style=\"color: #808000; text-decoration-color: #808000\">...</span> <span style=\"color: #7f7f7f; text-decoration-color: #7f7f7f; font-weight: bold\">(</span><span style=\"color: #7f7f7f; text-decoration-color: #7f7f7f\">length: </span><span style=\"color: #7fbfbf; text-decoration-color: #7fbfbf; font-weight: bold\">157</span><span style=\"color: #7f7f7f; text-decoration-color: #7f7f7f; font-weight: bold\">)</span>   │\n",
       "    │       │   ╰─────────────┴────────────────────────────────────────────────────────────────╯\n",
       "    │       ├── 📄 <span style=\"font-weight: bold\">Document</span>: <span style=\"color: #008080; text-decoration-color: #008080\">b15c8e78e0ff115abce2faeccf079c9c</span>\n",
       "    │       │   ╭─────────────┬────────────────────────────────────────────────────────────────╮\n",
       "    │       │   │<span style=\"font-weight: bold\"> Attribute   </span>│<span style=\"font-weight: bold\"> Value                                                          </span>│\n",
       "    │       │   ├─────────────┼────────────────────────────────────────────────────────────────┤\n",
       "    │       │   │ parent_id   │ 7c83db8de7288343edf50e4fa5c92de8                               │\n",
       "    │       │   │ granularity │ <span style=\"color: #008080; text-decoration-color: #008080; font-weight: bold\">2</span>                                                              │\n",
       "    │       │   │ text        │ The tiger populations on the Sunda Islands and mainland Asia   │\n",
       "    │       │   │             │ were possibly separated during intergla<span style=\"color: #808000; text-decoration-color: #808000\">...</span> <span style=\"color: #7f7f7f; text-decoration-color: #7f7f7f; font-weight: bold\">(</span><span style=\"color: #7f7f7f; text-decoration-color: #7f7f7f\">length: </span><span style=\"color: #7fbfbf; text-decoration-color: #7fbfbf; font-weight: bold\">173</span><span style=\"color: #7f7f7f; text-decoration-color: #7f7f7f; font-weight: bold\">)</span>       │\n",
       "    │       │   ╰─────────────┴────────────────────────────────────────────────────────────────╯\n",
       "    │       └── 📄 <span style=\"font-weight: bold\">Document</span>: <span style=\"color: #008080; text-decoration-color: #008080\">cfbade5b997a7ae1160d939fccfa5a91</span>\n",
       "    │           ╭─────────────┬────────────────────────────────────────────────────────────────╮\n",
       "    │           │<span style=\"font-weight: bold\"> Attribute   </span>│<span style=\"font-weight: bold\"> Value                                                          </span>│\n",
       "    │           ├─────────────┼────────────────────────────────────────────────────────────────┤\n",
       "    │           │ parent_id   │ 7c83db8de7288343edf50e4fa5c92de8                               │\n",
       "    │           │ granularity │ <span style=\"color: #008080; text-decoration-color: #008080; font-weight: bold\">2</span>                                                              │\n",
       "    │           │ text        │ It was found to have similar repeat composition to other cat   │\n",
       "    │           │             │ genomes and an appreciably conserved sy<span style=\"color: #808000; text-decoration-color: #808000\">...</span> <span style=\"color: #7f7f7f; text-decoration-color: #7f7f7f; font-weight: bold\">(</span><span style=\"color: #7f7f7f; text-decoration-color: #7f7f7f\">length: </span><span style=\"color: #7fbfbf; text-decoration-color: #7fbfbf; font-weight: bold\">110</span><span style=\"color: #7f7f7f; text-decoration-color: #7f7f7f; font-weight: bold\">)</span>       │\n",
       "    │           ╰─────────────┴────────────────────────────────────────────────────────────────╯\n",
       "    ├── 📄 <span style=\"font-weight: bold\">Document</span>: <span style=\"color: #008080; text-decoration-color: #008080\">eaed8673c4f72e8cbf129e84a0845bf8</span>\n",
       "    │   ╭─────────────┬────────────────────────────────────────────────────────────────╮\n",
       "    │   │<span style=\"font-weight: bold\"> Attribute   </span>│<span style=\"font-weight: bold\"> Value                                                          </span>│\n",
       "    │   ├─────────────┼────────────────────────────────────────────────────────────────┤\n",
       "    │   │ parent_id   │ 9ccaa47ad7299631ed31a8c4638c9d11                               │\n",
       "    │   │ granularity │ <span style=\"color: #008080; text-decoration-color: #008080; font-weight: bold\">1</span>                                                              │\n",
       "    │   │ mime_type   │ text/plain                                                     │\n",
       "    │   │ text        │ The tiger <span style=\"font-weight: bold\">(</span>Panthera tigris<span style=\"font-weight: bold\">)</span> is the largest living cat species  │\n",
       "    │   │             │ and a member of the genus Panthera. It<span style=\"color: #808000; text-decoration-color: #808000\">...</span> <span style=\"color: #7f7f7f; text-decoration-color: #7f7f7f; font-weight: bold\">(</span><span style=\"color: #7f7f7f; text-decoration-color: #7f7f7f\">length: </span><span style=\"color: #7fbfbf; text-decoration-color: #7fbfbf; font-weight: bold\">3042</span><span style=\"color: #7f7f7f; text-decoration-color: #7f7f7f; font-weight: bold\">)</span>       │\n",
       "    │   ╰─────────────┴────────────────────────────────────────────────────────────────╯\n",
       "    │   └── 💠 <span style=\"font-weight: bold\">Chunks</span>\n",
       "    │       ├── 📄 <span style=\"font-weight: bold\">Document</span>: <span style=\"color: #008080; text-decoration-color: #008080\">3b47e04e19bebe60b7ba976203fc63de</span>\n",
       "    │       │   ╭─────────────┬────────────────────────────────────────────────────────────────╮\n",
       "    │       │   │<span style=\"font-weight: bold\"> Attribute   </span>│<span style=\"font-weight: bold\"> Value                                                          </span>│\n",
       "    │       │   ├─────────────┼────────────────────────────────────────────────────────────────┤\n",
       "    │       │   │ parent_id   │ eaed8673c4f72e8cbf129e84a0845bf8                               │\n",
       "    │       │   │ granularity │ <span style=\"color: #008080; text-decoration-color: #008080; font-weight: bold\">2</span>                                                              │\n",
       "    │       │   │ text        │ The tiger <span style=\"font-weight: bold\">(</span>Panthera tigris<span style=\"font-weight: bold\">)</span> is the largest living cat species  │\n",
       "    │       │   │             │ and a member of the genus Panthera.                            │\n",
       "    │       │   ╰─────────────┴────────────────────────────────────────────────────────────────╯\n",
       "    │       ├── 📄 <span style=\"font-weight: bold\">Document</span>: <span style=\"color: #008080; text-decoration-color: #008080\">11013ae9b4e7e1b2aad1e525f4feb210</span>\n",
       "    │       │   ╭─────────────┬────────────────────────────────────────────────────────────────╮\n",
       "    │       │   │<span style=\"font-weight: bold\"> Attribute   </span>│<span style=\"font-weight: bold\"> Value                                                          </span>│\n",
       "    │       │   ├─────────────┼────────────────────────────────────────────────────────────────┤\n",
       "    │       │   │ parent_id   │ eaed8673c4f72e8cbf129e84a0845bf8                               │\n",
       "    │       │   │ granularity │ <span style=\"color: #008080; text-decoration-color: #008080; font-weight: bold\">2</span>                                                              │\n",
       "    │       │   │ text        │ It is most recognisable for its dark vertical stripes on       │\n",
       "    │       │   │             │ orange fur with a white underside.                             │\n",
       "    │       │   ╰─────────────┴────────────────────────────────────────────────────────────────╯\n",
       "    │       ├── 📄 <span style=\"font-weight: bold\">Document</span>: <span style=\"color: #008080; text-decoration-color: #008080\">fc94506f478123772455fa1e621d52bf</span>\n",
       "    │       │   ╭─────────────┬────────────────────────────────────────────────────────────────╮\n",
       "    │       │   │<span style=\"font-weight: bold\"> Attribute   </span>│<span style=\"font-weight: bold\"> Value                                                          </span>│\n",
       "    │       │   ├─────────────┼────────────────────────────────────────────────────────────────┤\n",
       "    │       │   │ parent_id   │ eaed8673c4f72e8cbf129e84a0845bf8                               │\n",
       "    │       │   │ granularity │ <span style=\"color: #008080; text-decoration-color: #008080; font-weight: bold\">2</span>                                                              │\n",
       "    │       │   │ text        │ An apex predator, it primarily preys on ungulates such as deer │\n",
       "    │       │   │             │ and wild boar.                                                 │\n",
       "    │       │   ╰─────────────┴────────────────────────────────────────────────────────────────╯\n",
       "    │       ├── 📄 <span style=\"font-weight: bold\">Document</span>: <span style=\"color: #008080; text-decoration-color: #008080\">dc76408d19a738e9786f6e0224afc187</span>\n",
       "    │       │   ╭─────────────┬────────────────────────────────────────────────────────────────╮\n",
       "    │       │   │<span style=\"font-weight: bold\"> Attribute   </span>│<span style=\"font-weight: bold\"> Value                                                          </span>│\n",
       "    │       │   ├─────────────┼────────────────────────────────────────────────────────────────┤\n",
       "    │       │   │ parent_id   │ eaed8673c4f72e8cbf129e84a0845bf8                               │\n",
       "    │       │   │ granularity │ <span style=\"color: #008080; text-decoration-color: #008080; font-weight: bold\">2</span>                                                              │\n",
       "    │       │   │ text        │ It is territorial and generally a solitary but social          │\n",
       "    │       │   │             │ predator, requiring large contiguous areas of <span style=\"color: #808000; text-decoration-color: #808000\">...</span> <span style=\"color: #7f7f7f; text-decoration-color: #7f7f7f; font-weight: bold\">(</span><span style=\"color: #7f7f7f; text-decoration-color: #7f7f7f\">length: </span>    │\n",
       "    │       │   │             │ <span style=\"color: #7fbfbf; text-decoration-color: #7fbfbf; font-weight: bold\">178</span><span style=\"color: #7f7f7f; text-decoration-color: #7f7f7f; font-weight: bold\">)</span>                                                           │\n",
       "    │       │   ╰─────────────┴────────────────────────────────────────────────────────────────╯\n",
       "    │       ├── 📄 <span style=\"font-weight: bold\">Document</span>: <span style=\"color: #008080; text-decoration-color: #008080\">e2e0cd80a613d8580f290e09e3f5824f</span>\n",
       "    │       │   ╭─────────────┬────────────────────────────────────────────────────────────────╮\n",
       "    │       │   │<span style=\"font-weight: bold\"> Attribute   </span>│<span style=\"font-weight: bold\"> Value                                                          </span>│\n",
       "    │       │   ├─────────────┼────────────────────────────────────────────────────────────────┤\n",
       "    │       │   │ parent_id   │ eaed8673c4f72e8cbf129e84a0845bf8                               │\n",
       "    │       │   │ granularity │ <span style=\"color: #008080; text-decoration-color: #008080; font-weight: bold\">2</span>                                                              │\n",
       "    │       │   │ text        │ Tiger cubs stay with their mother for about two years, then    │\n",
       "    │       │   │             │ become independent and leave their mothe<span style=\"color: #808000; text-decoration-color: #808000\">...</span> <span style=\"color: #7f7f7f; text-decoration-color: #7f7f7f; font-weight: bold\">(</span><span style=\"color: #7f7f7f; text-decoration-color: #7f7f7f\">length: </span><span style=\"color: #7fbfbf; text-decoration-color: #7fbfbf; font-weight: bold\">138</span><span style=\"color: #7f7f7f; text-decoration-color: #7f7f7f; font-weight: bold\">)</span>      │\n",
       "    │       │   ╰─────────────┴────────────────────────────────────────────────────────────────╯\n",
       "    │       ├── 📄 <span style=\"font-weight: bold\">Document</span>: <span style=\"color: #008080; text-decoration-color: #008080\">3e37f5a9f95ed4525f895ca6980b99a0</span>\n",
       "    │       │   ╭─────────────┬────────────────────────────────────────────────────────────────╮\n",
       "    │       │   │<span style=\"font-weight: bold\"> Attribute   </span>│<span style=\"font-weight: bold\"> Value                                                          </span>│\n",
       "    │       │   ├─────────────┼────────────────────────────────────────────────────────────────┤\n",
       "    │       │   │ parent_id   │ eaed8673c4f72e8cbf129e84a0845bf8                               │\n",
       "    │       │   │ granularity │ <span style=\"color: #008080; text-decoration-color: #008080; font-weight: bold\">2</span>                                                              │\n",
       "    │       │   │ text        │ The tiger was first scientifically described in <span style=\"color: #008080; text-decoration-color: #008080; font-weight: bold\">1758</span> and once  │\n",
       "    │       │   │             │ ranged widely from the Eastern Anatoli<span style=\"color: #808000; text-decoration-color: #808000\">...</span> <span style=\"color: #7f7f7f; text-decoration-color: #7f7f7f; font-weight: bold\">(</span><span style=\"color: #7f7f7f; text-decoration-color: #7f7f7f\">length: </span><span style=\"color: #7fbfbf; text-decoration-color: #7fbfbf; font-weight: bold\">240</span><span style=\"color: #7f7f7f; text-decoration-color: #7f7f7f; font-weight: bold\">)</span>        │\n",
       "    │       │   ╰─────────────┴────────────────────────────────────────────────────────────────╯\n",
       "    │       ├── 📄 <span style=\"font-weight: bold\">Document</span>: <span style=\"color: #008080; text-decoration-color: #008080\">d92ac4983484c431fc16325a584817b5</span>\n",
       "    │       │   ╭─────────────┬────────────────────────────────────────────────────────────────╮\n",
       "    │       │   │<span style=\"font-weight: bold\"> Attribute   </span>│<span style=\"font-weight: bold\"> Value                                                          </span>│\n",
       "    │       │   ├─────────────┼────────────────────────────────────────────────────────────────┤\n",
       "    │       │   │ parent_id   │ eaed8673c4f72e8cbf129e84a0845bf8                               │\n",
       "    │       │   │ granularity │ <span style=\"color: #008080; text-decoration-color: #008080; font-weight: bold\">2</span>                                                              │\n",
       "    │       │   │ text        │ Since the early 20th century, tiger populations have lost at   │\n",
       "    │       │   │             │ least <span style=\"color: #008080; text-decoration-color: #008080; font-weight: bold\">93</span>% of their historic range and h<span style=\"color: #808000; text-decoration-color: #808000\">...</span> <span style=\"color: #7f7f7f; text-decoration-color: #7f7f7f; font-weight: bold\">(</span><span style=\"color: #7f7f7f; text-decoration-color: #7f7f7f\">length: </span><span style=\"color: #7fbfbf; text-decoration-color: #7fbfbf; font-weight: bold\">238</span><span style=\"color: #7f7f7f; text-decoration-color: #7f7f7f; font-weight: bold\">)</span>       │\n",
       "    │       │   ╰─────────────┴────────────────────────────────────────────────────────────────╯\n",
       "    │       ├── 📄 <span style=\"font-weight: bold\">Document</span>: <span style=\"color: #008080; text-decoration-color: #008080\">e2607cc891684477896e28d7c1e6346e</span>\n",
       "    │       │   ╭─────────────┬────────────────────────────────────────────────────────────────╮\n",
       "    │       │   │<span style=\"font-weight: bold\"> Attribute   </span>│<span style=\"font-weight: bold\"> Value                                                          </span>│\n",
       "    │       │   ├─────────────┼────────────────────────────────────────────────────────────────┤\n",
       "    │       │   │ parent_id   │ eaed8673c4f72e8cbf129e84a0845bf8                               │\n",
       "    │       │   │ granularity │ <span style=\"color: #008080; text-decoration-color: #008080; font-weight: bold\">2</span>                                                              │\n",
       "    │       │   │ text        │ Today, the tiger's range is fragmented, stretching from        │\n",
       "    │       │   │             │ Siberian temperate forests to subtropical an<span style=\"color: #808000; text-decoration-color: #808000\">...</span> <span style=\"color: #7f7f7f; text-decoration-color: #7f7f7f; font-weight: bold\">(</span><span style=\"color: #7f7f7f; text-decoration-color: #7f7f7f\">length: </span><span style=\"color: #7fbfbf; text-decoration-color: #7fbfbf; font-weight: bold\">169</span><span style=\"color: #7f7f7f; text-decoration-color: #7f7f7f; font-weight: bold\">)</span>  │\n",
       "    │       │   ╰─────────────┴────────────────────────────────────────────────────────────────╯\n",
       "    │       ├── 📄 <span style=\"font-weight: bold\">Document</span>: <span style=\"color: #008080; text-decoration-color: #008080\">233a65aa53c609f00280e30460dc14b2</span>\n",
       "    │       │   ╭───────────────┬──────────────────────────────────────────────────────────────╮\n",
       "    │       │   │<span style=\"font-weight: bold\"> Attribute     </span>│<span style=\"font-weight: bold\"> Value                                                        </span>│\n",
       "    │       │   ├───────────────┼──────────────────────────────────────────────────────────────┤\n",
       "    │       │   │ parent_id     │ eaed8673c4f72e8cbf129e84a0845bf8                             │\n",
       "    │       │   │ granularity   │ <span style=\"color: #008080; text-decoration-color: #008080; font-weight: bold\">2</span>                                                            │\n",
       "    │       │   │ text          │ The tiger is listed as Endangered on the IUCN Red List.      │\n",
       "    │       │   ╰───────────────┴──────────────────────────────────────────────────────────────╯\n",
       "    │       ├── 📄 <span style=\"font-weight: bold\">Document</span>: <span style=\"color: #008080; text-decoration-color: #008080\">45352e96d4a0fd0b5cda3ab2fbad08a5</span>\n",
       "    │       │   ╭─────────────┬────────────────────────────────────────────────────────────────╮\n",
       "    │       │   │<span style=\"font-weight: bold\"> Attribute   </span>│<span style=\"font-weight: bold\"> Value                                                          </span>│\n",
       "    │       │   ├─────────────┼────────────────────────────────────────────────────────────────┤\n",
       "    │       │   │ parent_id   │ eaed8673c4f72e8cbf129e84a0845bf8                               │\n",
       "    │       │   │ granularity │ <span style=\"color: #008080; text-decoration-color: #008080; font-weight: bold\">2</span>                                                              │\n",
       "    │       │   │ text        │ As of <span style=\"color: #008080; text-decoration-color: #008080; font-weight: bold\">2015</span>, the global wild tiger population was estimated to  │\n",
       "    │       │   │             │ number between <span style=\"color: #008080; text-decoration-color: #008080; font-weight: bold\">3</span>,<span style=\"color: #008080; text-decoration-color: #008080; font-weight: bold\">062</span> and <span style=\"color: #008080; text-decoration-color: #008080; font-weight: bold\">3</span>,<span style=\"color: #008080; text-decoration-color: #008080; font-weight: bold\">948</span> mature <span style=\"color: #808000; text-decoration-color: #808000\">...</span> <span style=\"color: #7f7f7f; text-decoration-color: #7f7f7f; font-weight: bold\">(</span><span style=\"color: #7f7f7f; text-decoration-color: #7f7f7f\">length: </span><span style=\"color: #7fbfbf; text-decoration-color: #7fbfbf; font-weight: bold\">175</span><span style=\"color: #7f7f7f; text-decoration-color: #7f7f7f; font-weight: bold\">)</span>        │\n",
       "    │       │   ╰─────────────┴────────────────────────────────────────────────────────────────╯\n",
       "    │       ├── 📄 <span style=\"font-weight: bold\">Document</span>: <span style=\"color: #008080; text-decoration-color: #008080\">eb121a01a07bb5a460fe5b8356977564</span>\n",
       "    │       │   ╭────────────────┬─────────────────────────────────────────────────────────────╮\n",
       "    │       │   │<span style=\"font-weight: bold\"> Attribute      </span>│<span style=\"font-weight: bold\"> Value                                                       </span>│\n",
       "    │       │   ├────────────────┼─────────────────────────────────────────────────────────────┤\n",
       "    │       │   │ parent_id      │ eaed8673c4f72e8cbf129e84a0845bf8                            │\n",
       "    │       │   │ granularity    │ <span style=\"color: #008080; text-decoration-color: #008080; font-weight: bold\">2</span>                                                           │\n",
       "    │       │   │ text           │ India currently hosts the largest tiger population.         │\n",
       "    │       │   ╰────────────────┴─────────────────────────────────────────────────────────────╯\n",
       "    │       ├── 📄 <span style=\"font-weight: bold\">Document</span>: <span style=\"color: #008080; text-decoration-color: #008080\">bdefde559143ff3173a94638318e7a98</span>\n",
       "    │       │   ╭─────────────┬────────────────────────────────────────────────────────────────╮\n",
       "    │       │   │<span style=\"font-weight: bold\"> Attribute   </span>│<span style=\"font-weight: bold\"> Value                                                          </span>│\n",
       "    │       │   ├─────────────┼────────────────────────────────────────────────────────────────┤\n",
       "    │       │   │ parent_id   │ eaed8673c4f72e8cbf129e84a0845bf8                               │\n",
       "    │       │   │ granularity │ <span style=\"color: #008080; text-decoration-color: #008080; font-weight: bold\">2</span>                                                              │\n",
       "    │       │   │ text        │ Major reasons for population decline are habitat destruction,  │\n",
       "    │       │   │             │ habitat fragmentation and poaching.                            │\n",
       "    │       │   ╰─────────────┴────────────────────────────────────────────────────────────────╯\n",
       "    │       ├── 📄 <span style=\"font-weight: bold\">Document</span>: <span style=\"color: #008080; text-decoration-color: #008080\">df7ed64db8d0e1c646cddb6dfde9843d</span>\n",
       "    │       │   ╭─────────────┬────────────────────────────────────────────────────────────────╮\n",
       "    │       │   │<span style=\"font-weight: bold\"> Attribute   </span>│<span style=\"font-weight: bold\"> Value                                                          </span>│\n",
       "    │       │   ├─────────────┼────────────────────────────────────────────────────────────────┤\n",
       "    │       │   │ parent_id   │ eaed8673c4f72e8cbf129e84a0845bf8                               │\n",
       "    │       │   │ granularity │ <span style=\"color: #008080; text-decoration-color: #008080; font-weight: bold\">2</span>                                                              │\n",
       "    │       │   │ text        │ Tigers are also victims of human–wildlife conflict,            │\n",
       "    │       │   │             │ particularly in range countries with a high huma<span style=\"color: #808000; text-decoration-color: #808000\">...</span> <span style=\"color: #7f7f7f; text-decoration-color: #7f7f7f; font-weight: bold\">(</span><span style=\"color: #7f7f7f; text-decoration-color: #7f7f7f\">length: </span>  │\n",
       "    │       │   │             │ <span style=\"color: #7fbfbf; text-decoration-color: #7fbfbf; font-weight: bold\">121</span><span style=\"color: #7f7f7f; text-decoration-color: #7f7f7f; font-weight: bold\">)</span>                                                           │\n",
       "    │       │   ╰─────────────┴────────────────────────────────────────────────────────────────╯\n",
       "    │       ├── 📄 <span style=\"font-weight: bold\">Document</span>: <span style=\"color: #008080; text-decoration-color: #008080\">35ed7fc1ad7762cfe93deee26e206b11</span>\n",
       "    │       │   ╭─────────────┬────────────────────────────────────────────────────────────────╮\n",
       "    │       │   │<span style=\"font-weight: bold\"> Attribute   </span>│<span style=\"font-weight: bold\"> Value                                                          </span>│\n",
       "    │       │   ├─────────────┼────────────────────────────────────────────────────────────────┤\n",
       "    │       │   │ parent_id   │ eaed8673c4f72e8cbf129e84a0845bf8                               │\n",
       "    │       │   │ granularity │ <span style=\"color: #008080; text-decoration-color: #008080; font-weight: bold\">2</span>                                                              │\n",
       "    │       │   │ text        │ The tiger is among the most recognisable and popular of the    │\n",
       "    │       │   │             │ world's charismatic megafauna.                                 │\n",
       "    │       │   ╰─────────────┴────────────────────────────────────────────────────────────────╯\n",
       "    │       ├── 📄 <span style=\"font-weight: bold\">Document</span>: <span style=\"color: #008080; text-decoration-color: #008080\">1a424867e29d73568b3b1da040b187a9</span>\n",
       "    │       │   ╭─────────────┬────────────────────────────────────────────────────────────────╮\n",
       "    │       │   │<span style=\"font-weight: bold\"> Attribute   </span>│<span style=\"font-weight: bold\"> Value                                                          </span>│\n",
       "    │       │   ├─────────────┼────────────────────────────────────────────────────────────────┤\n",
       "    │       │   │ parent_id   │ eaed8673c4f72e8cbf129e84a0845bf8                               │\n",
       "    │       │   │ granularity │ <span style=\"color: #008080; text-decoration-color: #008080; font-weight: bold\">2</span>                                                              │\n",
       "    │       │   │ text        │ It featured prominently in the ancient mythology and folklore  │\n",
       "    │       │   │             │ of cultures throughout its historic ra<span style=\"color: #808000; text-decoration-color: #808000\">...</span> <span style=\"color: #7f7f7f; text-decoration-color: #7f7f7f; font-weight: bold\">(</span><span style=\"color: #7f7f7f; text-decoration-color: #7f7f7f\">length: </span><span style=\"color: #7fbfbf; text-decoration-color: #7fbfbf; font-weight: bold\">239</span><span style=\"color: #7f7f7f; text-decoration-color: #7f7f7f; font-weight: bold\">)</span>        │\n",
       "    │       │   ╰─────────────┴────────────────────────────────────────────────────────────────╯\n",
       "    │       ├── 📄 <span style=\"font-weight: bold\">Document</span>: <span style=\"color: #008080; text-decoration-color: #008080\">c8e48bfd1066cfa0ec46f1b6b8c9b608</span>\n",
       "    │       │   ╭─────────────┬────────────────────────────────────────────────────────────────╮\n",
       "    │       │   │<span style=\"font-weight: bold\"> Attribute   </span>│<span style=\"font-weight: bold\"> Value                                                          </span>│\n",
       "    │       │   ├─────────────┼────────────────────────────────────────────────────────────────┤\n",
       "    │       │   │ parent_id   │ eaed8673c4f72e8cbf129e84a0845bf8                               │\n",
       "    │       │   │ granularity │ <span style=\"color: #008080; text-decoration-color: #008080; font-weight: bold\">2</span>                                                              │\n",
       "    │       │   │ text        │ The tiger is the national animal of India, Bangladesh,         │\n",
       "    │       │   │             │ Malaysia and South Korea.                                      │\n",
       "    │       │   ╰─────────────┴────────────────────────────────────────────────────────────────╯\n",
       "    │       ├── 📄 <span style=\"font-weight: bold\">Document</span>: <span style=\"color: #008080; text-decoration-color: #008080\">14848e9603679353de5ebf95e945cea0</span>\n",
       "    │       │   ╭─────────────┬────────────────────────────────────────────────────────────────╮\n",
       "    │       │   │<span style=\"font-weight: bold\"> Attribute   </span>│<span style=\"font-weight: bold\"> Value                                                          </span>│\n",
       "    │       │   ├─────────────┼────────────────────────────────────────────────────────────────┤\n",
       "    │       │   │ parent_id   │ eaed8673c4f72e8cbf129e84a0845bf8                               │\n",
       "    │       │   │ granularity │ <span style=\"color: #008080; text-decoration-color: #008080; font-weight: bold\">2</span>                                                              │\n",
       "    │       │   │ text        │ Etymology The Middle English tigre and Old English tigras      │\n",
       "    │       │   │             │ derive from Old French tigre, from Latin t<span style=\"color: #808000; text-decoration-color: #808000\">...</span> <span style=\"color: #7f7f7f; text-decoration-color: #7f7f7f; font-weight: bold\">(</span><span style=\"color: #7f7f7f; text-decoration-color: #7f7f7f\">length: </span><span style=\"color: #7fbfbf; text-decoration-color: #7fbfbf; font-weight: bold\">106</span><span style=\"color: #7f7f7f; text-decoration-color: #7f7f7f; font-weight: bold\">)</span>    │\n",
       "    │       │   ╰─────────────┴────────────────────────────────────────────────────────────────╯\n",
       "    │       └── 📄 <span style=\"font-weight: bold\">Document</span>: <span style=\"color: #008080; text-decoration-color: #008080\">ef2f2f3d08b74a383efed059369294d4</span>\n",
       "    │           ╭─────────────┬────────────────────────────────────────────────────────────────╮\n",
       "    │           │<span style=\"font-weight: bold\"> Attribute   </span>│<span style=\"font-weight: bold\"> Value                                                          </span>│\n",
       "    │           ├─────────────┼────────────────────────────────────────────────────────────────┤\n",
       "    │           │ parent_id   │ eaed8673c4f72e8cbf129e84a0845bf8                               │\n",
       "    │           │ granularity │ <span style=\"color: #008080; text-decoration-color: #008080; font-weight: bold\">2</span>                                                              │\n",
       "    │           │ text        │ This was a borrowing of Classical Greek τίγρις <span style=\"color: #008000; text-decoration-color: #008000\">'tigris'</span>, a     │\n",
       "    │           │             │ foreign borrowing of unknown origin meani<span style=\"color: #808000; text-decoration-color: #808000\">...</span> <span style=\"color: #7f7f7f; text-decoration-color: #7f7f7f; font-weight: bold\">(</span><span style=\"color: #7f7f7f; text-decoration-color: #7f7f7f\">length: </span><span style=\"color: #7fbfbf; text-decoration-color: #7fbfbf; font-weight: bold\">776</span><span style=\"color: #7f7f7f; text-decoration-color: #7f7f7f; font-weight: bold\">)</span>     │\n",
       "    │           ╰─────────────┴────────────────────────────────────────────────────────────────╯\n",
       "    ├── 📄 <span style=\"font-weight: bold\">Document</span>: <span style=\"color: #008080; text-decoration-color: #008080\">9b360847b6c51f7b7b92d8b682ac2a61</span>\n",
       "    │   ╭─────────────┬────────────────────────────────────────────────────────────────╮\n",
       "    │   │<span style=\"font-weight: bold\"> Attribute   </span>│<span style=\"font-weight: bold\"> Value                                                          </span>│\n",
       "    │   ├─────────────┼────────────────────────────────────────────────────────────────┤\n",
       "    │   │ parent_id   │ 9ccaa47ad7299631ed31a8c4638c9d11                               │\n",
       "    │   │ granularity │ <span style=\"color: #008080; text-decoration-color: #008080; font-weight: bold\">1</span>                                                              │\n",
       "    │   │ mime_type   │ text/plain                                                     │\n",
       "    │   │ text        │ Subspecies Phylogenetic relationship of tiger populations      │\n",
       "    │   │             │ based on Driscoll et al. <span style=\"font-weight: bold\">(</span><span style=\"color: #008080; text-decoration-color: #008080; font-weight: bold\">2009</span><span style=\"font-weight: bold\">)</span>.<span style=\"font-weight: bold\">[</span><span style=\"color: #008080; text-decoration-color: #008080; font-weight: bold\">10</span><span style=\"font-weight: bold\">]</span> Follo<span style=\"color: #808000; text-decoration-color: #808000\">...</span> <span style=\"color: #7f7f7f; text-decoration-color: #7f7f7f; font-weight: bold\">(</span><span style=\"color: #7f7f7f; text-decoration-color: #7f7f7f\">length: </span><span style=\"color: #7fbfbf; text-decoration-color: #7fbfbf; font-weight: bold\">3053</span><span style=\"color: #7f7f7f; text-decoration-color: #7f7f7f; font-weight: bold\">)</span>   │\n",
       "    │   ╰─────────────┴────────────────────────────────────────────────────────────────╯\n",
       "    │   └── 💠 <span style=\"font-weight: bold\">Chunks</span>\n",
       "    │       ├── 📄 <span style=\"font-weight: bold\">Document</span>: <span style=\"color: #008080; text-decoration-color: #008080\">7838b053cf28a30ec29c34fa621b16d4</span>\n",
       "    │       │   ╭─────────────┬────────────────────────────────────────────────────────────────╮\n",
       "    │       │   │<span style=\"font-weight: bold\"> Attribute   </span>│<span style=\"font-weight: bold\"> Value                                                          </span>│\n",
       "    │       │   ├─────────────┼────────────────────────────────────────────────────────────────┤\n",
       "    │       │   │ parent_id   │ 9b360847b6c51f7b7b92d8b682ac2a61                               │\n",
       "    │       │   │ granularity │ <span style=\"color: #008080; text-decoration-color: #008080; font-weight: bold\">2</span>                                                              │\n",
       "    │       │   │ text        │ Subspecies Phylogenetic relationship of tiger populations      │\n",
       "    │       │   │             │ based on Driscoll et al. <span style=\"font-weight: bold\">(</span>                                     │\n",
       "    │       │   ╰─────────────┴────────────────────────────────────────────────────────────────╯\n",
       "    │       ├── 📄 <span style=\"font-weight: bold\">Document</span>: <span style=\"color: #008080; text-decoration-color: #008080\">8b950beee4b4b0be4af36a29635c8a76</span>\n",
       "    │       │   ╭─────────────┬────────────────────────────────────────────────────────────────╮\n",
       "    │       │   │<span style=\"font-weight: bold\"> Attribute   </span>│<span style=\"font-weight: bold\"> Value                                                          </span>│\n",
       "    │       │   ├─────────────┼────────────────────────────────────────────────────────────────┤\n",
       "    │       │   │ parent_id   │ 9b360847b6c51f7b7b92d8b682ac2a61                               │\n",
       "    │       │   │ granularity │ <span style=\"color: #008080; text-decoration-color: #008080; font-weight: bold\">2</span>                                                              │\n",
       "    │       │   │ text        │ <span style=\"color: #008080; text-decoration-color: #008080; font-weight: bold\">2009</span><span style=\"font-weight: bold\">)</span>.<span style=\"font-weight: bold\">[</span><span style=\"color: #008080; text-decoration-color: #008080; font-weight: bold\">10</span><span style=\"font-weight: bold\">]</span> Following Linnaeus's first descriptions of the      │\n",
       "    │       │   │             │ species, several tiger specimens were desc<span style=\"color: #808000; text-decoration-color: #808000\">...</span> <span style=\"color: #7f7f7f; text-decoration-color: #7f7f7f; font-weight: bold\">(</span><span style=\"color: #7f7f7f; text-decoration-color: #7f7f7f\">length: </span><span style=\"color: #7fbfbf; text-decoration-color: #7fbfbf; font-weight: bold\">202</span><span style=\"color: #7f7f7f; text-decoration-color: #7f7f7f; font-weight: bold\">)</span>    │\n",
       "    │       │   ╰─────────────┴────────────────────────────────────────────────────────────────╯\n",
       "    │       ├── 📄 <span style=\"font-weight: bold\">Document</span>: <span style=\"color: #008080; text-decoration-color: #008080\">6e580b6c8b968530f1f5c285b6c4c285</span>\n",
       "    │       │   ╭─────────────┬────────────────────────────────────────────────────────────────╮\n",
       "    │       │   │<span style=\"font-weight: bold\"> Attribute   </span>│<span style=\"font-weight: bold\"> Value                                                          </span>│\n",
       "    │       │   ├─────────────┼────────────────────────────────────────────────────────────────┤\n",
       "    │       │   │ parent_id   │ 9b360847b6c51f7b7b92d8b682ac2a61                               │\n",
       "    │       │   │ granularity │ <span style=\"color: #008080; text-decoration-color: #008080; font-weight: bold\">2</span>                                                              │\n",
       "    │       │   │ text        │ Most putative subspecies described in the 19th and 20th        │\n",
       "    │       │   │             │ centuries were distinguished on basis of fur<span style=\"color: #808000; text-decoration-color: #808000\">...</span> <span style=\"color: #7f7f7f; text-decoration-color: #7f7f7f; font-weight: bold\">(</span><span style=\"color: #7f7f7f; text-decoration-color: #7f7f7f\">length: </span><span style=\"color: #7fbfbf; text-decoration-color: #7fbfbf; font-weight: bold\">216</span><span style=\"color: #7f7f7f; text-decoration-color: #7f7f7f; font-weight: bold\">)</span>  │\n",
       "    │       │   ╰─────────────┴────────────────────────────────────────────────────────────────╯\n",
       "    │       ├── 📄 <span style=\"font-weight: bold\">Document</span>: <span style=\"color: #008080; text-decoration-color: #008080\">0164704af26aeb401c3c0c33d6c89be1</span>\n",
       "    │       │   ╭─────────────┬────────────────────────────────────────────────────────────────╮\n",
       "    │       │   │<span style=\"font-weight: bold\"> Attribute   </span>│<span style=\"font-weight: bold\"> Value                                                          </span>│\n",
       "    │       │   ├─────────────┼────────────────────────────────────────────────────────────────┤\n",
       "    │       │   │ parent_id   │ 9b360847b6c51f7b7b92d8b682ac2a61                               │\n",
       "    │       │   │ granularity │ <span style=\"color: #008080; text-decoration-color: #008080; font-weight: bold\">2</span>                                                              │\n",
       "    │       │   │ text        │ Morphologically, tigers from different regions vary little,    │\n",
       "    │       │   │             │ and gene flow between populations in tho<span style=\"color: #808000; text-decoration-color: #808000\">...</span> <span style=\"color: #7f7f7f; text-decoration-color: #7f7f7f; font-weight: bold\">(</span><span style=\"color: #7f7f7f; text-decoration-color: #7f7f7f\">length: </span><span style=\"color: #7fbfbf; text-decoration-color: #7fbfbf; font-weight: bold\">170</span><span style=\"color: #7f7f7f; text-decoration-color: #7f7f7f; font-weight: bold\">)</span>      │\n",
       "    │       │   ╰─────────────┴────────────────────────────────────────────────────────────────╯\n",
       "    │       ├── 📄 <span style=\"font-weight: bold\">Document</span>: <span style=\"color: #008080; text-decoration-color: #008080\">166956543c58dffeb7942482ab5426eb</span>\n",
       "    │       │   ╭─────────────┬────────────────────────────────────────────────────────────────╮\n",
       "    │       │   │<span style=\"font-weight: bold\"> Attribute   </span>│<span style=\"font-weight: bold\"> Value                                                          </span>│\n",
       "    │       │   ├─────────────┼────────────────────────────────────────────────────────────────┤\n",
       "    │       │   │ parent_id   │ 9b360847b6c51f7b7b92d8b682ac2a61                               │\n",
       "    │       │   │ granularity │ <span style=\"color: #008080; text-decoration-color: #008080; font-weight: bold\">2</span>                                                              │\n",
       "    │       │   │ text        │ Therefore, it was proposed to recognize only two tiger         │\n",
       "    │       │   │             │ subspecies as valid, namely P. t. tigris in m<span style=\"color: #808000; text-decoration-color: #808000\">...</span> <span style=\"color: #7f7f7f; text-decoration-color: #7f7f7f; font-weight: bold\">(</span><span style=\"color: #7f7f7f; text-decoration-color: #7f7f7f\">length: </span><span style=\"color: #7fbfbf; text-decoration-color: #7fbfbf; font-weight: bold\">410</span><span style=\"color: #7f7f7f; text-decoration-color: #7f7f7f; font-weight: bold\">)</span> │\n",
       "    │       │   ╰─────────────┴────────────────────────────────────────────────────────────────╯\n",
       "    │       ├── 📄 <span style=\"font-weight: bold\">Document</span>: <span style=\"color: #008080; text-decoration-color: #008080\">386da2fa4ddf810a7cc18f58e82a9fe5</span>\n",
       "    │       │   ╭─────────────┬────────────────────────────────────────────────────────────────╮\n",
       "    │       │   │<span style=\"font-weight: bold\"> Attribute   </span>│<span style=\"font-weight: bold\"> Value                                                          </span>│\n",
       "    │       │   ├─────────────┼────────────────────────────────────────────────────────────────┤\n",
       "    │       │   │ parent_id   │ 9b360847b6c51f7b7b92d8b682ac2a61                               │\n",
       "    │       │   │ granularity │ <span style=\"color: #008080; text-decoration-color: #008080; font-weight: bold\">2</span>                                                              │\n",
       "    │       │   │ text        │ The authors proposed to classify the Sumatran and Javan tigers │\n",
       "    │       │   │             │ as distinct species, P. sumatrae and <span style=\"color: #808000; text-decoration-color: #808000\">...</span> <span style=\"color: #7f7f7f; text-decoration-color: #7f7f7f; font-weight: bold\">(</span><span style=\"color: #7f7f7f; text-decoration-color: #7f7f7f\">length: </span><span style=\"color: #7fbfbf; text-decoration-color: #7fbfbf; font-weight: bold\">298</span><span style=\"color: #7f7f7f; text-decoration-color: #7f7f7f; font-weight: bold\">)</span>         │\n",
       "    │       │   ╰─────────────┴────────────────────────────────────────────────────────────────╯\n",
       "    │       ├── 📄 <span style=\"font-weight: bold\">Document</span>: <span style=\"color: #008080; text-decoration-color: #008080\">74c06a7663288c5fc963be672e523a47</span>\n",
       "    │       │   ╭─────────────┬────────────────────────────────────────────────────────────────╮\n",
       "    │       │   │<span style=\"font-weight: bold\"> Attribute   </span>│<span style=\"font-weight: bold\"> Value                                                          </span>│\n",
       "    │       │   ├─────────────┼────────────────────────────────────────────────────────────────┤\n",
       "    │       │   │ parent_id   │ 9b360847b6c51f7b7b92d8b682ac2a61                               │\n",
       "    │       │   │ granularity │ <span style=\"color: #008080; text-decoration-color: #008080; font-weight: bold\">2</span>                                                              │\n",
       "    │       │   │ text        │ Results support distinction of the two evolutionary groups     │\n",
       "    │       │   │             │ continental and Sunda tigers.                                  │\n",
       "    │       │   ╰─────────────┴────────────────────────────────────────────────────────────────╯\n",
       "    │       ├── 📄 <span style=\"font-weight: bold\">Document</span>: <span style=\"color: #008080; text-decoration-color: #008080\">be2934c420c93daae98601108d992f0b</span>\n",
       "    │       │   ╭─────────────┬────────────────────────────────────────────────────────────────╮\n",
       "    │       │   │<span style=\"font-weight: bold\"> Attribute   </span>│<span style=\"font-weight: bold\"> Value                                                          </span>│\n",
       "    │       │   ├─────────────┼────────────────────────────────────────────────────────────────┤\n",
       "    │       │   │ parent_id   │ 9b360847b6c51f7b7b92d8b682ac2a61                               │\n",
       "    │       │   │ granularity │ <span style=\"color: #008080; text-decoration-color: #008080; font-weight: bold\">2</span>                                                              │\n",
       "    │       │   │ text        │ The authors proposed recognition of only two subspecies,       │\n",
       "    │       │   │             │ namely P. t. tigris comprising the Bengal, <span style=\"color: #808000; text-decoration-color: #808000\">...</span> <span style=\"color: #7f7f7f; text-decoration-color: #7f7f7f; font-weight: bold\">(</span><span style=\"color: #7f7f7f; text-decoration-color: #7f7f7f\">length: </span><span style=\"color: #7fbfbf; text-decoration-color: #7fbfbf; font-weight: bold\">254</span><span style=\"color: #7f7f7f; text-decoration-color: #7f7f7f; font-weight: bold\">)</span>   │\n",
       "    │       │   ╰─────────────┴────────────────────────────────────────────────────────────────╯\n",
       "    │       ├── 📄 <span style=\"font-weight: bold\">Document</span>: <span style=\"color: #008080; text-decoration-color: #008080\">eaa06c070b92f925dc8f640ba5f85f75</span>\n",
       "    │       │   ╭─────────────┬────────────────────────────────────────────────────────────────╮\n",
       "    │       │   │<span style=\"font-weight: bold\"> Attribute   </span>│<span style=\"font-weight: bold\"> Value                                                          </span>│\n",
       "    │       │   ├─────────────┼────────────────────────────────────────────────────────────────┤\n",
       "    │       │   │ parent_id   │ 9b360847b6c51f7b7b92d8b682ac2a61                               │\n",
       "    │       │   │ granularity │ <span style=\"color: #008080; text-decoration-color: #008080; font-weight: bold\">2</span>                                                              │\n",
       "    │       │   │ text        │ The authors also noted that this reclassification will affect  │\n",
       "    │       │   │             │ tiger conservation management.                                 │\n",
       "    │       │   ╰─────────────┴────────────────────────────────────────────────────────────────╯\n",
       "    │       ├── 📄 <span style=\"font-weight: bold\">Document</span>: <span style=\"color: #008080; text-decoration-color: #008080\">3e7c8f646b017f9454dd0ed96b8f5a9e</span>\n",
       "    │       │   ╭─────────────┬────────────────────────────────────────────────────────────────╮\n",
       "    │       │   │<span style=\"font-weight: bold\"> Attribute   </span>│<span style=\"font-weight: bold\"> Value                                                          </span>│\n",
       "    │       │   ├─────────────┼────────────────────────────────────────────────────────────────┤\n",
       "    │       │   │ parent_id   │ 9b360847b6c51f7b7b92d8b682ac2a61                               │\n",
       "    │       │   │ granularity │ <span style=\"color: #008080; text-decoration-color: #008080; font-weight: bold\">2</span>                                                              │\n",
       "    │       │   │ text        │ The nominate subspecies P. t. tigris constitutes two           │\n",
       "    │       │   │             │ clades:<span style=\"font-weight: bold\">[</span><span style=\"color: #008080; text-decoration-color: #008080; font-weight: bold\">14</span><span style=\"font-weight: bold\">]</span> • a northern clade composed of the <span style=\"color: #808000; text-decoration-color: #808000\">...</span> <span style=\"color: #7f7f7f; text-decoration-color: #7f7f7f; font-weight: bold\">(</span><span style=\"color: #7f7f7f; text-decoration-color: #7f7f7f\">length: </span>   │\n",
       "    │       │   │             │ <span style=\"color: #7fbfbf; text-decoration-color: #7fbfbf; font-weight: bold\">201</span><span style=\"color: #7f7f7f; text-decoration-color: #7f7f7f; font-weight: bold\">)</span>                                                           │\n",
       "    │       │   ╰─────────────┴────────────────────────────────────────────────────────────────╯\n",
       "    │       ├── 📄 <span style=\"font-weight: bold\">Document</span>: <span style=\"color: #008080; text-decoration-color: #008080\">a1029ffaf47c0da6ef399e8816b0ec1a</span>\n",
       "    │       │   ╭─────────────┬────────────────────────────────────────────────────────────────╮\n",
       "    │       │   │<span style=\"font-weight: bold\"> Attribute   </span>│<span style=\"font-weight: bold\"> Value                                                          </span>│\n",
       "    │       │   ├─────────────┼────────────────────────────────────────────────────────────────┤\n",
       "    │       │   │ parent_id   │ 9b360847b6c51f7b7b92d8b682ac2a61                               │\n",
       "    │       │   │ granularity │ <span style=\"color: #008080; text-decoration-color: #008080; font-weight: bold\">2</span>                                                              │\n",
       "    │       │   │ text        │ One conservation specialist welcomed this proposal as it would │\n",
       "    │       │   │             │ make captive breeding programmes and <span style=\"color: #808000; text-decoration-color: #808000\">...</span> <span style=\"color: #7f7f7f; text-decoration-color: #7f7f7f; font-weight: bold\">(</span><span style=\"color: #7f7f7f; text-decoration-color: #7f7f7f\">length: </span><span style=\"color: #7fbfbf; text-decoration-color: #7fbfbf; font-weight: bold\">143</span><span style=\"color: #7f7f7f; text-decoration-color: #7f7f7f; font-weight: bold\">)</span>         │\n",
       "    │       │   ╰─────────────┴────────────────────────────────────────────────────────────────╯\n",
       "    │       ├── 📄 <span style=\"font-weight: bold\">Document</span>: <span style=\"color: #008080; text-decoration-color: #008080\">c8a16a15dabf18c0cb32466662a83846</span>\n",
       "    │       │   ╭─────────────┬────────────────────────────────────────────────────────────────╮\n",
       "    │       │   │<span style=\"font-weight: bold\"> Attribute   </span>│<span style=\"font-weight: bold\"> Value                                                          </span>│\n",
       "    │       │   ├─────────────┼────────────────────────────────────────────────────────────────┤\n",
       "    │       │   │ parent_id   │ 9b360847b6c51f7b7b92d8b682ac2a61                               │\n",
       "    │       │   │ granularity │ <span style=\"color: #008080; text-decoration-color: #008080; font-weight: bold\">2</span>                                                              │\n",
       "    │       │   │ text        │ One geneticist was sceptical of this study and maintained that │\n",
       "    │       │   │             │ the currently recognised nine subspec<span style=\"color: #808000; text-decoration-color: #808000\">...</span> <span style=\"color: #7f7f7f; text-decoration-color: #7f7f7f; font-weight: bold\">(</span><span style=\"color: #7f7f7f; text-decoration-color: #7f7f7f\">length: </span><span style=\"color: #7fbfbf; text-decoration-color: #7fbfbf; font-weight: bold\">435</span><span style=\"color: #7f7f7f; text-decoration-color: #7f7f7f; font-weight: bold\">)</span>         │\n",
       "    │       │   ╰─────────────┴────────────────────────────────────────────────────────────────╯\n",
       "    │       ├── 📄 <span style=\"font-weight: bold\">Document</span>: <span style=\"color: #008080; text-decoration-color: #008080\">917bbf42225a7dd4d9bb62c54762b3a3</span>\n",
       "    │       │   ╭─────────────┬────────────────────────────────────────────────────────────────╮\n",
       "    │       │   │<span style=\"font-weight: bold\"> Attribute   </span>│<span style=\"font-weight: bold\"> Value                                                          </span>│\n",
       "    │       │   ├─────────────┼────────────────────────────────────────────────────────────────┤\n",
       "    │       │   │ parent_id   │ 9b360847b6c51f7b7b92d8b682ac2a61                               │\n",
       "    │       │   │ granularity │ <span style=\"color: #008080; text-decoration-color: #008080; font-weight: bold\">2</span>                                                              │\n",
       "    │       │   │ text        │ Results of a <span style=\"color: #008080; text-decoration-color: #008080; font-weight: bold\">2018</span> whole-genome sequencing of <span style=\"color: #008080; text-decoration-color: #008080; font-weight: bold\">32</span> specimens      │\n",
       "    │       │   │             │ support six monophyletic tiger clades corr<span style=\"color: #808000; text-decoration-color: #808000\">...</span> <span style=\"color: #7f7f7f; text-decoration-color: #7f7f7f; font-weight: bold\">(</span><span style=\"color: #7f7f7f; text-decoration-color: #7f7f7f\">length: </span><span style=\"color: #7fbfbf; text-decoration-color: #7fbfbf; font-weight: bold\">219</span><span style=\"color: #7f7f7f; text-decoration-color: #7f7f7f; font-weight: bold\">)</span>    │\n",
       "    │       │   ╰─────────────┴────────────────────────────────────────────────────────────────╯\n",
       "    │       └── 📄 <span style=\"font-weight: bold\">Document</span>: <span style=\"color: #008080; text-decoration-color: #008080\">73b93ba21a67e4d7bbc8bcc39abd9077</span>\n",
       "    │           ╭─────────────┬────────────────────────────────────────────────────────────────╮\n",
       "    │           │<span style=\"font-weight: bold\"> Attribute   </span>│<span style=\"font-weight: bold\"> Value                                                          </span>│\n",
       "    │           ├─────────────┼────────────────────────────────────────────────────────────────┤\n",
       "    │           │ parent_id   │ 9b360847b6c51f7b7b92d8b682ac2a61                               │\n",
       "    │           │ granularity │ <span style=\"color: #008080; text-decoration-color: #008080; font-weight: bold\">2</span>                                                              │\n",
       "    │           │ text        │ <span style=\"color: #008080; text-decoration-color: #008080; font-weight: bold\">17</span><span style=\"font-weight: bold\">]</span> The following tables are based on the classification of    │\n",
       "    │           │             │ the species Panthera tigris provided in <span style=\"color: #808000; text-decoration-color: #808000\">...</span> <span style=\"color: #7f7f7f; text-decoration-color: #7f7f7f; font-weight: bold\">(</span><span style=\"color: #7f7f7f; text-decoration-color: #7f7f7f\">length: </span><span style=\"color: #7fbfbf; text-decoration-color: #7fbfbf; font-weight: bold\">229</span><span style=\"color: #7f7f7f; text-decoration-color: #7f7f7f; font-weight: bold\">)</span>      │\n",
       "    │           ╰─────────────┴────────────────────────────────────────────────────────────────╯\n",
       "    └── 📄 <span style=\"font-weight: bold\">Document</span>: <span style=\"color: #008080; text-decoration-color: #008080\">cb5b2ade35bae403da1b2e78bed6bfdd</span>\n",
       "        ╭─────────────┬────────────────────────────────────────────────────────────────╮\n",
       "        │<span style=\"font-weight: bold\"> Attribute   </span>│<span style=\"font-weight: bold\"> Value                                                          </span>│\n",
       "        ├─────────────┼────────────────────────────────────────────────────────────────┤\n",
       "        │ parent_id   │ 9ccaa47ad7299631ed31a8c4638c9d11                               │\n",
       "        │ granularity │ <span style=\"color: #008080; text-decoration-color: #008080; font-weight: bold\">1</span>                                                              │\n",
       "        │ mime_type   │ text/plain                                                     │\n",
       "        │ text        │ Restoration of a Panthera zdanskyi skull, an extinct tiger     │\n",
       "        │             │ relative whose fossil remains were found <span style=\"color: #808000; text-decoration-color: #808000\">...</span> <span style=\"color: #7f7f7f; text-decoration-color: #7f7f7f; font-weight: bold\">(</span><span style=\"color: #7f7f7f; text-decoration-color: #7f7f7f\">length: </span><span style=\"color: #7fbfbf; text-decoration-color: #7fbfbf; font-weight: bold\">3411</span><span style=\"color: #7f7f7f; text-decoration-color: #7f7f7f; font-weight: bold\">)</span>    │\n",
       "        ╰─────────────┴────────────────────────────────────────────────────────────────╯\n",
       "        └── 💠 <span style=\"font-weight: bold\">Chunks</span>\n",
       "            ├── 📄 <span style=\"font-weight: bold\">Document</span>: <span style=\"color: #008080; text-decoration-color: #008080\">4021e096c0d7e3625681eb562a74d7a7</span>\n",
       "            │   ╭─────────────┬────────────────────────────────────────────────────────────────╮\n",
       "            │   │<span style=\"font-weight: bold\"> Attribute   </span>│<span style=\"font-weight: bold\"> Value                                                          </span>│\n",
       "            │   ├─────────────┼────────────────────────────────────────────────────────────────┤\n",
       "            │   │ parent_id   │ cb5b2ade35bae403da1b2e78bed6bfdd                               │\n",
       "            │   │ granularity │ <span style=\"color: #008080; text-decoration-color: #008080; font-weight: bold\">2</span>                                                              │\n",
       "            │   │ text        │ Restoration of a Panthera zdanskyi skull, an extinct tiger     │\n",
       "            │   │             │ relative whose fossil remains were found <span style=\"color: #808000; text-decoration-color: #808000\">...</span> <span style=\"color: #7f7f7f; text-decoration-color: #7f7f7f; font-weight: bold\">(</span><span style=\"color: #7f7f7f; text-decoration-color: #7f7f7f\">length: </span><span style=\"color: #7fbfbf; text-decoration-color: #7fbfbf; font-weight: bold\">232</span><span style=\"color: #7f7f7f; text-decoration-color: #7f7f7f; font-weight: bold\">)</span>     │\n",
       "            │   ╰─────────────┴────────────────────────────────────────────────────────────────╯\n",
       "            ├── 📄 <span style=\"font-weight: bold\">Document</span>: <span style=\"color: #008080; text-decoration-color: #008080\">1829c7498a564a3277dc9b5cbd873ad3</span>\n",
       "            │   ╭─────────────┬────────────────────────────────────────────────────────────────╮\n",
       "            │   │<span style=\"font-weight: bold\"> Attribute   </span>│<span style=\"font-weight: bold\"> Value                                                          </span>│\n",
       "            │   ├─────────────┼────────────────────────────────────────────────────────────────┤\n",
       "            │   │ parent_id   │ cb5b2ade35bae403da1b2e78bed6bfdd                               │\n",
       "            │   │ granularity │ <span style=\"color: #008080; text-decoration-color: #008080; font-weight: bold\">2</span>                                                              │\n",
       "            │   │ text        │ Results of genetic analysis indicate that about <span style=\"color: #008080; text-decoration-color: #008080; font-weight: bold\">2.88</span> million   │\n",
       "            │   │             │ years ago, the tiger and the snow leopa<span style=\"color: #808000; text-decoration-color: #808000\">...</span> <span style=\"color: #7f7f7f; text-decoration-color: #7f7f7f; font-weight: bold\">(</span><span style=\"color: #7f7f7f; text-decoration-color: #7f7f7f\">length: </span><span style=\"color: #7fbfbf; text-decoration-color: #7fbfbf; font-weight: bold\">249</span><span style=\"color: #7f7f7f; text-decoration-color: #7f7f7f; font-weight: bold\">)</span>       │\n",
       "            │   ╰─────────────┴────────────────────────────────────────────────────────────────╯\n",
       "            ├── 📄 <span style=\"font-weight: bold\">Document</span>: <span style=\"color: #008080; text-decoration-color: #008080\">8bd537f00dd280430e8c286561fe71dd</span>\n",
       "            │   ╭─────────────┬────────────────────────────────────────────────────────────────╮\n",
       "            │   │<span style=\"font-weight: bold\"> Attribute   </span>│<span style=\"font-weight: bold\"> Value                                                          </span>│\n",
       "            │   ├─────────────┼────────────────────────────────────────────────────────────────┤\n",
       "            │   │ parent_id   │ cb5b2ade35bae403da1b2e78bed6bfdd                               │\n",
       "            │   │ granularity │ <span style=\"color: #008080; text-decoration-color: #008080; font-weight: bold\">2</span>                                                              │\n",
       "            │   │ text        │ <span style=\"color: #008080; text-decoration-color: #008080; font-weight: bold\">32</span><span style=\"font-weight: bold\">]</span> <span style=\"font-weight: bold\">[</span><span style=\"color: #008080; text-decoration-color: #008080; font-weight: bold\">33</span><span style=\"font-weight: bold\">]</span> The geographic origin of the Panthera is most likely  │\n",
       "            │   │             │ northern Central Asia.                                         │\n",
       "            │   ╰─────────────┴────────────────────────────────────────────────────────────────╯\n",
       "            ├── 📄 <span style=\"font-weight: bold\">Document</span>: <span style=\"color: #008080; text-decoration-color: #008080\">50c3604cf6a503dd746f087cd55d2147</span>\n",
       "            │   ╭─────────────┬────────────────────────────────────────────────────────────────╮\n",
       "            │   │<span style=\"font-weight: bold\"> Attribute   </span>│<span style=\"font-weight: bold\"> Value                                                          </span>│\n",
       "            │   ├─────────────┼────────────────────────────────────────────────────────────────┤\n",
       "            │   │ parent_id   │ cb5b2ade35bae403da1b2e78bed6bfdd                               │\n",
       "            │   │ granularity │ <span style=\"color: #008080; text-decoration-color: #008080; font-weight: bold\">2</span>                                                              │\n",
       "            │   │ text        │ The tiger–snow leopard lineage dispersed in Southeast Asia     │\n",
       "            │   │             │ during the Miocene.<span style=\"font-weight: bold\">[</span><span style=\"color: #008080; text-decoration-color: #008080; font-weight: bold\">34</span><span style=\"font-weight: bold\">]</span> Panthera zdanskyi<span style=\"color: #808000; text-decoration-color: #808000\">...</span> <span style=\"color: #7f7f7f; text-decoration-color: #7f7f7f; font-weight: bold\">(</span><span style=\"color: #7f7f7f; text-decoration-color: #7f7f7f\">length: </span><span style=\"color: #7fbfbf; text-decoration-color: #7fbfbf; font-weight: bold\">156</span><span style=\"color: #7f7f7f; text-decoration-color: #7f7f7f; font-weight: bold\">)</span>     │\n",
       "            │   ╰─────────────┴────────────────────────────────────────────────────────────────╯\n",
       "            ├── 📄 <span style=\"font-weight: bold\">Document</span>: <span style=\"color: #008080; text-decoration-color: #008080\">789447bfde3ccfb1ca90dfaa9d4ca2e6</span>\n",
       "            │   ╭─────────────┬────────────────────────────────────────────────────────────────╮\n",
       "            │   │<span style=\"font-weight: bold\"> Attribute   </span>│<span style=\"font-weight: bold\"> Value                                                          </span>│\n",
       "            │   ├─────────────┼────────────────────────────────────────────────────────────────┤\n",
       "            │   │ parent_id   │ cb5b2ade35bae403da1b2e78bed6bfdd                               │\n",
       "            │   │ granularity │ <span style=\"color: #008080; text-decoration-color: #008080; font-weight: bold\">2</span>                                                              │\n",
       "            │   │ text        │ It lived at the beginning of the Pleistocene about two million │\n",
       "            │   │             │ years ago, its fossil remains were ex<span style=\"color: #808000; text-decoration-color: #808000\">...</span> <span style=\"color: #7f7f7f; text-decoration-color: #7f7f7f; font-weight: bold\">(</span><span style=\"color: #7f7f7f; text-decoration-color: #7f7f7f\">length: </span><span style=\"color: #7fbfbf; text-decoration-color: #7fbfbf; font-weight: bold\">139</span><span style=\"color: #7f7f7f; text-decoration-color: #7f7f7f; font-weight: bold\">)</span>         │\n",
       "            │   ╰─────────────┴────────────────────────────────────────────────────────────────╯\n",
       "            ├── 📄 <span style=\"font-weight: bold\">Document</span>: <span style=\"color: #008080; text-decoration-color: #008080\">8a21eb703a46415382d34dc819aea225</span>\n",
       "            │   ╭─────────────┬────────────────────────────────────────────────────────────────╮\n",
       "            │   │<span style=\"font-weight: bold\"> Attribute   </span>│<span style=\"font-weight: bold\"> Value                                                          </span>│\n",
       "            │   ├─────────────┼────────────────────────────────────────────────────────────────┤\n",
       "            │   │ parent_id   │ cb5b2ade35bae403da1b2e78bed6bfdd                               │\n",
       "            │   │ granularity │ <span style=\"color: #008080; text-decoration-color: #008080; font-weight: bold\">2</span>                                                              │\n",
       "            │   │ text        │ It was smaller and more <span style=\"color: #008000; text-decoration-color: #008000\">\"primitive\"</span>, but functionally and      │\n",
       "            │   │             │ ecologically similar to the modern tiger.                      │\n",
       "            │   ╰─────────────┴────────────────────────────────────────────────────────────────╯\n",
       "            ├── 📄 <span style=\"font-weight: bold\">Document</span>: <span style=\"color: #008080; text-decoration-color: #008080\">9c423fbd2b269befd5ca96bb8561d813</span>\n",
       "            │   ╭──────────────┬───────────────────────────────────────────────────────────────╮\n",
       "            │   │<span style=\"font-weight: bold\"> Attribute    </span>│<span style=\"font-weight: bold\"> Value                                                         </span>│\n",
       "            │   ├──────────────┼───────────────────────────────────────────────────────────────┤\n",
       "            │   │ parent_id    │ cb5b2ade35bae403da1b2e78bed6bfdd                              │\n",
       "            │   │ granularity  │ <span style=\"color: #008080; text-decoration-color: #008080; font-weight: bold\">2</span>                                                             │\n",
       "            │   │ text         │ It is disputed as to whether it had the striping pattern.     │\n",
       "            │   ╰──────────────┴───────────────────────────────────────────────────────────────╯\n",
       "            ├── 📄 <span style=\"font-weight: bold\">Document</span>: <span style=\"color: #008080; text-decoration-color: #008080\">09b2d953a25cde575d7a7524d37d4293</span>\n",
       "            │   ╭─────────────┬────────────────────────────────────────────────────────────────╮\n",
       "            │   │<span style=\"font-weight: bold\"> Attribute   </span>│<span style=\"font-weight: bold\"> Value                                                          </span>│\n",
       "            │   ├─────────────┼────────────────────────────────────────────────────────────────┤\n",
       "            │   │ parent_id   │ cb5b2ade35bae403da1b2e78bed6bfdd                               │\n",
       "            │   │ granularity │ <span style=\"color: #008080; text-decoration-color: #008080; font-weight: bold\">2</span>                                                              │\n",
       "            │   │ text        │ Northwestern China is thought to be the origin of the tiger    │\n",
       "            │   │             │ lineage.                                                       │\n",
       "            │   ╰─────────────┴────────────────────────────────────────────────────────────────╯\n",
       "            ├── 📄 <span style=\"font-weight: bold\">Document</span>: <span style=\"color: #008080; text-decoration-color: #008080\">9be7f47dccee8d4d7e25bb5ac3b65f54</span>\n",
       "            │   ╭─────────────┬────────────────────────────────────────────────────────────────╮\n",
       "            │   │<span style=\"font-weight: bold\"> Attribute   </span>│<span style=\"font-weight: bold\"> Value                                                          </span>│\n",
       "            │   ├─────────────┼────────────────────────────────────────────────────────────────┤\n",
       "            │   │ parent_id   │ cb5b2ade35bae403da1b2e78bed6bfdd                               │\n",
       "            │   │ granularity │ <span style=\"color: #008080; text-decoration-color: #008080; font-weight: bold\">2</span>                                                              │\n",
       "            │   │ text        │ Tigers grew in size, possibly in response to adaptive          │\n",
       "            │   │             │ radiations of prey species like deer and bovid<span style=\"color: #808000; text-decoration-color: #808000\">...</span> <span style=\"color: #7f7f7f; text-decoration-color: #7f7f7f; font-weight: bold\">(</span><span style=\"color: #7f7f7f; text-decoration-color: #7f7f7f\">length: </span>    │\n",
       "            │   │             │ <span style=\"color: #7fbfbf; text-decoration-color: #7fbfbf; font-weight: bold\">176</span><span style=\"color: #7f7f7f; text-decoration-color: #7f7f7f; font-weight: bold\">)</span>                                                           │\n",
       "            │   ╰─────────────┴────────────────────────────────────────────────────────────────╯\n",
       "            ├── 📄 <span style=\"font-weight: bold\">Document</span>: <span style=\"color: #008080; text-decoration-color: #008080\">37acb546f24d57c21a51414f2fc23c16</span>\n",
       "            │   ╭─────────────┬────────────────────────────────────────────────────────────────╮\n",
       "            │   │<span style=\"font-weight: bold\"> Attribute   </span>│<span style=\"font-weight: bold\"> Value                                                          </span>│\n",
       "            │   ├─────────────┼────────────────────────────────────────────────────────────────┤\n",
       "            │   │ parent_id   │ cb5b2ade35bae403da1b2e78bed6bfdd                               │\n",
       "            │   │ granularity │ <span style=\"color: #008080; text-decoration-color: #008080; font-weight: bold\">2</span>                                                              │\n",
       "            │   │ text        │ <span style=\"color: #008080; text-decoration-color: #008080; font-weight: bold\">35</span><span style=\"font-weight: bold\">]</span> Panthera tigris trinilensis lived about <span style=\"color: #008080; text-decoration-color: #008080; font-weight: bold\">1.2</span> million years  │\n",
       "            │   │             │ ago and is known from fossils excavate<span style=\"color: #808000; text-decoration-color: #808000\">...</span> <span style=\"color: #7f7f7f; text-decoration-color: #7f7f7f; font-weight: bold\">(</span><span style=\"color: #7f7f7f; text-decoration-color: #7f7f7f\">length: </span><span style=\"color: #7fbfbf; text-decoration-color: #7fbfbf; font-weight: bold\">331</span><span style=\"color: #7f7f7f; text-decoration-color: #7f7f7f; font-weight: bold\">)</span>        │\n",
       "            │   ╰─────────────┴────────────────────────────────────────────────────────────────╯\n",
       "            ├── 📄 <span style=\"font-weight: bold\">Document</span>: <span style=\"color: #008080; text-decoration-color: #008080\">3e8013e10ace9027848cf6467b8cbc2f</span>\n",
       "            │   ╭─────────────┬────────────────────────────────────────────────────────────────╮\n",
       "            │   │<span style=\"font-weight: bold\"> Attribute   </span>│<span style=\"font-weight: bold\"> Value                                                          </span>│\n",
       "            │   ├─────────────┼────────────────────────────────────────────────────────────────┤\n",
       "            │   │ parent_id   │ cb5b2ade35bae403da1b2e78bed6bfdd                               │\n",
       "            │   │ granularity │ <span style=\"color: #008080; text-decoration-color: #008080; font-weight: bold\">2</span>                                                              │\n",
       "            │   │ text        │ Some fossil skulls are morphologically distinct from lion      │\n",
       "            │   │             │ skulls, which could indicate tiger presenc<span style=\"color: #808000; text-decoration-color: #808000\">...</span> <span style=\"color: #7f7f7f; text-decoration-color: #7f7f7f; font-weight: bold\">(</span><span style=\"color: #7f7f7f; text-decoration-color: #7f7f7f\">length: </span><span style=\"color: #7fbfbf; text-decoration-color: #7fbfbf; font-weight: bold\">316</span><span style=\"color: #7f7f7f; text-decoration-color: #7f7f7f; font-weight: bold\">)</span>    │\n",
       "            │   ╰─────────────┴────────────────────────────────────────────────────────────────╯\n",
       "            ├── 📄 <span style=\"font-weight: bold\">Document</span>: <span style=\"color: #008080; text-decoration-color: #008080\">5e29e81fb5a035e53c8c04a6cfa863e2</span>\n",
       "            │   ╭─────────────┬────────────────────────────────────────────────────────────────╮\n",
       "            │   │<span style=\"font-weight: bold\"> Attribute   </span>│<span style=\"font-weight: bold\"> Value                                                          </span>│\n",
       "            │   ├─────────────┼────────────────────────────────────────────────────────────────┤\n",
       "            │   │ parent_id   │ cb5b2ade35bae403da1b2e78bed6bfdd                               │\n",
       "            │   │ granularity │ <span style=\"color: #008080; text-decoration-color: #008080; font-weight: bold\">2</span>                                                              │\n",
       "            │   │ text        │ They were smaller than mainland tiger fossils, possibly due to │\n",
       "            │   │             │ insular dwarfism.<span style=\"font-weight: bold\">[</span><span style=\"color: #008080; text-decoration-color: #008080; font-weight: bold\">39</span><span style=\"font-weight: bold\">]</span> It has been spe<span style=\"color: #808000; text-decoration-color: #808000\">...</span> <span style=\"color: #7f7f7f; text-decoration-color: #7f7f7f; font-weight: bold\">(</span><span style=\"color: #7f7f7f; text-decoration-color: #7f7f7f\">length: </span><span style=\"color: #7fbfbf; text-decoration-color: #7fbfbf; font-weight: bold\">236</span><span style=\"color: #7f7f7f; text-decoration-color: #7f7f7f; font-weight: bold\">)</span>         │\n",
       "            │   ╰─────────────┴────────────────────────────────────────────────────────────────╯\n",
       "            ├── 📄 <span style=\"font-weight: bold\">Document</span>: <span style=\"color: #008080; text-decoration-color: #008080\">d9137e425d7a8c61fc1d0e64ce8a8d0e</span>\n",
       "            │   ╭─────────────┬────────────────────────────────────────────────────────────────╮\n",
       "            │   │<span style=\"font-weight: bold\"> Attribute   </span>│<span style=\"font-weight: bold\"> Value                                                          </span>│\n",
       "            │   ├─────────────┼────────────────────────────────────────────────────────────────┤\n",
       "            │   │ parent_id   │ cb5b2ade35bae403da1b2e78bed6bfdd                               │\n",
       "            │   │ granularity │ <span style=\"color: #008080; text-decoration-color: #008080; font-weight: bold\">2</span>                                                              │\n",
       "            │   │ text        │ <span style=\"color: #008080; text-decoration-color: #008080; font-weight: bold\">40</span><span style=\"font-weight: bold\">]</span> <span style=\"font-weight: bold\">[</span><span style=\"color: #008080; text-decoration-color: #008080; font-weight: bold\">41</span><span style=\"font-weight: bold\">]</span> Fossil remains of tigers were also excavated in Sri   │\n",
       "            │   │             │ Lanka, China, Japan and Sarawak dating <span style=\"color: #808000; text-decoration-color: #808000\">...</span> <span style=\"color: #7f7f7f; text-decoration-color: #7f7f7f; font-weight: bold\">(</span><span style=\"color: #7f7f7f; text-decoration-color: #7f7f7f\">length: </span><span style=\"color: #7fbfbf; text-decoration-color: #7fbfbf; font-weight: bold\">155</span><span style=\"color: #7f7f7f; text-decoration-color: #7f7f7f; font-weight: bold\">)</span>       │\n",
       "            │   ╰─────────────┴────────────────────────────────────────────────────────────────╯\n",
       "            ├── 📄 <span style=\"font-weight: bold\">Document</span>: <span style=\"color: #008080; text-decoration-color: #008080\">e3552af091d6392d41062a739d6066cb</span>\n",
       "            │   ╭─────────────┬────────────────────────────────────────────────────────────────╮\n",
       "            │   │<span style=\"font-weight: bold\"> Attribute   </span>│<span style=\"font-weight: bold\"> Value                                                          </span>│\n",
       "            │   ├─────────────┼────────────────────────────────────────────────────────────────┤\n",
       "            │   │ parent_id   │ cb5b2ade35bae403da1b2e78bed6bfdd                               │\n",
       "            │   │ granularity │ <span style=\"color: #008080; text-decoration-color: #008080; font-weight: bold\">2</span>                                                              │\n",
       "            │   │ text        │ <span style=\"color: #008080; text-decoration-color: #008080; font-weight: bold\">38</span><span style=\"font-weight: bold\">]</span> <span style=\"font-weight: bold\">[</span><span style=\"color: #008080; text-decoration-color: #008080; font-weight: bold\">42</span><span style=\"font-weight: bold\">]</span> The Bornean tiger was apparently present in Borneo    │\n",
       "            │   │             │ between the Late Pleistocene and the Hol<span style=\"color: #808000; text-decoration-color: #808000\">...</span> <span style=\"color: #7f7f7f; text-decoration-color: #7f7f7f; font-weight: bold\">(</span><span style=\"color: #7f7f7f; text-decoration-color: #7f7f7f\">length: </span><span style=\"color: #7fbfbf; text-decoration-color: #7fbfbf; font-weight: bold\">190</span><span style=\"color: #7f7f7f; text-decoration-color: #7f7f7f; font-weight: bold\">)</span>      │\n",
       "            │   ╰─────────────┴────────────────────────────────────────────────────────────────╯\n",
       "            ├── 📄 <span style=\"font-weight: bold\">Document</span>: <span style=\"color: #008080; text-decoration-color: #008080\">3023e68e163291eda184459bef65fd02</span>\n",
       "            │   ╭─────────────┬────────────────────────────────────────────────────────────────╮\n",
       "            │   │<span style=\"font-weight: bold\"> Attribute   </span>│<span style=\"font-weight: bold\"> Value                                                          </span>│\n",
       "            │   ├─────────────┼────────────────────────────────────────────────────────────────┤\n",
       "            │   │ parent_id   │ cb5b2ade35bae403da1b2e78bed6bfdd                               │\n",
       "            │   │ granularity │ <span style=\"color: #008080; text-decoration-color: #008080; font-weight: bold\">2</span>                                                              │\n",
       "            │   │ text        │ <span style=\"color: #008080; text-decoration-color: #008080; font-weight: bold\">42</span><span style=\"font-weight: bold\">]</span> <span style=\"font-weight: bold\">[</span><span style=\"color: #008080; text-decoration-color: #008080; font-weight: bold\">43</span><span style=\"font-weight: bold\">]</span> Results of a phylogeographic study indicate that all  │\n",
       "            │   │             │ living tigers had a common ancestor <span style=\"color: #008080; text-decoration-color: #008080; font-weight: bold\">10</span><span style=\"color: #808000; text-decoration-color: #808000\">...</span> <span style=\"color: #7f7f7f; text-decoration-color: #7f7f7f; font-weight: bold\">(</span><span style=\"color: #7f7f7f; text-decoration-color: #7f7f7f\">length: </span><span style=\"color: #7fbfbf; text-decoration-color: #7fbfbf; font-weight: bold\">325</span><span style=\"color: #7f7f7f; text-decoration-color: #7f7f7f; font-weight: bold\">)</span>        │\n",
       "            │   ╰─────────────┴────────────────────────────────────────────────────────────────╯\n",
       "            ├── 📄 <span style=\"font-weight: bold\">Document</span>: <span style=\"color: #008080; text-decoration-color: #008080\">76c98b8c9d887c7dca3df23137f70da1</span>\n",
       "            │   ╭─────────────┬────────────────────────────────────────────────────────────────╮\n",
       "            │   │<span style=\"font-weight: bold\"> Attribute   </span>│<span style=\"font-weight: bold\"> Value                                                          </span>│\n",
       "            │   ├─────────────┼────────────────────────────────────────────────────────────────┤\n",
       "            │   │ parent_id   │ cb5b2ade35bae403da1b2e78bed6bfdd                               │\n",
       "            │   │ granularity │ <span style=\"color: #008080; text-decoration-color: #008080; font-weight: bold\">2</span>                                                              │\n",
       "            │   │ text        │ The resulting model shows a contiguous tiger range at the Last │\n",
       "            │   │             │ Glacial Maximum, indicating gene flow<span style=\"color: #808000; text-decoration-color: #808000\">...</span> <span style=\"color: #7f7f7f; text-decoration-color: #7f7f7f; font-weight: bold\">(</span><span style=\"color: #7f7f7f; text-decoration-color: #7f7f7f\">length: </span><span style=\"color: #7fbfbf; text-decoration-color: #7fbfbf; font-weight: bold\">144</span><span style=\"color: #7f7f7f; text-decoration-color: #7f7f7f; font-weight: bold\">)</span>         │\n",
       "            │   ╰─────────────┴────────────────────────────────────────────────────────────────╯\n",
       "            ├── 📄 <span style=\"font-weight: bold\">Document</span>: <span style=\"color: #008080; text-decoration-color: #008080\">a12778a9648acf392dba974f88eee8f5</span>\n",
       "            │   ╭─────────────┬────────────────────────────────────────────────────────────────╮\n",
       "            │   │<span style=\"font-weight: bold\"> Attribute   </span>│<span style=\"font-weight: bold\"> Value                                                          </span>│\n",
       "            │   ├─────────────┼────────────────────────────────────────────────────────────────┤\n",
       "            │   │ parent_id   │ cb5b2ade35bae403da1b2e78bed6bfdd                               │\n",
       "            │   │ granularity │ <span style=\"color: #008080; text-decoration-color: #008080; font-weight: bold\">2</span>                                                              │\n",
       "            │   │ text        │ The Caspian tiger population was likely connected to the       │\n",
       "            │   │             │ Bengal tiger population through corridors b<span style=\"color: #808000; text-decoration-color: #808000\">...</span> <span style=\"color: #7f7f7f; text-decoration-color: #7f7f7f; font-weight: bold\">(</span><span style=\"color: #7f7f7f; text-decoration-color: #7f7f7f\">length: </span><span style=\"color: #7fbfbf; text-decoration-color: #7fbfbf; font-weight: bold\">157</span><span style=\"color: #7f7f7f; text-decoration-color: #7f7f7f; font-weight: bold\">)</span>   │\n",
       "            │   ╰─────────────┴────────────────────────────────────────────────────────────────╯\n",
       "            ├── 📄 <span style=\"font-weight: bold\">Document</span>: <span style=\"color: #008080; text-decoration-color: #008080\">0efe7c82bc7567714e47924cd93bc020</span>\n",
       "            │   ╭─────────────┬────────────────────────────────────────────────────────────────╮\n",
       "            │   │<span style=\"font-weight: bold\"> Attribute   </span>│<span style=\"font-weight: bold\"> Value                                                          </span>│\n",
       "            │   ├─────────────┼────────────────────────────────────────────────────────────────┤\n",
       "            │   │ parent_id   │ cb5b2ade35bae403da1b2e78bed6bfdd                               │\n",
       "            │   │ granularity │ <span style=\"color: #008080; text-decoration-color: #008080; font-weight: bold\">2</span>                                                              │\n",
       "            │   │ text        │ The tiger populations on the Sunda Islands and mainland Asia   │\n",
       "            │   │             │ were possibly separated during intergla<span style=\"color: #808000; text-decoration-color: #808000\">...</span> <span style=\"color: #7f7f7f; text-decoration-color: #7f7f7f; font-weight: bold\">(</span><span style=\"color: #7f7f7f; text-decoration-color: #7f7f7f\">length: </span><span style=\"color: #7fbfbf; text-decoration-color: #7fbfbf; font-weight: bold\">173</span><span style=\"color: #7f7f7f; text-decoration-color: #7f7f7f; font-weight: bold\">)</span>       │\n",
       "            │   ╰─────────────┴────────────────────────────────────────────────────────────────╯\n",
       "            └── 📄 <span style=\"font-weight: bold\">Document</span>: <span style=\"color: #008080; text-decoration-color: #008080\">a7cb4fa1aa695cb4aea715c0091132d6</span>\n",
       "                ╭─────────────┬────────────────────────────────────────────────────────────────╮\n",
       "                │<span style=\"font-weight: bold\"> Attribute   </span>│<span style=\"font-weight: bold\"> Value                                                          </span>│\n",
       "                ├─────────────┼────────────────────────────────────────────────────────────────┤\n",
       "                │ parent_id   │ cb5b2ade35bae403da1b2e78bed6bfdd                               │\n",
       "                │ granularity │ <span style=\"color: #008080; text-decoration-color: #008080; font-weight: bold\">2</span>                                                              │\n",
       "                │ text        │ It was found to have similar repeat composition to other cat   │\n",
       "                │             │ genomes and an appreciably conserved sy<span style=\"color: #808000; text-decoration-color: #808000\">...</span> <span style=\"color: #7f7f7f; text-decoration-color: #7f7f7f; font-weight: bold\">(</span><span style=\"color: #7f7f7f; text-decoration-color: #7f7f7f\">length: </span><span style=\"color: #7fbfbf; text-decoration-color: #7fbfbf; font-weight: bold\">110</span><span style=\"color: #7f7f7f; text-decoration-color: #7f7f7f; font-weight: bold\">)</span>       │\n",
       "                ╰─────────────┴────────────────────────────────────────────────────────────────╯\n",
       "</pre>\n"
      ],
      "text/plain": [
       "📄 \u001b[1mDocument\u001b[0m: \u001b[36m9ccaa47ad7299631ed31a8c4638c9d11\u001b[0m\n",
       "╭───────────┬──────────────────────────────────────────────────────────────────╮\n",
       "│\u001b[1m \u001b[0m\u001b[1mAttribute\u001b[0m\u001b[1m \u001b[0m│\u001b[1m \u001b[0m\u001b[1mValue                                                           \u001b[0m\u001b[1m \u001b[0m│\n",
       "├───────────┼──────────────────────────────────────────────────────────────────┤\n",
       "│ blob      │ b'%PDF-\u001b[1;36m1.6\u001b[0m\\n%\\xc3\\xa4\\xc3\\xbc\\xc3\\xb6\\xc3\\x9f\\n2 \u001b[1;36m0\u001b[0m               │\n",
       "│           │ obj\\n\u001b[1m<\u001b[0m\u001b[39m<\u001b[0m\u001b[35m/\u001b[0m\u001b[95mLength\u001b[0m\u001b[39m \u001b[0m\u001b[1;36m3\u001b[0m\u001b[39m \u001b[0m\u001b[1;36m0\u001b[0m\u001b[39m R/Filter/FlateDecode\u001b[0m\u001b[1m>\u001b[0m>\\nstream\u001b[33m...\u001b[0m \u001b[1;2m(\u001b[0m\u001b[2mlength: \u001b[0m   │\n",
       "│           │ \u001b[1;2;36m87394\u001b[0m\u001b[1;2m)\u001b[0m                                                           │\n",
       "│ mime_type │ application/pdf                                                  │\n",
       "│ uri       │ data/tiger.pdf                                                   │\n",
       "╰───────────┴──────────────────────────────────────────────────────────────────╯\n",
       "└── 💠 \u001b[1mChunks\u001b[0m\n",
       "    ├── 📄 \u001b[1mDocument\u001b[0m: \u001b[36mcad260f892f54d8168ce10a82f54469e\u001b[0m\n",
       "    │   ╭─────────────┬────────────────────────────────────────────────────────────────╮\n",
       "    │   │\u001b[1m \u001b[0m\u001b[1mAttribute  \u001b[0m\u001b[1m \u001b[0m│\u001b[1m \u001b[0m\u001b[1mValue                                                         \u001b[0m\u001b[1m \u001b[0m│\n",
       "    │   ├─────────────┼────────────────────────────────────────────────────────────────┤\n",
       "    │   │ parent_id   │ 9ccaa47ad7299631ed31a8c4638c9d11                               │\n",
       "    │   │ granularity │ \u001b[1;36m1\u001b[0m                                                              │\n",
       "    │   │ mime_type   │ text/plain                                                     │\n",
       "    │   │ text        │ The tiger \u001b[1m(\u001b[0mPanthera tigris\u001b[1m)\u001b[0m is the largest living cat species  │\n",
       "    │   │             │ and a member of the genus Panthera. It\u001b[33m...\u001b[0m \u001b[1;2m(\u001b[0m\u001b[2mlength: \u001b[0m\u001b[1;2;36m3042\u001b[0m\u001b[1;2m)\u001b[0m       │\n",
       "    │   ╰─────────────┴────────────────────────────────────────────────────────────────╯\n",
       "    │   └── 💠 \u001b[1mChunks\u001b[0m\n",
       "    │       ├── 📄 \u001b[1mDocument\u001b[0m: \u001b[36md3a1da0ba7a07b10886d07559c867361\u001b[0m\n",
       "    │       │   ╭─────────────┬────────────────────────────────────────────────────────────────╮\n",
       "    │       │   │\u001b[1m \u001b[0m\u001b[1mAttribute  \u001b[0m\u001b[1m \u001b[0m│\u001b[1m \u001b[0m\u001b[1mValue                                                         \u001b[0m\u001b[1m \u001b[0m│\n",
       "    │       │   ├─────────────┼────────────────────────────────────────────────────────────────┤\n",
       "    │       │   │ parent_id   │ cad260f892f54d8168ce10a82f54469e                               │\n",
       "    │       │   │ granularity │ \u001b[1;36m2\u001b[0m                                                              │\n",
       "    │       │   │ text        │ The tiger \u001b[1m(\u001b[0mPanthera tigris\u001b[1m)\u001b[0m is the largest living cat species  │\n",
       "    │       │   │             │ and a member of the genus Panthera.                            │\n",
       "    │       │   ╰─────────────┴────────────────────────────────────────────────────────────────╯\n",
       "    │       ├── 📄 \u001b[1mDocument\u001b[0m: \u001b[36m0d038770c036d91013bd560f63e4dcea\u001b[0m\n",
       "    │       │   ╭─────────────┬────────────────────────────────────────────────────────────────╮\n",
       "    │       │   │\u001b[1m \u001b[0m\u001b[1mAttribute  \u001b[0m\u001b[1m \u001b[0m│\u001b[1m \u001b[0m\u001b[1mValue                                                         \u001b[0m\u001b[1m \u001b[0m│\n",
       "    │       │   ├─────────────┼────────────────────────────────────────────────────────────────┤\n",
       "    │       │   │ parent_id   │ cad260f892f54d8168ce10a82f54469e                               │\n",
       "    │       │   │ granularity │ \u001b[1;36m2\u001b[0m                                                              │\n",
       "    │       │   │ text        │ It is most recognisable for its dark vertical stripes on       │\n",
       "    │       │   │             │ orange fur with a white underside.                             │\n",
       "    │       │   ╰─────────────┴────────────────────────────────────────────────────────────────╯\n",
       "    │       ├── 📄 \u001b[1mDocument\u001b[0m: \u001b[36m8317614fc0668c81bd943a7378fc5b7a\u001b[0m\n",
       "    │       │   ╭─────────────┬────────────────────────────────────────────────────────────────╮\n",
       "    │       │   │\u001b[1m \u001b[0m\u001b[1mAttribute  \u001b[0m\u001b[1m \u001b[0m│\u001b[1m \u001b[0m\u001b[1mValue                                                         \u001b[0m\u001b[1m \u001b[0m│\n",
       "    │       │   ├─────────────┼────────────────────────────────────────────────────────────────┤\n",
       "    │       │   │ parent_id   │ cad260f892f54d8168ce10a82f54469e                               │\n",
       "    │       │   │ granularity │ \u001b[1;36m2\u001b[0m                                                              │\n",
       "    │       │   │ text        │ An apex predator, it primarily preys on ungulates such as deer │\n",
       "    │       │   │             │ and wild boar.                                                 │\n",
       "    │       │   ╰─────────────┴────────────────────────────────────────────────────────────────╯\n",
       "    │       ├── 📄 \u001b[1mDocument\u001b[0m: \u001b[36m47a1e971dad999d61ef446584d7b4fb4\u001b[0m\n",
       "    │       │   ╭─────────────┬────────────────────────────────────────────────────────────────╮\n",
       "    │       │   │\u001b[1m \u001b[0m\u001b[1mAttribute  \u001b[0m\u001b[1m \u001b[0m│\u001b[1m \u001b[0m\u001b[1mValue                                                         \u001b[0m\u001b[1m \u001b[0m│\n",
       "    │       │   ├─────────────┼────────────────────────────────────────────────────────────────┤\n",
       "    │       │   │ parent_id   │ cad260f892f54d8168ce10a82f54469e                               │\n",
       "    │       │   │ granularity │ \u001b[1;36m2\u001b[0m                                                              │\n",
       "    │       │   │ text        │ It is territorial and generally a solitary but social          │\n",
       "    │       │   │             │ predator, requiring large contiguous areas of \u001b[33m...\u001b[0m \u001b[1;2m(\u001b[0m\u001b[2mlength: \u001b[0m    │\n",
       "    │       │   │             │ \u001b[1;2;36m178\u001b[0m\u001b[1;2m)\u001b[0m                                                           │\n",
       "    │       │   ╰─────────────┴────────────────────────────────────────────────────────────────╯\n",
       "    │       ├── 📄 \u001b[1mDocument\u001b[0m: \u001b[36m04eb3b08c54f543d51033918750cb2a9\u001b[0m\n",
       "    │       │   ╭─────────────┬────────────────────────────────────────────────────────────────╮\n",
       "    │       │   │\u001b[1m \u001b[0m\u001b[1mAttribute  \u001b[0m\u001b[1m \u001b[0m│\u001b[1m \u001b[0m\u001b[1mValue                                                         \u001b[0m\u001b[1m \u001b[0m│\n",
       "    │       │   ├─────────────┼────────────────────────────────────────────────────────────────┤\n",
       "    │       │   │ parent_id   │ cad260f892f54d8168ce10a82f54469e                               │\n",
       "    │       │   │ granularity │ \u001b[1;36m2\u001b[0m                                                              │\n",
       "    │       │   │ text        │ Tiger cubs stay with their mother for about two years, then    │\n",
       "    │       │   │             │ become independent and leave their mothe\u001b[33m...\u001b[0m \u001b[1;2m(\u001b[0m\u001b[2mlength: \u001b[0m\u001b[1;2;36m138\u001b[0m\u001b[1;2m)\u001b[0m      │\n",
       "    │       │   ╰─────────────┴────────────────────────────────────────────────────────────────╯\n",
       "    │       ├── 📄 \u001b[1mDocument\u001b[0m: \u001b[36mee5ca26cde4d9872c503410662838111\u001b[0m\n",
       "    │       │   ╭─────────────┬────────────────────────────────────────────────────────────────╮\n",
       "    │       │   │\u001b[1m \u001b[0m\u001b[1mAttribute  \u001b[0m\u001b[1m \u001b[0m│\u001b[1m \u001b[0m\u001b[1mValue                                                         \u001b[0m\u001b[1m \u001b[0m│\n",
       "    │       │   ├─────────────┼────────────────────────────────────────────────────────────────┤\n",
       "    │       │   │ parent_id   │ cad260f892f54d8168ce10a82f54469e                               │\n",
       "    │       │   │ granularity │ \u001b[1;36m2\u001b[0m                                                              │\n",
       "    │       │   │ text        │ The tiger was first scientifically described in \u001b[1;36m1758\u001b[0m and once  │\n",
       "    │       │   │             │ ranged widely from the Eastern Anatoli\u001b[33m...\u001b[0m \u001b[1;2m(\u001b[0m\u001b[2mlength: \u001b[0m\u001b[1;2;36m240\u001b[0m\u001b[1;2m)\u001b[0m        │\n",
       "    │       │   ╰─────────────┴────────────────────────────────────────────────────────────────╯\n",
       "    │       ├── 📄 \u001b[1mDocument\u001b[0m: \u001b[36m2699ac600a65e7ede313c6de5dfbeedb\u001b[0m\n",
       "    │       │   ╭─────────────┬────────────────────────────────────────────────────────────────╮\n",
       "    │       │   │\u001b[1m \u001b[0m\u001b[1mAttribute  \u001b[0m\u001b[1m \u001b[0m│\u001b[1m \u001b[0m\u001b[1mValue                                                         \u001b[0m\u001b[1m \u001b[0m│\n",
       "    │       │   ├─────────────┼────────────────────────────────────────────────────────────────┤\n",
       "    │       │   │ parent_id   │ cad260f892f54d8168ce10a82f54469e                               │\n",
       "    │       │   │ granularity │ \u001b[1;36m2\u001b[0m                                                              │\n",
       "    │       │   │ text        │ Since the early 20th century, tiger populations have lost at   │\n",
       "    │       │   │             │ least \u001b[1;36m93\u001b[0m% of their historic range and h\u001b[33m...\u001b[0m \u001b[1;2m(\u001b[0m\u001b[2mlength: \u001b[0m\u001b[1;2;36m238\u001b[0m\u001b[1;2m)\u001b[0m       │\n",
       "    │       │   ╰─────────────┴────────────────────────────────────────────────────────────────╯\n",
       "    │       ├── 📄 \u001b[1mDocument\u001b[0m: \u001b[36m64f7b86cb433aa6b2edaae382a6d8233\u001b[0m\n",
       "    │       │   ╭─────────────┬────────────────────────────────────────────────────────────────╮\n",
       "    │       │   │\u001b[1m \u001b[0m\u001b[1mAttribute  \u001b[0m\u001b[1m \u001b[0m│\u001b[1m \u001b[0m\u001b[1mValue                                                         \u001b[0m\u001b[1m \u001b[0m│\n",
       "    │       │   ├─────────────┼────────────────────────────────────────────────────────────────┤\n",
       "    │       │   │ parent_id   │ cad260f892f54d8168ce10a82f54469e                               │\n",
       "    │       │   │ granularity │ \u001b[1;36m2\u001b[0m                                                              │\n",
       "    │       │   │ text        │ Today, the tiger's range is fragmented, stretching from        │\n",
       "    │       │   │             │ Siberian temperate forests to subtropical an\u001b[33m...\u001b[0m \u001b[1;2m(\u001b[0m\u001b[2mlength: \u001b[0m\u001b[1;2;36m169\u001b[0m\u001b[1;2m)\u001b[0m  │\n",
       "    │       │   ╰─────────────┴────────────────────────────────────────────────────────────────╯\n",
       "    │       ├── 📄 \u001b[1mDocument\u001b[0m: \u001b[36mc0f5d8fedbba506fe33aa02f2defdb85\u001b[0m\n",
       "    │       │   ╭───────────────┬──────────────────────────────────────────────────────────────╮\n",
       "    │       │   │\u001b[1m \u001b[0m\u001b[1mAttribute    \u001b[0m\u001b[1m \u001b[0m│\u001b[1m \u001b[0m\u001b[1mValue                                                       \u001b[0m\u001b[1m \u001b[0m│\n",
       "    │       │   ├───────────────┼──────────────────────────────────────────────────────────────┤\n",
       "    │       │   │ parent_id     │ cad260f892f54d8168ce10a82f54469e                             │\n",
       "    │       │   │ granularity   │ \u001b[1;36m2\u001b[0m                                                            │\n",
       "    │       │   │ text          │ The tiger is listed as Endangered on the IUCN Red List.      │\n",
       "    │       │   ╰───────────────┴──────────────────────────────────────────────────────────────╯\n",
       "    │       ├── 📄 \u001b[1mDocument\u001b[0m: \u001b[36m6ddec379c95e2f73a089a4f4359c2899\u001b[0m\n",
       "    │       │   ╭─────────────┬────────────────────────────────────────────────────────────────╮\n",
       "    │       │   │\u001b[1m \u001b[0m\u001b[1mAttribute  \u001b[0m\u001b[1m \u001b[0m│\u001b[1m \u001b[0m\u001b[1mValue                                                         \u001b[0m\u001b[1m \u001b[0m│\n",
       "    │       │   ├─────────────┼────────────────────────────────────────────────────────────────┤\n",
       "    │       │   │ parent_id   │ cad260f892f54d8168ce10a82f54469e                               │\n",
       "    │       │   │ granularity │ \u001b[1;36m2\u001b[0m                                                              │\n",
       "    │       │   │ text        │ As of \u001b[1;36m2015\u001b[0m, the global wild tiger population was estimated to  │\n",
       "    │       │   │             │ number between \u001b[1;36m3\u001b[0m,\u001b[1;36m062\u001b[0m and \u001b[1;36m3\u001b[0m,\u001b[1;36m948\u001b[0m mature \u001b[33m...\u001b[0m \u001b[1;2m(\u001b[0m\u001b[2mlength: \u001b[0m\u001b[1;2;36m175\u001b[0m\u001b[1;2m)\u001b[0m        │\n",
       "    │       │   ╰─────────────┴────────────────────────────────────────────────────────────────╯\n",
       "    │       ├── 📄 \u001b[1mDocument\u001b[0m: \u001b[36m76cd636cf6f109f6e133fdc35802fd1d\u001b[0m\n",
       "    │       │   ╭────────────────┬─────────────────────────────────────────────────────────────╮\n",
       "    │       │   │\u001b[1m \u001b[0m\u001b[1mAttribute     \u001b[0m\u001b[1m \u001b[0m│\u001b[1m \u001b[0m\u001b[1mValue                                                      \u001b[0m\u001b[1m \u001b[0m│\n",
       "    │       │   ├────────────────┼─────────────────────────────────────────────────────────────┤\n",
       "    │       │   │ parent_id      │ cad260f892f54d8168ce10a82f54469e                            │\n",
       "    │       │   │ granularity    │ \u001b[1;36m2\u001b[0m                                                           │\n",
       "    │       │   │ text           │ India currently hosts the largest tiger population.         │\n",
       "    │       │   ╰────────────────┴─────────────────────────────────────────────────────────────╯\n",
       "    │       ├── 📄 \u001b[1mDocument\u001b[0m: \u001b[36mb6d2809b9ce8857eb69f24cfe1f88cc5\u001b[0m\n",
       "    │       │   ╭─────────────┬────────────────────────────────────────────────────────────────╮\n",
       "    │       │   │\u001b[1m \u001b[0m\u001b[1mAttribute  \u001b[0m\u001b[1m \u001b[0m│\u001b[1m \u001b[0m\u001b[1mValue                                                         \u001b[0m\u001b[1m \u001b[0m│\n",
       "    │       │   ├─────────────┼────────────────────────────────────────────────────────────────┤\n",
       "    │       │   │ parent_id   │ cad260f892f54d8168ce10a82f54469e                               │\n",
       "    │       │   │ granularity │ \u001b[1;36m2\u001b[0m                                                              │\n",
       "    │       │   │ text        │ Major reasons for population decline are habitat destruction,  │\n",
       "    │       │   │             │ habitat fragmentation and poaching.                            │\n",
       "    │       │   ╰─────────────┴────────────────────────────────────────────────────────────────╯\n",
       "    │       ├── 📄 \u001b[1mDocument\u001b[0m: \u001b[36ma6f5ca5f2f3b70e36289047bd738cfaf\u001b[0m\n",
       "    │       │   ╭─────────────┬────────────────────────────────────────────────────────────────╮\n",
       "    │       │   │\u001b[1m \u001b[0m\u001b[1mAttribute  \u001b[0m\u001b[1m \u001b[0m│\u001b[1m \u001b[0m\u001b[1mValue                                                         \u001b[0m\u001b[1m \u001b[0m│\n",
       "    │       │   ├─────────────┼────────────────────────────────────────────────────────────────┤\n",
       "    │       │   │ parent_id   │ cad260f892f54d8168ce10a82f54469e                               │\n",
       "    │       │   │ granularity │ \u001b[1;36m2\u001b[0m                                                              │\n",
       "    │       │   │ text        │ Tigers are also victims of human–wildlife conflict,            │\n",
       "    │       │   │             │ particularly in range countries with a high huma\u001b[33m...\u001b[0m \u001b[1;2m(\u001b[0m\u001b[2mlength: \u001b[0m  │\n",
       "    │       │   │             │ \u001b[1;2;36m121\u001b[0m\u001b[1;2m)\u001b[0m                                                           │\n",
       "    │       │   ╰─────────────┴────────────────────────────────────────────────────────────────╯\n",
       "    │       ├── 📄 \u001b[1mDocument\u001b[0m: \u001b[36m3aea5c4e49e6d7ebe415c57101c5a027\u001b[0m\n",
       "    │       │   ╭─────────────┬────────────────────────────────────────────────────────────────╮\n",
       "    │       │   │\u001b[1m \u001b[0m\u001b[1mAttribute  \u001b[0m\u001b[1m \u001b[0m│\u001b[1m \u001b[0m\u001b[1mValue                                                         \u001b[0m\u001b[1m \u001b[0m│\n",
       "    │       │   ├─────────────┼────────────────────────────────────────────────────────────────┤\n",
       "    │       │   │ parent_id   │ cad260f892f54d8168ce10a82f54469e                               │\n",
       "    │       │   │ granularity │ \u001b[1;36m2\u001b[0m                                                              │\n",
       "    │       │   │ text        │ The tiger is among the most recognisable and popular of the    │\n",
       "    │       │   │             │ world's charismatic megafauna.                                 │\n",
       "    │       │   ╰─────────────┴────────────────────────────────────────────────────────────────╯\n",
       "    │       ├── 📄 \u001b[1mDocument\u001b[0m: \u001b[36m70915f86f128c7d9ef85b18780a53356\u001b[0m\n",
       "    │       │   ╭─────────────┬────────────────────────────────────────────────────────────────╮\n",
       "    │       │   │\u001b[1m \u001b[0m\u001b[1mAttribute  \u001b[0m\u001b[1m \u001b[0m│\u001b[1m \u001b[0m\u001b[1mValue                                                         \u001b[0m\u001b[1m \u001b[0m│\n",
       "    │       │   ├─────────────┼────────────────────────────────────────────────────────────────┤\n",
       "    │       │   │ parent_id   │ cad260f892f54d8168ce10a82f54469e                               │\n",
       "    │       │   │ granularity │ \u001b[1;36m2\u001b[0m                                                              │\n",
       "    │       │   │ text        │ It featured prominently in the ancient mythology and folklore  │\n",
       "    │       │   │             │ of cultures throughout its historic ra\u001b[33m...\u001b[0m \u001b[1;2m(\u001b[0m\u001b[2mlength: \u001b[0m\u001b[1;2;36m239\u001b[0m\u001b[1;2m)\u001b[0m        │\n",
       "    │       │   ╰─────────────┴────────────────────────────────────────────────────────────────╯\n",
       "    │       ├── 📄 \u001b[1mDocument\u001b[0m: \u001b[36m12496063e624c394b41ecc220c85d9b2\u001b[0m\n",
       "    │       │   ╭─────────────┬────────────────────────────────────────────────────────────────╮\n",
       "    │       │   │\u001b[1m \u001b[0m\u001b[1mAttribute  \u001b[0m\u001b[1m \u001b[0m│\u001b[1m \u001b[0m\u001b[1mValue                                                         \u001b[0m\u001b[1m \u001b[0m│\n",
       "    │       │   ├─────────────┼────────────────────────────────────────────────────────────────┤\n",
       "    │       │   │ parent_id   │ cad260f892f54d8168ce10a82f54469e                               │\n",
       "    │       │   │ granularity │ \u001b[1;36m2\u001b[0m                                                              │\n",
       "    │       │   │ text        │ The tiger is the national animal of India, Bangladesh,         │\n",
       "    │       │   │             │ Malaysia and South Korea.                                      │\n",
       "    │       │   ╰─────────────┴────────────────────────────────────────────────────────────────╯\n",
       "    │       ├── 📄 \u001b[1mDocument\u001b[0m: \u001b[36me3fa17e3d9c35e0b918d34f0f29658b0\u001b[0m\n",
       "    │       │   ╭─────────────┬────────────────────────────────────────────────────────────────╮\n",
       "    │       │   │\u001b[1m \u001b[0m\u001b[1mAttribute  \u001b[0m\u001b[1m \u001b[0m│\u001b[1m \u001b[0m\u001b[1mValue                                                         \u001b[0m\u001b[1m \u001b[0m│\n",
       "    │       │   ├─────────────┼────────────────────────────────────────────────────────────────┤\n",
       "    │       │   │ parent_id   │ cad260f892f54d8168ce10a82f54469e                               │\n",
       "    │       │   │ granularity │ \u001b[1;36m2\u001b[0m                                                              │\n",
       "    │       │   │ text        │ Etymology The Middle English tigre and Old English tigras      │\n",
       "    │       │   │             │ derive from Old French tigre, from Latin t\u001b[33m...\u001b[0m \u001b[1;2m(\u001b[0m\u001b[2mlength: \u001b[0m\u001b[1;2;36m106\u001b[0m\u001b[1;2m)\u001b[0m    │\n",
       "    │       │   ╰─────────────┴────────────────────────────────────────────────────────────────╯\n",
       "    │       └── 📄 \u001b[1mDocument\u001b[0m: \u001b[36m29596b82f530f21bdb442829aefaaa4f\u001b[0m\n",
       "    │           ╭─────────────┬────────────────────────────────────────────────────────────────╮\n",
       "    │           │\u001b[1m \u001b[0m\u001b[1mAttribute  \u001b[0m\u001b[1m \u001b[0m│\u001b[1m \u001b[0m\u001b[1mValue                                                         \u001b[0m\u001b[1m \u001b[0m│\n",
       "    │           ├─────────────┼────────────────────────────────────────────────────────────────┤\n",
       "    │           │ parent_id   │ cad260f892f54d8168ce10a82f54469e                               │\n",
       "    │           │ granularity │ \u001b[1;36m2\u001b[0m                                                              │\n",
       "    │           │ text        │ This was a borrowing of Classical Greek τίγρις \u001b[32m'tigris'\u001b[0m, a     │\n",
       "    │           │             │ foreign borrowing of unknown origin meani\u001b[33m...\u001b[0m \u001b[1;2m(\u001b[0m\u001b[2mlength: \u001b[0m\u001b[1;2;36m776\u001b[0m\u001b[1;2m)\u001b[0m     │\n",
       "    │           ╰─────────────┴────────────────────────────────────────────────────────────────╯\n",
       "    ├── 📄 \u001b[1mDocument\u001b[0m: \u001b[36m016088094ac056c3998c75e1fc2ed961\u001b[0m\n",
       "    │   ╭─────────────┬────────────────────────────────────────────────────────────────╮\n",
       "    │   │\u001b[1m \u001b[0m\u001b[1mAttribute  \u001b[0m\u001b[1m \u001b[0m│\u001b[1m \u001b[0m\u001b[1mValue                                                         \u001b[0m\u001b[1m \u001b[0m│\n",
       "    │   ├─────────────┼────────────────────────────────────────────────────────────────┤\n",
       "    │   │ parent_id   │ 9ccaa47ad7299631ed31a8c4638c9d11                               │\n",
       "    │   │ granularity │ \u001b[1;36m1\u001b[0m                                                              │\n",
       "    │   │ mime_type   │ text/plain                                                     │\n",
       "    │   │ text        │ Subspecies Phylogenetic relationship of tiger populations      │\n",
       "    │   │             │ based on Driscoll et al. \u001b[1m(\u001b[0m\u001b[1;36m2009\u001b[0m\u001b[1m)\u001b[0m.\u001b[1m[\u001b[0m\u001b[1;36m10\u001b[0m\u001b[1m]\u001b[0m Follo\u001b[33m...\u001b[0m \u001b[1;2m(\u001b[0m\u001b[2mlength: \u001b[0m\u001b[1;2;36m3053\u001b[0m\u001b[1;2m)\u001b[0m   │\n",
       "    │   ╰─────────────┴────────────────────────────────────────────────────────────────╯\n",
       "    │   └── 💠 \u001b[1mChunks\u001b[0m\n",
       "    │       ├── 📄 \u001b[1mDocument\u001b[0m: \u001b[36m7259ea2e3c627cb96ac918e8075cb906\u001b[0m\n",
       "    │       │   ╭─────────────┬────────────────────────────────────────────────────────────────╮\n",
       "    │       │   │\u001b[1m \u001b[0m\u001b[1mAttribute  \u001b[0m\u001b[1m \u001b[0m│\u001b[1m \u001b[0m\u001b[1mValue                                                         \u001b[0m\u001b[1m \u001b[0m│\n",
       "    │       │   ├─────────────┼────────────────────────────────────────────────────────────────┤\n",
       "    │       │   │ parent_id   │ 016088094ac056c3998c75e1fc2ed961                               │\n",
       "    │       │   │ granularity │ \u001b[1;36m2\u001b[0m                                                              │\n",
       "    │       │   │ text        │ Subspecies Phylogenetic relationship of tiger populations      │\n",
       "    │       │   │             │ based on Driscoll et al. \u001b[1m(\u001b[0m                                     │\n",
       "    │       │   ╰─────────────┴────────────────────────────────────────────────────────────────╯\n",
       "    │       ├── 📄 \u001b[1mDocument\u001b[0m: \u001b[36m306ffb76367e1476c6dcdb340786bdf6\u001b[0m\n",
       "    │       │   ╭─────────────┬────────────────────────────────────────────────────────────────╮\n",
       "    │       │   │\u001b[1m \u001b[0m\u001b[1mAttribute  \u001b[0m\u001b[1m \u001b[0m│\u001b[1m \u001b[0m\u001b[1mValue                                                         \u001b[0m\u001b[1m \u001b[0m│\n",
       "    │       │   ├─────────────┼────────────────────────────────────────────────────────────────┤\n",
       "    │       │   │ parent_id   │ 016088094ac056c3998c75e1fc2ed961                               │\n",
       "    │       │   │ granularity │ \u001b[1;36m2\u001b[0m                                                              │\n",
       "    │       │   │ text        │ \u001b[1;36m2009\u001b[0m\u001b[1m)\u001b[0m.\u001b[1m[\u001b[0m\u001b[1;36m10\u001b[0m\u001b[1m]\u001b[0m Following Linnaeus's first descriptions of the      │\n",
       "    │       │   │             │ species, several tiger specimens were desc\u001b[33m...\u001b[0m \u001b[1;2m(\u001b[0m\u001b[2mlength: \u001b[0m\u001b[1;2;36m202\u001b[0m\u001b[1;2m)\u001b[0m    │\n",
       "    │       │   ╰─────────────┴────────────────────────────────────────────────────────────────╯\n",
       "    │       ├── 📄 \u001b[1mDocument\u001b[0m: \u001b[36m3a61f4a473f30f1f7476bad8b97e8de3\u001b[0m\n",
       "    │       │   ╭─────────────┬────────────────────────────────────────────────────────────────╮\n",
       "    │       │   │\u001b[1m \u001b[0m\u001b[1mAttribute  \u001b[0m\u001b[1m \u001b[0m│\u001b[1m \u001b[0m\u001b[1mValue                                                         \u001b[0m\u001b[1m \u001b[0m│\n",
       "    │       │   ├─────────────┼────────────────────────────────────────────────────────────────┤\n",
       "    │       │   │ parent_id   │ 016088094ac056c3998c75e1fc2ed961                               │\n",
       "    │       │   │ granularity │ \u001b[1;36m2\u001b[0m                                                              │\n",
       "    │       │   │ text        │ Most putative subspecies described in the 19th and 20th        │\n",
       "    │       │   │             │ centuries were distinguished on basis of fur\u001b[33m...\u001b[0m \u001b[1;2m(\u001b[0m\u001b[2mlength: \u001b[0m\u001b[1;2;36m216\u001b[0m\u001b[1;2m)\u001b[0m  │\n",
       "    │       │   ╰─────────────┴────────────────────────────────────────────────────────────────╯\n",
       "    │       ├── 📄 \u001b[1mDocument\u001b[0m: \u001b[36m6682d3c87709c0295fcd741fcc22adde\u001b[0m\n",
       "    │       │   ╭─────────────┬────────────────────────────────────────────────────────────────╮\n",
       "    │       │   │\u001b[1m \u001b[0m\u001b[1mAttribute  \u001b[0m\u001b[1m \u001b[0m│\u001b[1m \u001b[0m\u001b[1mValue                                                         \u001b[0m\u001b[1m \u001b[0m│\n",
       "    │       │   ├─────────────┼────────────────────────────────────────────────────────────────┤\n",
       "    │       │   │ parent_id   │ 016088094ac056c3998c75e1fc2ed961                               │\n",
       "    │       │   │ granularity │ \u001b[1;36m2\u001b[0m                                                              │\n",
       "    │       │   │ text        │ Morphologically, tigers from different regions vary little,    │\n",
       "    │       │   │             │ and gene flow between populations in tho\u001b[33m...\u001b[0m \u001b[1;2m(\u001b[0m\u001b[2mlength: \u001b[0m\u001b[1;2;36m170\u001b[0m\u001b[1;2m)\u001b[0m      │\n",
       "    │       │   ╰─────────────┴────────────────────────────────────────────────────────────────╯\n",
       "    │       ├── 📄 \u001b[1mDocument\u001b[0m: \u001b[36mbac0285099ea51e084d297e1df22d33e\u001b[0m\n",
       "    │       │   ╭─────────────┬────────────────────────────────────────────────────────────────╮\n",
       "    │       │   │\u001b[1m \u001b[0m\u001b[1mAttribute  \u001b[0m\u001b[1m \u001b[0m│\u001b[1m \u001b[0m\u001b[1mValue                                                         \u001b[0m\u001b[1m \u001b[0m│\n",
       "    │       │   ├─────────────┼────────────────────────────────────────────────────────────────┤\n",
       "    │       │   │ parent_id   │ 016088094ac056c3998c75e1fc2ed961                               │\n",
       "    │       │   │ granularity │ \u001b[1;36m2\u001b[0m                                                              │\n",
       "    │       │   │ text        │ Therefore, it was proposed to recognize only two tiger         │\n",
       "    │       │   │             │ subspecies as valid, namely P. t. tigris in m\u001b[33m...\u001b[0m \u001b[1;2m(\u001b[0m\u001b[2mlength: \u001b[0m\u001b[1;2;36m410\u001b[0m\u001b[1;2m)\u001b[0m │\n",
       "    │       │   ╰─────────────┴────────────────────────────────────────────────────────────────╯\n",
       "    │       ├── 📄 \u001b[1mDocument\u001b[0m: \u001b[36m970dfdb1b7afc9ec5869a76179874a53\u001b[0m\n",
       "    │       │   ╭─────────────┬────────────────────────────────────────────────────────────────╮\n",
       "    │       │   │\u001b[1m \u001b[0m\u001b[1mAttribute  \u001b[0m\u001b[1m \u001b[0m│\u001b[1m \u001b[0m\u001b[1mValue                                                         \u001b[0m\u001b[1m \u001b[0m│\n",
       "    │       │   ├─────────────┼────────────────────────────────────────────────────────────────┤\n",
       "    │       │   │ parent_id   │ 016088094ac056c3998c75e1fc2ed961                               │\n",
       "    │       │   │ granularity │ \u001b[1;36m2\u001b[0m                                                              │\n",
       "    │       │   │ text        │ The authors proposed to classify the Sumatran and Javan tigers │\n",
       "    │       │   │             │ as distinct species, P. sumatrae and \u001b[33m...\u001b[0m \u001b[1;2m(\u001b[0m\u001b[2mlength: \u001b[0m\u001b[1;2;36m298\u001b[0m\u001b[1;2m)\u001b[0m         │\n",
       "    │       │   ╰─────────────┴────────────────────────────────────────────────────────────────╯\n",
       "    │       ├── 📄 \u001b[1mDocument\u001b[0m: \u001b[36m3e533a44e3090e4a3a535ada38fbda13\u001b[0m\n",
       "    │       │   ╭─────────────┬────────────────────────────────────────────────────────────────╮\n",
       "    │       │   │\u001b[1m \u001b[0m\u001b[1mAttribute  \u001b[0m\u001b[1m \u001b[0m│\u001b[1m \u001b[0m\u001b[1mValue                                                         \u001b[0m\u001b[1m \u001b[0m│\n",
       "    │       │   ├─────────────┼────────────────────────────────────────────────────────────────┤\n",
       "    │       │   │ parent_id   │ 016088094ac056c3998c75e1fc2ed961                               │\n",
       "    │       │   │ granularity │ \u001b[1;36m2\u001b[0m                                                              │\n",
       "    │       │   │ text        │ Results support distinction of the two evolutionary groups     │\n",
       "    │       │   │             │ continental and Sunda tigers.                                  │\n",
       "    │       │   ╰─────────────┴────────────────────────────────────────────────────────────────╯\n",
       "    │       ├── 📄 \u001b[1mDocument\u001b[0m: \u001b[36m1e19289ee9e750105ccf8c0b878001d6\u001b[0m\n",
       "    │       │   ╭─────────────┬────────────────────────────────────────────────────────────────╮\n",
       "    │       │   │\u001b[1m \u001b[0m\u001b[1mAttribute  \u001b[0m\u001b[1m \u001b[0m│\u001b[1m \u001b[0m\u001b[1mValue                                                         \u001b[0m\u001b[1m \u001b[0m│\n",
       "    │       │   ├─────────────┼────────────────────────────────────────────────────────────────┤\n",
       "    │       │   │ parent_id   │ 016088094ac056c3998c75e1fc2ed961                               │\n",
       "    │       │   │ granularity │ \u001b[1;36m2\u001b[0m                                                              │\n",
       "    │       │   │ text        │ The authors proposed recognition of only two subspecies,       │\n",
       "    │       │   │             │ namely P. t. tigris comprising the Bengal, \u001b[33m...\u001b[0m \u001b[1;2m(\u001b[0m\u001b[2mlength: \u001b[0m\u001b[1;2;36m254\u001b[0m\u001b[1;2m)\u001b[0m   │\n",
       "    │       │   ╰─────────────┴────────────────────────────────────────────────────────────────╯\n",
       "    │       ├── 📄 \u001b[1mDocument\u001b[0m: \u001b[36ma14fea08b4680e41a6d21a1ca5ff0cc9\u001b[0m\n",
       "    │       │   ╭─────────────┬────────────────────────────────────────────────────────────────╮\n",
       "    │       │   │\u001b[1m \u001b[0m\u001b[1mAttribute  \u001b[0m\u001b[1m \u001b[0m│\u001b[1m \u001b[0m\u001b[1mValue                                                         \u001b[0m\u001b[1m \u001b[0m│\n",
       "    │       │   ├─────────────┼────────────────────────────────────────────────────────────────┤\n",
       "    │       │   │ parent_id   │ 016088094ac056c3998c75e1fc2ed961                               │\n",
       "    │       │   │ granularity │ \u001b[1;36m2\u001b[0m                                                              │\n",
       "    │       │   │ text        │ The authors also noted that this reclassification will affect  │\n",
       "    │       │   │             │ tiger conservation management.                                 │\n",
       "    │       │   ╰─────────────┴────────────────────────────────────────────────────────────────╯\n",
       "    │       ├── 📄 \u001b[1mDocument\u001b[0m: \u001b[36mded7b5e43bfb9321e81e508d22e12715\u001b[0m\n",
       "    │       │   ╭─────────────┬────────────────────────────────────────────────────────────────╮\n",
       "    │       │   │\u001b[1m \u001b[0m\u001b[1mAttribute  \u001b[0m\u001b[1m \u001b[0m│\u001b[1m \u001b[0m\u001b[1mValue                                                         \u001b[0m\u001b[1m \u001b[0m│\n",
       "    │       │   ├─────────────┼────────────────────────────────────────────────────────────────┤\n",
       "    │       │   │ parent_id   │ 016088094ac056c3998c75e1fc2ed961                               │\n",
       "    │       │   │ granularity │ \u001b[1;36m2\u001b[0m                                                              │\n",
       "    │       │   │ text        │ The nominate subspecies P. t. tigris constitutes two           │\n",
       "    │       │   │             │ clades:\u001b[1m[\u001b[0m\u001b[1;36m14\u001b[0m\u001b[1m]\u001b[0m • a northern clade composed of the \u001b[33m...\u001b[0m \u001b[1;2m(\u001b[0m\u001b[2mlength: \u001b[0m   │\n",
       "    │       │   │             │ \u001b[1;2;36m201\u001b[0m\u001b[1;2m)\u001b[0m                                                           │\n",
       "    │       │   ╰─────────────┴────────────────────────────────────────────────────────────────╯\n",
       "    │       ├── 📄 \u001b[1mDocument\u001b[0m: \u001b[36mb71d2675ff59268f39a2e4bf0e66581c\u001b[0m\n",
       "    │       │   ╭─────────────┬────────────────────────────────────────────────────────────────╮\n",
       "    │       │   │\u001b[1m \u001b[0m\u001b[1mAttribute  \u001b[0m\u001b[1m \u001b[0m│\u001b[1m \u001b[0m\u001b[1mValue                                                         \u001b[0m\u001b[1m \u001b[0m│\n",
       "    │       │   ├─────────────┼────────────────────────────────────────────────────────────────┤\n",
       "    │       │   │ parent_id   │ 016088094ac056c3998c75e1fc2ed961                               │\n",
       "    │       │   │ granularity │ \u001b[1;36m2\u001b[0m                                                              │\n",
       "    │       │   │ text        │ One conservation specialist welcomed this proposal as it would │\n",
       "    │       │   │             │ make captive breeding programmes and \u001b[33m...\u001b[0m \u001b[1;2m(\u001b[0m\u001b[2mlength: \u001b[0m\u001b[1;2;36m143\u001b[0m\u001b[1;2m)\u001b[0m         │\n",
       "    │       │   ╰─────────────┴────────────────────────────────────────────────────────────────╯\n",
       "    │       ├── 📄 \u001b[1mDocument\u001b[0m: \u001b[36m96485df0c765b5e276a8b4cf07d52090\u001b[0m\n",
       "    │       │   ╭─────────────┬────────────────────────────────────────────────────────────────╮\n",
       "    │       │   │\u001b[1m \u001b[0m\u001b[1mAttribute  \u001b[0m\u001b[1m \u001b[0m│\u001b[1m \u001b[0m\u001b[1mValue                                                         \u001b[0m\u001b[1m \u001b[0m│\n",
       "    │       │   ├─────────────┼────────────────────────────────────────────────────────────────┤\n",
       "    │       │   │ parent_id   │ 016088094ac056c3998c75e1fc2ed961                               │\n",
       "    │       │   │ granularity │ \u001b[1;36m2\u001b[0m                                                              │\n",
       "    │       │   │ text        │ One geneticist was sceptical of this study and maintained that │\n",
       "    │       │   │             │ the currently recognised nine subspec\u001b[33m...\u001b[0m \u001b[1;2m(\u001b[0m\u001b[2mlength: \u001b[0m\u001b[1;2;36m435\u001b[0m\u001b[1;2m)\u001b[0m         │\n",
       "    │       │   ╰─────────────┴────────────────────────────────────────────────────────────────╯\n",
       "    │       ├── 📄 \u001b[1mDocument\u001b[0m: \u001b[36m0b05fad85c21136db62e33a76f5aa78a\u001b[0m\n",
       "    │       │   ╭─────────────┬────────────────────────────────────────────────────────────────╮\n",
       "    │       │   │\u001b[1m \u001b[0m\u001b[1mAttribute  \u001b[0m\u001b[1m \u001b[0m│\u001b[1m \u001b[0m\u001b[1mValue                                                         \u001b[0m\u001b[1m \u001b[0m│\n",
       "    │       │   ├─────────────┼────────────────────────────────────────────────────────────────┤\n",
       "    │       │   │ parent_id   │ 016088094ac056c3998c75e1fc2ed961                               │\n",
       "    │       │   │ granularity │ \u001b[1;36m2\u001b[0m                                                              │\n",
       "    │       │   │ text        │ Results of a \u001b[1;36m2018\u001b[0m whole-genome sequencing of \u001b[1;36m32\u001b[0m specimens      │\n",
       "    │       │   │             │ support six monophyletic tiger clades corr\u001b[33m...\u001b[0m \u001b[1;2m(\u001b[0m\u001b[2mlength: \u001b[0m\u001b[1;2;36m219\u001b[0m\u001b[1;2m)\u001b[0m    │\n",
       "    │       │   ╰─────────────┴────────────────────────────────────────────────────────────────╯\n",
       "    │       └── 📄 \u001b[1mDocument\u001b[0m: \u001b[36m1c9bc20df36066eb6ec7b6b1eebd0e3c\u001b[0m\n",
       "    │           ╭─────────────┬────────────────────────────────────────────────────────────────╮\n",
       "    │           │\u001b[1m \u001b[0m\u001b[1mAttribute  \u001b[0m\u001b[1m \u001b[0m│\u001b[1m \u001b[0m\u001b[1mValue                                                         \u001b[0m\u001b[1m \u001b[0m│\n",
       "    │           ├─────────────┼────────────────────────────────────────────────────────────────┤\n",
       "    │           │ parent_id   │ 016088094ac056c3998c75e1fc2ed961                               │\n",
       "    │           │ granularity │ \u001b[1;36m2\u001b[0m                                                              │\n",
       "    │           │ text        │ \u001b[1;36m17\u001b[0m\u001b[1m]\u001b[0m The following tables are based on the classification of    │\n",
       "    │           │             │ the species Panthera tigris provided in \u001b[33m...\u001b[0m \u001b[1;2m(\u001b[0m\u001b[2mlength: \u001b[0m\u001b[1;2;36m229\u001b[0m\u001b[1;2m)\u001b[0m      │\n",
       "    │           ╰─────────────┴────────────────────────────────────────────────────────────────╯\n",
       "    ├── 📄 \u001b[1mDocument\u001b[0m: \u001b[36m7c83db8de7288343edf50e4fa5c92de8\u001b[0m\n",
       "    │   ╭─────────────┬────────────────────────────────────────────────────────────────╮\n",
       "    │   │\u001b[1m \u001b[0m\u001b[1mAttribute  \u001b[0m\u001b[1m \u001b[0m│\u001b[1m \u001b[0m\u001b[1mValue                                                         \u001b[0m\u001b[1m \u001b[0m│\n",
       "    │   ├─────────────┼────────────────────────────────────────────────────────────────┤\n",
       "    │   │ parent_id   │ 9ccaa47ad7299631ed31a8c4638c9d11                               │\n",
       "    │   │ granularity │ \u001b[1;36m1\u001b[0m                                                              │\n",
       "    │   │ mime_type   │ text/plain                                                     │\n",
       "    │   │ text        │ Restoration of a Panthera zdanskyi skull, an extinct tiger     │\n",
       "    │   │             │ relative whose fossil remains were found \u001b[33m...\u001b[0m \u001b[1;2m(\u001b[0m\u001b[2mlength: \u001b[0m\u001b[1;2;36m3411\u001b[0m\u001b[1;2m)\u001b[0m    │\n",
       "    │   ╰─────────────┴────────────────────────────────────────────────────────────────╯\n",
       "    │   └── 💠 \u001b[1mChunks\u001b[0m\n",
       "    │       ├── 📄 \u001b[1mDocument\u001b[0m: \u001b[36m5b8f6dd1762b079b93bfbcd3a90ccd62\u001b[0m\n",
       "    │       │   ╭─────────────┬────────────────────────────────────────────────────────────────╮\n",
       "    │       │   │\u001b[1m \u001b[0m\u001b[1mAttribute  \u001b[0m\u001b[1m \u001b[0m│\u001b[1m \u001b[0m\u001b[1mValue                                                         \u001b[0m\u001b[1m \u001b[0m│\n",
       "    │       │   ├─────────────┼────────────────────────────────────────────────────────────────┤\n",
       "    │       │   │ parent_id   │ 7c83db8de7288343edf50e4fa5c92de8                               │\n",
       "    │       │   │ granularity │ \u001b[1;36m2\u001b[0m                                                              │\n",
       "    │       │   │ text        │ Restoration of a Panthera zdanskyi skull, an extinct tiger     │\n",
       "    │       │   │             │ relative whose fossil remains were found \u001b[33m...\u001b[0m \u001b[1;2m(\u001b[0m\u001b[2mlength: \u001b[0m\u001b[1;2;36m232\u001b[0m\u001b[1;2m)\u001b[0m     │\n",
       "    │       │   ╰─────────────┴────────────────────────────────────────────────────────────────╯\n",
       "    │       ├── 📄 \u001b[1mDocument\u001b[0m: \u001b[36md6c53bbde22b6421938be87ac664e04e\u001b[0m\n",
       "    │       │   ╭─────────────┬────────────────────────────────────────────────────────────────╮\n",
       "    │       │   │\u001b[1m \u001b[0m\u001b[1mAttribute  \u001b[0m\u001b[1m \u001b[0m│\u001b[1m \u001b[0m\u001b[1mValue                                                         \u001b[0m\u001b[1m \u001b[0m│\n",
       "    │       │   ├─────────────┼────────────────────────────────────────────────────────────────┤\n",
       "    │       │   │ parent_id   │ 7c83db8de7288343edf50e4fa5c92de8                               │\n",
       "    │       │   │ granularity │ \u001b[1;36m2\u001b[0m                                                              │\n",
       "    │       │   │ text        │ Results of genetic analysis indicate that about \u001b[1;36m2.88\u001b[0m million   │\n",
       "    │       │   │             │ years ago, the tiger and the snow leopa\u001b[33m...\u001b[0m \u001b[1;2m(\u001b[0m\u001b[2mlength: \u001b[0m\u001b[1;2;36m249\u001b[0m\u001b[1;2m)\u001b[0m       │\n",
       "    │       │   ╰─────────────┴────────────────────────────────────────────────────────────────╯\n",
       "    │       ├── 📄 \u001b[1mDocument\u001b[0m: \u001b[36m82c787e11ab503c01d2f653138cbedf5\u001b[0m\n",
       "    │       │   ╭─────────────┬────────────────────────────────────────────────────────────────╮\n",
       "    │       │   │\u001b[1m \u001b[0m\u001b[1mAttribute  \u001b[0m\u001b[1m \u001b[0m│\u001b[1m \u001b[0m\u001b[1mValue                                                         \u001b[0m\u001b[1m \u001b[0m│\n",
       "    │       │   ├─────────────┼────────────────────────────────────────────────────────────────┤\n",
       "    │       │   │ parent_id   │ 7c83db8de7288343edf50e4fa5c92de8                               │\n",
       "    │       │   │ granularity │ \u001b[1;36m2\u001b[0m                                                              │\n",
       "    │       │   │ text        │ \u001b[1;36m32\u001b[0m\u001b[1m]\u001b[0m \u001b[1m[\u001b[0m\u001b[1;36m33\u001b[0m\u001b[1m]\u001b[0m The geographic origin of the Panthera is most likely  │\n",
       "    │       │   │             │ northern Central Asia.                                         │\n",
       "    │       │   ╰─────────────┴────────────────────────────────────────────────────────────────╯\n",
       "    │       ├── 📄 \u001b[1mDocument\u001b[0m: \u001b[36me562d66c8846392fc0e783442a3c0934\u001b[0m\n",
       "    │       │   ╭─────────────┬────────────────────────────────────────────────────────────────╮\n",
       "    │       │   │\u001b[1m \u001b[0m\u001b[1mAttribute  \u001b[0m\u001b[1m \u001b[0m│\u001b[1m \u001b[0m\u001b[1mValue                                                         \u001b[0m\u001b[1m \u001b[0m│\n",
       "    │       │   ├─────────────┼────────────────────────────────────────────────────────────────┤\n",
       "    │       │   │ parent_id   │ 7c83db8de7288343edf50e4fa5c92de8                               │\n",
       "    │       │   │ granularity │ \u001b[1;36m2\u001b[0m                                                              │\n",
       "    │       │   │ text        │ The tiger–snow leopard lineage dispersed in Southeast Asia     │\n",
       "    │       │   │             │ during the Miocene.\u001b[1m[\u001b[0m\u001b[1;36m34\u001b[0m\u001b[1m]\u001b[0m Panthera zdanskyi\u001b[33m...\u001b[0m \u001b[1;2m(\u001b[0m\u001b[2mlength: \u001b[0m\u001b[1;2;36m156\u001b[0m\u001b[1;2m)\u001b[0m     │\n",
       "    │       │   ╰─────────────┴────────────────────────────────────────────────────────────────╯\n",
       "    │       ├── 📄 \u001b[1mDocument\u001b[0m: \u001b[36m21eb8d3413dd8b84df1f336072862cdb\u001b[0m\n",
       "    │       │   ╭─────────────┬────────────────────────────────────────────────────────────────╮\n",
       "    │       │   │\u001b[1m \u001b[0m\u001b[1mAttribute  \u001b[0m\u001b[1m \u001b[0m│\u001b[1m \u001b[0m\u001b[1mValue                                                         \u001b[0m\u001b[1m \u001b[0m│\n",
       "    │       │   ├─────────────┼────────────────────────────────────────────────────────────────┤\n",
       "    │       │   │ parent_id   │ 7c83db8de7288343edf50e4fa5c92de8                               │\n",
       "    │       │   │ granularity │ \u001b[1;36m2\u001b[0m                                                              │\n",
       "    │       │   │ text        │ It lived at the beginning of the Pleistocene about two million │\n",
       "    │       │   │             │ years ago, its fossil remains were ex\u001b[33m...\u001b[0m \u001b[1;2m(\u001b[0m\u001b[2mlength: \u001b[0m\u001b[1;2;36m139\u001b[0m\u001b[1;2m)\u001b[0m         │\n",
       "    │       │   ╰─────────────┴────────────────────────────────────────────────────────────────╯\n",
       "    │       ├── 📄 \u001b[1mDocument\u001b[0m: \u001b[36m4c0a67f3f683ca4587ef7f4b73a881c7\u001b[0m\n",
       "    │       │   ╭─────────────┬────────────────────────────────────────────────────────────────╮\n",
       "    │       │   │\u001b[1m \u001b[0m\u001b[1mAttribute  \u001b[0m\u001b[1m \u001b[0m│\u001b[1m \u001b[0m\u001b[1mValue                                                         \u001b[0m\u001b[1m \u001b[0m│\n",
       "    │       │   ├─────────────┼────────────────────────────────────────────────────────────────┤\n",
       "    │       │   │ parent_id   │ 7c83db8de7288343edf50e4fa5c92de8                               │\n",
       "    │       │   │ granularity │ \u001b[1;36m2\u001b[0m                                                              │\n",
       "    │       │   │ text        │ It was smaller and more \u001b[32m\"primitive\"\u001b[0m, but functionally and      │\n",
       "    │       │   │             │ ecologically similar to the modern tiger.                      │\n",
       "    │       │   ╰─────────────┴────────────────────────────────────────────────────────────────╯\n",
       "    │       ├── 📄 \u001b[1mDocument\u001b[0m: \u001b[36m72e6fd9d225ab55d1d241879d909dd30\u001b[0m\n",
       "    │       │   ╭──────────────┬───────────────────────────────────────────────────────────────╮\n",
       "    │       │   │\u001b[1m \u001b[0m\u001b[1mAttribute   \u001b[0m\u001b[1m \u001b[0m│\u001b[1m \u001b[0m\u001b[1mValue                                                        \u001b[0m\u001b[1m \u001b[0m│\n",
       "    │       │   ├──────────────┼───────────────────────────────────────────────────────────────┤\n",
       "    │       │   │ parent_id    │ 7c83db8de7288343edf50e4fa5c92de8                              │\n",
       "    │       │   │ granularity  │ \u001b[1;36m2\u001b[0m                                                             │\n",
       "    │       │   │ text         │ It is disputed as to whether it had the striping pattern.     │\n",
       "    │       │   ╰──────────────┴───────────────────────────────────────────────────────────────╯\n",
       "    │       ├── 📄 \u001b[1mDocument\u001b[0m: \u001b[36ma09afc05bd7bd490042ae5ce397679e1\u001b[0m\n",
       "    │       │   ╭─────────────┬────────────────────────────────────────────────────────────────╮\n",
       "    │       │   │\u001b[1m \u001b[0m\u001b[1mAttribute  \u001b[0m\u001b[1m \u001b[0m│\u001b[1m \u001b[0m\u001b[1mValue                                                         \u001b[0m\u001b[1m \u001b[0m│\n",
       "    │       │   ├─────────────┼────────────────────────────────────────────────────────────────┤\n",
       "    │       │   │ parent_id   │ 7c83db8de7288343edf50e4fa5c92de8                               │\n",
       "    │       │   │ granularity │ \u001b[1;36m2\u001b[0m                                                              │\n",
       "    │       │   │ text        │ Northwestern China is thought to be the origin of the tiger    │\n",
       "    │       │   │             │ lineage.                                                       │\n",
       "    │       │   ╰─────────────┴────────────────────────────────────────────────────────────────╯\n",
       "    │       ├── 📄 \u001b[1mDocument\u001b[0m: \u001b[36m877e08386bb14aae0c2c288c783be0dd\u001b[0m\n",
       "    │       │   ╭─────────────┬────────────────────────────────────────────────────────────────╮\n",
       "    │       │   │\u001b[1m \u001b[0m\u001b[1mAttribute  \u001b[0m\u001b[1m \u001b[0m│\u001b[1m \u001b[0m\u001b[1mValue                                                         \u001b[0m\u001b[1m \u001b[0m│\n",
       "    │       │   ├─────────────┼────────────────────────────────────────────────────────────────┤\n",
       "    │       │   │ parent_id   │ 7c83db8de7288343edf50e4fa5c92de8                               │\n",
       "    │       │   │ granularity │ \u001b[1;36m2\u001b[0m                                                              │\n",
       "    │       │   │ text        │ Tigers grew in size, possibly in response to adaptive          │\n",
       "    │       │   │             │ radiations of prey species like deer and bovid\u001b[33m...\u001b[0m \u001b[1;2m(\u001b[0m\u001b[2mlength: \u001b[0m    │\n",
       "    │       │   │             │ \u001b[1;2;36m176\u001b[0m\u001b[1;2m)\u001b[0m                                                           │\n",
       "    │       │   ╰─────────────┴────────────────────────────────────────────────────────────────╯\n",
       "    │       ├── 📄 \u001b[1mDocument\u001b[0m: \u001b[36m2510cb3914d936fe53db64c544fe8319\u001b[0m\n",
       "    │       │   ╭─────────────┬────────────────────────────────────────────────────────────────╮\n",
       "    │       │   │\u001b[1m \u001b[0m\u001b[1mAttribute  \u001b[0m\u001b[1m \u001b[0m│\u001b[1m \u001b[0m\u001b[1mValue                                                         \u001b[0m\u001b[1m \u001b[0m│\n",
       "    │       │   ├─────────────┼────────────────────────────────────────────────────────────────┤\n",
       "    │       │   │ parent_id   │ 7c83db8de7288343edf50e4fa5c92de8                               │\n",
       "    │       │   │ granularity │ \u001b[1;36m2\u001b[0m                                                              │\n",
       "    │       │   │ text        │ \u001b[1;36m35\u001b[0m\u001b[1m]\u001b[0m Panthera tigris trinilensis lived about \u001b[1;36m1.2\u001b[0m million years  │\n",
       "    │       │   │             │ ago and is known from fossils excavate\u001b[33m...\u001b[0m \u001b[1;2m(\u001b[0m\u001b[2mlength: \u001b[0m\u001b[1;2;36m331\u001b[0m\u001b[1;2m)\u001b[0m        │\n",
       "    │       │   ╰─────────────┴────────────────────────────────────────────────────────────────╯\n",
       "    │       ├── 📄 \u001b[1mDocument\u001b[0m: \u001b[36m9465e1d64af91b7e85f239a5ad979df4\u001b[0m\n",
       "    │       │   ╭─────────────┬────────────────────────────────────────────────────────────────╮\n",
       "    │       │   │\u001b[1m \u001b[0m\u001b[1mAttribute  \u001b[0m\u001b[1m \u001b[0m│\u001b[1m \u001b[0m\u001b[1mValue                                                         \u001b[0m\u001b[1m \u001b[0m│\n",
       "    │       │   ├─────────────┼────────────────────────────────────────────────────────────────┤\n",
       "    │       │   │ parent_id   │ 7c83db8de7288343edf50e4fa5c92de8                               │\n",
       "    │       │   │ granularity │ \u001b[1;36m2\u001b[0m                                                              │\n",
       "    │       │   │ text        │ Some fossil skulls are morphologically distinct from lion      │\n",
       "    │       │   │             │ skulls, which could indicate tiger presenc\u001b[33m...\u001b[0m \u001b[1;2m(\u001b[0m\u001b[2mlength: \u001b[0m\u001b[1;2;36m316\u001b[0m\u001b[1;2m)\u001b[0m    │\n",
       "    │       │   ╰─────────────┴────────────────────────────────────────────────────────────────╯\n",
       "    │       ├── 📄 \u001b[1mDocument\u001b[0m: \u001b[36m04e82f4bed1e4507dbeecb097926708f\u001b[0m\n",
       "    │       │   ╭─────────────┬────────────────────────────────────────────────────────────────╮\n",
       "    │       │   │\u001b[1m \u001b[0m\u001b[1mAttribute  \u001b[0m\u001b[1m \u001b[0m│\u001b[1m \u001b[0m\u001b[1mValue                                                         \u001b[0m\u001b[1m \u001b[0m│\n",
       "    │       │   ├─────────────┼────────────────────────────────────────────────────────────────┤\n",
       "    │       │   │ parent_id   │ 7c83db8de7288343edf50e4fa5c92de8                               │\n",
       "    │       │   │ granularity │ \u001b[1;36m2\u001b[0m                                                              │\n",
       "    │       │   │ text        │ They were smaller than mainland tiger fossils, possibly due to │\n",
       "    │       │   │             │ insular dwarfism.\u001b[1m[\u001b[0m\u001b[1;36m39\u001b[0m\u001b[1m]\u001b[0m It has been spe\u001b[33m...\u001b[0m \u001b[1;2m(\u001b[0m\u001b[2mlength: \u001b[0m\u001b[1;2;36m236\u001b[0m\u001b[1;2m)\u001b[0m         │\n",
       "    │       │   ╰─────────────┴────────────────────────────────────────────────────────────────╯\n",
       "    │       ├── 📄 \u001b[1mDocument\u001b[0m: \u001b[36mb49ac42d53276845da68ca692be1e4c2\u001b[0m\n",
       "    │       │   ╭─────────────┬────────────────────────────────────────────────────────────────╮\n",
       "    │       │   │\u001b[1m \u001b[0m\u001b[1mAttribute  \u001b[0m\u001b[1m \u001b[0m│\u001b[1m \u001b[0m\u001b[1mValue                                                         \u001b[0m\u001b[1m \u001b[0m│\n",
       "    │       │   ├─────────────┼────────────────────────────────────────────────────────────────┤\n",
       "    │       │   │ parent_id   │ 7c83db8de7288343edf50e4fa5c92de8                               │\n",
       "    │       │   │ granularity │ \u001b[1;36m2\u001b[0m                                                              │\n",
       "    │       │   │ text        │ \u001b[1;36m40\u001b[0m\u001b[1m]\u001b[0m \u001b[1m[\u001b[0m\u001b[1;36m41\u001b[0m\u001b[1m]\u001b[0m Fossil remains of tigers were also excavated in Sri   │\n",
       "    │       │   │             │ Lanka, China, Japan and Sarawak dating \u001b[33m...\u001b[0m \u001b[1;2m(\u001b[0m\u001b[2mlength: \u001b[0m\u001b[1;2;36m155\u001b[0m\u001b[1;2m)\u001b[0m       │\n",
       "    │       │   ╰─────────────┴────────────────────────────────────────────────────────────────╯\n",
       "    │       ├── 📄 \u001b[1mDocument\u001b[0m: \u001b[36mb0ddb8afb0d417c298616aa5b68ca06e\u001b[0m\n",
       "    │       │   ╭─────────────┬────────────────────────────────────────────────────────────────╮\n",
       "    │       │   │\u001b[1m \u001b[0m\u001b[1mAttribute  \u001b[0m\u001b[1m \u001b[0m│\u001b[1m \u001b[0m\u001b[1mValue                                                         \u001b[0m\u001b[1m \u001b[0m│\n",
       "    │       │   ├─────────────┼────────────────────────────────────────────────────────────────┤\n",
       "    │       │   │ parent_id   │ 7c83db8de7288343edf50e4fa5c92de8                               │\n",
       "    │       │   │ granularity │ \u001b[1;36m2\u001b[0m                                                              │\n",
       "    │       │   │ text        │ \u001b[1;36m38\u001b[0m\u001b[1m]\u001b[0m \u001b[1m[\u001b[0m\u001b[1;36m42\u001b[0m\u001b[1m]\u001b[0m The Bornean tiger was apparently present in Borneo    │\n",
       "    │       │   │             │ between the Late Pleistocene and the Hol\u001b[33m...\u001b[0m \u001b[1;2m(\u001b[0m\u001b[2mlength: \u001b[0m\u001b[1;2;36m190\u001b[0m\u001b[1;2m)\u001b[0m      │\n",
       "    │       │   ╰─────────────┴────────────────────────────────────────────────────────────────╯\n",
       "    │       ├── 📄 \u001b[1mDocument\u001b[0m: \u001b[36m4d4e32e232f67566b4a7998c24cf22e1\u001b[0m\n",
       "    │       │   ╭─────────────┬────────────────────────────────────────────────────────────────╮\n",
       "    │       │   │\u001b[1m \u001b[0m\u001b[1mAttribute  \u001b[0m\u001b[1m \u001b[0m│\u001b[1m \u001b[0m\u001b[1mValue                                                         \u001b[0m\u001b[1m \u001b[0m│\n",
       "    │       │   ├─────────────┼────────────────────────────────────────────────────────────────┤\n",
       "    │       │   │ parent_id   │ 7c83db8de7288343edf50e4fa5c92de8                               │\n",
       "    │       │   │ granularity │ \u001b[1;36m2\u001b[0m                                                              │\n",
       "    │       │   │ text        │ \u001b[1;36m42\u001b[0m\u001b[1m]\u001b[0m \u001b[1m[\u001b[0m\u001b[1;36m43\u001b[0m\u001b[1m]\u001b[0m Results of a phylogeographic study indicate that all  │\n",
       "    │       │   │             │ living tigers had a common ancestor \u001b[1;36m10\u001b[0m\u001b[33m...\u001b[0m \u001b[1;2m(\u001b[0m\u001b[2mlength: \u001b[0m\u001b[1;2;36m325\u001b[0m\u001b[1;2m)\u001b[0m        │\n",
       "    │       │   ╰─────────────┴────────────────────────────────────────────────────────────────╯\n",
       "    │       ├── 📄 \u001b[1mDocument\u001b[0m: \u001b[36ma4d4f9c0f4ef0c55a7c85b545f44dda7\u001b[0m\n",
       "    │       │   ╭─────────────┬────────────────────────────────────────────────────────────────╮\n",
       "    │       │   │\u001b[1m \u001b[0m\u001b[1mAttribute  \u001b[0m\u001b[1m \u001b[0m│\u001b[1m \u001b[0m\u001b[1mValue                                                         \u001b[0m\u001b[1m \u001b[0m│\n",
       "    │       │   ├─────────────┼────────────────────────────────────────────────────────────────┤\n",
       "    │       │   │ parent_id   │ 7c83db8de7288343edf50e4fa5c92de8                               │\n",
       "    │       │   │ granularity │ \u001b[1;36m2\u001b[0m                                                              │\n",
       "    │       │   │ text        │ The resulting model shows a contiguous tiger range at the Last │\n",
       "    │       │   │             │ Glacial Maximum, indicating gene flow\u001b[33m...\u001b[0m \u001b[1;2m(\u001b[0m\u001b[2mlength: \u001b[0m\u001b[1;2;36m144\u001b[0m\u001b[1;2m)\u001b[0m         │\n",
       "    │       │   ╰─────────────┴────────────────────────────────────────────────────────────────╯\n",
       "    │       ├── 📄 \u001b[1mDocument\u001b[0m: \u001b[36m2d7b9e403588c3a970a700279919a74e\u001b[0m\n",
       "    │       │   ╭─────────────┬────────────────────────────────────────────────────────────────╮\n",
       "    │       │   │\u001b[1m \u001b[0m\u001b[1mAttribute  \u001b[0m\u001b[1m \u001b[0m│\u001b[1m \u001b[0m\u001b[1mValue                                                         \u001b[0m\u001b[1m \u001b[0m│\n",
       "    │       │   ├─────────────┼────────────────────────────────────────────────────────────────┤\n",
       "    │       │   │ parent_id   │ 7c83db8de7288343edf50e4fa5c92de8                               │\n",
       "    │       │   │ granularity │ \u001b[1;36m2\u001b[0m                                                              │\n",
       "    │       │   │ text        │ The Caspian tiger population was likely connected to the       │\n",
       "    │       │   │             │ Bengal tiger population through corridors b\u001b[33m...\u001b[0m \u001b[1;2m(\u001b[0m\u001b[2mlength: \u001b[0m\u001b[1;2;36m157\u001b[0m\u001b[1;2m)\u001b[0m   │\n",
       "    │       │   ╰─────────────┴────────────────────────────────────────────────────────────────╯\n",
       "    │       ├── 📄 \u001b[1mDocument\u001b[0m: \u001b[36mb15c8e78e0ff115abce2faeccf079c9c\u001b[0m\n",
       "    │       │   ╭─────────────┬────────────────────────────────────────────────────────────────╮\n",
       "    │       │   │\u001b[1m \u001b[0m\u001b[1mAttribute  \u001b[0m\u001b[1m \u001b[0m│\u001b[1m \u001b[0m\u001b[1mValue                                                         \u001b[0m\u001b[1m \u001b[0m│\n",
       "    │       │   ├─────────────┼────────────────────────────────────────────────────────────────┤\n",
       "    │       │   │ parent_id   │ 7c83db8de7288343edf50e4fa5c92de8                               │\n",
       "    │       │   │ granularity │ \u001b[1;36m2\u001b[0m                                                              │\n",
       "    │       │   │ text        │ The tiger populations on the Sunda Islands and mainland Asia   │\n",
       "    │       │   │             │ were possibly separated during intergla\u001b[33m...\u001b[0m \u001b[1;2m(\u001b[0m\u001b[2mlength: \u001b[0m\u001b[1;2;36m173\u001b[0m\u001b[1;2m)\u001b[0m       │\n",
       "    │       │   ╰─────────────┴────────────────────────────────────────────────────────────────╯\n",
       "    │       └── 📄 \u001b[1mDocument\u001b[0m: \u001b[36mcfbade5b997a7ae1160d939fccfa5a91\u001b[0m\n",
       "    │           ╭─────────────┬────────────────────────────────────────────────────────────────╮\n",
       "    │           │\u001b[1m \u001b[0m\u001b[1mAttribute  \u001b[0m\u001b[1m \u001b[0m│\u001b[1m \u001b[0m\u001b[1mValue                                                         \u001b[0m\u001b[1m \u001b[0m│\n",
       "    │           ├─────────────┼────────────────────────────────────────────────────────────────┤\n",
       "    │           │ parent_id   │ 7c83db8de7288343edf50e4fa5c92de8                               │\n",
       "    │           │ granularity │ \u001b[1;36m2\u001b[0m                                                              │\n",
       "    │           │ text        │ It was found to have similar repeat composition to other cat   │\n",
       "    │           │             │ genomes and an appreciably conserved sy\u001b[33m...\u001b[0m \u001b[1;2m(\u001b[0m\u001b[2mlength: \u001b[0m\u001b[1;2;36m110\u001b[0m\u001b[1;2m)\u001b[0m       │\n",
       "    │           ╰─────────────┴────────────────────────────────────────────────────────────────╯\n",
       "    ├── 📄 \u001b[1mDocument\u001b[0m: \u001b[36meaed8673c4f72e8cbf129e84a0845bf8\u001b[0m\n",
       "    │   ╭─────────────┬────────────────────────────────────────────────────────────────╮\n",
       "    │   │\u001b[1m \u001b[0m\u001b[1mAttribute  \u001b[0m\u001b[1m \u001b[0m│\u001b[1m \u001b[0m\u001b[1mValue                                                         \u001b[0m\u001b[1m \u001b[0m│\n",
       "    │   ├─────────────┼────────────────────────────────────────────────────────────────┤\n",
       "    │   │ parent_id   │ 9ccaa47ad7299631ed31a8c4638c9d11                               │\n",
       "    │   │ granularity │ \u001b[1;36m1\u001b[0m                                                              │\n",
       "    │   │ mime_type   │ text/plain                                                     │\n",
       "    │   │ text        │ The tiger \u001b[1m(\u001b[0mPanthera tigris\u001b[1m)\u001b[0m is the largest living cat species  │\n",
       "    │   │             │ and a member of the genus Panthera. It\u001b[33m...\u001b[0m \u001b[1;2m(\u001b[0m\u001b[2mlength: \u001b[0m\u001b[1;2;36m3042\u001b[0m\u001b[1;2m)\u001b[0m       │\n",
       "    │   ╰─────────────┴────────────────────────────────────────────────────────────────╯\n",
       "    │   └── 💠 \u001b[1mChunks\u001b[0m\n",
       "    │       ├── 📄 \u001b[1mDocument\u001b[0m: \u001b[36m3b47e04e19bebe60b7ba976203fc63de\u001b[0m\n",
       "    │       │   ╭─────────────┬────────────────────────────────────────────────────────────────╮\n",
       "    │       │   │\u001b[1m \u001b[0m\u001b[1mAttribute  \u001b[0m\u001b[1m \u001b[0m│\u001b[1m \u001b[0m\u001b[1mValue                                                         \u001b[0m\u001b[1m \u001b[0m│\n",
       "    │       │   ├─────────────┼────────────────────────────────────────────────────────────────┤\n",
       "    │       │   │ parent_id   │ eaed8673c4f72e8cbf129e84a0845bf8                               │\n",
       "    │       │   │ granularity │ \u001b[1;36m2\u001b[0m                                                              │\n",
       "    │       │   │ text        │ The tiger \u001b[1m(\u001b[0mPanthera tigris\u001b[1m)\u001b[0m is the largest living cat species  │\n",
       "    │       │   │             │ and a member of the genus Panthera.                            │\n",
       "    │       │   ╰─────────────┴────────────────────────────────────────────────────────────────╯\n",
       "    │       ├── 📄 \u001b[1mDocument\u001b[0m: \u001b[36m11013ae9b4e7e1b2aad1e525f4feb210\u001b[0m\n",
       "    │       │   ╭─────────────┬────────────────────────────────────────────────────────────────╮\n",
       "    │       │   │\u001b[1m \u001b[0m\u001b[1mAttribute  \u001b[0m\u001b[1m \u001b[0m│\u001b[1m \u001b[0m\u001b[1mValue                                                         \u001b[0m\u001b[1m \u001b[0m│\n",
       "    │       │   ├─────────────┼────────────────────────────────────────────────────────────────┤\n",
       "    │       │   │ parent_id   │ eaed8673c4f72e8cbf129e84a0845bf8                               │\n",
       "    │       │   │ granularity │ \u001b[1;36m2\u001b[0m                                                              │\n",
       "    │       │   │ text        │ It is most recognisable for its dark vertical stripes on       │\n",
       "    │       │   │             │ orange fur with a white underside.                             │\n",
       "    │       │   ╰─────────────┴────────────────────────────────────────────────────────────────╯\n",
       "    │       ├── 📄 \u001b[1mDocument\u001b[0m: \u001b[36mfc94506f478123772455fa1e621d52bf\u001b[0m\n",
       "    │       │   ╭─────────────┬────────────────────────────────────────────────────────────────╮\n",
       "    │       │   │\u001b[1m \u001b[0m\u001b[1mAttribute  \u001b[0m\u001b[1m \u001b[0m│\u001b[1m \u001b[0m\u001b[1mValue                                                         \u001b[0m\u001b[1m \u001b[0m│\n",
       "    │       │   ├─────────────┼────────────────────────────────────────────────────────────────┤\n",
       "    │       │   │ parent_id   │ eaed8673c4f72e8cbf129e84a0845bf8                               │\n",
       "    │       │   │ granularity │ \u001b[1;36m2\u001b[0m                                                              │\n",
       "    │       │   │ text        │ An apex predator, it primarily preys on ungulates such as deer │\n",
       "    │       │   │             │ and wild boar.                                                 │\n",
       "    │       │   ╰─────────────┴────────────────────────────────────────────────────────────────╯\n",
       "    │       ├── 📄 \u001b[1mDocument\u001b[0m: \u001b[36mdc76408d19a738e9786f6e0224afc187\u001b[0m\n",
       "    │       │   ╭─────────────┬────────────────────────────────────────────────────────────────╮\n",
       "    │       │   │\u001b[1m \u001b[0m\u001b[1mAttribute  \u001b[0m\u001b[1m \u001b[0m│\u001b[1m \u001b[0m\u001b[1mValue                                                         \u001b[0m\u001b[1m \u001b[0m│\n",
       "    │       │   ├─────────────┼────────────────────────────────────────────────────────────────┤\n",
       "    │       │   │ parent_id   │ eaed8673c4f72e8cbf129e84a0845bf8                               │\n",
       "    │       │   │ granularity │ \u001b[1;36m2\u001b[0m                                                              │\n",
       "    │       │   │ text        │ It is territorial and generally a solitary but social          │\n",
       "    │       │   │             │ predator, requiring large contiguous areas of \u001b[33m...\u001b[0m \u001b[1;2m(\u001b[0m\u001b[2mlength: \u001b[0m    │\n",
       "    │       │   │             │ \u001b[1;2;36m178\u001b[0m\u001b[1;2m)\u001b[0m                                                           │\n",
       "    │       │   ╰─────────────┴────────────────────────────────────────────────────────────────╯\n",
       "    │       ├── 📄 \u001b[1mDocument\u001b[0m: \u001b[36me2e0cd80a613d8580f290e09e3f5824f\u001b[0m\n",
       "    │       │   ╭─────────────┬────────────────────────────────────────────────────────────────╮\n",
       "    │       │   │\u001b[1m \u001b[0m\u001b[1mAttribute  \u001b[0m\u001b[1m \u001b[0m│\u001b[1m \u001b[0m\u001b[1mValue                                                         \u001b[0m\u001b[1m \u001b[0m│\n",
       "    │       │   ├─────────────┼────────────────────────────────────────────────────────────────┤\n",
       "    │       │   │ parent_id   │ eaed8673c4f72e8cbf129e84a0845bf8                               │\n",
       "    │       │   │ granularity │ \u001b[1;36m2\u001b[0m                                                              │\n",
       "    │       │   │ text        │ Tiger cubs stay with their mother for about two years, then    │\n",
       "    │       │   │             │ become independent and leave their mothe\u001b[33m...\u001b[0m \u001b[1;2m(\u001b[0m\u001b[2mlength: \u001b[0m\u001b[1;2;36m138\u001b[0m\u001b[1;2m)\u001b[0m      │\n",
       "    │       │   ╰─────────────┴────────────────────────────────────────────────────────────────╯\n",
       "    │       ├── 📄 \u001b[1mDocument\u001b[0m: \u001b[36m3e37f5a9f95ed4525f895ca6980b99a0\u001b[0m\n",
       "    │       │   ╭─────────────┬────────────────────────────────────────────────────────────────╮\n",
       "    │       │   │\u001b[1m \u001b[0m\u001b[1mAttribute  \u001b[0m\u001b[1m \u001b[0m│\u001b[1m \u001b[0m\u001b[1mValue                                                         \u001b[0m\u001b[1m \u001b[0m│\n",
       "    │       │   ├─────────────┼────────────────────────────────────────────────────────────────┤\n",
       "    │       │   │ parent_id   │ eaed8673c4f72e8cbf129e84a0845bf8                               │\n",
       "    │       │   │ granularity │ \u001b[1;36m2\u001b[0m                                                              │\n",
       "    │       │   │ text        │ The tiger was first scientifically described in \u001b[1;36m1758\u001b[0m and once  │\n",
       "    │       │   │             │ ranged widely from the Eastern Anatoli\u001b[33m...\u001b[0m \u001b[1;2m(\u001b[0m\u001b[2mlength: \u001b[0m\u001b[1;2;36m240\u001b[0m\u001b[1;2m)\u001b[0m        │\n",
       "    │       │   ╰─────────────┴────────────────────────────────────────────────────────────────╯\n",
       "    │       ├── 📄 \u001b[1mDocument\u001b[0m: \u001b[36md92ac4983484c431fc16325a584817b5\u001b[0m\n",
       "    │       │   ╭─────────────┬────────────────────────────────────────────────────────────────╮\n",
       "    │       │   │\u001b[1m \u001b[0m\u001b[1mAttribute  \u001b[0m\u001b[1m \u001b[0m│\u001b[1m \u001b[0m\u001b[1mValue                                                         \u001b[0m\u001b[1m \u001b[0m│\n",
       "    │       │   ├─────────────┼────────────────────────────────────────────────────────────────┤\n",
       "    │       │   │ parent_id   │ eaed8673c4f72e8cbf129e84a0845bf8                               │\n",
       "    │       │   │ granularity │ \u001b[1;36m2\u001b[0m                                                              │\n",
       "    │       │   │ text        │ Since the early 20th century, tiger populations have lost at   │\n",
       "    │       │   │             │ least \u001b[1;36m93\u001b[0m% of their historic range and h\u001b[33m...\u001b[0m \u001b[1;2m(\u001b[0m\u001b[2mlength: \u001b[0m\u001b[1;2;36m238\u001b[0m\u001b[1;2m)\u001b[0m       │\n",
       "    │       │   ╰─────────────┴────────────────────────────────────────────────────────────────╯\n",
       "    │       ├── 📄 \u001b[1mDocument\u001b[0m: \u001b[36me2607cc891684477896e28d7c1e6346e\u001b[0m\n",
       "    │       │   ╭─────────────┬────────────────────────────────────────────────────────────────╮\n",
       "    │       │   │\u001b[1m \u001b[0m\u001b[1mAttribute  \u001b[0m\u001b[1m \u001b[0m│\u001b[1m \u001b[0m\u001b[1mValue                                                         \u001b[0m\u001b[1m \u001b[0m│\n",
       "    │       │   ├─────────────┼────────────────────────────────────────────────────────────────┤\n",
       "    │       │   │ parent_id   │ eaed8673c4f72e8cbf129e84a0845bf8                               │\n",
       "    │       │   │ granularity │ \u001b[1;36m2\u001b[0m                                                              │\n",
       "    │       │   │ text        │ Today, the tiger's range is fragmented, stretching from        │\n",
       "    │       │   │             │ Siberian temperate forests to subtropical an\u001b[33m...\u001b[0m \u001b[1;2m(\u001b[0m\u001b[2mlength: \u001b[0m\u001b[1;2;36m169\u001b[0m\u001b[1;2m)\u001b[0m  │\n",
       "    │       │   ╰─────────────┴────────────────────────────────────────────────────────────────╯\n",
       "    │       ├── 📄 \u001b[1mDocument\u001b[0m: \u001b[36m233a65aa53c609f00280e30460dc14b2\u001b[0m\n",
       "    │       │   ╭───────────────┬──────────────────────────────────────────────────────────────╮\n",
       "    │       │   │\u001b[1m \u001b[0m\u001b[1mAttribute    \u001b[0m\u001b[1m \u001b[0m│\u001b[1m \u001b[0m\u001b[1mValue                                                       \u001b[0m\u001b[1m \u001b[0m│\n",
       "    │       │   ├───────────────┼──────────────────────────────────────────────────────────────┤\n",
       "    │       │   │ parent_id     │ eaed8673c4f72e8cbf129e84a0845bf8                             │\n",
       "    │       │   │ granularity   │ \u001b[1;36m2\u001b[0m                                                            │\n",
       "    │       │   │ text          │ The tiger is listed as Endangered on the IUCN Red List.      │\n",
       "    │       │   ╰───────────────┴──────────────────────────────────────────────────────────────╯\n",
       "    │       ├── 📄 \u001b[1mDocument\u001b[0m: \u001b[36m45352e96d4a0fd0b5cda3ab2fbad08a5\u001b[0m\n",
       "    │       │   ╭─────────────┬────────────────────────────────────────────────────────────────╮\n",
       "    │       │   │\u001b[1m \u001b[0m\u001b[1mAttribute  \u001b[0m\u001b[1m \u001b[0m│\u001b[1m \u001b[0m\u001b[1mValue                                                         \u001b[0m\u001b[1m \u001b[0m│\n",
       "    │       │   ├─────────────┼────────────────────────────────────────────────────────────────┤\n",
       "    │       │   │ parent_id   │ eaed8673c4f72e8cbf129e84a0845bf8                               │\n",
       "    │       │   │ granularity │ \u001b[1;36m2\u001b[0m                                                              │\n",
       "    │       │   │ text        │ As of \u001b[1;36m2015\u001b[0m, the global wild tiger population was estimated to  │\n",
       "    │       │   │             │ number between \u001b[1;36m3\u001b[0m,\u001b[1;36m062\u001b[0m and \u001b[1;36m3\u001b[0m,\u001b[1;36m948\u001b[0m mature \u001b[33m...\u001b[0m \u001b[1;2m(\u001b[0m\u001b[2mlength: \u001b[0m\u001b[1;2;36m175\u001b[0m\u001b[1;2m)\u001b[0m        │\n",
       "    │       │   ╰─────────────┴────────────────────────────────────────────────────────────────╯\n",
       "    │       ├── 📄 \u001b[1mDocument\u001b[0m: \u001b[36meb121a01a07bb5a460fe5b8356977564\u001b[0m\n",
       "    │       │   ╭────────────────┬─────────────────────────────────────────────────────────────╮\n",
       "    │       │   │\u001b[1m \u001b[0m\u001b[1mAttribute     \u001b[0m\u001b[1m \u001b[0m│\u001b[1m \u001b[0m\u001b[1mValue                                                      \u001b[0m\u001b[1m \u001b[0m│\n",
       "    │       │   ├────────────────┼─────────────────────────────────────────────────────────────┤\n",
       "    │       │   │ parent_id      │ eaed8673c4f72e8cbf129e84a0845bf8                            │\n",
       "    │       │   │ granularity    │ \u001b[1;36m2\u001b[0m                                                           │\n",
       "    │       │   │ text           │ India currently hosts the largest tiger population.         │\n",
       "    │       │   ╰────────────────┴─────────────────────────────────────────────────────────────╯\n",
       "    │       ├── 📄 \u001b[1mDocument\u001b[0m: \u001b[36mbdefde559143ff3173a94638318e7a98\u001b[0m\n",
       "    │       │   ╭─────────────┬────────────────────────────────────────────────────────────────╮\n",
       "    │       │   │\u001b[1m \u001b[0m\u001b[1mAttribute  \u001b[0m\u001b[1m \u001b[0m│\u001b[1m \u001b[0m\u001b[1mValue                                                         \u001b[0m\u001b[1m \u001b[0m│\n",
       "    │       │   ├─────────────┼────────────────────────────────────────────────────────────────┤\n",
       "    │       │   │ parent_id   │ eaed8673c4f72e8cbf129e84a0845bf8                               │\n",
       "    │       │   │ granularity │ \u001b[1;36m2\u001b[0m                                                              │\n",
       "    │       │   │ text        │ Major reasons for population decline are habitat destruction,  │\n",
       "    │       │   │             │ habitat fragmentation and poaching.                            │\n",
       "    │       │   ╰─────────────┴────────────────────────────────────────────────────────────────╯\n",
       "    │       ├── 📄 \u001b[1mDocument\u001b[0m: \u001b[36mdf7ed64db8d0e1c646cddb6dfde9843d\u001b[0m\n",
       "    │       │   ╭─────────────┬────────────────────────────────────────────────────────────────╮\n",
       "    │       │   │\u001b[1m \u001b[0m\u001b[1mAttribute  \u001b[0m\u001b[1m \u001b[0m│\u001b[1m \u001b[0m\u001b[1mValue                                                         \u001b[0m\u001b[1m \u001b[0m│\n",
       "    │       │   ├─────────────┼────────────────────────────────────────────────────────────────┤\n",
       "    │       │   │ parent_id   │ eaed8673c4f72e8cbf129e84a0845bf8                               │\n",
       "    │       │   │ granularity │ \u001b[1;36m2\u001b[0m                                                              │\n",
       "    │       │   │ text        │ Tigers are also victims of human–wildlife conflict,            │\n",
       "    │       │   │             │ particularly in range countries with a high huma\u001b[33m...\u001b[0m \u001b[1;2m(\u001b[0m\u001b[2mlength: \u001b[0m  │\n",
       "    │       │   │             │ \u001b[1;2;36m121\u001b[0m\u001b[1;2m)\u001b[0m                                                           │\n",
       "    │       │   ╰─────────────┴────────────────────────────────────────────────────────────────╯\n",
       "    │       ├── 📄 \u001b[1mDocument\u001b[0m: \u001b[36m35ed7fc1ad7762cfe93deee26e206b11\u001b[0m\n",
       "    │       │   ╭─────────────┬────────────────────────────────────────────────────────────────╮\n",
       "    │       │   │\u001b[1m \u001b[0m\u001b[1mAttribute  \u001b[0m\u001b[1m \u001b[0m│\u001b[1m \u001b[0m\u001b[1mValue                                                         \u001b[0m\u001b[1m \u001b[0m│\n",
       "    │       │   ├─────────────┼────────────────────────────────────────────────────────────────┤\n",
       "    │       │   │ parent_id   │ eaed8673c4f72e8cbf129e84a0845bf8                               │\n",
       "    │       │   │ granularity │ \u001b[1;36m2\u001b[0m                                                              │\n",
       "    │       │   │ text        │ The tiger is among the most recognisable and popular of the    │\n",
       "    │       │   │             │ world's charismatic megafauna.                                 │\n",
       "    │       │   ╰─────────────┴────────────────────────────────────────────────────────────────╯\n",
       "    │       ├── 📄 \u001b[1mDocument\u001b[0m: \u001b[36m1a424867e29d73568b3b1da040b187a9\u001b[0m\n",
       "    │       │   ╭─────────────┬────────────────────────────────────────────────────────────────╮\n",
       "    │       │   │\u001b[1m \u001b[0m\u001b[1mAttribute  \u001b[0m\u001b[1m \u001b[0m│\u001b[1m \u001b[0m\u001b[1mValue                                                         \u001b[0m\u001b[1m \u001b[0m│\n",
       "    │       │   ├─────────────┼────────────────────────────────────────────────────────────────┤\n",
       "    │       │   │ parent_id   │ eaed8673c4f72e8cbf129e84a0845bf8                               │\n",
       "    │       │   │ granularity │ \u001b[1;36m2\u001b[0m                                                              │\n",
       "    │       │   │ text        │ It featured prominently in the ancient mythology and folklore  │\n",
       "    │       │   │             │ of cultures throughout its historic ra\u001b[33m...\u001b[0m \u001b[1;2m(\u001b[0m\u001b[2mlength: \u001b[0m\u001b[1;2;36m239\u001b[0m\u001b[1;2m)\u001b[0m        │\n",
       "    │       │   ╰─────────────┴────────────────────────────────────────────────────────────────╯\n",
       "    │       ├── 📄 \u001b[1mDocument\u001b[0m: \u001b[36mc8e48bfd1066cfa0ec46f1b6b8c9b608\u001b[0m\n",
       "    │       │   ╭─────────────┬────────────────────────────────────────────────────────────────╮\n",
       "    │       │   │\u001b[1m \u001b[0m\u001b[1mAttribute  \u001b[0m\u001b[1m \u001b[0m│\u001b[1m \u001b[0m\u001b[1mValue                                                         \u001b[0m\u001b[1m \u001b[0m│\n",
       "    │       │   ├─────────────┼────────────────────────────────────────────────────────────────┤\n",
       "    │       │   │ parent_id   │ eaed8673c4f72e8cbf129e84a0845bf8                               │\n",
       "    │       │   │ granularity │ \u001b[1;36m2\u001b[0m                                                              │\n",
       "    │       │   │ text        │ The tiger is the national animal of India, Bangladesh,         │\n",
       "    │       │   │             │ Malaysia and South Korea.                                      │\n",
       "    │       │   ╰─────────────┴────────────────────────────────────────────────────────────────╯\n",
       "    │       ├── 📄 \u001b[1mDocument\u001b[0m: \u001b[36m14848e9603679353de5ebf95e945cea0\u001b[0m\n",
       "    │       │   ╭─────────────┬────────────────────────────────────────────────────────────────╮\n",
       "    │       │   │\u001b[1m \u001b[0m\u001b[1mAttribute  \u001b[0m\u001b[1m \u001b[0m│\u001b[1m \u001b[0m\u001b[1mValue                                                         \u001b[0m\u001b[1m \u001b[0m│\n",
       "    │       │   ├─────────────┼────────────────────────────────────────────────────────────────┤\n",
       "    │       │   │ parent_id   │ eaed8673c4f72e8cbf129e84a0845bf8                               │\n",
       "    │       │   │ granularity │ \u001b[1;36m2\u001b[0m                                                              │\n",
       "    │       │   │ text        │ Etymology The Middle English tigre and Old English tigras      │\n",
       "    │       │   │             │ derive from Old French tigre, from Latin t\u001b[33m...\u001b[0m \u001b[1;2m(\u001b[0m\u001b[2mlength: \u001b[0m\u001b[1;2;36m106\u001b[0m\u001b[1;2m)\u001b[0m    │\n",
       "    │       │   ╰─────────────┴────────────────────────────────────────────────────────────────╯\n",
       "    │       └── 📄 \u001b[1mDocument\u001b[0m: \u001b[36mef2f2f3d08b74a383efed059369294d4\u001b[0m\n",
       "    │           ╭─────────────┬────────────────────────────────────────────────────────────────╮\n",
       "    │           │\u001b[1m \u001b[0m\u001b[1mAttribute  \u001b[0m\u001b[1m \u001b[0m│\u001b[1m \u001b[0m\u001b[1mValue                                                         \u001b[0m\u001b[1m \u001b[0m│\n",
       "    │           ├─────────────┼────────────────────────────────────────────────────────────────┤\n",
       "    │           │ parent_id   │ eaed8673c4f72e8cbf129e84a0845bf8                               │\n",
       "    │           │ granularity │ \u001b[1;36m2\u001b[0m                                                              │\n",
       "    │           │ text        │ This was a borrowing of Classical Greek τίγρις \u001b[32m'tigris'\u001b[0m, a     │\n",
       "    │           │             │ foreign borrowing of unknown origin meani\u001b[33m...\u001b[0m \u001b[1;2m(\u001b[0m\u001b[2mlength: \u001b[0m\u001b[1;2;36m776\u001b[0m\u001b[1;2m)\u001b[0m     │\n",
       "    │           ╰─────────────┴────────────────────────────────────────────────────────────────╯\n",
       "    ├── 📄 \u001b[1mDocument\u001b[0m: \u001b[36m9b360847b6c51f7b7b92d8b682ac2a61\u001b[0m\n",
       "    │   ╭─────────────┬────────────────────────────────────────────────────────────────╮\n",
       "    │   │\u001b[1m \u001b[0m\u001b[1mAttribute  \u001b[0m\u001b[1m \u001b[0m│\u001b[1m \u001b[0m\u001b[1mValue                                                         \u001b[0m\u001b[1m \u001b[0m│\n",
       "    │   ├─────────────┼────────────────────────────────────────────────────────────────┤\n",
       "    │   │ parent_id   │ 9ccaa47ad7299631ed31a8c4638c9d11                               │\n",
       "    │   │ granularity │ \u001b[1;36m1\u001b[0m                                                              │\n",
       "    │   │ mime_type   │ text/plain                                                     │\n",
       "    │   │ text        │ Subspecies Phylogenetic relationship of tiger populations      │\n",
       "    │   │             │ based on Driscoll et al. \u001b[1m(\u001b[0m\u001b[1;36m2009\u001b[0m\u001b[1m)\u001b[0m.\u001b[1m[\u001b[0m\u001b[1;36m10\u001b[0m\u001b[1m]\u001b[0m Follo\u001b[33m...\u001b[0m \u001b[1;2m(\u001b[0m\u001b[2mlength: \u001b[0m\u001b[1;2;36m3053\u001b[0m\u001b[1;2m)\u001b[0m   │\n",
       "    │   ╰─────────────┴────────────────────────────────────────────────────────────────╯\n",
       "    │   └── 💠 \u001b[1mChunks\u001b[0m\n",
       "    │       ├── 📄 \u001b[1mDocument\u001b[0m: \u001b[36m7838b053cf28a30ec29c34fa621b16d4\u001b[0m\n",
       "    │       │   ╭─────────────┬────────────────────────────────────────────────────────────────╮\n",
       "    │       │   │\u001b[1m \u001b[0m\u001b[1mAttribute  \u001b[0m\u001b[1m \u001b[0m│\u001b[1m \u001b[0m\u001b[1mValue                                                         \u001b[0m\u001b[1m \u001b[0m│\n",
       "    │       │   ├─────────────┼────────────────────────────────────────────────────────────────┤\n",
       "    │       │   │ parent_id   │ 9b360847b6c51f7b7b92d8b682ac2a61                               │\n",
       "    │       │   │ granularity │ \u001b[1;36m2\u001b[0m                                                              │\n",
       "    │       │   │ text        │ Subspecies Phylogenetic relationship of tiger populations      │\n",
       "    │       │   │             │ based on Driscoll et al. \u001b[1m(\u001b[0m                                     │\n",
       "    │       │   ╰─────────────┴────────────────────────────────────────────────────────────────╯\n",
       "    │       ├── 📄 \u001b[1mDocument\u001b[0m: \u001b[36m8b950beee4b4b0be4af36a29635c8a76\u001b[0m\n",
       "    │       │   ╭─────────────┬────────────────────────────────────────────────────────────────╮\n",
       "    │       │   │\u001b[1m \u001b[0m\u001b[1mAttribute  \u001b[0m\u001b[1m \u001b[0m│\u001b[1m \u001b[0m\u001b[1mValue                                                         \u001b[0m\u001b[1m \u001b[0m│\n",
       "    │       │   ├─────────────┼────────────────────────────────────────────────────────────────┤\n",
       "    │       │   │ parent_id   │ 9b360847b6c51f7b7b92d8b682ac2a61                               │\n",
       "    │       │   │ granularity │ \u001b[1;36m2\u001b[0m                                                              │\n",
       "    │       │   │ text        │ \u001b[1;36m2009\u001b[0m\u001b[1m)\u001b[0m.\u001b[1m[\u001b[0m\u001b[1;36m10\u001b[0m\u001b[1m]\u001b[0m Following Linnaeus's first descriptions of the      │\n",
       "    │       │   │             │ species, several tiger specimens were desc\u001b[33m...\u001b[0m \u001b[1;2m(\u001b[0m\u001b[2mlength: \u001b[0m\u001b[1;2;36m202\u001b[0m\u001b[1;2m)\u001b[0m    │\n",
       "    │       │   ╰─────────────┴────────────────────────────────────────────────────────────────╯\n",
       "    │       ├── 📄 \u001b[1mDocument\u001b[0m: \u001b[36m6e580b6c8b968530f1f5c285b6c4c285\u001b[0m\n",
       "    │       │   ╭─────────────┬────────────────────────────────────────────────────────────────╮\n",
       "    │       │   │\u001b[1m \u001b[0m\u001b[1mAttribute  \u001b[0m\u001b[1m \u001b[0m│\u001b[1m \u001b[0m\u001b[1mValue                                                         \u001b[0m\u001b[1m \u001b[0m│\n",
       "    │       │   ├─────────────┼────────────────────────────────────────────────────────────────┤\n",
       "    │       │   │ parent_id   │ 9b360847b6c51f7b7b92d8b682ac2a61                               │\n",
       "    │       │   │ granularity │ \u001b[1;36m2\u001b[0m                                                              │\n",
       "    │       │   │ text        │ Most putative subspecies described in the 19th and 20th        │\n",
       "    │       │   │             │ centuries were distinguished on basis of fur\u001b[33m...\u001b[0m \u001b[1;2m(\u001b[0m\u001b[2mlength: \u001b[0m\u001b[1;2;36m216\u001b[0m\u001b[1;2m)\u001b[0m  │\n",
       "    │       │   ╰─────────────┴────────────────────────────────────────────────────────────────╯\n",
       "    │       ├── 📄 \u001b[1mDocument\u001b[0m: \u001b[36m0164704af26aeb401c3c0c33d6c89be1\u001b[0m\n",
       "    │       │   ╭─────────────┬────────────────────────────────────────────────────────────────╮\n",
       "    │       │   │\u001b[1m \u001b[0m\u001b[1mAttribute  \u001b[0m\u001b[1m \u001b[0m│\u001b[1m \u001b[0m\u001b[1mValue                                                         \u001b[0m\u001b[1m \u001b[0m│\n",
       "    │       │   ├─────────────┼────────────────────────────────────────────────────────────────┤\n",
       "    │       │   │ parent_id   │ 9b360847b6c51f7b7b92d8b682ac2a61                               │\n",
       "    │       │   │ granularity │ \u001b[1;36m2\u001b[0m                                                              │\n",
       "    │       │   │ text        │ Morphologically, tigers from different regions vary little,    │\n",
       "    │       │   │             │ and gene flow between populations in tho\u001b[33m...\u001b[0m \u001b[1;2m(\u001b[0m\u001b[2mlength: \u001b[0m\u001b[1;2;36m170\u001b[0m\u001b[1;2m)\u001b[0m      │\n",
       "    │       │   ╰─────────────┴────────────────────────────────────────────────────────────────╯\n",
       "    │       ├── 📄 \u001b[1mDocument\u001b[0m: \u001b[36m166956543c58dffeb7942482ab5426eb\u001b[0m\n",
       "    │       │   ╭─────────────┬────────────────────────────────────────────────────────────────╮\n",
       "    │       │   │\u001b[1m \u001b[0m\u001b[1mAttribute  \u001b[0m\u001b[1m \u001b[0m│\u001b[1m \u001b[0m\u001b[1mValue                                                         \u001b[0m\u001b[1m \u001b[0m│\n",
       "    │       │   ├─────────────┼────────────────────────────────────────────────────────────────┤\n",
       "    │       │   │ parent_id   │ 9b360847b6c51f7b7b92d8b682ac2a61                               │\n",
       "    │       │   │ granularity │ \u001b[1;36m2\u001b[0m                                                              │\n",
       "    │       │   │ text        │ Therefore, it was proposed to recognize only two tiger         │\n",
       "    │       │   │             │ subspecies as valid, namely P. t. tigris in m\u001b[33m...\u001b[0m \u001b[1;2m(\u001b[0m\u001b[2mlength: \u001b[0m\u001b[1;2;36m410\u001b[0m\u001b[1;2m)\u001b[0m │\n",
       "    │       │   ╰─────────────┴────────────────────────────────────────────────────────────────╯\n",
       "    │       ├── 📄 \u001b[1mDocument\u001b[0m: \u001b[36m386da2fa4ddf810a7cc18f58e82a9fe5\u001b[0m\n",
       "    │       │   ╭─────────────┬────────────────────────────────────────────────────────────────╮\n",
       "    │       │   │\u001b[1m \u001b[0m\u001b[1mAttribute  \u001b[0m\u001b[1m \u001b[0m│\u001b[1m \u001b[0m\u001b[1mValue                                                         \u001b[0m\u001b[1m \u001b[0m│\n",
       "    │       │   ├─────────────┼────────────────────────────────────────────────────────────────┤\n",
       "    │       │   │ parent_id   │ 9b360847b6c51f7b7b92d8b682ac2a61                               │\n",
       "    │       │   │ granularity │ \u001b[1;36m2\u001b[0m                                                              │\n",
       "    │       │   │ text        │ The authors proposed to classify the Sumatran and Javan tigers │\n",
       "    │       │   │             │ as distinct species, P. sumatrae and \u001b[33m...\u001b[0m \u001b[1;2m(\u001b[0m\u001b[2mlength: \u001b[0m\u001b[1;2;36m298\u001b[0m\u001b[1;2m)\u001b[0m         │\n",
       "    │       │   ╰─────────────┴────────────────────────────────────────────────────────────────╯\n",
       "    │       ├── 📄 \u001b[1mDocument\u001b[0m: \u001b[36m74c06a7663288c5fc963be672e523a47\u001b[0m\n",
       "    │       │   ╭─────────────┬────────────────────────────────────────────────────────────────╮\n",
       "    │       │   │\u001b[1m \u001b[0m\u001b[1mAttribute  \u001b[0m\u001b[1m \u001b[0m│\u001b[1m \u001b[0m\u001b[1mValue                                                         \u001b[0m\u001b[1m \u001b[0m│\n",
       "    │       │   ├─────────────┼────────────────────────────────────────────────────────────────┤\n",
       "    │       │   │ parent_id   │ 9b360847b6c51f7b7b92d8b682ac2a61                               │\n",
       "    │       │   │ granularity │ \u001b[1;36m2\u001b[0m                                                              │\n",
       "    │       │   │ text        │ Results support distinction of the two evolutionary groups     │\n",
       "    │       │   │             │ continental and Sunda tigers.                                  │\n",
       "    │       │   ╰─────────────┴────────────────────────────────────────────────────────────────╯\n",
       "    │       ├── 📄 \u001b[1mDocument\u001b[0m: \u001b[36mbe2934c420c93daae98601108d992f0b\u001b[0m\n",
       "    │       │   ╭─────────────┬────────────────────────────────────────────────────────────────╮\n",
       "    │       │   │\u001b[1m \u001b[0m\u001b[1mAttribute  \u001b[0m\u001b[1m \u001b[0m│\u001b[1m \u001b[0m\u001b[1mValue                                                         \u001b[0m\u001b[1m \u001b[0m│\n",
       "    │       │   ├─────────────┼────────────────────────────────────────────────────────────────┤\n",
       "    │       │   │ parent_id   │ 9b360847b6c51f7b7b92d8b682ac2a61                               │\n",
       "    │       │   │ granularity │ \u001b[1;36m2\u001b[0m                                                              │\n",
       "    │       │   │ text        │ The authors proposed recognition of only two subspecies,       │\n",
       "    │       │   │             │ namely P. t. tigris comprising the Bengal, \u001b[33m...\u001b[0m \u001b[1;2m(\u001b[0m\u001b[2mlength: \u001b[0m\u001b[1;2;36m254\u001b[0m\u001b[1;2m)\u001b[0m   │\n",
       "    │       │   ╰─────────────┴────────────────────────────────────────────────────────────────╯\n",
       "    │       ├── 📄 \u001b[1mDocument\u001b[0m: \u001b[36meaa06c070b92f925dc8f640ba5f85f75\u001b[0m\n",
       "    │       │   ╭─────────────┬────────────────────────────────────────────────────────────────╮\n",
       "    │       │   │\u001b[1m \u001b[0m\u001b[1mAttribute  \u001b[0m\u001b[1m \u001b[0m│\u001b[1m \u001b[0m\u001b[1mValue                                                         \u001b[0m\u001b[1m \u001b[0m│\n",
       "    │       │   ├─────────────┼────────────────────────────────────────────────────────────────┤\n",
       "    │       │   │ parent_id   │ 9b360847b6c51f7b7b92d8b682ac2a61                               │\n",
       "    │       │   │ granularity │ \u001b[1;36m2\u001b[0m                                                              │\n",
       "    │       │   │ text        │ The authors also noted that this reclassification will affect  │\n",
       "    │       │   │             │ tiger conservation management.                                 │\n",
       "    │       │   ╰─────────────┴────────────────────────────────────────────────────────────────╯\n",
       "    │       ├── 📄 \u001b[1mDocument\u001b[0m: \u001b[36m3e7c8f646b017f9454dd0ed96b8f5a9e\u001b[0m\n",
       "    │       │   ╭─────────────┬────────────────────────────────────────────────────────────────╮\n",
       "    │       │   │\u001b[1m \u001b[0m\u001b[1mAttribute  \u001b[0m\u001b[1m \u001b[0m│\u001b[1m \u001b[0m\u001b[1mValue                                                         \u001b[0m\u001b[1m \u001b[0m│\n",
       "    │       │   ├─────────────┼────────────────────────────────────────────────────────────────┤\n",
       "    │       │   │ parent_id   │ 9b360847b6c51f7b7b92d8b682ac2a61                               │\n",
       "    │       │   │ granularity │ \u001b[1;36m2\u001b[0m                                                              │\n",
       "    │       │   │ text        │ The nominate subspecies P. t. tigris constitutes two           │\n",
       "    │       │   │             │ clades:\u001b[1m[\u001b[0m\u001b[1;36m14\u001b[0m\u001b[1m]\u001b[0m • a northern clade composed of the \u001b[33m...\u001b[0m \u001b[1;2m(\u001b[0m\u001b[2mlength: \u001b[0m   │\n",
       "    │       │   │             │ \u001b[1;2;36m201\u001b[0m\u001b[1;2m)\u001b[0m                                                           │\n",
       "    │       │   ╰─────────────┴────────────────────────────────────────────────────────────────╯\n",
       "    │       ├── 📄 \u001b[1mDocument\u001b[0m: \u001b[36ma1029ffaf47c0da6ef399e8816b0ec1a\u001b[0m\n",
       "    │       │   ╭─────────────┬────────────────────────────────────────────────────────────────╮\n",
       "    │       │   │\u001b[1m \u001b[0m\u001b[1mAttribute  \u001b[0m\u001b[1m \u001b[0m│\u001b[1m \u001b[0m\u001b[1mValue                                                         \u001b[0m\u001b[1m \u001b[0m│\n",
       "    │       │   ├─────────────┼────────────────────────────────────────────────────────────────┤\n",
       "    │       │   │ parent_id   │ 9b360847b6c51f7b7b92d8b682ac2a61                               │\n",
       "    │       │   │ granularity │ \u001b[1;36m2\u001b[0m                                                              │\n",
       "    │       │   │ text        │ One conservation specialist welcomed this proposal as it would │\n",
       "    │       │   │             │ make captive breeding programmes and \u001b[33m...\u001b[0m \u001b[1;2m(\u001b[0m\u001b[2mlength: \u001b[0m\u001b[1;2;36m143\u001b[0m\u001b[1;2m)\u001b[0m         │\n",
       "    │       │   ╰─────────────┴────────────────────────────────────────────────────────────────╯\n",
       "    │       ├── 📄 \u001b[1mDocument\u001b[0m: \u001b[36mc8a16a15dabf18c0cb32466662a83846\u001b[0m\n",
       "    │       │   ╭─────────────┬────────────────────────────────────────────────────────────────╮\n",
       "    │       │   │\u001b[1m \u001b[0m\u001b[1mAttribute  \u001b[0m\u001b[1m \u001b[0m│\u001b[1m \u001b[0m\u001b[1mValue                                                         \u001b[0m\u001b[1m \u001b[0m│\n",
       "    │       │   ├─────────────┼────────────────────────────────────────────────────────────────┤\n",
       "    │       │   │ parent_id   │ 9b360847b6c51f7b7b92d8b682ac2a61                               │\n",
       "    │       │   │ granularity │ \u001b[1;36m2\u001b[0m                                                              │\n",
       "    │       │   │ text        │ One geneticist was sceptical of this study and maintained that │\n",
       "    │       │   │             │ the currently recognised nine subspec\u001b[33m...\u001b[0m \u001b[1;2m(\u001b[0m\u001b[2mlength: \u001b[0m\u001b[1;2;36m435\u001b[0m\u001b[1;2m)\u001b[0m         │\n",
       "    │       │   ╰─────────────┴────────────────────────────────────────────────────────────────╯\n",
       "    │       ├── 📄 \u001b[1mDocument\u001b[0m: \u001b[36m917bbf42225a7dd4d9bb62c54762b3a3\u001b[0m\n",
       "    │       │   ╭─────────────┬────────────────────────────────────────────────────────────────╮\n",
       "    │       │   │\u001b[1m \u001b[0m\u001b[1mAttribute  \u001b[0m\u001b[1m \u001b[0m│\u001b[1m \u001b[0m\u001b[1mValue                                                         \u001b[0m\u001b[1m \u001b[0m│\n",
       "    │       │   ├─────────────┼────────────────────────────────────────────────────────────────┤\n",
       "    │       │   │ parent_id   │ 9b360847b6c51f7b7b92d8b682ac2a61                               │\n",
       "    │       │   │ granularity │ \u001b[1;36m2\u001b[0m                                                              │\n",
       "    │       │   │ text        │ Results of a \u001b[1;36m2018\u001b[0m whole-genome sequencing of \u001b[1;36m32\u001b[0m specimens      │\n",
       "    │       │   │             │ support six monophyletic tiger clades corr\u001b[33m...\u001b[0m \u001b[1;2m(\u001b[0m\u001b[2mlength: \u001b[0m\u001b[1;2;36m219\u001b[0m\u001b[1;2m)\u001b[0m    │\n",
       "    │       │   ╰─────────────┴────────────────────────────────────────────────────────────────╯\n",
       "    │       └── 📄 \u001b[1mDocument\u001b[0m: \u001b[36m73b93ba21a67e4d7bbc8bcc39abd9077\u001b[0m\n",
       "    │           ╭─────────────┬────────────────────────────────────────────────────────────────╮\n",
       "    │           │\u001b[1m \u001b[0m\u001b[1mAttribute  \u001b[0m\u001b[1m \u001b[0m│\u001b[1m \u001b[0m\u001b[1mValue                                                         \u001b[0m\u001b[1m \u001b[0m│\n",
       "    │           ├─────────────┼────────────────────────────────────────────────────────────────┤\n",
       "    │           │ parent_id   │ 9b360847b6c51f7b7b92d8b682ac2a61                               │\n",
       "    │           │ granularity │ \u001b[1;36m2\u001b[0m                                                              │\n",
       "    │           │ text        │ \u001b[1;36m17\u001b[0m\u001b[1m]\u001b[0m The following tables are based on the classification of    │\n",
       "    │           │             │ the species Panthera tigris provided in \u001b[33m...\u001b[0m \u001b[1;2m(\u001b[0m\u001b[2mlength: \u001b[0m\u001b[1;2;36m229\u001b[0m\u001b[1;2m)\u001b[0m      │\n",
       "    │           ╰─────────────┴────────────────────────────────────────────────────────────────╯\n",
       "    └── 📄 \u001b[1mDocument\u001b[0m: \u001b[36mcb5b2ade35bae403da1b2e78bed6bfdd\u001b[0m\n",
       "        ╭─────────────┬────────────────────────────────────────────────────────────────╮\n",
       "        │\u001b[1m \u001b[0m\u001b[1mAttribute  \u001b[0m\u001b[1m \u001b[0m│\u001b[1m \u001b[0m\u001b[1mValue                                                         \u001b[0m\u001b[1m \u001b[0m│\n",
       "        ├─────────────┼────────────────────────────────────────────────────────────────┤\n",
       "        │ parent_id   │ 9ccaa47ad7299631ed31a8c4638c9d11                               │\n",
       "        │ granularity │ \u001b[1;36m1\u001b[0m                                                              │\n",
       "        │ mime_type   │ text/plain                                                     │\n",
       "        │ text        │ Restoration of a Panthera zdanskyi skull, an extinct tiger     │\n",
       "        │             │ relative whose fossil remains were found \u001b[33m...\u001b[0m \u001b[1;2m(\u001b[0m\u001b[2mlength: \u001b[0m\u001b[1;2;36m3411\u001b[0m\u001b[1;2m)\u001b[0m    │\n",
       "        ╰─────────────┴────────────────────────────────────────────────────────────────╯\n",
       "        └── 💠 \u001b[1mChunks\u001b[0m\n",
       "            ├── 📄 \u001b[1mDocument\u001b[0m: \u001b[36m4021e096c0d7e3625681eb562a74d7a7\u001b[0m\n",
       "            │   ╭─────────────┬────────────────────────────────────────────────────────────────╮\n",
       "            │   │\u001b[1m \u001b[0m\u001b[1mAttribute  \u001b[0m\u001b[1m \u001b[0m│\u001b[1m \u001b[0m\u001b[1mValue                                                         \u001b[0m\u001b[1m \u001b[0m│\n",
       "            │   ├─────────────┼────────────────────────────────────────────────────────────────┤\n",
       "            │   │ parent_id   │ cb5b2ade35bae403da1b2e78bed6bfdd                               │\n",
       "            │   │ granularity │ \u001b[1;36m2\u001b[0m                                                              │\n",
       "            │   │ text        │ Restoration of a Panthera zdanskyi skull, an extinct tiger     │\n",
       "            │   │             │ relative whose fossil remains were found \u001b[33m...\u001b[0m \u001b[1;2m(\u001b[0m\u001b[2mlength: \u001b[0m\u001b[1;2;36m232\u001b[0m\u001b[1;2m)\u001b[0m     │\n",
       "            │   ╰─────────────┴────────────────────────────────────────────────────────────────╯\n",
       "            ├── 📄 \u001b[1mDocument\u001b[0m: \u001b[36m1829c7498a564a3277dc9b5cbd873ad3\u001b[0m\n",
       "            │   ╭─────────────┬────────────────────────────────────────────────────────────────╮\n",
       "            │   │\u001b[1m \u001b[0m\u001b[1mAttribute  \u001b[0m\u001b[1m \u001b[0m│\u001b[1m \u001b[0m\u001b[1mValue                                                         \u001b[0m\u001b[1m \u001b[0m│\n",
       "            │   ├─────────────┼────────────────────────────────────────────────────────────────┤\n",
       "            │   │ parent_id   │ cb5b2ade35bae403da1b2e78bed6bfdd                               │\n",
       "            │   │ granularity │ \u001b[1;36m2\u001b[0m                                                              │\n",
       "            │   │ text        │ Results of genetic analysis indicate that about \u001b[1;36m2.88\u001b[0m million   │\n",
       "            │   │             │ years ago, the tiger and the snow leopa\u001b[33m...\u001b[0m \u001b[1;2m(\u001b[0m\u001b[2mlength: \u001b[0m\u001b[1;2;36m249\u001b[0m\u001b[1;2m)\u001b[0m       │\n",
       "            │   ╰─────────────┴────────────────────────────────────────────────────────────────╯\n",
       "            ├── 📄 \u001b[1mDocument\u001b[0m: \u001b[36m8bd537f00dd280430e8c286561fe71dd\u001b[0m\n",
       "            │   ╭─────────────┬────────────────────────────────────────────────────────────────╮\n",
       "            │   │\u001b[1m \u001b[0m\u001b[1mAttribute  \u001b[0m\u001b[1m \u001b[0m│\u001b[1m \u001b[0m\u001b[1mValue                                                         \u001b[0m\u001b[1m \u001b[0m│\n",
       "            │   ├─────────────┼────────────────────────────────────────────────────────────────┤\n",
       "            │   │ parent_id   │ cb5b2ade35bae403da1b2e78bed6bfdd                               │\n",
       "            │   │ granularity │ \u001b[1;36m2\u001b[0m                                                              │\n",
       "            │   │ text        │ \u001b[1;36m32\u001b[0m\u001b[1m]\u001b[0m \u001b[1m[\u001b[0m\u001b[1;36m33\u001b[0m\u001b[1m]\u001b[0m The geographic origin of the Panthera is most likely  │\n",
       "            │   │             │ northern Central Asia.                                         │\n",
       "            │   ╰─────────────┴────────────────────────────────────────────────────────────────╯\n",
       "            ├── 📄 \u001b[1mDocument\u001b[0m: \u001b[36m50c3604cf6a503dd746f087cd55d2147\u001b[0m\n",
       "            │   ╭─────────────┬────────────────────────────────────────────────────────────────╮\n",
       "            │   │\u001b[1m \u001b[0m\u001b[1mAttribute  \u001b[0m\u001b[1m \u001b[0m│\u001b[1m \u001b[0m\u001b[1mValue                                                         \u001b[0m\u001b[1m \u001b[0m│\n",
       "            │   ├─────────────┼────────────────────────────────────────────────────────────────┤\n",
       "            │   │ parent_id   │ cb5b2ade35bae403da1b2e78bed6bfdd                               │\n",
       "            │   │ granularity │ \u001b[1;36m2\u001b[0m                                                              │\n",
       "            │   │ text        │ The tiger–snow leopard lineage dispersed in Southeast Asia     │\n",
       "            │   │             │ during the Miocene.\u001b[1m[\u001b[0m\u001b[1;36m34\u001b[0m\u001b[1m]\u001b[0m Panthera zdanskyi\u001b[33m...\u001b[0m \u001b[1;2m(\u001b[0m\u001b[2mlength: \u001b[0m\u001b[1;2;36m156\u001b[0m\u001b[1;2m)\u001b[0m     │\n",
       "            │   ╰─────────────┴────────────────────────────────────────────────────────────────╯\n",
       "            ├── 📄 \u001b[1mDocument\u001b[0m: \u001b[36m789447bfde3ccfb1ca90dfaa9d4ca2e6\u001b[0m\n",
       "            │   ╭─────────────┬────────────────────────────────────────────────────────────────╮\n",
       "            │   │\u001b[1m \u001b[0m\u001b[1mAttribute  \u001b[0m\u001b[1m \u001b[0m│\u001b[1m \u001b[0m\u001b[1mValue                                                         \u001b[0m\u001b[1m \u001b[0m│\n",
       "            │   ├─────────────┼────────────────────────────────────────────────────────────────┤\n",
       "            │   │ parent_id   │ cb5b2ade35bae403da1b2e78bed6bfdd                               │\n",
       "            │   │ granularity │ \u001b[1;36m2\u001b[0m                                                              │\n",
       "            │   │ text        │ It lived at the beginning of the Pleistocene about two million │\n",
       "            │   │             │ years ago, its fossil remains were ex\u001b[33m...\u001b[0m \u001b[1;2m(\u001b[0m\u001b[2mlength: \u001b[0m\u001b[1;2;36m139\u001b[0m\u001b[1;2m)\u001b[0m         │\n",
       "            │   ╰─────────────┴────────────────────────────────────────────────────────────────╯\n",
       "            ├── 📄 \u001b[1mDocument\u001b[0m: \u001b[36m8a21eb703a46415382d34dc819aea225\u001b[0m\n",
       "            │   ╭─────────────┬────────────────────────────────────────────────────────────────╮\n",
       "            │   │\u001b[1m \u001b[0m\u001b[1mAttribute  \u001b[0m\u001b[1m \u001b[0m│\u001b[1m \u001b[0m\u001b[1mValue                                                         \u001b[0m\u001b[1m \u001b[0m│\n",
       "            │   ├─────────────┼────────────────────────────────────────────────────────────────┤\n",
       "            │   │ parent_id   │ cb5b2ade35bae403da1b2e78bed6bfdd                               │\n",
       "            │   │ granularity │ \u001b[1;36m2\u001b[0m                                                              │\n",
       "            │   │ text        │ It was smaller and more \u001b[32m\"primitive\"\u001b[0m, but functionally and      │\n",
       "            │   │             │ ecologically similar to the modern tiger.                      │\n",
       "            │   ╰─────────────┴────────────────────────────────────────────────────────────────╯\n",
       "            ├── 📄 \u001b[1mDocument\u001b[0m: \u001b[36m9c423fbd2b269befd5ca96bb8561d813\u001b[0m\n",
       "            │   ╭──────────────┬───────────────────────────────────────────────────────────────╮\n",
       "            │   │\u001b[1m \u001b[0m\u001b[1mAttribute   \u001b[0m\u001b[1m \u001b[0m│\u001b[1m \u001b[0m\u001b[1mValue                                                        \u001b[0m\u001b[1m \u001b[0m│\n",
       "            │   ├──────────────┼───────────────────────────────────────────────────────────────┤\n",
       "            │   │ parent_id    │ cb5b2ade35bae403da1b2e78bed6bfdd                              │\n",
       "            │   │ granularity  │ \u001b[1;36m2\u001b[0m                                                             │\n",
       "            │   │ text         │ It is disputed as to whether it had the striping pattern.     │\n",
       "            │   ╰──────────────┴───────────────────────────────────────────────────────────────╯\n",
       "            ├── 📄 \u001b[1mDocument\u001b[0m: \u001b[36m09b2d953a25cde575d7a7524d37d4293\u001b[0m\n",
       "            │   ╭─────────────┬────────────────────────────────────────────────────────────────╮\n",
       "            │   │\u001b[1m \u001b[0m\u001b[1mAttribute  \u001b[0m\u001b[1m \u001b[0m│\u001b[1m \u001b[0m\u001b[1mValue                                                         \u001b[0m\u001b[1m \u001b[0m│\n",
       "            │   ├─────────────┼────────────────────────────────────────────────────────────────┤\n",
       "            │   │ parent_id   │ cb5b2ade35bae403da1b2e78bed6bfdd                               │\n",
       "            │   │ granularity │ \u001b[1;36m2\u001b[0m                                                              │\n",
       "            │   │ text        │ Northwestern China is thought to be the origin of the tiger    │\n",
       "            │   │             │ lineage.                                                       │\n",
       "            │   ╰─────────────┴────────────────────────────────────────────────────────────────╯\n",
       "            ├── 📄 \u001b[1mDocument\u001b[0m: \u001b[36m9be7f47dccee8d4d7e25bb5ac3b65f54\u001b[0m\n",
       "            │   ╭─────────────┬────────────────────────────────────────────────────────────────╮\n",
       "            │   │\u001b[1m \u001b[0m\u001b[1mAttribute  \u001b[0m\u001b[1m \u001b[0m│\u001b[1m \u001b[0m\u001b[1mValue                                                         \u001b[0m\u001b[1m \u001b[0m│\n",
       "            │   ├─────────────┼────────────────────────────────────────────────────────────────┤\n",
       "            │   │ parent_id   │ cb5b2ade35bae403da1b2e78bed6bfdd                               │\n",
       "            │   │ granularity │ \u001b[1;36m2\u001b[0m                                                              │\n",
       "            │   │ text        │ Tigers grew in size, possibly in response to adaptive          │\n",
       "            │   │             │ radiations of prey species like deer and bovid\u001b[33m...\u001b[0m \u001b[1;2m(\u001b[0m\u001b[2mlength: \u001b[0m    │\n",
       "            │   │             │ \u001b[1;2;36m176\u001b[0m\u001b[1;2m)\u001b[0m                                                           │\n",
       "            │   ╰─────────────┴────────────────────────────────────────────────────────────────╯\n",
       "            ├── 📄 \u001b[1mDocument\u001b[0m: \u001b[36m37acb546f24d57c21a51414f2fc23c16\u001b[0m\n",
       "            │   ╭─────────────┬────────────────────────────────────────────────────────────────╮\n",
       "            │   │\u001b[1m \u001b[0m\u001b[1mAttribute  \u001b[0m\u001b[1m \u001b[0m│\u001b[1m \u001b[0m\u001b[1mValue                                                         \u001b[0m\u001b[1m \u001b[0m│\n",
       "            │   ├─────────────┼────────────────────────────────────────────────────────────────┤\n",
       "            │   │ parent_id   │ cb5b2ade35bae403da1b2e78bed6bfdd                               │\n",
       "            │   │ granularity │ \u001b[1;36m2\u001b[0m                                                              │\n",
       "            │   │ text        │ \u001b[1;36m35\u001b[0m\u001b[1m]\u001b[0m Panthera tigris trinilensis lived about \u001b[1;36m1.2\u001b[0m million years  │\n",
       "            │   │             │ ago and is known from fossils excavate\u001b[33m...\u001b[0m \u001b[1;2m(\u001b[0m\u001b[2mlength: \u001b[0m\u001b[1;2;36m331\u001b[0m\u001b[1;2m)\u001b[0m        │\n",
       "            │   ╰─────────────┴────────────────────────────────────────────────────────────────╯\n",
       "            ├── 📄 \u001b[1mDocument\u001b[0m: \u001b[36m3e8013e10ace9027848cf6467b8cbc2f\u001b[0m\n",
       "            │   ╭─────────────┬────────────────────────────────────────────────────────────────╮\n",
       "            │   │\u001b[1m \u001b[0m\u001b[1mAttribute  \u001b[0m\u001b[1m \u001b[0m│\u001b[1m \u001b[0m\u001b[1mValue                                                         \u001b[0m\u001b[1m \u001b[0m│\n",
       "            │   ├─────────────┼────────────────────────────────────────────────────────────────┤\n",
       "            │   │ parent_id   │ cb5b2ade35bae403da1b2e78bed6bfdd                               │\n",
       "            │   │ granularity │ \u001b[1;36m2\u001b[0m                                                              │\n",
       "            │   │ text        │ Some fossil skulls are morphologically distinct from lion      │\n",
       "            │   │             │ skulls, which could indicate tiger presenc\u001b[33m...\u001b[0m \u001b[1;2m(\u001b[0m\u001b[2mlength: \u001b[0m\u001b[1;2;36m316\u001b[0m\u001b[1;2m)\u001b[0m    │\n",
       "            │   ╰─────────────┴────────────────────────────────────────────────────────────────╯\n",
       "            ├── 📄 \u001b[1mDocument\u001b[0m: \u001b[36m5e29e81fb5a035e53c8c04a6cfa863e2\u001b[0m\n",
       "            │   ╭─────────────┬────────────────────────────────────────────────────────────────╮\n",
       "            │   │\u001b[1m \u001b[0m\u001b[1mAttribute  \u001b[0m\u001b[1m \u001b[0m│\u001b[1m \u001b[0m\u001b[1mValue                                                         \u001b[0m\u001b[1m \u001b[0m│\n",
       "            │   ├─────────────┼────────────────────────────────────────────────────────────────┤\n",
       "            │   │ parent_id   │ cb5b2ade35bae403da1b2e78bed6bfdd                               │\n",
       "            │   │ granularity │ \u001b[1;36m2\u001b[0m                                                              │\n",
       "            │   │ text        │ They were smaller than mainland tiger fossils, possibly due to │\n",
       "            │   │             │ insular dwarfism.\u001b[1m[\u001b[0m\u001b[1;36m39\u001b[0m\u001b[1m]\u001b[0m It has been spe\u001b[33m...\u001b[0m \u001b[1;2m(\u001b[0m\u001b[2mlength: \u001b[0m\u001b[1;2;36m236\u001b[0m\u001b[1;2m)\u001b[0m         │\n",
       "            │   ╰─────────────┴────────────────────────────────────────────────────────────────╯\n",
       "            ├── 📄 \u001b[1mDocument\u001b[0m: \u001b[36md9137e425d7a8c61fc1d0e64ce8a8d0e\u001b[0m\n",
       "            │   ╭─────────────┬────────────────────────────────────────────────────────────────╮\n",
       "            │   │\u001b[1m \u001b[0m\u001b[1mAttribute  \u001b[0m\u001b[1m \u001b[0m│\u001b[1m \u001b[0m\u001b[1mValue                                                         \u001b[0m\u001b[1m \u001b[0m│\n",
       "            │   ├─────────────┼────────────────────────────────────────────────────────────────┤\n",
       "            │   │ parent_id   │ cb5b2ade35bae403da1b2e78bed6bfdd                               │\n",
       "            │   │ granularity │ \u001b[1;36m2\u001b[0m                                                              │\n",
       "            │   │ text        │ \u001b[1;36m40\u001b[0m\u001b[1m]\u001b[0m \u001b[1m[\u001b[0m\u001b[1;36m41\u001b[0m\u001b[1m]\u001b[0m Fossil remains of tigers were also excavated in Sri   │\n",
       "            │   │             │ Lanka, China, Japan and Sarawak dating \u001b[33m...\u001b[0m \u001b[1;2m(\u001b[0m\u001b[2mlength: \u001b[0m\u001b[1;2;36m155\u001b[0m\u001b[1;2m)\u001b[0m       │\n",
       "            │   ╰─────────────┴────────────────────────────────────────────────────────────────╯\n",
       "            ├── 📄 \u001b[1mDocument\u001b[0m: \u001b[36me3552af091d6392d41062a739d6066cb\u001b[0m\n",
       "            │   ╭─────────────┬────────────────────────────────────────────────────────────────╮\n",
       "            │   │\u001b[1m \u001b[0m\u001b[1mAttribute  \u001b[0m\u001b[1m \u001b[0m│\u001b[1m \u001b[0m\u001b[1mValue                                                         \u001b[0m\u001b[1m \u001b[0m│\n",
       "            │   ├─────────────┼────────────────────────────────────────────────────────────────┤\n",
       "            │   │ parent_id   │ cb5b2ade35bae403da1b2e78bed6bfdd                               │\n",
       "            │   │ granularity │ \u001b[1;36m2\u001b[0m                                                              │\n",
       "            │   │ text        │ \u001b[1;36m38\u001b[0m\u001b[1m]\u001b[0m \u001b[1m[\u001b[0m\u001b[1;36m42\u001b[0m\u001b[1m]\u001b[0m The Bornean tiger was apparently present in Borneo    │\n",
       "            │   │             │ between the Late Pleistocene and the Hol\u001b[33m...\u001b[0m \u001b[1;2m(\u001b[0m\u001b[2mlength: \u001b[0m\u001b[1;2;36m190\u001b[0m\u001b[1;2m)\u001b[0m      │\n",
       "            │   ╰─────────────┴────────────────────────────────────────────────────────────────╯\n",
       "            ├── 📄 \u001b[1mDocument\u001b[0m: \u001b[36m3023e68e163291eda184459bef65fd02\u001b[0m\n",
       "            │   ╭─────────────┬────────────────────────────────────────────────────────────────╮\n",
       "            │   │\u001b[1m \u001b[0m\u001b[1mAttribute  \u001b[0m\u001b[1m \u001b[0m│\u001b[1m \u001b[0m\u001b[1mValue                                                         \u001b[0m\u001b[1m \u001b[0m│\n",
       "            │   ├─────────────┼────────────────────────────────────────────────────────────────┤\n",
       "            │   │ parent_id   │ cb5b2ade35bae403da1b2e78bed6bfdd                               │\n",
       "            │   │ granularity │ \u001b[1;36m2\u001b[0m                                                              │\n",
       "            │   │ text        │ \u001b[1;36m42\u001b[0m\u001b[1m]\u001b[0m \u001b[1m[\u001b[0m\u001b[1;36m43\u001b[0m\u001b[1m]\u001b[0m Results of a phylogeographic study indicate that all  │\n",
       "            │   │             │ living tigers had a common ancestor \u001b[1;36m10\u001b[0m\u001b[33m...\u001b[0m \u001b[1;2m(\u001b[0m\u001b[2mlength: \u001b[0m\u001b[1;2;36m325\u001b[0m\u001b[1;2m)\u001b[0m        │\n",
       "            │   ╰─────────────┴────────────────────────────────────────────────────────────────╯\n",
       "            ├── 📄 \u001b[1mDocument\u001b[0m: \u001b[36m76c98b8c9d887c7dca3df23137f70da1\u001b[0m\n",
       "            │   ╭─────────────┬────────────────────────────────────────────────────────────────╮\n",
       "            │   │\u001b[1m \u001b[0m\u001b[1mAttribute  \u001b[0m\u001b[1m \u001b[0m│\u001b[1m \u001b[0m\u001b[1mValue                                                         \u001b[0m\u001b[1m \u001b[0m│\n",
       "            │   ├─────────────┼────────────────────────────────────────────────────────────────┤\n",
       "            │   │ parent_id   │ cb5b2ade35bae403da1b2e78bed6bfdd                               │\n",
       "            │   │ granularity │ \u001b[1;36m2\u001b[0m                                                              │\n",
       "            │   │ text        │ The resulting model shows a contiguous tiger range at the Last │\n",
       "            │   │             │ Glacial Maximum, indicating gene flow\u001b[33m...\u001b[0m \u001b[1;2m(\u001b[0m\u001b[2mlength: \u001b[0m\u001b[1;2;36m144\u001b[0m\u001b[1;2m)\u001b[0m         │\n",
       "            │   ╰─────────────┴────────────────────────────────────────────────────────────────╯\n",
       "            ├── 📄 \u001b[1mDocument\u001b[0m: \u001b[36ma12778a9648acf392dba974f88eee8f5\u001b[0m\n",
       "            │   ╭─────────────┬────────────────────────────────────────────────────────────────╮\n",
       "            │   │\u001b[1m \u001b[0m\u001b[1mAttribute  \u001b[0m\u001b[1m \u001b[0m│\u001b[1m \u001b[0m\u001b[1mValue                                                         \u001b[0m\u001b[1m \u001b[0m│\n",
       "            │   ├─────────────┼────────────────────────────────────────────────────────────────┤\n",
       "            │   │ parent_id   │ cb5b2ade35bae403da1b2e78bed6bfdd                               │\n",
       "            │   │ granularity │ \u001b[1;36m2\u001b[0m                                                              │\n",
       "            │   │ text        │ The Caspian tiger population was likely connected to the       │\n",
       "            │   │             │ Bengal tiger population through corridors b\u001b[33m...\u001b[0m \u001b[1;2m(\u001b[0m\u001b[2mlength: \u001b[0m\u001b[1;2;36m157\u001b[0m\u001b[1;2m)\u001b[0m   │\n",
       "            │   ╰─────────────┴────────────────────────────────────────────────────────────────╯\n",
       "            ├── 📄 \u001b[1mDocument\u001b[0m: \u001b[36m0efe7c82bc7567714e47924cd93bc020\u001b[0m\n",
       "            │   ╭─────────────┬────────────────────────────────────────────────────────────────╮\n",
       "            │   │\u001b[1m \u001b[0m\u001b[1mAttribute  \u001b[0m\u001b[1m \u001b[0m│\u001b[1m \u001b[0m\u001b[1mValue                                                         \u001b[0m\u001b[1m \u001b[0m│\n",
       "            │   ├─────────────┼────────────────────────────────────────────────────────────────┤\n",
       "            │   │ parent_id   │ cb5b2ade35bae403da1b2e78bed6bfdd                               │\n",
       "            │   │ granularity │ \u001b[1;36m2\u001b[0m                                                              │\n",
       "            │   │ text        │ The tiger populations on the Sunda Islands and mainland Asia   │\n",
       "            │   │             │ were possibly separated during intergla\u001b[33m...\u001b[0m \u001b[1;2m(\u001b[0m\u001b[2mlength: \u001b[0m\u001b[1;2;36m173\u001b[0m\u001b[1;2m)\u001b[0m       │\n",
       "            │   ╰─────────────┴────────────────────────────────────────────────────────────────╯\n",
       "            └── 📄 \u001b[1mDocument\u001b[0m: \u001b[36ma7cb4fa1aa695cb4aea715c0091132d6\u001b[0m\n",
       "                ╭─────────────┬────────────────────────────────────────────────────────────────╮\n",
       "                │\u001b[1m \u001b[0m\u001b[1mAttribute  \u001b[0m\u001b[1m \u001b[0m│\u001b[1m \u001b[0m\u001b[1mValue                                                         \u001b[0m\u001b[1m \u001b[0m│\n",
       "                ├─────────────┼────────────────────────────────────────────────────────────────┤\n",
       "                │ parent_id   │ cb5b2ade35bae403da1b2e78bed6bfdd                               │\n",
       "                │ granularity │ \u001b[1;36m2\u001b[0m                                                              │\n",
       "                │ text        │ It was found to have similar repeat composition to other cat   │\n",
       "                │             │ genomes and an appreciably conserved sy\u001b[33m...\u001b[0m \u001b[1;2m(\u001b[0m\u001b[2mlength: \u001b[0m\u001b[1;2;36m110\u001b[0m\u001b[1;2m)\u001b[0m       │\n",
       "                ╰─────────────┴────────────────────────────────────────────────────────────────╯\n"
      ]
     },
     "metadata": {},
     "output_type": "display_data"
    }
   ],
   "source": [
    "docs[0]"
   ]
  },
  {
   "cell_type": "markdown",
   "metadata": {
    "id": "HnAXcJRpqyHZ"
   },
   "source": [
    "Now we can burrow down to the chunks-of-chunks level. For each level of chunk you want to go down, you can add another `c` to `[\"@c\"]`. So:\n",
    "\n",
    "- Top-level Document\n",
    "  - `[\"@c\"]` - chunks\n",
    "    - `[\"@cc\"]` - chunks of chunks"
   ]
  },
  {
   "cell_type": "code",
   "execution_count": 22,
   "metadata": {
    "colab": {
     "base_uri": "https://localhost:8080/",
     "height": 324
    },
    "id": "tJ8dHdaKJNch",
    "outputId": "dfbebf91-ce58-4855-d0d4-a6a98278eabf"
   },
   "outputs": [
    {
     "data": {
      "text/html": [
       "<pre style=\"white-space:pre;overflow-x:auto;line-height:normal;font-family:Menlo,'DejaVu Sans Mono',consolas,'Courier New',monospace\">╭────────────────────────── Documents Summary ──────────────────────────╮\n",
       "│                                                                       │\n",
       "│   Length                 <span style=\"color: #008080; text-decoration-color: #008080; font-weight: bold\">186</span>                                          │\n",
       "│   Homogenous Documents   <span style=\"color: #00ff00; text-decoration-color: #00ff00; font-style: italic\">True</span>                                         │\n",
       "│   Common Attributes      <span style=\"font-weight: bold\">(</span><span style=\"color: #008000; text-decoration-color: #008000\">'id'</span>, <span style=\"color: #008000; text-decoration-color: #008000\">'parent_id'</span>, <span style=\"color: #008000; text-decoration-color: #008000\">'granularity'</span>, <span style=\"color: #008000; text-decoration-color: #008000\">'text'</span><span style=\"font-weight: bold\">)</span>   │\n",
       "│   Multimodal dataclass   <span style=\"color: #ff0000; text-decoration-color: #ff0000; font-style: italic\">False</span>                                        │\n",
       "│                                                                       │\n",
       "╰───────────────────────────────────────────────────────────────────────╯\n",
       "╭────────────────────── Attributes Summary ──────────────────────╮\n",
       "│                                                                │\n",
       "│  <span style=\"font-weight: bold\"> Attribute   </span> <span style=\"font-weight: bold\"> Data type </span> <span style=\"font-weight: bold\"> #Unique values </span> <span style=\"font-weight: bold\"> Has empty value </span>  │\n",
       "│  ────────────────────────────────────────────────────────────  │\n",
       "│   granularity   <span style=\"font-weight: bold\">(</span><span style=\"color: #008000; text-decoration-color: #008000\">'int'</span>,<span style=\"font-weight: bold\">)</span>    <span style=\"color: #008080; text-decoration-color: #008080; font-weight: bold\">1</span>                <span style=\"color: #ff0000; text-decoration-color: #ff0000; font-style: italic\">False</span>             │\n",
       "│   id            <span style=\"font-weight: bold\">(</span><span style=\"color: #008000; text-decoration-color: #008000\">'str'</span>,<span style=\"font-weight: bold\">)</span>    <span style=\"color: #008080; text-decoration-color: #008080; font-weight: bold\">186</span>              <span style=\"color: #ff0000; text-decoration-color: #ff0000; font-style: italic\">False</span>             │\n",
       "│   parent_id     <span style=\"font-weight: bold\">(</span><span style=\"color: #008000; text-decoration-color: #008000\">'str'</span>,<span style=\"font-weight: bold\">)</span>    <span style=\"color: #008080; text-decoration-color: #008080; font-weight: bold\">10</span>               <span style=\"color: #ff0000; text-decoration-color: #ff0000; font-style: italic\">False</span>             │\n",
       "│   text          <span style=\"font-weight: bold\">(</span><span style=\"color: #008000; text-decoration-color: #008000\">'str'</span>,<span style=\"font-weight: bold\">)</span>    <span style=\"color: #008080; text-decoration-color: #008080; font-weight: bold\">93</span>               <span style=\"color: #ff0000; text-decoration-color: #ff0000; font-style: italic\">False</span>             │\n",
       "│                                                                │\n",
       "╰────────────────────────────────────────────────────────────────╯\n",
       "</pre>\n"
      ],
      "text/plain": [
       "╭────────────────────────── Documents Summary ──────────────────────────╮\n",
       "│                                                                       │\n",
       "│   Length                 \u001b[1;36m186\u001b[0m                                          │\n",
       "│   Homogenous Documents   \u001b[3;92mTrue\u001b[0m                                         │\n",
       "│   Common Attributes      \u001b[1m(\u001b[0m\u001b[32m'id'\u001b[0m, \u001b[32m'parent_id'\u001b[0m, \u001b[32m'granularity'\u001b[0m, \u001b[32m'text'\u001b[0m\u001b[1m)\u001b[0m   │\n",
       "│   Multimodal dataclass   \u001b[3;91mFalse\u001b[0m                                        │\n",
       "│                                                                       │\n",
       "╰───────────────────────────────────────────────────────────────────────╯\n",
       "╭────────────────────── Attributes Summary ──────────────────────╮\n",
       "│                                                                │\n",
       "│  \u001b[1m \u001b[0m\u001b[1mAttribute  \u001b[0m\u001b[1m \u001b[0m \u001b[1m \u001b[0m\u001b[1mData type\u001b[0m\u001b[1m \u001b[0m \u001b[1m \u001b[0m\u001b[1m#Unique values\u001b[0m\u001b[1m \u001b[0m \u001b[1m \u001b[0m\u001b[1mHas empty value\u001b[0m\u001b[1m \u001b[0m  │\n",
       "│  ────────────────────────────────────────────────────────────  │\n",
       "│   granularity   \u001b[1m(\u001b[0m\u001b[32m'int'\u001b[0m,\u001b[1m)\u001b[0m    \u001b[1;36m1\u001b[0m                \u001b[3;91mFalse\u001b[0m             │\n",
       "│   id            \u001b[1m(\u001b[0m\u001b[32m'str'\u001b[0m,\u001b[1m)\u001b[0m    \u001b[1;36m186\u001b[0m              \u001b[3;91mFalse\u001b[0m             │\n",
       "│   parent_id     \u001b[1m(\u001b[0m\u001b[32m'str'\u001b[0m,\u001b[1m)\u001b[0m    \u001b[1;36m10\u001b[0m               \u001b[3;91mFalse\u001b[0m             │\n",
       "│   text          \u001b[1m(\u001b[0m\u001b[32m'str'\u001b[0m,\u001b[1m)\u001b[0m    \u001b[1;36m93\u001b[0m               \u001b[3;91mFalse\u001b[0m             │\n",
       "│                                                                │\n",
       "╰────────────────────────────────────────────────────────────────╯\n"
      ]
     },
     "metadata": {},
     "output_type": "display_data"
    }
   ],
   "source": [
    "docs[\"@cc\"]"
   ]
  },
  {
   "cell_type": "code",
   "execution_count": 23,
   "metadata": {
    "colab": {
     "base_uri": "https://localhost:8080/"
    },
    "id": "B9z1f8IVJB-T",
    "outputId": "6d167667-4cfc-47c2-9b71-fad068848e10"
   },
   "outputs": [
    {
     "data": {
      "text/plain": [
       "['The tiger (Panthera tigris) is the largest living cat species and a member of the genus Panthera.',\n",
       " 'It is most recognisable for its dark vertical stripes on orange fur with a white underside.',\n",
       " 'An apex predator, it primarily preys on ungulates such as deer and wild boar.',\n",
       " 'It is territorial and generally a solitary but social predator, requiring large contiguous areas of habitat, which support its requirements for prey and rearing of its offspring.',\n",
       " \"Tiger cubs stay with their mother for about two years, then become independent and leave their mother's home range to establish their own.\",\n",
       " 'The tiger was first scientifically described in 1758 and once ranged widely from the Eastern Anatolia Region in the west to the Amur River basin in the east, and in the south from the foothills of the Himalayas to Bali in the Sunda Islands.',\n",
       " 'Since the early 20th century, tiger populations have lost at least 93% of their historic range and have been extirpated from Western and Central Asia, the islands of Java and Bali, and in large areas of Southeast and South Asia and China.',\n",
       " \"Today, the tiger's range is fragmented, stretching from Siberian temperate forests to subtropical and tropical forests on the Indian subcontinent, Indochina and Sumatra.\",\n",
       " 'The tiger is listed as Endangered on the IUCN Red List.',\n",
       " 'As of 2015, the global wild tiger population was estimated to number between 3,062 and 3,948 mature individuals, with most of the populations living in small isolated pockets.',\n",
       " 'India currently hosts the largest tiger population.',\n",
       " 'Major reasons for population decline are habitat destruction, habitat fragmentation and poaching.',\n",
       " 'Tigers are also victims of human–wildlife conflict, particularly in range countries with a high human population density.',\n",
       " \"The tiger is among the most recognisable and popular of the world's charismatic megafauna.\",\n",
       " 'It featured prominently in the ancient mythology and folklore of cultures throughout its historic range, and continues to be depicted in modern films and literature, appearing on many flags, coats of arms and as mascots for sporting teams.',\n",
       " 'The tiger is the national animal of India, Bangladesh, Malaysia and South Korea.',\n",
       " 'Etymology The Middle English tigre and Old English tigras derive from Old French tigre, from Latin tigris.',\n",
       " \"This was a borrowing of Classical Greek τίγρις 'tigris', a foreign borrowing of unknown origin meaning 'tiger' and the river Tigris.[5] The origin may have been the Persian word tigra meaning 'pointed or sharp', and the Avestan word tigrhi 'arrow', perhaps referring to the speed of the tiger's leap, although these words are not known to have any meanings associated with tigers.[6] The generic name Panthera is derived from the Latin word panthera, and the Ancient Greek word πάνθηρ 'panther'.[7] Taxonomy In 1758, Carl Linnaeus described the tiger in his work Systema Naturae and gave it the scientific name Felis tigris.[2] In 1929, the British taxonomist Reginald Innes Pocock subordinated the species under the genus Panthera using the scientific name Panthera tigris. [\",\n",
       " 'Subspecies Phylogenetic relationship of tiger populations based on Driscoll et al. (',\n",
       " \"2009).[10] Following Linnaeus's first descriptions of the species, several tiger specimens were described and proposed as subspecies.[11] The validity of several tiger subspecies was questioned in 1999.\",\n",
       " 'Most putative subspecies described in the 19th and 20th centuries were distinguished on basis of fur length and colouration, striping patterns and body size, hence characteristics that vary widely within populations.',\n",
       " 'Morphologically, tigers from different regions vary little, and gene flow between populations in those regions is considered to have been possible during the Pleistocene.',\n",
       " 'Therefore, it was proposed to recognize only two tiger subspecies as valid, namely P. t. tigris in mainland Asia, and P. t. sondaica in the Greater Sunda Islands.[12] Results of craniological analysis of 111 tiger skulls from Southeast Asian range countries indicate that Sumatran tiger skulls differ from Indochinese and Javan tiger skulls, whereas Bali tiger skulls are similar in size to Javan tiger skulls.',\n",
       " 'The authors proposed to classify the Sumatran and Javan tigers as distinct species, P. sumatrae and P. sondaica, with the Bali tiger as subspecies P. sondaica balica.[13] In 2015, morphological, ecological, and molecular traits of all putative tiger subspecies were analysed in a combined approach.',\n",
       " 'Results support distinction of the two evolutionary groups continental and Sunda tigers.',\n",
       " 'The authors proposed recognition of only two subspecies, namely P. t. tigris comprising the Bengal, Malayan, Indochinese, South Chinese, Siberian and Caspian tiger populations, and P. t. sondaica comprising the Javan, Bali and Sumatran tiger populations.',\n",
       " 'The authors also noted that this reclassification will affect tiger conservation management.',\n",
       " 'The nominate subspecies P. t. tigris constitutes two clades:[14] • a northern clade composed of the Siberian and Caspian tiger populations • a southern clade composed of all other mainland populations.',\n",
       " 'One conservation specialist welcomed this proposal as it would make captive breeding programmes and future rewilding of zoo-born tigers easier.',\n",
       " 'One geneticist was sceptical of this study and maintained that the currently recognised nine subspecies can be distinguished genetically.[15] In 2017, the Cat Classification Task Force of the IUCN Cat Specialist Group revised felid taxonomy and recognized the tiger populations in continental Asia as P. t. tigris, and those in the Sunda Islands as P. t. sondaica.[16] This two-subspecies view has been largely rejected by researchers.',\n",
       " 'Results of a 2018 whole-genome sequencing of 32 specimens support six monophyletic tiger clades corresponding with the living subspecies and indicate that the most recent common ancestor lived about 110,000 years ago. [',\n",
       " '17] The following tables are based on the classification of the species Panthera tigris provided in Mammal Species of the World.[11] It also reflects the classification used by the Cat Classification Task Force in 2017: Evolution',\n",
       " \"Restoration of a Panthera zdanskyi skull, an extinct tiger relative whose fossil remains were found in northwest China The tiger's closest living relatives were previously thought to be the Panthera species lion, leopard and jaguar.\",\n",
       " 'Results of genetic analysis indicate that about 2.88 million years ago, the tiger and the snow leopard lineages diverged from the other Panthera species, and that both may be more closely related to each other than to the lion, leopard and jaguar. [',\n",
       " '32] [33] The geographic origin of the Panthera is most likely northern Central Asia.',\n",
       " 'The tiger–snow leopard lineage dispersed in Southeast Asia during the Miocene.[34] Panthera zdanskyi is considered to be a sister taxon of the modern tiger.',\n",
       " 'It lived at the beginning of the Pleistocene about two million years ago, its fossil remains were excavated in Gansu of northwestern China.',\n",
       " 'It was smaller and more \"primitive\", but functionally and ecologically similar to the modern tiger.',\n",
       " 'It is disputed as to whether it had the striping pattern.',\n",
       " 'Northwestern China is thought to be the origin of the tiger lineage.',\n",
       " 'Tigers grew in size, possibly in response to adaptive radiations of prey species like deer and bovids, which may have occurred in Southeast Asia during the Early Pleistocene. [',\n",
       " '35] Panthera tigris trinilensis lived about 1.2 million years ago and is known from fossils excavated near Trinil in Java.[36] The Wanhsien, Ngandong, Trinil, and Japanese tigers became extinct in prehistoric times.[37] Tigers reached India and northern Asia in the late Pleistocene, reaching eastern Beringia, Japan, and Sakhalin.',\n",
       " 'Some fossil skulls are morphologically distinct from lion skulls, which could indicate tiger presence in Alaska during the last glacial period, about 100,000 years ago.[38] In the Ille Cave on the island of Palawan, two articulated phalanx bones were found amidst an assemblage of other animal bones and stone tools.',\n",
       " 'They were smaller than mainland tiger fossils, possibly due to insular dwarfism.[39] It has been speculated that the tiger parts were either imported from elsewhere, or that the tiger colonised Palawan from Borneo before the Holocene. [',\n",
       " '40] [41] Fossil remains of tigers were also excavated in Sri Lanka, China, Japan and Sarawak dating to the Late Pliocene, Pleistocene and Early Holocene. [',\n",
       " '38] [42] The Bornean tiger was apparently present in Borneo between the Late Pleistocene and the Holocene, but whether it went extinct in prehistoric or recent times has not been resolved. [',\n",
       " '42] [43] Results of a phylogeographic study indicate that all living tigers had a common ancestor 108,000 to 72,000 years ago.[25] The potential tiger range during the late Pleistocene and Holocene was predicted applying ecological niche modelling based on more than 500 tiger locality records combined with bioclimatic data.',\n",
       " 'The resulting model shows a contiguous tiger range at the Last Glacial Maximum, indicating gene flow between tiger populations in mainland Asia.',\n",
       " 'The Caspian tiger population was likely connected to the Bengal tiger population through corridors below elevations of 4,000 m (13,000 ft) in the Hindu Kush.',\n",
       " \"The tiger populations on the Sunda Islands and mainland Asia were possibly separated during interglacial periods.[44] The tiger's full genome sequence was published in 2013.\",\n",
       " 'It was found to have similar repeat composition to other cat genomes and an appreciably conserved synteny.[45]',\n",
       " 'The tiger (Panthera tigris) is the largest living cat species and a member of the genus Panthera.',\n",
       " 'It is most recognisable for its dark vertical stripes on orange fur with a white underside.',\n",
       " 'An apex predator, it primarily preys on ungulates such as deer and wild boar.',\n",
       " 'It is territorial and generally a solitary but social predator, requiring large contiguous areas of habitat, which support its requirements for prey and rearing of its offspring.',\n",
       " \"Tiger cubs stay with their mother for about two years, then become independent and leave their mother's home range to establish their own.\",\n",
       " 'The tiger was first scientifically described in 1758 and once ranged widely from the Eastern Anatolia Region in the west to the Amur River basin in the east, and in the south from the foothills of the Himalayas to Bali in the Sunda Islands.',\n",
       " 'Since the early 20th century, tiger populations have lost at least 93% of their historic range and have been extirpated from Western and Central Asia, the islands of Java and Bali, and in large areas of Southeast and South Asia and China.',\n",
       " \"Today, the tiger's range is fragmented, stretching from Siberian temperate forests to subtropical and tropical forests on the Indian subcontinent, Indochina and Sumatra.\",\n",
       " 'The tiger is listed as Endangered on the IUCN Red List.',\n",
       " 'As of 2015, the global wild tiger population was estimated to number between 3,062 and 3,948 mature individuals, with most of the populations living in small isolated pockets.',\n",
       " 'India currently hosts the largest tiger population.',\n",
       " 'Major reasons for population decline are habitat destruction, habitat fragmentation and poaching.',\n",
       " 'Tigers are also victims of human–wildlife conflict, particularly in range countries with a high human population density.',\n",
       " \"The tiger is among the most recognisable and popular of the world's charismatic megafauna.\",\n",
       " 'It featured prominently in the ancient mythology and folklore of cultures throughout its historic range, and continues to be depicted in modern films and literature, appearing on many flags, coats of arms and as mascots for sporting teams.',\n",
       " 'The tiger is the national animal of India, Bangladesh, Malaysia and South Korea.',\n",
       " 'Etymology The Middle English tigre and Old English tigras derive from Old French tigre, from Latin tigris.',\n",
       " \"This was a borrowing of Classical Greek τίγρις 'tigris', a foreign borrowing of unknown origin meaning 'tiger' and the river Tigris.[5] The origin may have been the Persian word tigra meaning 'pointed or sharp', and the Avestan word tigrhi 'arrow', perhaps referring to the speed of the tiger's leap, although these words are not known to have any meanings associated with tigers.[6] The generic name Panthera is derived from the Latin word panthera, and the Ancient Greek word πάνθηρ 'panther'.[7] Taxonomy In 1758, Carl Linnaeus described the tiger in his work Systema Naturae and gave it the scientific name Felis tigris.[2] In 1929, the British taxonomist Reginald Innes Pocock subordinated the species under the genus Panthera using the scientific name Panthera tigris. [\",\n",
       " 'Subspecies Phylogenetic relationship of tiger populations based on Driscoll et al. (',\n",
       " \"2009).[10] Following Linnaeus's first descriptions of the species, several tiger specimens were described and proposed as subspecies.[11] The validity of several tiger subspecies was questioned in 1999.\",\n",
       " 'Most putative subspecies described in the 19th and 20th centuries were distinguished on basis of fur length and colouration, striping patterns and body size, hence characteristics that vary widely within populations.',\n",
       " 'Morphologically, tigers from different regions vary little, and gene flow between populations in those regions is considered to have been possible during the Pleistocene.',\n",
       " 'Therefore, it was proposed to recognize only two tiger subspecies as valid, namely P. t. tigris in mainland Asia, and P. t. sondaica in the Greater Sunda Islands.[12] Results of craniological analysis of 111 tiger skulls from Southeast Asian range countries indicate that Sumatran tiger skulls differ from Indochinese and Javan tiger skulls, whereas Bali tiger skulls are similar in size to Javan tiger skulls.',\n",
       " 'The authors proposed to classify the Sumatran and Javan tigers as distinct species, P. sumatrae and P. sondaica, with the Bali tiger as subspecies P. sondaica balica.[13] In 2015, morphological, ecological, and molecular traits of all putative tiger subspecies were analysed in a combined approach.',\n",
       " 'Results support distinction of the two evolutionary groups continental and Sunda tigers.',\n",
       " 'The authors proposed recognition of only two subspecies, namely P. t. tigris comprising the Bengal, Malayan, Indochinese, South Chinese, Siberian and Caspian tiger populations, and P. t. sondaica comprising the Javan, Bali and Sumatran tiger populations.',\n",
       " 'The authors also noted that this reclassification will affect tiger conservation management.',\n",
       " 'The nominate subspecies P. t. tigris constitutes two clades:[14] • a northern clade composed of the Siberian and Caspian tiger populations • a southern clade composed of all other mainland populations.',\n",
       " 'One conservation specialist welcomed this proposal as it would make captive breeding programmes and future rewilding of zoo-born tigers easier.',\n",
       " 'One geneticist was sceptical of this study and maintained that the currently recognised nine subspecies can be distinguished genetically.[15] In 2017, the Cat Classification Task Force of the IUCN Cat Specialist Group revised felid taxonomy and recognized the tiger populations in continental Asia as P. t. tigris, and those in the Sunda Islands as P. t. sondaica.[16] This two-subspecies view has been largely rejected by researchers.',\n",
       " 'Results of a 2018 whole-genome sequencing of 32 specimens support six monophyletic tiger clades corresponding with the living subspecies and indicate that the most recent common ancestor lived about 110,000 years ago. [',\n",
       " '17] The following tables are based on the classification of the species Panthera tigris provided in Mammal Species of the World.[11] It also reflects the classification used by the Cat Classification Task Force in 2017: Evolution',\n",
       " \"Restoration of a Panthera zdanskyi skull, an extinct tiger relative whose fossil remains were found in northwest China The tiger's closest living relatives were previously thought to be the Panthera species lion, leopard and jaguar.\",\n",
       " 'Results of genetic analysis indicate that about 2.88 million years ago, the tiger and the snow leopard lineages diverged from the other Panthera species, and that both may be more closely related to each other than to the lion, leopard and jaguar. [',\n",
       " '32] [33] The geographic origin of the Panthera is most likely northern Central Asia.',\n",
       " 'The tiger–snow leopard lineage dispersed in Southeast Asia during the Miocene.[34] Panthera zdanskyi is considered to be a sister taxon of the modern tiger.',\n",
       " 'It lived at the beginning of the Pleistocene about two million years ago, its fossil remains were excavated in Gansu of northwestern China.',\n",
       " 'It was smaller and more \"primitive\", but functionally and ecologically similar to the modern tiger.',\n",
       " 'It is disputed as to whether it had the striping pattern.',\n",
       " 'Northwestern China is thought to be the origin of the tiger lineage.',\n",
       " 'Tigers grew in size, possibly in response to adaptive radiations of prey species like deer and bovids, which may have occurred in Southeast Asia during the Early Pleistocene. [',\n",
       " '35] Panthera tigris trinilensis lived about 1.2 million years ago and is known from fossils excavated near Trinil in Java.[36] The Wanhsien, Ngandong, Trinil, and Japanese tigers became extinct in prehistoric times.[37] Tigers reached India and northern Asia in the late Pleistocene, reaching eastern Beringia, Japan, and Sakhalin.',\n",
       " 'Some fossil skulls are morphologically distinct from lion skulls, which could indicate tiger presence in Alaska during the last glacial period, about 100,000 years ago.[38] In the Ille Cave on the island of Palawan, two articulated phalanx bones were found amidst an assemblage of other animal bones and stone tools.',\n",
       " 'They were smaller than mainland tiger fossils, possibly due to insular dwarfism.[39] It has been speculated that the tiger parts were either imported from elsewhere, or that the tiger colonised Palawan from Borneo before the Holocene. [',\n",
       " '40] [41] Fossil remains of tigers were also excavated in Sri Lanka, China, Japan and Sarawak dating to the Late Pliocene, Pleistocene and Early Holocene. [',\n",
       " '38] [42] The Bornean tiger was apparently present in Borneo between the Late Pleistocene and the Holocene, but whether it went extinct in prehistoric or recent times has not been resolved. [',\n",
       " '42] [43] Results of a phylogeographic study indicate that all living tigers had a common ancestor 108,000 to 72,000 years ago.[25] The potential tiger range during the late Pleistocene and Holocene was predicted applying ecological niche modelling based on more than 500 tiger locality records combined with bioclimatic data.',\n",
       " 'The resulting model shows a contiguous tiger range at the Last Glacial Maximum, indicating gene flow between tiger populations in mainland Asia.',\n",
       " 'The Caspian tiger population was likely connected to the Bengal tiger population through corridors below elevations of 4,000 m (13,000 ft) in the Hindu Kush.',\n",
       " \"The tiger populations on the Sunda Islands and mainland Asia were possibly separated during interglacial periods.[44] The tiger's full genome sequence was published in 2013.\",\n",
       " 'It was found to have similar repeat composition to other cat genomes and an appreciably conserved synteny.[45]',\n",
       " 'Rabbits, also known as bunnies or bunny rabbits, are small mammals in the family Leporidae (which also contains the hares) of the order Lagomorpha (which also contains the pikas).',\n",
       " \"Oryctolagus cuniculus includes the European rabbit species and its descendants, the world's 305 breeds [1] of domestic rabbit.\",\n",
       " 'Sylvilagus includes 13 wild rabbit species, among them the seven types of cottontail.',\n",
       " 'The European rabbit, which has been introduced on every continent except Antarctica, is familiar throughout the world as a wild prey animal and as a domesticated form of livestock and pet.',\n",
       " 'With its widespread effect on ecologies and cultures, the rabbit is, in many areas of the world, a part of daily life —as food, clothing, a companion, and a source of artistic inspiration.',\n",
       " 'Although once considered rodents, lagomorphs like rabbits have been discovered to have diverged separately and earlier than their rodent cousins and have a number of traits rodents lack, like two extra incisors.',\n",
       " 'Differences from hares The term \"rabbit\" is typically used for all Leporidae species excluding the genus Lepus.',\n",
       " 'Members of that genus are instead known as hares or jackrabbits.',\n",
       " 'Lepus species are typically precocial, born relatively mature and mobile with hair and good vision, while other rabbit species are altricial, born hairless and blind, and requiring closer care.',\n",
       " 'Hares live a relatively solitary life in a simple nest above the ground, while most other rabbits live in social groups in burrows or warrens.',\n",
       " 'Hares are generally larger than other rabbits, with ears that are more elongated, and with hind legs that are larger and longer.',\n",
       " 'Descendants of the European rabbit are commonly bred as livestock and kept as pets, whereas no hares have been domesticated - the breed called the Belgian hare is a domestic rabbit which has been selectively bred to resemble a hare.',\n",
       " 'Domestication Rabbits have long been domesticated.',\n",
       " 'Beginning in the Middle Ages, the European rabbit has been widely kept as livestock, starting in ancient Rome.',\n",
       " 'Selective breeding has generated a wide variety of rabbit breeds, of which many (since the early 19th century) are also kept as pets.',\n",
       " 'Some strains of rabbit have been bred specifically as research subjects.',\n",
       " 'As livestock, rabbits are bred for their meat and fur.',\n",
       " 'The earliest breeds were important sources of meat, and so became larger than wild rabbits, but domestic rabbits in modern times range in size from dwarf to giant.',\n",
       " 'Rabbit fur, prized for its softness, can be found in a broad range of coat colors and patterns, as well as lengths.',\n",
       " 'The Angora rabbit breed, for example, was developed for its long, silky fur, which is often hand-spun into yarn.',\n",
       " 'Other domestic rabbit breeds have been developed primarily for the commercial fur trade, including the Rex, which has a short plush coat.',\n",
       " \"Evolution Because the rabbit's epiglottis is engaged over the soft palate except when swallowing, the rabbit is an obligate nasal breather.\",\n",
       " 'Rabbits have two sets of incisor teeth, one behind the other.',\n",
       " 'This way they can be distinguished from rodents, with which they are often confused.[7] Carl Linnaeus originally grouped rabbits and rodents under the class Glires; later, they were separated as the scientific consensus is that many of their similarities were a result of convergent evolution.',\n",
       " \"Recent DNA analysis and the discovery of a common ancestor has supported the view that they share a common lineage, so rabbits and rodents are now often grouped together in the superorder Glires.[8] Morphology Since speed and agility are a rabbit's main defenses against predators (including the swift fox), rabbits have large hind leg bones and well developed musculature.\",\n",
       " 'Though plantigrade at rest, rabbits are on their toes while running, assuming a more digitigrade posture.',\n",
       " 'Rabbits use their strong claws for digging and (along with their teeth) for defense.[9] Each front foot has four toes plus a dewclaw.',\n",
       " 'Each hind foot has four toes (but no dewclaw).[10] Most wild rabbits (especially compared to hares) have relatively full, egg-shaped bodies.',\n",
       " 'The soft coat of the wild rabbit is agouti in coloration (or, rarely, melanistic), which aids in camouflage.',\n",
       " 'The tail of the rabbit (with the exception of the cottontail species) is dark on top and white below.',\n",
       " \"Cottontails have white on the top of their tails.[11] As a result of the position of the eyes in its skull, the rabbit has a field of vision that encompasses nearly 360 degrees, with just a small blind spot at the bridge of the nose.[12] Hind limb elements The anatomy of rabbits' hind limbs are structurally similar to that of other land mammals and contribute to their specialized form of locomotion.\",\n",
       " 'The bones of the hind limbs consist of long bones (the femur, tibia, fibula, and phalanges) as well as short bones (the tarsals).',\n",
       " 'These bones are created through endochondral ossification during development.',\n",
       " 'Like most land mammals, the round head of the femur articulates with the acetabulum of the os coxae.',\n",
       " 'The femur articulates with the tibia, but not the fibula, which is fused to the tibia.',\n",
       " 'The tibia and fibula articulate with the tarsals of the pes, commonly called the foot.',\n",
       " 'The hind limbs of the rabbit are longer than the front limbs.',\n",
       " 'This allows them to produce their hopping form of locomotion.',\n",
       " 'Longer hind limbs are more capable of producing faster speeds.',\n",
       " 'Hares, which have longer legs than cottontail rabbits, are able to move considerably faster.[13] Rabbits stay just on their toes when moving; this is called Digitigrade locomotion.',\n",
       " 'The hind feet have four long toes that allow for this and are webbed to prevent them from spreading when hopping.[14] Rabbits do not have paw pads on their feet like most other animals that use digitigrade locomotion.',\n",
       " 'Instead, they have coarse compressed hair that offers protection.[15]',\n",
       " 'Rabbits, also known as bunnies or bunny rabbits, are small mammals in the family Leporidae (which also contains the hares) of the order Lagomorpha (which also contains the pikas).',\n",
       " \"Oryctolagus cuniculus includes the European rabbit species and its descendants, the world's 305 breeds [1] of domestic rabbit.\",\n",
       " 'Sylvilagus includes 13 wild rabbit species, among them the seven types of cottontail.',\n",
       " 'The European rabbit, which has been introduced on every continent except Antarctica, is familiar throughout the world as a wild prey animal and as a domesticated form of livestock and pet.',\n",
       " 'With its widespread effect on ecologies and cultures, the rabbit is, in many areas of the world, a part of daily life —as food, clothing, a companion, and a source of artistic inspiration.',\n",
       " 'Although once considered rodents, lagomorphs like rabbits have been discovered to have diverged separately and earlier than their rodent cousins and have a number of traits rodents lack, like two extra incisors.',\n",
       " 'Differences from hares The term \"rabbit\" is typically used for all Leporidae species excluding the genus Lepus.',\n",
       " 'Members of that genus are instead known as hares or jackrabbits.',\n",
       " 'Lepus species are typically precocial, born relatively mature and mobile with hair and good vision, while other rabbit species are altricial, born hairless and blind, and requiring closer care.',\n",
       " 'Hares live a relatively solitary life in a simple nest above the ground, while most other rabbits live in social groups in burrows or warrens.',\n",
       " 'Hares are generally larger than other rabbits, with ears that are more elongated, and with hind legs that are larger and longer.',\n",
       " 'Descendants of the European rabbit are commonly bred as livestock and kept as pets, whereas no hares have been domesticated - the breed called the Belgian hare is a domestic rabbit which has been selectively bred to resemble a hare.',\n",
       " 'Domestication Rabbits have long been domesticated.',\n",
       " 'Beginning in the Middle Ages, the European rabbit has been widely kept as livestock, starting in ancient Rome.',\n",
       " 'Selective breeding has generated a wide variety of rabbit breeds, of which many (since the early 19th century) are also kept as pets.',\n",
       " 'Some strains of rabbit have been bred specifically as research subjects.',\n",
       " 'As livestock, rabbits are bred for their meat and fur.',\n",
       " 'The earliest breeds were important sources of meat, and so became larger than wild rabbits, but domestic rabbits in modern times range in size from dwarf to giant.',\n",
       " 'Rabbit fur, prized for its softness, can be found in a broad range of coat colors and patterns, as well as lengths.',\n",
       " 'The Angora rabbit breed, for example, was developed for its long, silky fur, which is often hand-spun into yarn.',\n",
       " 'Other domestic rabbit breeds have been developed primarily for the commercial fur trade, including the Rex, which has a short plush coat.',\n",
       " \"Evolution Because the rabbit's epiglottis is engaged over the soft palate except when swallowing, the rabbit is an obligate nasal breather.\",\n",
       " 'Rabbits have two sets of incisor teeth, one behind the other.',\n",
       " 'This way they can be distinguished from rodents, with which they are often confused.[7] Carl Linnaeus originally grouped rabbits and rodents under the class Glires; later, they were separated as the scientific consensus is that many of their similarities were a result of convergent evolution.',\n",
       " \"Recent DNA analysis and the discovery of a common ancestor has supported the view that they share a common lineage, so rabbits and rodents are now often grouped together in the superorder Glires.[8] Morphology Since speed and agility are a rabbit's main defenses against predators (including the swift fox), rabbits have large hind leg bones and well developed musculature.\",\n",
       " 'Though plantigrade at rest, rabbits are on their toes while running, assuming a more digitigrade posture.',\n",
       " 'Rabbits use their strong claws for digging and (along with their teeth) for defense.[9] Each front foot has four toes plus a dewclaw.',\n",
       " 'Each hind foot has four toes (but no dewclaw).[10] Most wild rabbits (especially compared to hares) have relatively full, egg-shaped bodies.',\n",
       " 'The soft coat of the wild rabbit is agouti in coloration (or, rarely, melanistic), which aids in camouflage.',\n",
       " 'The tail of the rabbit (with the exception of the cottontail species) is dark on top and white below.',\n",
       " \"Cottontails have white on the top of their tails.[11] As a result of the position of the eyes in its skull, the rabbit has a field of vision that encompasses nearly 360 degrees, with just a small blind spot at the bridge of the nose.[12] Hind limb elements The anatomy of rabbits' hind limbs are structurally similar to that of other land mammals and contribute to their specialized form of locomotion.\",\n",
       " 'The bones of the hind limbs consist of long bones (the femur, tibia, fibula, and phalanges) as well as short bones (the tarsals).',\n",
       " 'These bones are created through endochondral ossification during development.',\n",
       " 'Like most land mammals, the round head of the femur articulates with the acetabulum of the os coxae.',\n",
       " 'The femur articulates with the tibia, but not the fibula, which is fused to the tibia.',\n",
       " 'The tibia and fibula articulate with the tarsals of the pes, commonly called the foot.',\n",
       " 'The hind limbs of the rabbit are longer than the front limbs.',\n",
       " 'This allows them to produce their hopping form of locomotion.',\n",
       " 'Longer hind limbs are more capable of producing faster speeds.',\n",
       " 'Hares, which have longer legs than cottontail rabbits, are able to move considerably faster.[13] Rabbits stay just on their toes when moving; this is called Digitigrade locomotion.',\n",
       " 'The hind feet have four long toes that allow for this and are webbed to prevent them from spreading when hopping.[14] Rabbits do not have paw pads on their feet like most other animals that use digitigrade locomotion.',\n",
       " 'Instead, they have coarse compressed hair that offers protection.[15]']"
      ]
     },
     "execution_count": 23,
     "metadata": {},
     "output_type": "execute_result"
    }
   ],
   "source": [
    "docs[\"@cc\"].texts"
   ]
  },
  {
   "cell_type": "markdown",
   "metadata": {
    "id": "J5F_waOoQS-7"
   },
   "source": [
    "### Encode the text\n",
    "\n",
    "To be able to do nearest-neighbor search, we need to be able to compare sentences' meanings with each other. This is where our encoder comes in. It generates [vector embeddings](https://docarray.jina.ai/fundamentals/document/embedding?utm_source=pdf-notebook) based on the semantic meaning of each sentence.\n",
    "\n",
    "As you can see, we're specifying the traversal path to work on chunks-of-chunks (i.e. sentences) rather than higher-level chunks (i.e. big blocks of text)."
   ]
  },
  {
   "cell_type": "code",
   "execution_count": 24,
   "metadata": {
    "id": "fP-XywEDDKRo"
   },
   "outputs": [],
   "source": [
    "flow = flow.add(\n",
    "    uses=\"jinahub://TransformerTorchEncoder\",\n",
    "    uses_with={\"traversal_paths\": \"@cc\"},\n",
    "    install_requirements=True,\n",
    "    name=\"encoder\",\n",
    "    )"
   ]
  },
  {
   "cell_type": "code",
   "execution_count": 25,
   "metadata": {
    "colab": {
     "base_uri": "https://localhost:8080/",
     "height": 179
    },
    "id": "y2kV7I6tDR5L",
    "outputId": "f981b01b-b250-4695-9392-be15405e7fa0"
   },
   "outputs": [
    {
     "data": {
      "text/html": [
       "<pre style=\"white-space:pre;overflow-x:auto;line-height:normal;font-family:Menlo,'DejaVu Sans Mono',consolas,'Courier New',monospace\"><a href=\"https://mermaid.ink/svg/ICAgICAgICAgICAgJSV7aW5pdDp7ICAidGhlbWUiOiAiYmFzZSIsICAidGhlbWVWYXJpYWJsZXMiOiB7ICAgICAgInByaW1hcnlDb2xvciI6ICIjZmZmIiwgICAgICAicHJpbWFyeUJvcmRlckNvbG9yIjogIiNmZmYiLCAgICAgICJtYWluQmtnIjogIiMzMkM4Q0QiLCAgICAgICJjbHVzdGVyQmtnIjogIiNFRUVERTc4QyIsICAgICAgInNlY29uZGFyeUJvcmRlckNvbG9yIjogIm5vbmUiLCAgICAgICJ0ZXJ0aWFyeUJvcmRlckNvbG9yIjogIm5vbmUiLCAgICAgICJsaW5lQ29sb3IiOiAiI2E2ZDhkYSIgICAgICB9fX0lJSAgICAgICAgICAgIApmbG93Y2hhcnQgTFI7CnN1YmdyYXBoIHNlZ21lbnRlcjsKCmRpcmVjdGlvbiBMUjsKCnNlZ21lbnRlci9yZXAtMFsiIi9yb290Ly5qaW5hL2h1Yi1wYWNrYWdlL3g5dzdsY3dnL2NvbmZpZy55bWwiIl06Ojpwb2Q7CmVuZDsKc3ViZ3JhcGggc2VudGVuY2l6ZXI7CgpkaXJlY3Rpb24gTFI7CgpzZW50ZW5jaXplci9yZXAtMFsiIi9yb290Ly5qaW5hL2h1Yi1wYWNrYWdlLzE5N2tqNGZ2L2NvbmZpZy55bWwiIl06Ojpwb2Q7CmVuZDsKc3ViZ3JhcGggZW5jb2RlcjsKCmRpcmVjdGlvbiBMUjsKCmVuY29kZXIvcmVwLTBbIiJqaW5haHViOi8vVHJhbnNmb3JtZXJUb3JjaEVuY29kZXIiIl06Ojpwb2Q7CmVuZDsKZ2F0ZXdheXN0YXJ0W2dhdGV3YXldOjo6R0FURVdBWSAtLT4gc2VnbWVudGVyOjo6REVQTE9ZTUVOVDsKc2VnbWVudGVyOjo6REVQTE9ZTUVOVCAtLT4gc2VudGVuY2l6ZXI6OjpERVBMT1lNRU5UOwpzZW50ZW5jaXplcjo6OkRFUExPWU1FTlQgLS0+IGVuY29kZXI6OjpERVBMT1lNRU5UOwplbmNvZGVyOjo6REVQTE9ZTUVOVCAtLT4gZ2F0ZXdheWVuZFtnYXRld2F5XTo6OkdBVEVXQVk7CmNsYXNzRGVmIElOU1BFQ1Qgc3Ryb2tlOiNGMjlDOUYKY2xhc3NEZWYgSk9JTl9JTlNQRUNUIHN0cm9rZTojRjI5QzlGCmNsYXNzRGVmIEdBVEVXQVkgZmlsbDpub25lLGNvbG9yOiMwMDAsc3Ryb2tlOm5vbmUKY2xhc3NEZWYgSU5TUEVDVF9BVVhfUEFTUyBzdHJva2UtZGFzaGFycmF5OiAyIDIKY2xhc3NEZWYgSEVBRFRBSUwgZmlsbDojMzJDOENEMUQKCmNsYXNzRGVmIEVYVEVSTkFMIGZpbGw6I2ZmZixzdHJva2U6IzMyQzhDRA==\" target=\"_blank\">Click here to see the visualization in browser</a>\n",
       "</pre>\n"
      ],
      "text/plain": [
       "\u001b]8;id=446927;https://mermaid.ink/svg/ICAgICAgICAgICAgJSV7aW5pdDp7ICAidGhlbWUiOiAiYmFzZSIsICAidGhlbWVWYXJpYWJsZXMiOiB7ICAgICAgInByaW1hcnlDb2xvciI6ICIjZmZmIiwgICAgICAicHJpbWFyeUJvcmRlckNvbG9yIjogIiNmZmYiLCAgICAgICJtYWluQmtnIjogIiMzMkM4Q0QiLCAgICAgICJjbHVzdGVyQmtnIjogIiNFRUVERTc4QyIsICAgICAgInNlY29uZGFyeUJvcmRlckNvbG9yIjogIm5vbmUiLCAgICAgICJ0ZXJ0aWFyeUJvcmRlckNvbG9yIjogIm5vbmUiLCAgICAgICJsaW5lQ29sb3IiOiAiI2E2ZDhkYSIgICAgICB9fX0lJSAgICAgICAgICAgIApmbG93Y2hhcnQgTFI7CnN1YmdyYXBoIHNlZ21lbnRlcjsKCmRpcmVjdGlvbiBMUjsKCnNlZ21lbnRlci9yZXAtMFsiIi9yb290Ly5qaW5hL2h1Yi1wYWNrYWdlL3g5dzdsY3dnL2NvbmZpZy55bWwiIl06Ojpwb2Q7CmVuZDsKc3ViZ3JhcGggc2VudGVuY2l6ZXI7CgpkaXJlY3Rpb24gTFI7CgpzZW50ZW5jaXplci9yZXAtMFsiIi9yb290Ly5qaW5hL2h1Yi1wYWNrYWdlLzE5N2tqNGZ2L2NvbmZpZy55bWwiIl06Ojpwb2Q7CmVuZDsKc3ViZ3JhcGggZW5jb2RlcjsKCmRpcmVjdGlvbiBMUjsKCmVuY29kZXIvcmVwLTBbIiJqaW5haHViOi8vVHJhbnNmb3JtZXJUb3JjaEVuY29kZXIiIl06Ojpwb2Q7CmVuZDsKZ2F0ZXdheXN0YXJ0W2dhdGV3YXldOjo6R0FURVdBWSAtLT4gc2VnbWVudGVyOjo6REVQTE9ZTUVOVDsKc2VnbWVudGVyOjo6REVQTE9ZTUVOVCAtLT4gc2VudGVuY2l6ZXI6OjpERVBMT1lNRU5UOwpzZW50ZW5jaXplcjo6OkRFUExPWU1FTlQgLS0+IGVuY29kZXI6OjpERVBMT1lNRU5UOwplbmNvZGVyOjo6REVQTE9ZTUVOVCAtLT4gZ2F0ZXdheWVuZFtnYXRld2F5XTo6OkdBVEVXQVk7CmNsYXNzRGVmIElOU1BFQ1Qgc3Ryb2tlOiNGMjlDOUYKY2xhc3NEZWYgSk9JTl9JTlNQRUNUIHN0cm9rZTojRjI5QzlGCmNsYXNzRGVmIEdBVEVXQVkgZmlsbDpub25lLGNvbG9yOiMwMDAsc3Ryb2tlOm5vbmUKY2xhc3NEZWYgSU5TUEVDVF9BVVhfUEFTUyBzdHJva2UtZGFzaGFycmF5OiAyIDIKY2xhc3NEZWYgSEVBRFRBSUwgZmlsbDojMzJDOENEMUQKCmNsYXNzRGVmIEVYVEVSTkFMIGZpbGw6I2ZmZixzdHJva2U6IzMyQzhDRA==\u001b\\Click here to see the visualization in browser\u001b]8;;\u001b\\\n"
      ]
     },
     "metadata": {},
     "output_type": "display_data"
    },
    {
     "data": {
      "text/html": [
       "<img src=\"https://mermaid.ink/svg/ICAgICAgICAgICAgJSV7aW5pdDp7ICAidGhlbWUiOiAiYmFzZSIsICAidGhlbWVWYXJpYWJsZXMiOiB7ICAgICAgInByaW1hcnlDb2xvciI6ICIjZmZmIiwgICAgICAicHJpbWFyeUJvcmRlckNvbG9yIjogIiNmZmYiLCAgICAgICJtYWluQmtnIjogIiMzMkM4Q0QiLCAgICAgICJjbHVzdGVyQmtnIjogIiNFRUVERTc4QyIsICAgICAgInNlY29uZGFyeUJvcmRlckNvbG9yIjogIm5vbmUiLCAgICAgICJ0ZXJ0aWFyeUJvcmRlckNvbG9yIjogIm5vbmUiLCAgICAgICJsaW5lQ29sb3IiOiAiI2E2ZDhkYSIgICAgICB9fX0lJSAgICAgICAgICAgIApmbG93Y2hhcnQgTFI7CnN1YmdyYXBoIHNlZ21lbnRlcjsKCmRpcmVjdGlvbiBMUjsKCnNlZ21lbnRlci9yZXAtMFsiIi9yb290Ly5qaW5hL2h1Yi1wYWNrYWdlL3g5dzdsY3dnL2NvbmZpZy55bWwiIl06Ojpwb2Q7CmVuZDsKc3ViZ3JhcGggc2VudGVuY2l6ZXI7CgpkaXJlY3Rpb24gTFI7CgpzZW50ZW5jaXplci9yZXAtMFsiIi9yb290Ly5qaW5hL2h1Yi1wYWNrYWdlLzE5N2tqNGZ2L2NvbmZpZy55bWwiIl06Ojpwb2Q7CmVuZDsKc3ViZ3JhcGggZW5jb2RlcjsKCmRpcmVjdGlvbiBMUjsKCmVuY29kZXIvcmVwLTBbIiJqaW5haHViOi8vVHJhbnNmb3JtZXJUb3JjaEVuY29kZXIiIl06Ojpwb2Q7CmVuZDsKZ2F0ZXdheXN0YXJ0W2dhdGV3YXldOjo6R0FURVdBWSAtLT4gc2VnbWVudGVyOjo6REVQTE9ZTUVOVDsKc2VnbWVudGVyOjo6REVQTE9ZTUVOVCAtLT4gc2VudGVuY2l6ZXI6OjpERVBMT1lNRU5UOwpzZW50ZW5jaXplcjo6OkRFUExPWU1FTlQgLS0+IGVuY29kZXI6OjpERVBMT1lNRU5UOwplbmNvZGVyOjo6REVQTE9ZTUVOVCAtLT4gZ2F0ZXdheWVuZFtnYXRld2F5XTo6OkdBVEVXQVk7CmNsYXNzRGVmIElOU1BFQ1Qgc3Ryb2tlOiNGMjlDOUYKY2xhc3NEZWYgSk9JTl9JTlNQRUNUIHN0cm9rZTojRjI5QzlGCmNsYXNzRGVmIEdBVEVXQVkgZmlsbDpub25lLGNvbG9yOiMwMDAsc3Ryb2tlOm5vbmUKY2xhc3NEZWYgSU5TUEVDVF9BVVhfUEFTUyBzdHJva2UtZGFzaGFycmF5OiAyIDIKY2xhc3NEZWYgSEVBRFRBSUwgZmlsbDojMzJDOENEMUQKCmNsYXNzRGVmIEVYVEVSTkFMIGZpbGw6I2ZmZixzdHJva2U6IzMyQzhDRA==\"/>"
      ],
      "text/plain": [
       "<IPython.core.display.Image object>"
      ]
     },
     "metadata": {},
     "output_type": "display_data"
    }
   ],
   "source": [
    "flow.plot()"
   ]
  },
  {
   "cell_type": "markdown",
   "metadata": {
    "id": "iQUBd1afdT0L"
   },
   "source": [
    "---\n",
    "**⚙️ Tinker time**\n",
    "\n",
    "In our example we're using [TransformerTorchEncoder](https://hub.jina.ai/executor/u9pqs8eb) with the default model (`sentence-transformers/all-mpnet-base-v2`). You can specify your own model as follows:\n",
    "\n",
    "```python\n",
    "flow = flow.add(\n",
    "    uses=\"jinahub://TransformerTorchEncoder\",\n",
    "    uses_with={\n",
    "      \"traversal_paths\": \"@cc\",\n",
    "      \"pretrained_model_name_or_path\": \"hfl/chinese-macbert-base\" # Chinese language model\n",
    "      },\n",
    "    install_requirements=True,\n",
    "    name=\"encoder\",\n",
    "    )\n",
    "```\n",
    "\n",
    "To go even further, you could swap out Transformers for another Executor, like [spaCy](https://hub.jina.ai/executor/u7h7cuh2):\n",
    "\n",
    "```python\n",
    "flow = flow.add(\n",
    "    uses=\"jinahub://SpacyTextEncoder\",\n",
    "    uses_with={\n",
    "      \"traversal_paths\": \"@cc\",\n",
    "      \"model_name\": \"en_core_web_md\"\n",
    "      },\n",
    "    install_requirements=True,\n",
    "    name=\"encoder\",\n",
    "    )\n",
    "```\n",
    "\n",
    "---"
   ]
  },
  {
   "cell_type": "code",
   "execution_count": null,
   "metadata": {
    "colab": {
     "base_uri": "https://localhost:8080/",
     "height": 163,
     "referenced_widgets": [
      "3eabef7c42df4712a69140d90a50c2cc",
      "36b7b6e563494fa28abe367a2d7ac1e1",
      "9f88b49db94d4b1e9176409a1721eaaf",
      "cc7e21e17c6541779eab4b21ce9d8de7",
      "acfcade7eec2495c80df600066f74f51",
      "249ecd8bfa8b48a2a82d6ba87a6cd261",
      "aa0af4386a124b1d810ef9e0f33361ff",
      "cdbe0511a3d8433f81e42000df9b891f"
     ]
    },
    "id": "YH-yT5ifMTR_",
    "outputId": "85002235-e490-4282-9863-f09299d5cfec"
   },
   "outputs": [
    {
     "data": {
      "application/vnd.jupyter.widget-view+json": {
       "model_id": "3eabef7c42df4712a69140d90a50c2cc",
       "version_major": 2,
       "version_minor": 0
      },
      "text/plain": [
       "Output()"
      ]
     },
     "metadata": {},
     "output_type": "display_data"
    },
    {
     "data": {
      "text/html": [
       "<pre style=\"white-space:pre;overflow-x:auto;line-height:normal;font-family:Menlo,'DejaVu Sans Mono',consolas,'Courier New',monospace\"></pre>\n"
      ],
      "text/plain": []
     },
     "metadata": {},
     "output_type": "display_data"
    },
    {
     "data": {
      "application/vnd.jupyter.widget-view+json": {
       "model_id": "9f88b49db94d4b1e9176409a1721eaaf",
       "version_major": 2,
       "version_minor": 0
      },
      "text/plain": [
       "Output()"
      ]
     },
     "metadata": {},
     "output_type": "display_data"
    },
    {
     "data": {
      "text/html": [
       "<pre style=\"white-space:pre;overflow-x:auto;line-height:normal;font-family:Menlo,'DejaVu Sans Mono',consolas,'Courier New',monospace\"></pre>\n"
      ],
      "text/plain": []
     },
     "metadata": {},
     "output_type": "display_data"
    },
    {
     "data": {
      "application/vnd.jupyter.widget-view+json": {
       "model_id": "acfcade7eec2495c80df600066f74f51",
       "version_major": 2,
       "version_minor": 0
      },
      "text/plain": [
       "Output()"
      ]
     },
     "metadata": {},
     "output_type": "display_data"
    },
    {
     "data": {
      "text/html": [
       "<pre style=\"white-space:pre;overflow-x:auto;line-height:normal;font-family:Menlo,'DejaVu Sans Mono',consolas,'Courier New',monospace\"><span style=\"color: #00ff00; text-decoration-color: #00ff00\">─────────────────────────────────────────── </span>🎉 Flow is ready to serve!<span style=\"color: #00ff00; text-decoration-color: #00ff00\"> ────────────────────────────────────────────</span>\n",
       "╭────────────── 🔗 <span style=\"font-weight: bold\">Endpoint</span> ───────────────╮\n",
       "│  ⛓      Protocol                   GRPC  │\n",
       "│  🏠        Local          <a href=\"grpc://0.0.0.0:60484\" target=\"_blank\"><span style=\"color: #00ff00; text-decoration-color: #00ff00; font-weight: bold\">0.0.0.0</span></a><a href=\"grpc://0.0.0.0:60484\" target=\"_blank\">:</a><a href=\"grpc://0.0.0.0:60484\" target=\"_blank\"><span style=\"color: #008080; text-decoration-color: #008080; font-weight: bold\">60484</span></a>  │\n",
       "│  🔒      Private       <a href=\"grpc://172.28.0.2:60484\" target=\"_blank\"><span style=\"color: #00ff00; text-decoration-color: #00ff00; font-weight: bold\">172.28.0.2</span></a><a href=\"grpc://172.28.0.2:60484\" target=\"_blank\">:</a><a href=\"grpc://172.28.0.2:60484\" target=\"_blank\"><span style=\"color: #008080; text-decoration-color: #008080; font-weight: bold\">60484</span></a>  │\n",
       "│  🌍       Public    <a href=\"grpc://34.86.144.143:60484\" target=\"_blank\"><span style=\"color: #00ff00; text-decoration-color: #00ff00; font-weight: bold\">34.86.144.143</span></a><a href=\"grpc://34.86.144.143:60484\" target=\"_blank\">:</a><a href=\"grpc://34.86.144.143:60484\" target=\"_blank\"><span style=\"color: #008080; text-decoration-color: #008080; font-weight: bold\">60484</span></a>  │\n",
       "╰──────────────────────────────────────────╯\n",
       "</pre>\n"
      ],
      "text/plain": [
       "\u001b[92m─────────────────────────────────────────── \u001b[0m🎉 Flow is ready to serve!\u001b[92m ────────────────────────────────────────────\u001b[0m\n",
       "╭────────────── 🔗 \u001b[1mEndpoint\u001b[0m ───────────────╮\n",
       "│  ⛓      Protocol                   GRPC  │\n",
       "│  🏠        Local          \u001b]8;id=423067;grpc://0.0.0.0:60484\u001b\\\u001b[1;92m0.0.0.0\u001b[0m\u001b]8;;\u001b\\\u001b]8;id=858787;grpc://0.0.0.0:60484\u001b\\:\u001b]8;;\u001b\\\u001b]8;id=391056;grpc://0.0.0.0:60484\u001b\\\u001b[1;36m60484\u001b[0m\u001b]8;;\u001b\\  │\n",
       "│  🔒      Private       \u001b]8;id=160419;grpc://172.28.0.2:60484\u001b\\\u001b[1;92m172.28.0.2\u001b[0m\u001b]8;;\u001b\\\u001b]8;id=61980;grpc://172.28.0.2:60484\u001b\\:\u001b]8;;\u001b\\\u001b]8;id=465383;grpc://172.28.0.2:60484\u001b\\\u001b[1;36m60484\u001b[0m\u001b]8;;\u001b\\  │\n",
       "│  🌍       Public    \u001b]8;id=114717;grpc://34.86.144.143:60484\u001b\\\u001b[1;92m34.86.144.143\u001b[0m\u001b]8;;\u001b\\\u001b]8;id=528448;grpc://34.86.144.143:60484\u001b\\:\u001b]8;;\u001b\\\u001b]8;id=582512;grpc://34.86.144.143:60484\u001b\\\u001b[1;36m60484\u001b[0m\u001b]8;;\u001b\\  │\n",
       "╰──────────────────────────────────────────╯\n"
      ]
     },
     "metadata": {},
     "output_type": "display_data"
    },
    {
     "data": {
      "text/html": [
       "<pre style=\"white-space:pre;overflow-x:auto;line-height:normal;font-family:Menlo,'DejaVu Sans Mono',consolas,'Courier New',monospace\"></pre>\n"
      ],
      "text/plain": []
     },
     "metadata": {},
     "output_type": "display_data"
    },
    {
     "data": {
      "text/html": [
       "<pre style=\"white-space:pre;overflow-x:auto;line-height:normal;font-family:Menlo,'DejaVu Sans Mono',consolas,'Courier New',monospace\">\n",
       "</pre>\n"
      ],
      "text/plain": [
       "\n"
      ]
     },
     "metadata": {},
     "output_type": "display_data"
    },
    {
     "data": {
      "application/vnd.jupyter.widget-view+json": {
       "model_id": "aa0af4386a124b1d810ef9e0f33361ff",
       "version_major": 2,
       "version_minor": 0
      },
      "text/plain": [
       "Output()"
      ]
     },
     "metadata": {},
     "output_type": "display_data"
    }
   ],
   "source": [
    "with flow:\n",
    "  docs = flow.index(docs, show_progress=True)"
   ]
  },
  {
   "cell_type": "markdown",
   "metadata": {
    "id": "qFP3o6BpfwKh"
   },
   "source": [
    "After running our Flow this time, we see each Sentence (at `[\"@cc\"]`) has an `embedding` attribute, storing its vector embedding. The shape of this embedding varies depending on the Executor and model we use to encode it. Here's the embedding representation of the first sentence (i.e. sub-chunk) of the first chunk of our first PDF file:"
   ]
  },
  {
   "cell_type": "code",
   "execution_count": null,
   "metadata": {
    "id": "nRCpBjKjXyIo"
   },
   "outputs": [],
   "source": [
    "docs[0].chunks[0].chunks[0]"
   ]
  },
  {
   "cell_type": "markdown",
   "metadata": {
    "id": "1OMKn5hNXteM"
   },
   "source": [
    "### Index and store Documents\n",
    "\n",
    "Now it's time to store all that data (vector embeddings + other metadata) on disk. We'll do this with the [SimpleIndexer](https://hub.jina.ai/executor/zb38xlt4) Executor. It will store everything in a SQLite database on disk."
   ]
  },
  {
   "cell_type": "code",
   "execution_count": null,
   "metadata": {
    "id": "sPNjT7QEDcNa"
   },
   "outputs": [],
   "source": [
    "flow = flow.add(\n",
    "    uses=\"jinahub://SimpleIndexer\",\n",
    "    uses_with={\"traversal_right\": \"@cc\"},  # search through sub-chunks\n",
    "    install_requirements=True,\n",
    "    name=\"indexer\"\n",
    "    )"
   ]
  },
  {
   "cell_type": "code",
   "execution_count": null,
   "metadata": {
    "id": "OCLX7UxuLSyF"
   },
   "outputs": [],
   "source": [
    "flow.plot()"
   ]
  },
  {
   "cell_type": "code",
   "execution_count": null,
   "metadata": {
    "id": "qGMlZLFftU10"
   },
   "outputs": [],
   "source": [
    "with flow:\n",
    "  docs = flow.index(docs, show_progress=True)"
   ]
  },
  {
   "cell_type": "markdown",
   "metadata": {
    "id": "e1ozToAWtWMb"
   },
   "source": [
    "If you click the folder icon in the Colab sidebar you should now see the \"workspace\" folder where everything is stored:\n",
    "![image.png](data:image/png;base64,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)"
   ]
  },
  {
   "cell_type": "markdown",
   "metadata": {
    "id": "ux3DAxKCUHNf"
   },
   "source": [
    "## Building a more \"production-ready\" Flow\n",
    "\n",
    "Our Flow was built in a very scattered way since we stepped through everything step-by-step. In the real world you would typically create a Flow \"all-in-one\" like this:"
   ]
  },
  {
   "cell_type": "code",
   "execution_count": null,
   "metadata": {
    "id": "tlkogWJ4S1C1"
   },
   "outputs": [],
   "source": [
    "flow = (\n",
    "    Flow()\n",
    "    .add(\n",
    "        uses=\"jinahub://PDFSegmenter\",\n",
    "        install_requirements=True,\n",
    "        name=\"segmenter\"\n",
    "    )\n",
    "    .add(\n",
    "        uses=\"jinahub://SpacySentencizer\",\n",
    "        uses_with={\"traversal_paths\": \"@c\"},\n",
    "        install_requirements=True,\n",
    "        name=\"sentencizer\",\n",
    "    )\n",
    "    .add(\n",
    "        uses=\"jinahub://TransformerTorchEncoder\",\n",
    "        uses_with={\"traversal_paths\": \"@cc\"},\n",
    "        install_requirements=True,\n",
    "        name=\"encoder\"\n",
    "    )\n",
    "    .add(\n",
    "        uses=\"jinahub://SimpleIndexer\",\n",
    "        uses_with={\"traversal_right\": \"@cc\"},\n",
    "        install_requirements=True,\n",
    "        name=\"indexer\"\n",
    "    )\n",
    ")"
   ]
  },
  {
   "cell_type": "code",
   "execution_count": null,
   "metadata": {
    "id": "kPNVp5d_TW-r"
   },
   "outputs": [],
   "source": [
    "flow.plot()"
   ]
  },
  {
   "cell_type": "markdown",
   "metadata": {
    "id": "l0T2s8fpwG0G"
   },
   "source": [
    "---\n",
    "**⚙️ Tinker time**\n",
    "\n",
    "You can also build a Flow in YAML and import it using:\n",
    "\n",
    "```python\n",
    "flow = Flow().\n",
    "\n",
    "---"
   ]
  },
  {
   "cell_type": "markdown",
   "metadata": {
    "id": "REW6LCKbQX0b"
   },
   "source": [
    "## Indexing our Documents\n",
    "\n",
    "Now it's time to run the Flow.\n",
    "\n",
    "First we'll remove any old index data that may be lying around and start with our original DocumentArray to ensure nothing carried over:"
   ]
  },
  {
   "cell_type": "code",
   "execution_count": null,
   "metadata": {
    "id": "jbvROMahT6oR"
   },
   "outputs": [],
   "source": [
    "!rm -rf workspace\n",
    "docs = DocumentArray.from_files(\"data/*.pdf\", recursive=True)"
   ]
  },
  {
   "cell_type": "markdown",
   "metadata": {
    "id": "WFgzwBZlt7lF"
   },
   "source": [
    "And now we'll run the Flow:"
   ]
  },
  {
   "cell_type": "code",
   "execution_count": null,
   "metadata": {
    "id": "jcNUF796LxKb"
   },
   "outputs": [],
   "source": [
    "with flow:\n",
    "  docs = flow.index(docs, show_progress=True)"
   ]
  },
  {
   "cell_type": "markdown",
   "metadata": {
    "id": "S6RyADoBVASl"
   },
   "source": [
    "## Creating a search Flow\n",
    "\n",
    "Now that we've got our indexing Flow out of the way, let's build our search Flow.\n",
    "\n",
    "When a user searches, they'll submit just a simple text string, not a PDF. Therefore we can use a much simpler Flow since we don't need to worry about extracting and sentencizing the input query:"
   ]
  },
  {
   "cell_type": "code",
   "execution_count": null,
   "metadata": {
    "id": "eMt36HepU-s2"
   },
   "outputs": [],
   "source": [
    "search_flow = (\n",
    "    Flow()\n",
    "    .add(\n",
    "        uses=\"jinahub://TransformerTorchEncoder\", \n",
    "         name=\"encoder\"\n",
    "    )\n",
    "    .add(\n",
    "        uses=\"jinahub://SimpleIndexer\",\n",
    "        uses_with={\"traversal_right\": \"@cc\"},\n",
    "        name=\"indexer\"\n",
    "    )\n",
    ")"
   ]
  },
  {
   "cell_type": "code",
   "execution_count": null,
   "metadata": {
    "id": "VnPJnXbgWFyo"
   },
   "outputs": [],
   "source": [
    "search_flow.plot()"
   ]
  },
  {
   "cell_type": "markdown",
   "metadata": {
    "id": "FYpJwrKzmGkR"
   },
   "source": [
    "If we're going to search our index, we'll need a search term, which we'll specify here.\n",
    "\n",
    "As you might have noticed, everything going into (and coming out of) Jina is a Document or DocumentArray. That means we'll need to wrap our search term into a Document as well:"
   ]
  },
  {
   "cell_type": "code",
   "execution_count": null,
   "metadata": {
    "id": "HeWUqFoaUqb1"
   },
   "outputs": [],
   "source": [
    "search_term = \"where does a snow leopard live?\"\n",
    "\n",
    "from docarray import Document\n",
    "\n",
    "query_doc = Document(text=search_term)"
   ]
  },
  {
   "cell_type": "code",
   "execution_count": null,
   "metadata": {
    "collapsed": true,
    "id": "Qo-PlDr-L6cS",
    "jupyter": {
     "outputs_hidden": true
    }
   },
   "outputs": [],
   "source": [
    "with search_flow:\n",
    "  results = search_flow.search(query_doc, show_progress=True, return_results=True)"
   ]
  },
  {
   "cell_type": "markdown",
   "metadata": {
    "id": "XX6IwL4HsB2O"
   },
   "source": [
    "Let's look at those results and see the score assigned to each match. Since we're using cosine similarity, a lower score means a better match:"
   ]
  },
  {
   "cell_type": "code",
   "execution_count": null,
   "metadata": {
    "id": "Csa9IUcpU2I-"
   },
   "outputs": [],
   "source": [
    "for match in results[0].matches:\n",
    "  print(match.text)\n",
    "  print(match.scores[\"cosine\"].value)\n",
    "  print(\"---\")"
   ]
  },
  {
   "cell_type": "markdown",
   "metadata": {
    "id": "xVQ-AHbSuZRi"
   },
   "source": [
    "## Putting it into production\n",
    "\n",
    "Colab notebooks have a number of restrictions that make real-world stuff quite difficult. If we were building this outside of a notebook, we could:\n",
    "\n",
    "* Set up a [RESTful or gRPC gateway](https://docs.jina.ai/fundamentals/gateway?utm_source=pdf-notebook) and keep the Flow open to requests using `flow.block()`\n",
    "* Use [sharding and replicas](https://docs.jina.ai/how-to/scale-out?utm_source=pdf-notebook) to improve performance and reliability.\n",
    "* [Monitor our Flow with Grafana](https://docs.jina.ai/fundamentals/flow/monitoring-flow?utm_source=pdf-notebook)\n",
    "* Better yet, host our Flow on [JCloud](https://docs.jina.ai/fundamentals/jcloud?utm_source=pdf-notebook), so we don't have to use any of our own compute for encoding, indexing, hosting, etc (encoding is especially hungry on the hardware)\n",
    "* Finetune our results using [Finetuner](https://finetuner.jina.ai) to provide better matches\n",
    "* Use a more specialized model (rather than just general purpose)"
   ]
  },
  {
   "cell_type": "markdown",
   "metadata": {
    "id": "ktOVGnmKuRx2"
   },
   "source": [
    "## Learn more\n",
    "\n",
    "Want to dig more into the Jina ecosystem? Here are some resources:\n",
    "\n",
    "- [Developer portal](https://learn.jina.ai) - tutorials, courses, videos on using Jina\n",
    "- [Fashion search notebook](https://colab.research.google.com/github/alexcg1/neural-search-notebooks/blob/main/fashion-search/1_build_basic_search/basic_search.ipynb) - build an image-to-image fashion search engine\n",
    "- [DALL-E Flow](https://colab.research.google.com/github/jina-ai/dalle-flow/blob/main/client.ipynb#scrollTo=NeWDy9viOCAP)/[Disco Art](https://colab.research.google.com/github/jina-ai/discoart/blob/main/discoart.ipynb#scrollTo=47428f37) - create AI-generated art in your browser"
   ]
  },
  {
   "cell_type": "code",
   "execution_count": null,
   "metadata": {
    "id": "OZUgS6qeJHp8"
   },
   "outputs": [],
   "source": []
  }
 ],
 "metadata": {
  "colab": {
   "collapsed_sections": [],
   "name": "pdf_search.ipynb",
   "provenance": []
  },
  "kernelspec": {
   "display_name": "Python 3 (ipykernel)",
   "language": "python",
   "name": "python3"
  },
  "language_info": {
   "codemirror_mode": {
    "name": "ipython",
    "version": 3
   },
   "file_extension": ".py",
   "mimetype": "text/x-python",
   "name": "python",
   "nbconvert_exporter": "python",
   "pygments_lexer": "ipython3",
   "version": "3.9.10"
  },
  "widgets": {
   "application/vnd.jupyter.widget-state+json": {
    "139eaf87901b4abc96f1dd20532852e1": {
     "model_module": "@jupyter-widgets/base",
     "model_module_version": "1.2.0",
     "model_name": "LayoutModel",
     "state": {
      "_model_module": "@jupyter-widgets/base",
      "_model_module_version": "1.2.0",
      "_model_name": "LayoutModel",
      "_view_count": null,
      "_view_module": "@jupyter-widgets/base",
      "_view_module_version": "1.2.0",
      "_view_name": "LayoutView",
      "align_content": null,
      "align_items": null,
      "align_self": null,
      "border": null,
      "bottom": null,
      "display": null,
      "flex": null,
      "flex_flow": null,
      "grid_area": null,
      "grid_auto_columns": null,
      "grid_auto_flow": null,
      "grid_auto_rows": null,
      "grid_column": null,
      "grid_gap": null,
      "grid_row": null,
      "grid_template_areas": null,
      "grid_template_columns": null,
      "grid_template_rows": null,
      "height": null,
      "justify_content": null,
      "justify_items": null,
      "left": null,
      "margin": null,
      "max_height": null,
      "max_width": null,
      "min_height": null,
      "min_width": null,
      "object_fit": null,
      "object_position": null,
      "order": null,
      "overflow": null,
      "overflow_x": null,
      "overflow_y": null,
      "padding": null,
      "right": null,
      "top": null,
      "visibility": null,
      "width": null
     }
    },
    "19e59c92d9f04781b2cec4e8519b86c3": {
     "model_module": "@jupyter-widgets/output",
     "model_module_version": "1.0.0",
     "model_name": "OutputModel",
     "state": {
      "_dom_classes": [],
      "_model_module": "@jupyter-widgets/output",
      "_model_module_version": "1.0.0",
      "_model_name": "OutputModel",
      "_view_count": null,
      "_view_module": "@jupyter-widgets/output",
      "_view_module_version": "1.0.0",
      "_view_name": "OutputView",
      "layout": "IPY_MODEL_224a9e8f74e842b180964eecd4d88f97",
      "msg_id": "",
      "outputs": [
       {
        "data": {
         "text/html": "<pre style=\"white-space:pre;overflow-x:auto;line-height:normal;font-family:Menlo,'DejaVu Sans Mono',consolas,'Courier New',monospace\"><span style=\"color: #008000; text-decoration-color: #008000\">⠇</span> Working... <span style=\"color: #3a3a3a; text-decoration-color: #3a3a3a\">━━━━━━━━━━━━━━━━━━━━━━━━━━━━━━━━━━━━━━━━</span> <span style=\"color: #808000; text-decoration-color: #808000\">0:00:01</span> <span style=\"color: #800080; text-decoration-color: #800080\">  0%</span> <span style=\"color: #008080; text-decoration-color: #008080\">ETA:</span> <span style=\"color: #008080; text-decoration-color: #008080\">-:--:--</span>  \n</pre>\n",
         "text/plain": "\u001b[32m⠇\u001b[0m Working... \u001b[38;5;237m━━━━━━━━━━━━━━━━━━━━━━━━━━━━━━━━━━━━━━━━\u001b[0m \u001b[33m0:00:01\u001b[0m \u001b[35m  0%\u001b[0m \u001b[36mETA:\u001b[0m \u001b[36m-:--:--\u001b[0m  \n"
        },
        "metadata": {},
        "output_type": "display_data"
       }
      ]
     }
    },
    "224a9e8f74e842b180964eecd4d88f97": {
     "model_module": "@jupyter-widgets/base",
     "model_module_version": "1.2.0",
     "model_name": "LayoutModel",
     "state": {
      "_model_module": "@jupyter-widgets/base",
      "_model_module_version": "1.2.0",
      "_model_name": "LayoutModel",
      "_view_count": null,
      "_view_module": "@jupyter-widgets/base",
      "_view_module_version": "1.2.0",
      "_view_name": "LayoutView",
      "align_content": null,
      "align_items": null,
      "align_self": null,
      "border": null,
      "bottom": null,
      "display": null,
      "flex": null,
      "flex_flow": null,
      "grid_area": null,
      "grid_auto_columns": null,
      "grid_auto_flow": null,
      "grid_auto_rows": null,
      "grid_column": null,
      "grid_gap": null,
      "grid_row": null,
      "grid_template_areas": null,
      "grid_template_columns": null,
      "grid_template_rows": null,
      "height": null,
      "justify_content": null,
      "justify_items": null,
      "left": null,
      "margin": null,
      "max_height": null,
      "max_width": null,
      "min_height": null,
      "min_width": null,
      "object_fit": null,
      "object_position": null,
      "order": null,
      "overflow": null,
      "overflow_x": null,
      "overflow_y": null,
      "padding": null,
      "right": null,
      "top": null,
      "visibility": null,
      "width": null
     }
    },
    "249ecd8bfa8b48a2a82d6ba87a6cd261": {
     "model_module": "@jupyter-widgets/base",
     "model_module_version": "1.2.0",
     "model_name": "LayoutModel",
     "state": {
      "_model_module": "@jupyter-widgets/base",
      "_model_module_version": "1.2.0",
      "_model_name": "LayoutModel",
      "_view_count": null,
      "_view_module": "@jupyter-widgets/base",
      "_view_module_version": "1.2.0",
      "_view_name": "LayoutView",
      "align_content": null,
      "align_items": null,
      "align_self": null,
      "border": null,
      "bottom": null,
      "display": null,
      "flex": null,
      "flex_flow": null,
      "grid_area": null,
      "grid_auto_columns": null,
      "grid_auto_flow": null,
      "grid_auto_rows": null,
      "grid_column": null,
      "grid_gap": null,
      "grid_row": null,
      "grid_template_areas": null,
      "grid_template_columns": null,
      "grid_template_rows": null,
      "height": null,
      "justify_content": null,
      "justify_items": null,
      "left": null,
      "margin": null,
      "max_height": null,
      "max_width": null,
      "min_height": null,
      "min_width": null,
      "object_fit": null,
      "object_position": null,
      "order": null,
      "overflow": null,
      "overflow_x": null,
      "overflow_y": null,
      "padding": null,
      "right": null,
      "top": null,
      "visibility": null,
      "width": null
     }
    },
    "36b7b6e563494fa28abe367a2d7ac1e1": {
     "model_module": "@jupyter-widgets/base",
     "model_module_version": "1.2.0",
     "model_name": "LayoutModel",
     "state": {
      "_model_module": "@jupyter-widgets/base",
      "_model_module_version": "1.2.0",
      "_model_name": "LayoutModel",
      "_view_count": null,
      "_view_module": "@jupyter-widgets/base",
      "_view_module_version": "1.2.0",
      "_view_name": "LayoutView",
      "align_content": null,
      "align_items": null,
      "align_self": null,
      "border": null,
      "bottom": null,
      "display": null,
      "flex": null,
      "flex_flow": null,
      "grid_area": null,
      "grid_auto_columns": null,
      "grid_auto_flow": null,
      "grid_auto_rows": null,
      "grid_column": null,
      "grid_gap": null,
      "grid_row": null,
      "grid_template_areas": null,
      "grid_template_columns": null,
      "grid_template_rows": null,
      "height": null,
      "justify_content": null,
      "justify_items": null,
      "left": null,
      "margin": null,
      "max_height": null,
      "max_width": null,
      "min_height": null,
      "min_width": null,
      "object_fit": null,
      "object_position": null,
      "order": null,
      "overflow": null,
      "overflow_x": null,
      "overflow_y": null,
      "padding": null,
      "right": null,
      "top": null,
      "visibility": null,
      "width": null
     }
    },
    "3eabef7c42df4712a69140d90a50c2cc": {
     "model_module": "@jupyter-widgets/output",
     "model_module_version": "1.0.0",
     "model_name": "OutputModel",
     "state": {
      "_dom_classes": [],
      "_model_module": "@jupyter-widgets/output",
      "_model_module_version": "1.0.0",
      "_model_name": "OutputModel",
      "_view_count": null,
      "_view_module": "@jupyter-widgets/output",
      "_view_module_version": "1.0.0",
      "_view_name": "OutputView",
      "layout": "IPY_MODEL_36b7b6e563494fa28abe367a2d7ac1e1",
      "msg_id": "",
      "outputs": [
       {
        "data": {
         "text/html": "<pre style=\"white-space:pre;overflow-x:auto;line-height:normal;font-family:Menlo,'DejaVu Sans Mono',consolas,'Courier New',monospace\"><span style=\"color: #008000; text-decoration-color: #008000\">⠇</span> Unpacking TransformerTorchEncoder ...\n</pre>\n",
         "text/plain": "\u001b[32m⠇\u001b[0m Unpacking TransformerTorchEncoder ...\n"
        },
        "metadata": {},
        "output_type": "display_data"
       }
      ]
     }
    },
    "4da884446de24e29a54b6e73d31d14d0": {
     "model_module": "@jupyter-widgets/base",
     "model_module_version": "1.2.0",
     "model_name": "LayoutModel",
     "state": {
      "_model_module": "@jupyter-widgets/base",
      "_model_module_version": "1.2.0",
      "_model_name": "LayoutModel",
      "_view_count": null,
      "_view_module": "@jupyter-widgets/base",
      "_view_module_version": "1.2.0",
      "_view_name": "LayoutView",
      "align_content": null,
      "align_items": null,
      "align_self": null,
      "border": null,
      "bottom": null,
      "display": null,
      "flex": null,
      "flex_flow": null,
      "grid_area": null,
      "grid_auto_columns": null,
      "grid_auto_flow": null,
      "grid_auto_rows": null,
      "grid_column": null,
      "grid_gap": null,
      "grid_row": null,
      "grid_template_areas": null,
      "grid_template_columns": null,
      "grid_template_rows": null,
      "height": null,
      "justify_content": null,
      "justify_items": null,
      "left": null,
      "margin": null,
      "max_height": null,
      "max_width": null,
      "min_height": null,
      "min_width": null,
      "object_fit": null,
      "object_position": null,
      "order": null,
      "overflow": null,
      "overflow_x": null,
      "overflow_y": null,
      "padding": null,
      "right": null,
      "top": null,
      "visibility": null,
      "width": null
     }
    },
    "59b00472f03842658aaab673f628789f": {
     "model_module": "@jupyter-widgets/output",
     "model_module_version": "1.0.0",
     "model_name": "OutputModel",
     "state": {
      "_dom_classes": [],
      "_model_module": "@jupyter-widgets/output",
      "_model_module_version": "1.0.0",
      "_model_name": "OutputModel",
      "_view_count": null,
      "_view_module": "@jupyter-widgets/output",
      "_view_module_version": "1.0.0",
      "_view_name": "OutputView",
      "layout": "IPY_MODEL_f3e7b00d98e74485866dd385102c6be4",
      "msg_id": "",
      "outputs": [
       {
        "data": {
         "text/html": "<pre style=\"white-space:pre;overflow-x:auto;line-height:normal;font-family:Menlo,'DejaVu Sans Mono',consolas,'Courier New',monospace\"><span style=\"color: #008000; text-decoration-color: #008000\">⠧</span> Unpacking PDFSegmenter ...\n</pre>\n",
         "text/plain": "\u001b[32m⠧\u001b[0m Unpacking PDFSegmenter ...\n"
        },
        "metadata": {},
        "output_type": "display_data"
       }
      ]
     }
    },
    "683f0c404fbf4f35b0471af67d4e696a": {
     "model_module": "@jupyter-widgets/base",
     "model_module_version": "1.2.0",
     "model_name": "LayoutModel",
     "state": {
      "_model_module": "@jupyter-widgets/base",
      "_model_module_version": "1.2.0",
      "_model_name": "LayoutModel",
      "_view_count": null,
      "_view_module": "@jupyter-widgets/base",
      "_view_module_version": "1.2.0",
      "_view_name": "LayoutView",
      "align_content": null,
      "align_items": null,
      "align_self": null,
      "border": null,
      "bottom": null,
      "display": null,
      "flex": null,
      "flex_flow": null,
      "grid_area": null,
      "grid_auto_columns": null,
      "grid_auto_flow": null,
      "grid_auto_rows": null,
      "grid_column": null,
      "grid_gap": null,
      "grid_row": null,
      "grid_template_areas": null,
      "grid_template_columns": null,
      "grid_template_rows": null,
      "height": null,
      "justify_content": null,
      "justify_items": null,
      "left": null,
      "margin": null,
      "max_height": null,
      "max_width": null,
      "min_height": null,
      "min_width": null,
      "object_fit": null,
      "object_position": null,
      "order": null,
      "overflow": null,
      "overflow_x": null,
      "overflow_y": null,
      "padding": null,
      "right": null,
      "top": null,
      "visibility": null,
      "width": null
     }
    },
    "6c244fa253a74901932e34522cc24469": {
     "model_module": "@jupyter-widgets/output",
     "model_module_version": "1.0.0",
     "model_name": "OutputModel",
     "state": {
      "_dom_classes": [],
      "_model_module": "@jupyter-widgets/output",
      "_model_module_version": "1.0.0",
      "_model_name": "OutputModel",
      "_view_count": null,
      "_view_module": "@jupyter-widgets/output",
      "_view_module_version": "1.0.0",
      "_view_name": "OutputView",
      "layout": "IPY_MODEL_98e39865f3684835ab97d23157a0649f",
      "msg_id": "",
      "outputs": [
       {
        "data": {
         "text/html": "<pre style=\"white-space:pre;overflow-x:auto;line-height:normal;font-family:Menlo,'DejaVu Sans Mono',consolas,'Courier New',monospace\"><span style=\"color: #008000; text-decoration-color: #008000\">⠙</span> Waiting <span style=\"font-weight: bold\">summary</span>... <span style=\"color: #f92672; text-decoration-color: #f92672\">━━━━━━━━━━━━━━━━━━━━━━━━━━╸</span><span style=\"color: #3a3a3a; text-decoration-color: #3a3a3a\">━━━━━━━━━━━━━</span> <span style=\"color: #008000; text-decoration-color: #008000\">2/3</span> <span style=\"color: #808000; text-decoration-color: #808000\">0:00:00</span>\n</pre>\n",
         "text/plain": "\u001b[32m⠙\u001b[0m Waiting \u001b[1msummary\u001b[0m... \u001b[38;2;249;38;114m━━━━━━━━━━━━━━━━━━━━━━━━━━\u001b[0m\u001b[38;2;249;38;114m╸\u001b[0m\u001b[38;5;237m━━━━━━━━━━━━━\u001b[0m \u001b[32m2/3\u001b[0m \u001b[33m0:00:00\u001b[0m\n"
        },
        "metadata": {},
        "output_type": "display_data"
       }
      ]
     }
    },
    "7bdf4530decc4b3aa843a58399bfce16": {
     "model_module": "@jupyter-widgets/output",
     "model_module_version": "1.0.0",
     "model_name": "OutputModel",
     "state": {
      "_dom_classes": [],
      "_model_module": "@jupyter-widgets/output",
      "_model_module_version": "1.0.0",
      "_model_name": "OutputModel",
      "_view_count": null,
      "_view_module": "@jupyter-widgets/output",
      "_view_module_version": "1.0.0",
      "_view_name": "OutputView",
      "layout": "IPY_MODEL_683f0c404fbf4f35b0471af67d4e696a",
      "msg_id": "",
      "outputs": [
       {
        "data": {
         "text/html": "<pre style=\"white-space:pre;overflow-x:auto;line-height:normal;font-family:Menlo,'DejaVu Sans Mono',consolas,'Courier New',monospace\"><span style=\"color: #008000; text-decoration-color: #008000\">⠏</span> Unpacking SpacySentencizer ...\n</pre>\n",
         "text/plain": "\u001b[32m⠏\u001b[0m Unpacking SpacySentencizer ...\n"
        },
        "metadata": {},
        "output_type": "display_data"
       }
      ]
     }
    },
    "8d2897c0d114460fa951992b0c9920a4": {
     "model_module": "@jupyter-widgets/output",
     "model_module_version": "1.0.0",
     "model_name": "OutputModel",
     "state": {
      "_dom_classes": [],
      "_model_module": "@jupyter-widgets/output",
      "_model_module_version": "1.0.0",
      "_model_name": "OutputModel",
      "_view_count": null,
      "_view_module": "@jupyter-widgets/output",
      "_view_module_version": "1.0.0",
      "_view_name": "OutputView",
      "layout": "IPY_MODEL_139eaf87901b4abc96f1dd20532852e1",
      "msg_id": "",
      "outputs": [
       {
        "data": {
         "text/html": "<pre style=\"white-space:pre;overflow-x:auto;line-height:normal;font-family:Menlo,'DejaVu Sans Mono',consolas,'Courier New',monospace\"><span style=\"color: #008000; text-decoration-color: #008000\">⠦</span> Waiting <span style=\"font-weight: bold\">sentencizer</span>... <span style=\"color: #f92672; text-decoration-color: #f92672\">━━━━━━━━━━━━━━━━━━━━━━━━━━━━━━</span><span style=\"color: #3a3a3a; text-decoration-color: #3a3a3a\">╺━━━━━━━━━</span> <span style=\"color: #008000; text-decoration-color: #008000\">3/4</span> <span style=\"color: #808000; text-decoration-color: #808000\">0:00:12</span>\n</pre>\n",
         "text/plain": "\u001b[32m⠦\u001b[0m Waiting \u001b[1msentencizer\u001b[0m... \u001b[38;2;249;38;114m━━━━━━━━━━━━━━━━━━━━━━━━━━━━━━\u001b[0m\u001b[38;5;237m╺\u001b[0m\u001b[38;5;237m━━━━━━━━━\u001b[0m \u001b[32m3/4\u001b[0m \u001b[33m0:00:12\u001b[0m\n"
        },
        "metadata": {},
        "output_type": "display_data"
       }
      ]
     }
    },
    "98e39865f3684835ab97d23157a0649f": {
     "model_module": "@jupyter-widgets/base",
     "model_module_version": "1.2.0",
     "model_name": "LayoutModel",
     "state": {
      "_model_module": "@jupyter-widgets/base",
      "_model_module_version": "1.2.0",
      "_model_name": "LayoutModel",
      "_view_count": null,
      "_view_module": "@jupyter-widgets/base",
      "_view_module_version": "1.2.0",
      "_view_name": "LayoutView",
      "align_content": null,
      "align_items": null,
      "align_self": null,
      "border": null,
      "bottom": null,
      "display": null,
      "flex": null,
      "flex_flow": null,
      "grid_area": null,
      "grid_auto_columns": null,
      "grid_auto_flow": null,
      "grid_auto_rows": null,
      "grid_column": null,
      "grid_gap": null,
      "grid_row": null,
      "grid_template_areas": null,
      "grid_template_columns": null,
      "grid_template_rows": null,
      "height": null,
      "justify_content": null,
      "justify_items": null,
      "left": null,
      "margin": null,
      "max_height": null,
      "max_width": null,
      "min_height": null,
      "min_width": null,
      "object_fit": null,
      "object_position": null,
      "order": null,
      "overflow": null,
      "overflow_x": null,
      "overflow_y": null,
      "padding": null,
      "right": null,
      "top": null,
      "visibility": null,
      "width": null
     }
    },
    "9f88b49db94d4b1e9176409a1721eaaf": {
     "model_module": "@jupyter-widgets/output",
     "model_module_version": "1.0.0",
     "model_name": "OutputModel",
     "state": {
      "_dom_classes": [],
      "_model_module": "@jupyter-widgets/output",
      "_model_module_version": "1.0.0",
      "_model_name": "OutputModel",
      "_view_count": null,
      "_view_module": "@jupyter-widgets/output",
      "_view_module_version": "1.0.0",
      "_view_name": "OutputView",
      "layout": "IPY_MODEL_cc7e21e17c6541779eab4b21ce9d8de7",
      "msg_id": "",
      "outputs": [
       {
        "data": {
         "text/html": "<pre style=\"white-space:pre;overflow-x:auto;line-height:normal;font-family:Menlo,'DejaVu Sans Mono',consolas,'Courier New',monospace\"><span style=\"color: #008000; text-decoration-color: #008000\">⠦</span> Installing <span style=\"font-weight: bold\">requirements.txt</span>...\n</pre>\n",
         "text/plain": "\u001b[32m⠦\u001b[0m Installing \u001b[1mrequirements.txt\u001b[0m...\n"
        },
        "metadata": {},
        "output_type": "display_data"
       }
      ]
     }
    },
    "aa0af4386a124b1d810ef9e0f33361ff": {
     "model_module": "@jupyter-widgets/output",
     "model_module_version": "1.0.0",
     "model_name": "OutputModel",
     "state": {
      "_dom_classes": [],
      "_model_module": "@jupyter-widgets/output",
      "_model_module_version": "1.0.0",
      "_model_name": "OutputModel",
      "_view_count": null,
      "_view_module": "@jupyter-widgets/output",
      "_view_module_version": "1.0.0",
      "_view_name": "OutputView",
      "layout": "IPY_MODEL_cdbe0511a3d8433f81e42000df9b891f",
      "msg_id": "",
      "outputs": [
       {
        "data": {
         "text/html": "<pre style=\"white-space:pre;overflow-x:auto;line-height:normal;font-family:Menlo,'DejaVu Sans Mono',consolas,'Courier New',monospace\"><span style=\"color: #008000; text-decoration-color: #008000\">⠏</span> Working... <span style=\"color: #3a3a3a; text-decoration-color: #3a3a3a\">━━━━━━━━━━━━━━━━━━━━━━━━━━━━━━━━━━━━━━━━</span> <span style=\"color: #808000; text-decoration-color: #808000\">0:01:05</span> <span style=\"color: #800080; text-decoration-color: #800080\">  0%</span> <span style=\"color: #008080; text-decoration-color: #008080\">ETA:</span> <span style=\"color: #008080; text-decoration-color: #008080\">-:--:--</span>  \n</pre>\n",
         "text/plain": "\u001b[32m⠏\u001b[0m Working... \u001b[38;5;237m━━━━━━━━━━━━━━━━━━━━━━━━━━━━━━━━━━━━━━━━\u001b[0m \u001b[33m0:01:05\u001b[0m \u001b[35m  0%\u001b[0m \u001b[36mETA:\u001b[0m \u001b[36m-:--:--\u001b[0m  \n"
        },
        "metadata": {},
        "output_type": "display_data"
       }
      ]
     }
    },
    "acfcade7eec2495c80df600066f74f51": {
     "model_module": "@jupyter-widgets/output",
     "model_module_version": "1.0.0",
     "model_name": "OutputModel",
     "state": {
      "_dom_classes": [],
      "_model_module": "@jupyter-widgets/output",
      "_model_module_version": "1.0.0",
      "_model_name": "OutputModel",
      "_view_count": null,
      "_view_module": "@jupyter-widgets/output",
      "_view_module_version": "1.0.0",
      "_view_name": "OutputView",
      "layout": "IPY_MODEL_249ecd8bfa8b48a2a82d6ba87a6cd261",
      "msg_id": "",
      "outputs": [
       {
        "data": {
         "text/html": "<pre style=\"white-space:pre;overflow-x:auto;line-height:normal;font-family:Menlo,'DejaVu Sans Mono',consolas,'Courier New',monospace\"><span style=\"color: #008000; text-decoration-color: #008000\">⠋</span> Waiting <span style=\"font-weight: bold\">encoder</span>... <span style=\"color: #f92672; text-decoration-color: #f92672\">━━━━━━━━━━━━━━━━━━━━━━━━━━━━━━━━</span><span style=\"color: #3a3a3a; text-decoration-color: #3a3a3a\">╺━━━━━━━</span> <span style=\"color: #008000; text-decoration-color: #008000\">4/5</span> <span style=\"color: #808000; text-decoration-color: #808000\">0:00:16</span>\n</pre>\n",
         "text/plain": "\u001b[32m⠋\u001b[0m Waiting \u001b[1mencoder\u001b[0m... \u001b[38;2;249;38;114m━━━━━━━━━━━━━━━━━━━━━━━━━━━━━━━━\u001b[0m\u001b[38;5;237m╺\u001b[0m\u001b[38;5;237m━━━━━━━\u001b[0m \u001b[32m4/5\u001b[0m \u001b[33m0:00:16\u001b[0m\n"
        },
        "metadata": {},
        "output_type": "display_data"
       }
      ]
     }
    },
    "bfd492dbbf5c4e5cb91df05a14747d22": {
     "model_module": "@jupyter-widgets/output",
     "model_module_version": "1.0.0",
     "model_name": "OutputModel",
     "state": {
      "_dom_classes": [],
      "_model_module": "@jupyter-widgets/output",
      "_model_module_version": "1.0.0",
      "_model_name": "OutputModel",
      "_view_count": null,
      "_view_module": "@jupyter-widgets/output",
      "_view_module_version": "1.0.0",
      "_view_name": "OutputView",
      "layout": "IPY_MODEL_4da884446de24e29a54b6e73d31d14d0",
      "msg_id": "",
      "outputs": [
       {
        "data": {
         "text/html": "<pre style=\"white-space:pre;overflow-x:auto;line-height:normal;font-family:Menlo,'DejaVu Sans Mono',consolas,'Courier New',monospace\"><span style=\"color: #008000; text-decoration-color: #008000\">⠋</span> Installing <span style=\"font-weight: bold\">requirements.txt</span>...\n</pre>\n",
         "text/plain": "\u001b[32m⠋\u001b[0m Installing \u001b[1mrequirements.txt\u001b[0m...\n"
        },
        "metadata": {},
        "output_type": "display_data"
       }
      ]
     }
    },
    "cc7e21e17c6541779eab4b21ce9d8de7": {
     "model_module": "@jupyter-widgets/base",
     "model_module_version": "1.2.0",
     "model_name": "LayoutModel",
     "state": {
      "_model_module": "@jupyter-widgets/base",
      "_model_module_version": "1.2.0",
      "_model_name": "LayoutModel",
      "_view_count": null,
      "_view_module": "@jupyter-widgets/base",
      "_view_module_version": "1.2.0",
      "_view_name": "LayoutView",
      "align_content": null,
      "align_items": null,
      "align_self": null,
      "border": null,
      "bottom": null,
      "display": null,
      "flex": null,
      "flex_flow": null,
      "grid_area": null,
      "grid_auto_columns": null,
      "grid_auto_flow": null,
      "grid_auto_rows": null,
      "grid_column": null,
      "grid_gap": null,
      "grid_row": null,
      "grid_template_areas": null,
      "grid_template_columns": null,
      "grid_template_rows": null,
      "height": null,
      "justify_content": null,
      "justify_items": null,
      "left": null,
      "margin": null,
      "max_height": null,
      "max_width": null,
      "min_height": null,
      "min_width": null,
      "object_fit": null,
      "object_position": null,
      "order": null,
      "overflow": null,
      "overflow_x": null,
      "overflow_y": null,
      "padding": null,
      "right": null,
      "top": null,
      "visibility": null,
      "width": null
     }
    },
    "cdbe0511a3d8433f81e42000df9b891f": {
     "model_module": "@jupyter-widgets/base",
     "model_module_version": "1.2.0",
     "model_name": "LayoutModel",
     "state": {
      "_model_module": "@jupyter-widgets/base",
      "_model_module_version": "1.2.0",
      "_model_name": "LayoutModel",
      "_view_count": null,
      "_view_module": "@jupyter-widgets/base",
      "_view_module_version": "1.2.0",
      "_view_name": "LayoutView",
      "align_content": null,
      "align_items": null,
      "align_self": null,
      "border": null,
      "bottom": null,
      "display": null,
      "flex": null,
      "flex_flow": null,
      "grid_area": null,
      "grid_auto_columns": null,
      "grid_auto_flow": null,
      "grid_auto_rows": null,
      "grid_column": null,
      "grid_gap": null,
      "grid_row": null,
      "grid_template_areas": null,
      "grid_template_columns": null,
      "grid_template_rows": null,
      "height": null,
      "justify_content": null,
      "justify_items": null,
      "left": null,
      "margin": null,
      "max_height": null,
      "max_width": null,
      "min_height": null,
      "min_width": null,
      "object_fit": null,
      "object_position": null,
      "order": null,
      "overflow": null,
      "overflow_x": null,
      "overflow_y": null,
      "padding": null,
      "right": null,
      "top": null,
      "visibility": null,
      "width": null
     }
    },
    "f3e7b00d98e74485866dd385102c6be4": {
     "model_module": "@jupyter-widgets/base",
     "model_module_version": "1.2.0",
     "model_name": "LayoutModel",
     "state": {
      "_model_module": "@jupyter-widgets/base",
      "_model_module_version": "1.2.0",
      "_model_name": "LayoutModel",
      "_view_count": null,
      "_view_module": "@jupyter-widgets/base",
      "_view_module_version": "1.2.0",
      "_view_name": "LayoutView",
      "align_content": null,
      "align_items": null,
      "align_self": null,
      "border": null,
      "bottom": null,
      "display": null,
      "flex": null,
      "flex_flow": null,
      "grid_area": null,
      "grid_auto_columns": null,
      "grid_auto_flow": null,
      "grid_auto_rows": null,
      "grid_column": null,
      "grid_gap": null,
      "grid_row": null,
      "grid_template_areas": null,
      "grid_template_columns": null,
      "grid_template_rows": null,
      "height": null,
      "justify_content": null,
      "justify_items": null,
      "left": null,
      "margin": null,
      "max_height": null,
      "max_width": null,
      "min_height": null,
      "min_width": null,
      "object_fit": null,
      "object_position": null,
      "order": null,
      "overflow": null,
      "overflow_x": null,
      "overflow_y": null,
      "padding": null,
      "right": null,
      "top": null,
      "visibility": null,
      "width": null
     }
    }
   }
  }
 },
 "nbformat": 4,
 "nbformat_minor": 4
}
