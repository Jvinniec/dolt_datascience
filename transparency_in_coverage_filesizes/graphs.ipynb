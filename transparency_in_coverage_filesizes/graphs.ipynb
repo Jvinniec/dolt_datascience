{
 "cells": [
  {
   "cell_type": "code",
   "execution_count": null,
   "id": "ea98d7be-80c5-4843-9081-d96701a721ab",
   "metadata": {},
   "outputs": [],
   "source": [
    "import altair as alt\n",
    "import polars as pl\n",
    "import pandas as pd"
   ]
  },
  {
   "cell_type": "code",
   "execution_count": null,
   "id": "26580821-0ce8-416b-947a-06e9441d6309",
   "metadata": {},
   "outputs": [],
   "source": [
    "data = {\n",
    "    \"source\": [\n",
    "        \"Kaiser Permanente MRFs\",\n",
    "        \"Project Gutenberg\",\n",
    "        \"UnitedHealthcare MRFs\",\n",
    "        \"Humana MRFs\",\n",
    "        \"Anthem MRFs\",\n",
    "        \"Cigna MRFs\",\n",
    "        \"Aetna MRFs\",\n",
    "        \"Libgen (text only)\",\n",
    "        \"Libgen\",\n",
    "        \"Library of Congress\",\n",
    "    ],\n",
    "    \"size\": [\n",
    "        300,\n",
    "        700,\n",
    "        8_950*20,\n",
    "        47_252*12,\n",
    "        16_000*20,\n",
    "        0,\n",
    "        380,\n",
    "        1_000,\n",
    "        120_000,  \n",
    "        20_000,\n",
    "    ]\n",
    "}"
   ]
  },
  {
   "cell_type": "code",
   "execution_count": null,
   "id": "cd74d11d-1da6-487a-a350-52ed20fa6231",
   "metadata": {},
   "outputs": [],
   "source": [
    "alt.Chart(pd.DataFrame(data)).mark_bar().encode(\n",
    "    y=alt.Y(\"source\", sort = 'x', title = \"Source\"),\n",
    "    x=alt.X(\"size\", title = \"Est. total uncompressed size (GB)\"),\n",
    ")\n"
   ]
  },
  {
   "cell_type": "code",
   "execution_count": null,
   "id": "5673bd70-a4df-4cb4-b396-a5df84bb9f9f",
   "metadata": {},
   "outputs": [],
   "source": []
  }
 ],
 "metadata": {
  "kernelspec": {
   "display_name": "Python 3 (ipykernel)",
   "language": "python",
   "name": "python3"
  },
  "language_info": {
   "codemirror_mode": {
    "name": "ipython",
    "version": 3
   },
   "file_extension": ".py",
   "mimetype": "text/x-python",
   "name": "python",
   "nbconvert_exporter": "python",
   "pygments_lexer": "ipython3",
   "version": "3.9.10"
  }
 },
 "nbformat": 4,
 "nbformat_minor": 5
}
