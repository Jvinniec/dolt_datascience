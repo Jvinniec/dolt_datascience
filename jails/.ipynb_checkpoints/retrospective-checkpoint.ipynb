{
 "cells": [
  {
   "cell_type": "code",
   "execution_count": 1,
   "id": "d565bee2-61e8-4381-bb85-ebd329e1224f",
   "metadata": {},
   "outputs": [],
   "source": [
    "import polars as pl\n",
    "from polars import col"
   ]
  },
  {
   "cell_type": "code",
   "execution_count": 4,
   "id": "17af3cdb-470b-4c40-bbdd-d505b690b6ca",
   "metadata": {},
   "outputs": [],
   "source": [
    "inc = pl.read_csv('incidents.csv', infer_schema_length = 1000)\n",
    "jai = pl.read_csv('jails.csv', infer_schema_length = 1000)\n",
    "sna = pl.read_csv('snapshots.csv', infer_schema_length = 1000)"
   ]
  },
  {
   "cell_type": "code",
   "execution_count": 8,
   "id": "a8351437-9134-4874-9613-1d4dd354ee2f",
   "metadata": {},
   "outputs": [
    {
     "name": "stdout",
     "output_type": "stream",
     "text": [
      "6721\n",
      "shape: (5, 12)\n",
      "┌──────┬──────────────┬─────────────┬────────┬─────┬──────────┬─────────┬─────────────┬────────────┐\n",
      "│ id   ┆ start_date   ┆ end_date    ┆ deaths ┆ ... ┆ suicides ┆ escapes ┆ source_url  ┆ source_url │\n",
      "│ ---  ┆ ---          ┆ ---         ┆ ---    ┆     ┆ ---      ┆ ---     ┆ ---         ┆ _2         │\n",
      "│ i64  ┆ str          ┆ str         ┆ i64    ┆     ┆ i64      ┆ str     ┆ str         ┆ ---        │\n",
      "│      ┆              ┆             ┆        ┆     ┆          ┆         ┆             ┆ str        │\n",
      "╞══════╪══════════════╪═════════════╪════════╪═════╪══════════╪═════════╪═════════════╪════════════╡\n",
      "│ 7565 ┆ 2019-08-26   ┆ 2019-08-27  ┆ 1      ┆ ... ┆ 0        ┆ null    ┆ https://www ┆ https://gr │\n",
      "│      ┆ 00:00:00     ┆ 00:00:00    ┆        ┆     ┆          ┆         ┆ .reuters.co ┆ aphics.tho │\n",
      "│      ┆ +0000 UTC    ┆ +0000 UTC   ┆        ┆     ┆          ┆         ┆ m/investig. ┆ msonreuter │\n",
      "│      ┆              ┆             ┆        ┆     ┆          ┆         ┆ ..          ┆ s....      │\n",
      "├╌╌╌╌╌╌┼╌╌╌╌╌╌╌╌╌╌╌╌╌╌┼╌╌╌╌╌╌╌╌╌╌╌╌╌┼╌╌╌╌╌╌╌╌┼╌╌╌╌╌┼╌╌╌╌╌╌╌╌╌╌┼╌╌╌╌╌╌╌╌╌┼╌╌╌╌╌╌╌╌╌╌╌╌╌┼╌╌╌╌╌╌╌╌╌╌╌╌┤\n",
      "│ 7570 ┆ 2008-01-29   ┆ 2008-01-30  ┆ 1      ┆ ... ┆ 1        ┆ null    ┆ https://www ┆ https://gr │\n",
      "│      ┆ 00:00:00     ┆ 00:00:00    ┆        ┆     ┆          ┆         ┆ .reuters.co ┆ aphics.tho │\n",
      "│      ┆ +0000 UTC    ┆ +0000 UTC   ┆        ┆     ┆          ┆         ┆ m/investig. ┆ msonreuter │\n",
      "│      ┆              ┆             ┆        ┆     ┆          ┆         ┆ ..          ┆ s....      │\n",
      "├╌╌╌╌╌╌┼╌╌╌╌╌╌╌╌╌╌╌╌╌╌┼╌╌╌╌╌╌╌╌╌╌╌╌╌┼╌╌╌╌╌╌╌╌┼╌╌╌╌╌┼╌╌╌╌╌╌╌╌╌╌┼╌╌╌╌╌╌╌╌╌┼╌╌╌╌╌╌╌╌╌╌╌╌╌┼╌╌╌╌╌╌╌╌╌╌╌╌┤\n",
      "│ 7570 ┆ 2008-02-08   ┆ 2008-02-09  ┆ 1      ┆ ... ┆ 1        ┆ null    ┆ https://www ┆ https://gr │\n",
      "│      ┆ 00:00:00     ┆ 00:00:00    ┆        ┆     ┆          ┆         ┆ .reuters.co ┆ aphics.tho │\n",
      "│      ┆ +0000 UTC    ┆ +0000 UTC   ┆        ┆     ┆          ┆         ┆ m/investig. ┆ msonreuter │\n",
      "│      ┆              ┆             ┆        ┆     ┆          ┆         ┆ ..          ┆ s....      │\n",
      "├╌╌╌╌╌╌┼╌╌╌╌╌╌╌╌╌╌╌╌╌╌┼╌╌╌╌╌╌╌╌╌╌╌╌╌┼╌╌╌╌╌╌╌╌┼╌╌╌╌╌┼╌╌╌╌╌╌╌╌╌╌┼╌╌╌╌╌╌╌╌╌┼╌╌╌╌╌╌╌╌╌╌╌╌╌┼╌╌╌╌╌╌╌╌╌╌╌╌┤\n",
      "│ 7570 ┆ 2009-03-30   ┆ 2009-03-31  ┆ 1      ┆ ... ┆ 0        ┆ null    ┆ https://www ┆ https://gr │\n",
      "│      ┆ 00:00:00     ┆ 00:00:00    ┆        ┆     ┆          ┆         ┆ .reuters.co ┆ aphics.tho │\n",
      "│      ┆ +0000 UTC    ┆ +0000 UTC   ┆        ┆     ┆          ┆         ┆ m/investig. ┆ msonreuter │\n",
      "│      ┆              ┆             ┆        ┆     ┆          ┆         ┆ ..          ┆ s....      │\n",
      "├╌╌╌╌╌╌┼╌╌╌╌╌╌╌╌╌╌╌╌╌╌┼╌╌╌╌╌╌╌╌╌╌╌╌╌┼╌╌╌╌╌╌╌╌┼╌╌╌╌╌┼╌╌╌╌╌╌╌╌╌╌┼╌╌╌╌╌╌╌╌╌┼╌╌╌╌╌╌╌╌╌╌╌╌╌┼╌╌╌╌╌╌╌╌╌╌╌╌┤\n",
      "│ 7570 ┆ 2010-04-08   ┆ 2010-04-09  ┆ 1      ┆ ... ┆ 1        ┆ null    ┆ https://www ┆ https://gr │\n",
      "│      ┆ 00:00:00     ┆ 00:00:00    ┆        ┆     ┆          ┆         ┆ .reuters.co ┆ aphics.tho │\n",
      "│      ┆ +0000 UTC    ┆ +0000 UTC   ┆        ┆     ┆          ┆         ┆ m/investig. ┆ msonreuter │\n",
      "│      ┆              ┆             ┆        ┆     ┆          ┆         ┆ ..          ┆ s....      │\n",
      "└──────┴──────────────┴─────────────┴────────┴─────┴──────────┴─────────┴─────────────┴────────────┘\n"
     ]
    }
   ],
   "source": [
    "print(len(inc))\n",
    "print(inc.head())"
   ]
  },
  {
   "cell_type": "code",
   "execution_count": null,
   "id": "d638bdbc-d507-4d28-bf21-0e8e0eb0c62b",
   "metadata": {},
   "outputs": [],
   "source": []
  },
  {
   "cell_type": "code",
   "execution_count": null,
   "id": "aad91530-6ed9-456e-ac39-fe1dea4eb7a6",
   "metadata": {},
   "outputs": [],
   "source": []
  }
 ],
 "metadata": {
  "kernelspec": {
   "display_name": "Python 3 (ipykernel)",
   "language": "python",
   "name": "python3"
  },
  "language_info": {
   "codemirror_mode": {
    "name": "ipython",
    "version": 3
   },
   "file_extension": ".py",
   "mimetype": "text/x-python",
   "name": "python",
   "nbconvert_exporter": "python",
   "pygments_lexer": "ipython3",
   "version": "3.9.10"
  }
 },
 "nbformat": 4,
 "nbformat_minor": 5
}
